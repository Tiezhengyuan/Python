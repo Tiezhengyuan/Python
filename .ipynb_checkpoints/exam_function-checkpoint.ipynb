{
 "cells": [
  {
   "cell_type": "markdown",
   "metadata": {},
   "source": [
    "# Functions\n",
    "Objectives covered by the block\n",
    "\n",
    "\n"
   ]
  },
  {
   "cell_type": "markdown",
   "metadata": {},
   "source": [
    "## define a function\n",
    "A function definition must be placed before it is first invocation.\n",
    "function parameters are variables accessible only with the function.\n",
    "return statement force function return a value,\n",
    "which the function termination.\n",
    "\n",
    "standard arguments: positional and optional arguments\n",
    "function only executes when it is called rather than when it is defined."
   ]
  },
  {
   "cell_type": "code",
   "execution_count": 26,
   "metadata": {},
   "outputs": [
    {
     "ename": "SyntaxError",
     "evalue": "positional argument follows keyword argument (<ipython-input-26-7a645a2f2970>,\nline 11)",
     "output_type": "error",
     "traceback": [
      "\u001b[1;36m  File \u001b[1;32m\"<ipython-input-26-7a645a2f2970>\"\u001b[1;36m,\nline \u001b[1;32m11\u001b[0m\n\u001b[1;33m    print(get_total(paydown=15000,\n0.04))\u001b[0m\n\u001b[1;37m                                   ^\u001b[0m\n\u001b[1;31mSyntaxError\u001b[0m\u001b[1;31m:\u001b[0m positional argument follows keyword argument\n"
     ]
    }
   ],
   "source": [
    "#define a function\n",
    "def get_total(paydown, interest=0.045):\n",
    "    total = paydown*(1+interest)\n",
    "    return \"{:.3f}\".format(total)\n",
    "\n",
    "#the below of funcion call is ok.\n",
    "print(get_total(15000,\n",
    "0.023)) #positional arguments\n",
    "print(get_total(15000)) #positional arguments\n",
    "print(get_total(paydown=15000,\n",
    "interest=0.04)) # keyword arguments"
   ]
  },
  {
   "cell_type": "code",
   "execution_count": 27,
   "metadata": {},
   "outputs": [
    {
     "ename": "SyntaxError",
     "evalue": "positional argument follows keyword argument (<ipython-input-27-bca0a277b693>,\nline 1)",
     "output_type": "error",
     "traceback": [
      "\u001b[1;36m  File \u001b[1;32m\"<ipython-input-27-bca0a277b693>\"\u001b[1;36m,\nline \u001b[1;32m1\u001b[0m\n\u001b[1;33m    print(get_total(paydown=15000,\n0.04))\u001b[0m\n\u001b[1;37m                                   ^\u001b[0m\n\u001b[1;31mSyntaxError\u001b[0m\u001b[1;31m:\u001b[0m positional argument follows keyword argument\n"
     ]
    }
   ],
   "source": [
    "print(get_total(paydown=15000, 0.04))"
   ]
  },
  {
   "cell_type": "code",
   "execution_count": 25,
   "metadata": {},
   "outputs": [
    {
     "name": "stdout",
     "output_type": "stream",
     "text": [
      "3\n"
     ]
    }
   ],
   "source": [
    "#name function name:\n",
    "#follow PEP08: \n",
    "def MyTest():\n",
    "    pass\n",
    "\n",
    "# the below code will not raise exception but that not suggested\n",
    "# the function name and the name of a variable are identical\n",
    "def x():\n",
    "    return 2\n",
    "x=1+x()\n",
    "print(x)"
   ]
  },
  {
   "cell_type": "markdown",
   "metadata": {},
   "source": [
    "## arguments\n",
    "python function accept unlimited arguments:\n",
    "* is upacking operator. * followed by some letters defines a tuple\n",
    "** is unpacking operator. ** followed by some letters defines a dictionary\n",
    "*args: pass multiple arguments\n",
    "**kwargs: pass multiple keyword arguments\n",
    "\n",
    "Note: \n",
    "1. positional arguments followed by optional arguments then *args and finally **kwargs.\n",
    "2. The order of arguments matters when position arguments are used. That doesnt matter if keyword arguments are used.\n",
    "3. function can be cared with a mixed with positional and keyword arguments"
   ]
  },
  {
   "cell_type": "code",
   "execution_count": 6,
   "metadata": {},
   "outputs": [
    {
     "name": "stdout",
     "output_type": "stream",
     "text": [
      "9\n",
      "9\n",
      "70\n",
      "70\n"
     ]
    }
   ],
   "source": [
    "#pattern 1\n",
    "def my_sum1(a,b):\n",
    "    return a+b\n",
    "\n",
    "#pattern 2: being flexible\n",
    "def my_sum2(*args):\n",
    "    result = 0\n",
    "    for x in args:\n",
    "        result += x\n",
    "    return result\n",
    "\n",
    "def my_sum3(*num):\n",
    "    result = 0\n",
    "    for x in num:\n",
    "        result += x\n",
    "    return result\n",
    "\n",
    "print(my_sum1(3,6))\n",
    "print(my_sum2(3,6))\n",
    "print(my_sum2(1,2,67))\n",
    "print(my_sum3(1,2,67))"
   ]
  },
  {
   "cell_type": "markdown",
   "metadata": {},
   "source": [
    "### **kwargs"
   ]
  },
  {
   "cell_type": "code",
   "execution_count": 62,
   "metadata": {},
   "outputs": [
    {
     "name": "stdout",
     "output_type": "stream",
     "text": [
      "a 1\n",
      "b 2\n",
      "x 4\n",
      "c 4\n",
      "b 2\n",
      "c\n",
      "b\n",
      "a\n",
      "b\n"
     ]
    }
   ],
   "source": [
    "#kwargs.items() give key-value\n",
    "def func1(**kwargs):\n",
    "    for x,y in kwargs.items():\n",
    "        print(x,y)\n",
    "\n",
    "func1(a=1,b=2)\n",
    "func1(x=4,c=4,b=2)\n",
    "\n",
    "#kwargs.values(): give value\n",
    "def func2(**words):\n",
    "    for x in words.values():\n",
    "        print(x)\n",
    "\n",
    "func2(a='c',b='b')\n",
    "\n",
    "#kwargs: give keywords only\n",
    "def func3(**kwargs):\n",
    "    for x in kwargs:\n",
    "        print(x)\n",
    "func3(a=3,b=4)"
   ]
  },
  {
   "cell_type": "code",
   "execution_count": 23,
   "metadata": {},
   "outputs": [
    {
     "name": "stdout",
     "output_type": "stream",
     "text": [
      "\n",
      "pass arguments to func2\n",
      "required argument:  3\n",
      "optional argument:  3\n",
      "args:  ()\n",
      "kwargs:  {}\n",
      "\n",
      "pass arguments to func2\n",
      "required argument:  3\n",
      "optional argument:  (1,\n",
      "2)\n",
      "args:  ({'a': 3},)\n",
      "kwargs:  {}\n"
     ]
    }
   ],
   "source": [
    "#\n",
    "def func1(a,b,*args):\n",
    "    pass\n",
    "def func2(a,b=3,*args,**kwargs):\n",
    "    print(\"\\npass arguments to func2\")\n",
    "    print('positional argument: ',a)\n",
    "    print('optional argument: ',b)    \n",
    "    print('args: ',args)\n",
    "    print('kwargs: ',kwargs)\n",
    "\n",
    "func1(3,3)\n",
    "func2(3)\n",
    "func2(3,\n",
    "(1,2),\n",
    "({'a':3}))"
   ]
  },
  {
   "cell_type": "markdown",
   "metadata": {},
   "source": [
    "### arguments errors"
   ]
  },
  {
   "cell_type": "code",
   "execution_count": 8,
   "metadata": {},
   "outputs": [],
   "source": [
    "def func1(name,age=40):\n",
    "    pass\n",
    "\n",
    "#OK usage\n",
    "func1('cary')\n",
    "func1('cary',\n",
    "20)\n",
    "func1('cary',age=20)\n",
    "func1(name='cary',age=20)\n",
    "func1(age=20,name='cary')"
   ]
  },
  {
   "cell_type": "code",
   "execution_count": 9,
   "metadata": {},
   "outputs": [
    {
     "ename": "TypeError",
     "evalue": "func1() missing 1 required positional argument: 'name'",
     "output_type": "error",
     "traceback": [
      "\u001b[1;31m---------------------------------------------------------------------------\u001b[0m",
      "\u001b[1;31mTypeError\u001b[0m                                 Traceback (most recent call last)",
      "\u001b[1;32m<ipython-input-9-fbe4d0c187d0>\u001b[0m in \u001b[0;36m<module>\u001b[1;34m\u001b[0m\n\u001b[0;32m      1\u001b[0m \u001b[1;31m#error: miss required argument\u001b[0m\u001b[1;33m\u001b[0m\u001b[1;33m\u001b[0m\u001b[1;33m\u001b[0m\u001b[0m\n\u001b[1;32m----> 2\u001b[1;33m \u001b[0mfunc1\u001b[0m\u001b[1;33m(\u001b[0m\u001b[0mage\u001b[0m\u001b[1;33m=\u001b[0m\u001b[1;36m20\u001b[0m\u001b[1;33m)\u001b[0m\u001b[1;33m\u001b[0m\u001b[1;33m\u001b[0m\u001b[0m\n\u001b[0m",
      "\u001b[1;31mTypeError\u001b[0m: func1() missing 1 required positional argument: 'name'"
     ]
    }
   ],
   "source": [
    "#error: miss required argument\n",
    "func1(age=20)"
   ]
  },
  {
   "cell_type": "code",
   "execution_count": 10,
   "metadata": {},
   "outputs": [
    {
     "ename": "SyntaxError",
     "evalue": "positional argument follows keyword argument (<ipython-input-10-6cf2e2f04e3a>,\nline 2)",
     "output_type": "error",
     "traceback": [
      "\u001b[1;36m  File \u001b[1;32m\"<ipython-input-10-6cf2e2f04e3a>\"\u001b[1;36m,\nline \u001b[1;32m2\u001b[0m\n\u001b[1;33m    func1(age=20,\n'cary')\u001b[0m\n\u001b[1;37m                  ^\u001b[0m\n\u001b[1;31mSyntaxError\u001b[0m\u001b[1;31m:\u001b[0m positional argument follows keyword argument\n"
     ]
    }
   ],
   "source": [
    "#error: positional should be placed before keyword arguments\n",
    "func1(age=20,'cary')"
   ]
  },
  {
   "cell_type": "code",
   "execution_count": 13,
   "metadata": {},
   "outputs": [],
   "source": []
  },
  {
   "cell_type": "code",
   "execution_count": 44,
   "metadata": {},
   "outputs": [
    {
     "ename": "SyntaxError",
     "evalue": "invalid syntax (<ipython-input-44-2ee7009524d2>,\nline 2)",
     "output_type": "error",
     "traceback": [
      "\u001b[1;36m  File \u001b[1;32m\"<ipython-input-44-2ee7009524d2>\"\u001b[1;36m,\nline \u001b[1;32m2\u001b[0m\n\u001b[1;33m    def func1(*args,\n*kwargs):\u001b[0m\n\u001b[1;37m                     ^\u001b[0m\n\u001b[1;31mSyntaxError\u001b[0m\u001b[1;31m:\u001b[0m invalid syntax\n"
     ]
    }
   ],
   "source": [
    "#raise syntax error: missing **\n",
    "def func1(*args,*kwargs):\n",
    "    pass"
   ]
  },
  {
   "cell_type": "code",
   "execution_count": 45,
   "metadata": {},
   "outputs": [
    {
     "ename": "SyntaxError",
     "evalue": "invalid syntax (<ipython-input-45-3b52653aa018>,\nline 2)",
     "output_type": "error",
     "traceback": [
      "\u001b[1;36m  File \u001b[1;32m\"<ipython-input-45-3b52653aa018>\"\u001b[1;36m,\nline \u001b[1;32m2\u001b[0m\n\u001b[1;33m    def func1(**kwargs,\n*args):\u001b[0m\n\u001b[1;37m                        ^\u001b[0m\n\u001b[1;31mSyntaxError\u001b[0m\u001b[1;31m:\u001b[0m invalid syntax\n"
     ]
    }
   ],
   "source": [
    "#raise position error: **kwargs should follow *args\n",
    "def func1(**kwargs,*args):\n",
    "    pass"
   ]
  },
  {
   "cell_type": "code",
   "execution_count": 54,
   "metadata": {},
   "outputs": [],
   "source": [
    "#raise syntax error: type error\n",
    "\n",
    "def func1(*args):\n",
    "    pass\n",
    "func1(3,3) #correct\n",
    "func1(a=3,b=3) # wrong\n",
    "\n",
    "def func2(*kwargs):\n",
    "    pass\n",
    "func2({'a':3,\n",
    "'b':3})#correct\n",
    "func2(a=3,b=3)#wrong"
   ]
  },
  {
   "cell_type": "code",
   "execution_count": 52,
   "metadata": {},
   "outputs": [
    {
     "ename": "SyntaxError",
     "evalue": "invalid syntax (<ipython-input-52-4f061d411907>,\nline 1)",
     "output_type": "error",
     "traceback": [
      "\u001b[1;36m  File \u001b[1;32m\"<ipython-input-52-4f061d411907>\"\u001b[1;36m,\nline \u001b[1;32m1\u001b[0m\n\u001b[1;33m    def fun(in=3,\nout=4):\u001b[0m\n\u001b[1;37m            ^\u001b[0m\n\u001b[1;31mSyntaxError\u001b[0m\u001b[1;31m:\u001b[0m invalid syntax\n"
     ]
    }
   ],
   "source": [
    "#can't use reserved keywords\n",
    "def fun(in=3,out=4):\n",
    "    return in*outfun(3)"
   ]
  },
  {
   "cell_type": "markdown",
   "metadata": {},
   "source": [
    "## return\n",
    "return None if no return statement. that means python func always returns a value.\n",
    "return one or multiple object in tuple"
   ]
  },
  {
   "cell_type": "code",
   "execution_count": 38,
   "metadata": {},
   "outputs": [
    {
     "name": "stdout",
     "output_type": "stream",
     "text": [
      "7\n",
      "(3,\n",
      "4)\n",
      "3 4\n"
     ]
    }
   ],
   "source": [
    "#return value\n",
    "def func1(a,b):\n",
    "    return a+b\n",
    "#return tuple\n",
    "def func2(a,b):\n",
    "    return (a,b)\n",
    "\n",
    "print(func1(3,4))\n",
    "print(func2(3,4))\n",
    "a,b=func2(3,4)\n",
    "print(a,b)"
   ]
  },
  {
   "cell_type": "code",
   "execution_count": 63,
   "metadata": {},
   "outputs": [
    {
     "name": "stdout",
     "output_type": "stream",
     "text": [
      "6\n"
     ]
    }
   ],
   "source": [
    "#Note the 2nd return statement would not be executed.\n",
    "#That will not raise error but it is bad coding.\n",
    "def func1(a,b):\n",
    "    return a+b\n",
    "    return a*b\n",
    "print(func1(3,3))"
   ]
  },
  {
   "cell_type": "code",
   "execution_count": 29,
   "metadata": {},
   "outputs": [
    {
     "ename": "TypeError",
     "evalue": "unsupported operand type(s) for +: 'int' and 'NoneType'",
     "output_type": "error",
     "traceback": [
      "\u001b[1;31m---------------------------------------------------------------------------\u001b[0m",
      "\u001b[1;31mTypeError\u001b[0m                                 Traceback (most recent call last)",
      "\u001b[1;32m<ipython-input-29-eb6c3218778b>\u001b[0m in \u001b[0;36m<module>\u001b[1;34m\u001b[0m\n\u001b[0;32m      3\u001b[0m     \u001b[1;32mif\u001b[0m \u001b[0mx\u001b[0m\u001b[1;33m%\u001b[0m\u001b[1;36m2\u001b[0m\u001b[1;33m==\u001b[0m\u001b[1;36m1\u001b[0m\u001b[1;33m:\u001b[0m\u001b[1;33m\u001b[0m\u001b[1;33m\u001b[0m\u001b[0m\n\u001b[0;32m      4\u001b[0m         \u001b[1;32mreturn\u001b[0m \u001b[1;36m0\u001b[0m\u001b[1;33m\u001b[0m\u001b[1;33m\u001b[0m\u001b[0m\n\u001b[1;32m----> 5\u001b[1;33m \u001b[0mprint\u001b[0m\u001b[1;33m(\u001b[0m\u001b[0mfunc1\u001b[0m\u001b[1;33m(\u001b[0m\u001b[1;36m1\u001b[0m\u001b[1;33m)\u001b[0m\u001b[1;33m+\u001b[0m\u001b[0mfunc1\u001b[0m\u001b[1;33m(\u001b[0m\u001b[1;36m2\u001b[0m\u001b[1;33m)\u001b[0m\u001b[1;33m)\u001b[0m\u001b[1;33m\u001b[0m\u001b[1;33m\u001b[0m\u001b[0m\n\u001b[0m",
      "\u001b[1;31mTypeError\u001b[0m: unsupported operand type(s) for +: 'int' and 'NoneType'"
     ]
    }
   ],
   "source": [
    "#function in python always have return value. Return None if no return statement clearly declared.\n",
    "def func1(x):\n",
    "    if x%2==1:\n",
    "        return 0\n",
    "print(func1(1)+func1(2))"
   ]
  },
  {
   "cell_type": "markdown",
   "metadata": {},
   "source": [
    "## yield\n",
    "yield return a value at a time while keeping the function state to resume where it is left off. yield could return sequence of values. \n",
    "yield statement is used in generator."
   ]
  },
  {
   "cell_type": "code",
   "execution_count": 21,
   "metadata": {},
   "outputs": [
    {
     "name": "stdout",
     "output_type": "stream",
     "text": [
      "1\n",
      "1\n",
      "2\n",
      "3\n"
     ]
    }
   ],
   "source": [
    "#note difference of return and yield\n",
    "def func1():\n",
    "    return 1\n",
    "    return 2\n",
    "    return 3\n",
    "\n",
    "def func2():\n",
    "    yield 1\n",
    "    yield 2\n",
    "    yield 3\n",
    "\n",
    "#\n",
    "print(func1())\n",
    "#\n",
    "for x in func2():\n",
    "    print(x)"
   ]
  },
  {
   "cell_type": "markdown",
   "metadata": {},
   "source": [
    "## pass\n",
    "pass statement make function do nothing"
   ]
  },
  {
   "cell_type": "code",
   "execution_count": 26,
   "metadata": {},
   "outputs": [],
   "source": [
    "def func1():\n",
    "    pass\n",
    "def func2():\n",
    "    None"
   ]
  },
  {
   "cell_type": "markdown",
   "metadata": {},
   "source": [
    "## scope of variables\n",
    "1. variable defined within a function only works the scope of the function.\n",
    "2. variable defined outside of a function could be readable rather than writable within the function. declare global before revise the variable defined outside the function.\n",
    "3. list defined outside a funtion passed as argument in the function,\n",
    "any changes within the function will affect the list(argument)."
   ]
  },
  {
   "cell_type": "markdown",
   "metadata": {},
   "source": [
    "### local variable"
   ]
  },
  {
   "cell_type": "code",
   "execution_count": 1,
   "metadata": {},
   "outputs": [
    {
     "name": "stdout",
     "output_type": "stream",
     "text": [
      "50\n",
      "25\n",
      "50\n"
     ]
    }
   ],
   "source": [
    "#default: local variable works within a function\n",
    "x=50\n",
    "def func1():\n",
    "    x=25\n",
    "    print(x)\n",
    "    return x\n",
    "\n",
    "print(x)\n",
    "func1()\n",
    "print(x)\n",
    "\n"
   ]
  },
  {
   "cell_type": "code",
   "execution_count": 38,
   "metadata": {},
   "outputs": [
    {
     "ename": "NameError",
     "evalue": "name 'y' is not defined",
     "output_type": "error",
     "traceback": [
      "\u001b[1;31m---------------------------------------------------------------------------\u001b[0m",
      "\u001b[1;31mNameError\u001b[0m                                 Traceback (most recent call last)",
      "\u001b[1;32m<ipython-input-38-2344311e22fb>\u001b[0m in \u001b[0;36m<module>\u001b[1;34m\u001b[0m\n\u001b[0;32m      4\u001b[0m     \u001b[1;32mreturn\u001b[0m \u001b[0my\u001b[0m\u001b[1;33m\u001b[0m\u001b[1;33m\u001b[0m\u001b[0m\n\u001b[0;32m      5\u001b[0m \u001b[0mfunc2\u001b[0m\u001b[1;33m(\u001b[0m\u001b[1;36m5\u001b[0m\u001b[1;33m)\u001b[0m\u001b[1;33m\u001b[0m\u001b[1;33m\u001b[0m\u001b[0m\n\u001b[1;32m----> 6\u001b[1;33m \u001b[0mprint\u001b[0m\u001b[1;33m(\u001b[0m\u001b[0my\u001b[0m\u001b[1;33m)\u001b[0m\u001b[1;33m\u001b[0m\u001b[1;33m\u001b[0m\u001b[0m\n\u001b[0m",
      "\u001b[1;31mNameError\u001b[0m: name 'y' is not defined"
     ]
    }
   ],
   "source": [
    "#variable define in a function is local \n",
    "def func2(y):\n",
    "    y +=5\n",
    "    return y\n",
    "func2(5)\n",
    "print(y)"
   ]
  },
  {
   "cell_type": "markdown",
   "metadata": {},
   "source": [
    "### list and dictionary\n",
    "list or dictionary should be passed as argument if you want use it within a function.\n",
    "any changes within a function will affect on the list/dictionary"
   ]
  },
  {
   "cell_type": "code",
   "execution_count": 43,
   "metadata": {},
   "outputs": [
    {
     "name": "stdout",
     "output_type": "stream",
     "text": [
      "{'a': 4}\n"
     ]
    }
   ],
   "source": [
    "d={'a':4, 'b':3}\n",
    "def func1(d):\n",
    "    del d['b']\n",
    "func1(d)\n",
    "print(d)"
   ]
  },
  {
   "cell_type": "code",
   "execution_count": 2,
   "metadata": {},
   "outputs": [
    {
     "name": "stdout",
     "output_type": "stream",
     "text": [
      "[1, 2, 3]\n",
      "[2, 3]\n"
     ]
    }
   ],
   "source": [
    "#list passed as argument\n",
    "a=[1,2,3]\n",
    "def func1(a):\n",
    "    del a[0]\n",
    "print(a)\n",
    "func1(a)\n",
    "print(a)"
   ]
  },
  {
   "cell_type": "code",
   "execution_count": 4,
   "metadata": {},
   "outputs": [
    {
     "name": "stdout",
     "output_type": "stream",
     "text": [
      "{'a': [3, 4], 'b': [1, 2, 3]}\n",
      "[{'id': 34, 'type': 'test'}, {'id': 345, 'type': 'test'}]\n"
     ]
    }
   ],
   "source": [
    "def _update1(mydict):\n",
    "    for mykey in mydict:\n",
    "        if len(mydict[mykey])<3:\n",
    "            mydict[mykey].append(4)\n",
    "def _update2(org):\n",
    "    if \"id\" in org:\n",
    "        org['type'] = 'test'\n",
    "        \n",
    "d={'a':[3], 'b':[1,2,3]}\n",
    "#\n",
    "_update1(d)\n",
    "print(d)\n",
    "            \n",
    "#\n",
    "orgs=[{'id':34},{'id':345}]\n",
    "for org in orgs:\n",
    "    _update2(org)\n",
    "print(orgs)"
   ]
  },
  {
   "cell_type": "code",
   "execution_count": 47,
   "metadata": {},
   "outputs": [
    {
     "ename": "TypeError",
     "evalue": "func1() takes 0 positional arguments but 1 was given",
     "output_type": "error",
     "traceback": [
      "\u001b[1;31m---------------------------------------------------------------------------\u001b[0m",
      "\u001b[1;31mTypeError\u001b[0m                                 Traceback (most recent call last)",
      "\u001b[1;32m<ipython-input-47-d2b83f14eece>\u001b[0m in \u001b[0;36m<module>\u001b[1;34m\u001b[0m\n\u001b[0;32m      4\u001b[0m     \u001b[1;32mglobal\u001b[0m \u001b[0md\u001b[0m\u001b[1;33m\u001b[0m\u001b[1;33m\u001b[0m\u001b[0m\n\u001b[0;32m      5\u001b[0m     \u001b[0mprint\u001b[0m\u001b[1;33m(\u001b[0m\u001b[0md\u001b[0m\u001b[1;33m)\u001b[0m\u001b[1;33m\u001b[0m\u001b[1;33m\u001b[0m\u001b[0m\n\u001b[1;32m----> 6\u001b[1;33m \u001b[0mfunc1\u001b[0m\u001b[1;33m(\u001b[0m\u001b[0md\u001b[0m\u001b[1;33m)\u001b[0m\u001b[1;33m\u001b[0m\u001b[1;33m\u001b[0m\u001b[0m\n\u001b[0m",
      "\u001b[1;31mTypeError\u001b[0m: func1() takes 0 positional arguments but 1 was given"
     ]
    }
   ],
   "source": [
    "#list is not working\n",
    "d={'a':4, 'b':3}\n",
    "def func1():\n",
    "    print(d)\n",
    "func1(d)"
   ]
  },
  {
   "cell_type": "code",
   "execution_count": null,
   "metadata": {},
   "outputs": [],
   "source": []
  },
  {
   "cell_type": "markdown",
   "metadata": {},
   "source": [
    "### global variable\n",
    "global variable (string/int/float type) is readable within the function\n"
   ]
  },
  {
   "cell_type": "code",
   "execution_count": 46,
   "metadata": {},
   "outputs": [
    {
     "name": "stdout",
     "output_type": "stream",
     "text": [
      "25\n",
      "25\n"
     ]
    }
   ],
   "source": [
    "#define global variable within a function\n",
    "x=50 #glocal variable\n",
    "def func1():\n",
    "    global x #force global variable\n",
    "    x=25\n",
    "    print(x)\n",
    "    return x\n",
    "func1()\n",
    "print(x)"
   ]
  },
  {
   "cell_type": "code",
   "execution_count": 33,
   "metadata": {},
   "outputs": [
    {
     "name": "stdout",
     "output_type": "stream",
     "text": [
      "50\n",
      "30\n",
      "50\n"
     ]
    }
   ],
   "source": [
    "#global variable (string/int/float type) is readable within the function\n",
    "x= 50\n",
    "def func1():\n",
    "    print(x) #variable is global\n",
    "\n",
    "func1()\n",
    "\n",
    "def func2(x):\n",
    "    x=30 # variable is local\n",
    "    print(x)\n",
    "func2(3)\n",
    "print(x)"
   ]
  },
  {
   "cell_type": "markdown",
   "metadata": {},
   "source": [
    "## common errors"
   ]
  },
  {
   "cell_type": "code",
   "execution_count": 37,
   "metadata": {},
   "outputs": [
    {
     "ename": "UnboundLocalError",
     "evalue": "local variable 'x' referenced before assignment",
     "output_type": "error",
     "traceback": [
      "\u001b[1;31m---------------------------------------------------------------------------\u001b[0m",
      "\u001b[1;31mUnboundLocalError\u001b[0m                         Traceback (most recent call last)",
      "\u001b[1;32m<ipython-input-37-0201ed2ac396>\u001b[0m in \u001b[0;36m<module>\u001b[1;34m\u001b[0m\n\u001b[0;32m     10\u001b[0m \u001b[1;31m#\u001b[0m\u001b[1;33m\u001b[0m\u001b[1;33m\u001b[0m\u001b[1;33m\u001b[0m\u001b[0m\n\u001b[0;32m     11\u001b[0m \u001b[0mfunc1\u001b[0m\u001b[1;33m(\u001b[0m\u001b[1;33m)\u001b[0m\u001b[1;33m\u001b[0m\u001b[1;33m\u001b[0m\u001b[0m\n\u001b[1;32m---> 12\u001b[1;33m \u001b[0mfunc2\u001b[0m\u001b[1;33m(\u001b[0m\u001b[1;33m)\u001b[0m\u001b[1;33m\u001b[0m\u001b[1;33m\u001b[0m\u001b[0m\n\u001b[0m",
      "\u001b[1;32m<ipython-input-37-0201ed2ac396>\u001b[0m in \u001b[0;36mfunc2\u001b[1;34m()\u001b[0m\n\u001b[0;32m      5\u001b[0m \u001b[1;33m\u001b[0m\u001b[0m\n\u001b[0;32m      6\u001b[0m \u001b[1;32mdef\u001b[0m \u001b[0mfunc2\u001b[0m\u001b[1;33m(\u001b[0m\u001b[1;33m)\u001b[0m\u001b[1;33m:\u001b[0m\u001b[1;33m\u001b[0m\u001b[1;33m\u001b[0m\u001b[0m\n\u001b[1;32m----> 7\u001b[1;33m     \u001b[0mx\u001b[0m \u001b[1;33m+=\u001b[0m\u001b[1;36m3\u001b[0m\u001b[1;33m\u001b[0m\u001b[1;33m\u001b[0m\u001b[0m\n\u001b[0m\u001b[0;32m      8\u001b[0m     \u001b[1;32mreturn\u001b[0m \u001b[0mx\u001b[0m\u001b[1;33m\u001b[0m\u001b[1;33m\u001b[0m\u001b[0m\n\u001b[0;32m      9\u001b[0m \u001b[1;33m\u001b[0m\u001b[0m\n",
      "\u001b[1;31mUnboundLocalError\u001b[0m: local variable 'x' referenced before assignment"
     ]
    }
   ],
   "source": [
    "# compare the two functions below\n",
    "x = 2\n",
    "def func1():\n",
    "    return x #x is global\n",
    "\n",
    "def func2():\n",
    "    x +=3 #failed initiation\n",
    "    return x #x is local\n",
    "\n",
    "#\n",
    "func1()\n",
    "func2()"
   ]
  },
  {
   "cell_type": "markdown",
   "metadata": {},
   "source": [
    "## recursive function \n",
    "a funtion use itself"
   ]
  },
  {
   "cell_type": "code",
   "execution_count": 16,
   "metadata": {},
   "outputs": [
    {
     "name": "stdout",
     "output_type": "stream",
     "text": [
      "10\n"
     ]
    }
   ],
   "source": [
    "def func1(start):\n",
    "    if start>=10:\n",
    "        return start\n",
    "    return func1(start+1)\n",
    "t=func1(1)\n",
    "print(t)"
   ]
  },
  {
   "cell_type": "markdown",
   "metadata": {},
   "source": [
    "## lambda function\n",
    "sorted(), map(), filter(), reduce(), reversed()"
   ]
  },
  {
   "cell_type": "markdown",
   "metadata": {},
   "source": [
    "### define lambda function"
   ]
  },
  {
   "cell_type": "code",
   "execution_count": 22,
   "metadata": {},
   "outputs": [
    {
     "name": "stdout",
     "output_type": "stream",
     "text": [
      "24\n",
      "24\n"
     ]
    }
   ],
   "source": [
    "#method 1:\n",
    "func1 = lambda x: (x+3)*4\n",
    "print(func1(3))\n",
    "\n",
    "#method 2:\n",
    "print((lambda x: (x+3)*4)(3))"
   ]
  },
  {
   "cell_type": "code",
   "execution_count": 15,
   "metadata": {},
   "outputs": [
    {
     "ename": "SyntaxError",
     "evalue": "invalid syntax (<ipython-input-15-23416fcfc825>,\nline 1)",
     "output_type": "error",
     "traceback": [
      "\u001b[1;36m  File \u001b[1;32m\"<ipython-input-15-23416fcfc825>\"\u001b[1;36m,\nline \u001b[1;32m1\u001b[0m\n\u001b[1;33m    Note: return can't be used in lambda function\u001b[0m\n\u001b[1;37m          ^\u001b[0m\n\u001b[1;31mSyntaxError\u001b[0m\u001b[1;31m:\u001b[0m invalid syntax\n"
     ]
    }
   ],
   "source": [
    "#Note: return can't be used in lambda function\n",
    "#raise exception\n",
    "func1= lambda x: return x\n",
    "print(func1(3))"
   ]
  },
  {
   "cell_type": "markdown",
   "metadata": {},
   "source": [
    "### sorted"
   ]
  },
  {
   "cell_type": "code",
   "execution_count": 23,
   "metadata": {},
   "outputs": [
    {
     "name": "stdout",
     "output_type": "stream",
     "text": [
      "[{'name': 'Trump',\n",
      "'age': 71},\n",
      "{'name': 'John',\n",
      "'age': 34},\n",
      "{'name': 'Cary',\n",
      "'age': 14}]\n"
     ]
    }
   ],
   "source": [
    "#sorted(): sort list by the return of a function\n",
    "s=[{'name':'John',\n",
    "'age':34},{'name':'Cary',\n",
    "'age':14},{'name':'Trump',\n",
    "'age':71}]\n",
    "s1=sorted(s,\n",
    "key=lambda x: x['name'],\n",
    "reverse=True)\n",
    "print(s1)"
   ]
  },
  {
   "cell_type": "markdown",
   "metadata": {},
   "source": [
    "### filter()\n",
    "#filter(): filter each element by the rule of a function"
   ]
  },
  {
   "cell_type": "code",
   "execution_count": 27,
   "metadata": {},
   "outputs": [
    {
     "name": "stdout",
     "output_type": "stream",
     "text": [
      "[45,\n",
      "120,\n",
      "230,\n",
      "65]\n"
     ]
    }
   ],
   "source": [
    "\n",
    "s=[12,45,78,120,230,65]\n",
    "s1=filter(lambda x: x%5==0, s)\n",
    "print(list(s1))"
   ]
  },
  {
   "cell_type": "code",
   "execution_count": 27,
   "metadata": {},
   "outputs": [
    {
     "name": "stdout",
     "output_type": "stream",
     "text": [
      "[0,\n",
      "2,\n",
      "4]\n"
     ]
    }
   ],
   "source": [
    "lst=[x for x in range(5)]\n",
    "lst=list(filter(lambda x: x%2==0, lst))\n",
    "print(lst)"
   ]
  },
  {
   "cell_type": "markdown",
   "metadata": {},
   "source": [
    "### map()"
   ]
  },
  {
   "cell_type": "code",
   "execution_count": 1,
   "metadata": {},
   "outputs": [
    {
     "name": "stdout",
     "output_type": "stream",
     "text": [
      "[1, 4, 9]\n",
      "[1, 3, 5]\n",
      "['N0.1', 'N0.2', 'N0.3']\n",
      "['Ama', 'Luci', 'Cary', 'Rboto']\n"
     ]
    }
   ],
   "source": [
    "#map(): apply a function to each element\n",
    "s=[1,2,3]\n",
    "\n",
    "#square of each elements\n",
    "s1=map(lambda x: x**2, s)\n",
    "print(list(s1))\n",
    "\n",
    "#two list\n",
    "s2=map(lambda x, y: x+y, s,\n",
    "range(3))\n",
    "print(list(s2))\n",
    "\n",
    "#decorate elements\n",
    "s3=map(lambda x: 'N0.'+str(x), s)\n",
    "print(list(s3))\n",
    "\n",
    "s=['ama',\n",
    "'Luci',\n",
    "'CARY',\n",
    "'rboto']\n",
    "s1=map(lambda x: x.title(), s)\n",
    "print(list(s1))"
   ]
  },
  {
   "cell_type": "code",
   "execution_count": 3,
   "metadata": {},
   "outputs": [
    {
     "name": "stdout",
     "output_type": "stream",
     "text": [
      "[{'status': 'recruiting', 'time': 45}, {'status': 'completed', 'time': 5}]\n"
     ]
    }
   ],
   "source": [
    "a={'active': 'recruiting', 'complete':'completed'}\n",
    "d=[{'status':'active', 'time':45},{'status':'complete', 'time':5}]\n",
    "for status in d:\n",
    "    if status['status'] in a:\n",
    "        status['status'] = a[status['status']]\n",
    "print(d)"
   ]
  },
  {
   "cell_type": "markdown",
   "metadata": {},
   "source": [
    "### reduce()\n",
    "reduce() return a single cumulative value"
   ]
  },
  {
   "cell_type": "code",
   "execution_count": 9,
   "metadata": {},
   "outputs": [
    {
     "name": "stdout",
     "output_type": "stream",
     "text": [
      "4950\n"
     ]
    }
   ],
   "source": [
    "from functools import reduce\n",
    "\n",
    "s=range(1,100)\n",
    "def myAdd(x,y):\n",
    "    return x+y\n",
    "s1=reduce(myAdd, s)\n",
    "print(s1)"
   ]
  },
  {
   "cell_type": "markdown",
   "metadata": {},
   "source": [
    "### reversed(): reverse object\n",
    "reversed() could be used in tuple, list, string, range. Return is generator"
   ]
  },
  {
   "cell_type": "code",
   "execution_count": 1,
   "metadata": {},
   "outputs": [
    {
     "name": "stdout",
     "output_type": "stream",
     "text": [
      "<list_reverseiterator object at 0x063293D0>\n"
     ]
    }
   ],
   "source": [
    "print(reversed([1,2,3]))"
   ]
  },
  {
   "cell_type": "code",
   "execution_count": 8,
   "metadata": {},
   "outputs": [
    {
     "name": "stdout",
     "output_type": "stream",
     "text": [
      "[3, 2, 1]\n",
      "[3, 2, 1]\n",
      "[']', '3', ',', '2', ',', '1', '[']\n",
      "[3, 2, 1, 0]\n"
     ]
    }
   ],
   "source": [
    "a=[1,2,3]\n",
    "print(list(reversed(a)))\n",
    "a=(1,2,3)\n",
    "print(list(reversed(a)))\n",
    "a='[1,2,3]'\n",
    "print(list(reversed(a)))\n",
    "a=range(4)\n",
    "print(list(reversed(a)))\n"
   ]
  },
  {
   "cell_type": "code",
   "execution_count": null,
   "metadata": {},
   "outputs": [],
   "source": []
  },
  {
   "cell_type": "code",
   "execution_count": null,
   "metadata": {},
   "outputs": [],
   "source": []
  },
  {
   "cell_type": "markdown",
   "metadata": {},
   "source": [
    "## Computational complexity\n",
    "space complexity describe \n",
    " the amount of space taken up in memory as a function of the input size\n"
   ]
  },
  {
   "cell_type": "markdown",
   "metadata": {},
   "source": [
    "### time complexity \n",
    "describe the time to run a certain algorithm. The time is accumulated by the time of each elementary operations. Time complexity is presented as big-O notation like O(n)\n"
   ]
  },
  {
   "cell_type": "code",
   "execution_count": 14,
   "metadata": {},
   "outputs": [
    {
     "name": "stdout",
     "output_type": "stream",
     "text": [
      "2\n"
     ]
    }
   ],
   "source": [
    "# constant time: O(1)\n",
    "if 2<3:\n",
    "    print(2)\n",
    "else:\n",
    "    print(3)"
   ]
  },
  {
   "cell_type": "code",
   "execution_count": null,
   "metadata": {},
   "outputs": [],
   "source": [
    "#linear time: O(n)\n",
    "#go through each element of a list. the time relies on number of elements of the list\n",
    "for x in range(10):\n",
    "    print(x)"
   ]
  },
  {
   "cell_type": "markdown",
   "metadata": {},
   "source": [
    "logarithmic time: O(log n)\n",
    "work on binary tree.  a n-nodes of tree has the height of log2(n)+1. 1-node: log2(1)+1=1,\n",
    "log2(2)+1=2,\n",
    "log2(4)+1=3,...\n",
    "\n",
    "example: search a target among n elements,\n",
    "which are organized into a binary tree. So \n",
    "n*(1/2*1/2*1/2...)^T ~ 1\n",
    "n=2^T\n",
    "log2(n)=T"
   ]
  }
 ],
 "metadata": {
  "kernelspec": {
   "display_name": "Python 3",
   "language": "python",
   "name": "python3"
  },
  "language_info": {
   "codemirror_mode": {
    "name": "ipython",
    "version": 3
   },
   "file_extension": ".py",
   "mimetype": "text/x-python",
   "name": "python",
   "nbconvert_exporter": "python",
   "pygments_lexer": "ipython3",
   "version": "3.8.5"
  }
 },
 "nbformat": 4,
 "nbformat_minor": 4
}

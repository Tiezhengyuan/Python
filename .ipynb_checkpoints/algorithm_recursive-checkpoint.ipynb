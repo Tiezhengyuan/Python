{
 "cells": [
  {
   "cell_type": "markdown",
   "metadata": {},
   "source": [
    "# incrusive\n",
    "## Advantages\n",
    "1. Recursive functions make the code look clean and elegant.\n",
    "2. A complex task can be broken down into simpler sub-problems using recursion.\n",
    "3. Sequence generation is easier with recursion than using some nested iteration.\n",
    "## weakness\n",
    "1. Sometimes the logic behind recursion is hard to follow through.\n",
    "2. Recursive calls are expensive (inefficient) as they take up a lot of memory and time.\n",
    "3. Complex recursive functions are hard to debug.\n",
    "### features\n",
    "1: recursion Direction:  start from most complicated input to simplest input\n",
    "2. easy to get result with the simplest input \n",
    "3. easy to go into the next input given a current input. \n",
    "4. Not difficult to get relationships between the results of a current input and its next input.\n",
    "\n",
    "Flow control: suppose there are n inputs. always get the next input and output based on current input and output\n",
    "func(n)->func(n-1)->...->func(1)"
   ]
  },
  {
   "cell_type": "code",
   "execution_count": null,
   "metadata": {},
   "outputs": [],
   "source": [
    "recursive patthern\n",
    "\n",
    "def func(...):\n",
    "    #base case: result with simplest input\n",
    "    #Check to see whether the current value(s) being processed match the base case.\n",
    "    if ...:\n",
    "        return ...\n",
    "    #recursion\n",
    "    #Redefine the answer in terms of a smaller or simpler sub-problem or sub-problems.\n",
    "    else:\n",
    "        #Run the algorithm on the sub-problem.\n",
    "        retrun func(...)"
   ]
  },
  {
   "cell_type": "markdown",
   "metadata": {},
   "source": [
    "## numeric sequence\n",
    "steps:\n",
    "1. play around examples using simple input\n",
    "2. think about range of input, condition of exitance of recursioon\n",
    "3. investigate relationship between two neigbour input and their result. and then generate pattern using certain formula"
   ]
  },
  {
   "cell_type": "code",
   "execution_count": 2,
   "metadata": {},
   "outputs": [
    {
     "name": "stdout",
     "output_type": "stream",
     "text": [
      "5050\n"
     ]
    }
   ],
   "source": [
    "#cumulative plus: 1+2+...+100\n",
    "# sum(1)=1, sum(2)=2+ sum(1), sum(n)= n + sum(n-1)\n",
    "def acc_add(n):\n",
    "    if n==1:\n",
    "        return 1\n",
    "    else:\n",
    "        return n+acc_add(n-1)\n",
    "print(acc_add(100))"
   ]
  },
  {
   "cell_type": "code",
   "execution_count": 5,
   "metadata": {},
   "outputs": [
    {
     "name": "stdout",
     "output_type": "stream",
     "text": [
      "3660\n"
     ]
    }
   ],
   "source": [
    "#cumulative plus of arithmetic sequence\n",
    "#a0+a1+...+an => an=an-1+i,\n",
    "# sum(m)=2, sum(m+1)= m+1 + sum(m), sum(n)= n + sum(n-step)\n",
    "def acc_add(start, end, step):\n",
    "    if end==start:\n",
    "        return start\n",
    "    else:\n",
    "        return end+acc_add(start, end-step, step)\n",
    "print(acc_add(2, 120, 2))"
   ]
  },
  {
   "cell_type": "code",
   "execution_count": 6,
   "metadata": {},
   "outputs": [
    {
     "name": "stdout",
     "output_type": "stream",
     "text": [
      "639\n"
     ]
    }
   ],
   "source": [
    "#fibonacci sequence: \n",
    "#f(2)=2, f(1)=1, fib(3)=f(2)+f(1), fib(4)=f(3)+f(2), fib(n) = fib(n-1) + fib(n-2), \n",
    "def func(x):\n",
    "    return x+10\n",
    "\n",
    "def fib(n):\n",
    "    if n<3:\n",
    "        return func(n)\n",
    "    else:\n",
    "        return fib(n-1) + fib(n-2)\n",
    "\n",
    "total = fib(10)\n",
    "print(total)"
   ]
  },
  {
   "cell_type": "code",
   "execution_count": 7,
   "metadata": {},
   "outputs": [
    {
     "name": "stdout",
     "output_type": "stream",
     "text": [
      "6227020800\n"
     ]
    }
   ],
   "source": [
    "#factorial: f(x)=x(x-1)(x-2)...1\n",
    "#f(1)=1, f(2)=2*f(1), f(n)=n*f(n-1)\n",
    "def cal_factorial(x):\n",
    "    if x<=1:\n",
    "        return 1\n",
    "    else:\n",
    "        return x*cal_factorial(x-1)\n",
    "#\n",
    "total = cal_factorial(13)\n",
    "print(total)"
   ]
  },
  {
   "cell_type": "markdown",
   "metadata": {},
   "source": [
    "## list\n",
    "\n",
    "### recursive issues as alternative for iteration-for loop:\n",
    "1. add/delete/change an element\n",
    "2. search/get an element\n",
    "3. sort list\n",
    "\n",
    "### steps\n",
    "1. chck status for exit: mylist==[]\n",
    "2. return new list using list slice: mylist[0]+mylist[1:]: (0+(1+(2+(...(n))...)"
   ]
  },
  {
   "cell_type": "code",
   "execution_count": 11,
   "metadata": {},
   "outputs": [
    {
     "name": "stdout",
     "output_type": "stream",
     "text": [
      "1\n",
      "5\n",
      "8\n"
     ]
    }
   ],
   "source": [
    "#one difference: for-loop locate an element by its index, \n",
    "#but recursion locate the element by its neibouring element (relatively)\n",
    "\n",
    "#iteration pattern\n",
    "def print_list_iteration(mylist):\n",
    "    for i in mylist:\n",
    "        print(i)\n",
    "\n",
    "#basic recursive pattern\n",
    "#iterate a list\n",
    "def print_list(mylist):\n",
    "    if mylist==[]:\n",
    "        return []\n",
    "    else:\n",
    "        print(mylist[0])\n",
    "        print_list(mylist[1:])\n",
    "print_list([1,5,8])"
   ]
  },
  {
   "cell_type": "code",
   "execution_count": 14,
   "metadata": {},
   "outputs": [
    {
     "name": "stdout",
     "output_type": "stream",
     "text": [
      "3\n",
      "57\n",
      "7\n",
      "267\n"
     ]
    }
   ],
   "source": [
    "#sum of all numbers of a list\n",
    "#sum(1)=list[0], sum(2)=list[1]+sum(1), sum(n)=list[n-1]+sum(n-1)\n",
    "def sum_list(mylist):\n",
    "    if len(mylist)==1:\n",
    "        return mylist[0]\n",
    "    else:\n",
    "        print(mylist[0])\n",
    "        return mylist[0] + sum_list(mylist[1:])\n",
    "#\n",
    "total = sum_list([3,57,7,200])\n",
    "print(total)"
   ]
  },
  {
   "cell_type": "code",
   "execution_count": 15,
   "metadata": {},
   "outputs": [
    {
     "name": "stdout",
     "output_type": "stream",
     "text": [
      "['A', 'AB', 'ABC']\n"
     ]
    }
   ],
   "source": [
    "#capitalize all letters of worlds in a list\n",
    "#func(0)=[], func(1)=[list[0].upper()], func(2)=func(1)+[list[1].upper()], , func(n)=func(n-1)+[list[n-1].upper()]\n",
    "def capitalize_list(mylist):\n",
    "    if mylist == []:\n",
    "        return []\n",
    "    else:\n",
    "        return [mylist[0].upper()]+capitalize_list(mylist[1:])\n",
    "\n",
    "mylist=['a', 'ab', 'abc']\n",
    "print(capitalize_list(mylist))"
   ]
  },
  {
   "cell_type": "code",
   "execution_count": 16,
   "metadata": {},
   "outputs": [
    {
     "name": "stdout",
     "output_type": "stream",
     "text": [
      "[1, 3, 4, 5, 6, 7, 9, 10, 12, 34]\n"
     ]
    }
   ],
   "source": [
    "#flatten nested list\n",
    "#func(0)=[], func(1)=list[0] or [list[0]], func(2) = (list[1] or [list[1]])+func(1)\n",
    "#func(n) = (list[n-1] or [list[n-1]])+func(n-1)\n",
    "#if multiple embeded list: func(n) = func(list[n-1])+func(n-1)\n",
    "def flatten_list(mylist):\n",
    "    if mylist==[]:\n",
    "        return []\n",
    "    else:\n",
    "        if isinstance(mylist[0],list):\n",
    "            return flatten_list(mylist[0])+flatten_list(mylist[1:])\n",
    "        return [mylist[0]]+flatten_list(mylist[1:])\n",
    "#\n",
    "mylist= [1,[3,4],[],5, [6,[7],[9,[],10,[12,34]]]]\n",
    "print(flatten_list(mylist))"
   ]
  },
  {
   "cell_type": "code",
   "execution_count": null,
   "metadata": {},
   "outputs": [],
   "source": []
  },
  {
   "cell_type": "code",
   "execution_count": null,
   "metadata": {},
   "outputs": [],
   "source": []
  },
  {
   "cell_type": "markdown",
   "metadata": {},
   "source": [
    "## sort list\n",
    "### insertion sorting\n",
    "two iterations:\n",
    "1. iterate all elements in the list\n",
    "2. insert an element into a sorted list\n"
   ]
  },
  {
   "cell_type": "code",
   "execution_count": null,
   "metadata": {},
   "outputs": [],
   "source": [
    "#insert a number into a sorted list using iteration\n",
    "def insert_list(mylist, value):\n",
    "    if mylist == []:\n",
    "        return [value]\n",
    "    if value <= mylist[0]:\n",
    "        mylist.insert(0, value)\n",
    "        return mylist\n",
    "    if value >= mylist[-1]:\n",
    "        mylist.append(value)\n",
    "        return mylist\n",
    "    for i,v in enumerate(mylist[:-1]):\n",
    "        if mylist[i]<= value <=mylist[i+1]:\n",
    "            mylist.insert(i+1,value)\n",
    "            return mylist\n",
    "            break\n",
    "#\n",
    "print(insert_list([],3)) \n",
    "print(insert_list([6],3))\n",
    "print(insert_list([2],3))\n",
    "print(insert_list([2,6],3))\n",
    "print(insert_list([2,3],3))"
   ]
  },
  {
   "cell_type": "code",
   "execution_count": 47,
   "metadata": {},
   "outputs": [
    {
     "name": "stdout",
     "output_type": "stream",
     "text": [
      "[3]\n",
      "[3, 6]\n",
      "[2, 3]\n",
      "[2, 3, 6]\n",
      "[1, 2, 3, 3, 4, 6, 6]\n"
     ]
    }
   ],
   "source": [
    "#insert a number into a sorted list using recursion\n",
    "def insert_list(mylist, value):\n",
    "    if mylist == []:\n",
    "        return [value]\n",
    "    elif value <= mylist[0]:\n",
    "        mylist.insert(0, value)\n",
    "        return mylist\n",
    "    elif value >= mylist[-1]:\n",
    "        mylist.append(value)\n",
    "        return mylist\n",
    "    else:\n",
    "        return [mylist[0]] + insert_list(mylist[1:], value)\n",
    "#\n",
    "print(insert_list([],3)) \n",
    "print(insert_list([6],3))\n",
    "print(insert_list([2],3))\n",
    "print(insert_list([2,6],3))\n",
    "print(insert_list([1,2,3,4,6,6],3))"
   ]
  },
  {
   "cell_type": "code",
   "execution_count": 49,
   "metadata": {},
   "outputs": [
    {
     "name": "stdout",
     "output_type": "stream",
     "text": [
      "[-5, 2, 6, 45, 100]\n"
     ]
    }
   ],
   "source": [
    "# sort list using insertion sorting\n",
    "def recursive_sort(mylist):\n",
    "    tag=0\n",
    "    for i in range(0, len(mylist)-1):\n",
    "        if mylist[i] > mylist[i+1]:\n",
    "            mylist[i], mylist[i+1] = mylist[i+1], mylist[i]\n",
    "            tag=1\n",
    "    if tag==0:\n",
    "        return mylist\n",
    "    else:\n",
    "       return recursive_sort(mylist)\n",
    "#\n",
    "sorted_list = recursive_sort([100,45,2,-5,6])\n",
    "print(sorted_list)"
   ]
  },
  {
   "cell_type": "code",
   "execution_count": 56,
   "metadata": {},
   "outputs": [
    {
     "name": "stdout",
     "output_type": "stream",
     "text": [
      "[-5, 2, 6, 45, 100]\n",
      "[6]\n",
      "[]\n"
     ]
    }
   ],
   "source": [
    "# sort list using insertion sorting\n",
    "def recursive_sort(mylist):\n",
    "    if len(mylist)<=1:\n",
    "        return mylist\n",
    "    else:\n",
    "        for i in range(1, len(mylist)):\n",
    "            mylist = insert_list(mylist[:i], mylist[i]) + mylist[i+1:]\n",
    "        return mylist\n",
    "#\n",
    "print(recursive_sort([100,45,2,-5,6]))\n",
    "print(recursive_sort([6]))\n",
    "print(recursive_sort([]))"
   ]
  },
  {
   "cell_type": "markdown",
   "metadata": {},
   "source": [
    "### bubble sort"
   ]
  },
  {
   "cell_type": "code",
   "execution_count": null,
   "metadata": {},
   "outputs": [],
   "source": []
  },
  {
   "cell_type": "code",
   "execution_count": 14,
   "metadata": {},
   "outputs": [
    {
     "ename": "KeyError",
     "evalue": "'c'",
     "output_type": "error",
     "traceback": [
      "\u001b[1;31m---------------------------------------------------------------------------\u001b[0m",
      "\u001b[1;31mKeyError\u001b[0m                                  Traceback (most recent call last)",
      "\u001b[1;32m<ipython-input-14-4646e23491ac>\u001b[0m in \u001b[0;36m<module>\u001b[1;34m\u001b[0m\n\u001b[0;32m      1\u001b[0m \u001b[0ma\u001b[0m\u001b[1;33m=\u001b[0m\u001b[1;33m{\u001b[0m\u001b[1;34m'a'\u001b[0m\u001b[1;33m:\u001b[0m\u001b[1;36m4\u001b[0m\u001b[1;33m,\u001b[0m \u001b[1;34m'b'\u001b[0m\u001b[1;33m:\u001b[0m\u001b[1;36m4\u001b[0m\u001b[1;33m}\u001b[0m\u001b[1;33m\u001b[0m\u001b[1;33m\u001b[0m\u001b[0m\n\u001b[0;32m      2\u001b[0m \u001b[0mb\u001b[0m\u001b[1;33m=\u001b[0m\u001b[0ma\u001b[0m\u001b[1;33m.\u001b[0m\u001b[0mpop\u001b[0m\u001b[1;33m(\u001b[0m\u001b[1;34m'b'\u001b[0m\u001b[1;33m)\u001b[0m\u001b[1;33m\u001b[0m\u001b[1;33m\u001b[0m\u001b[0m\n\u001b[1;32m----> 3\u001b[1;33m \u001b[0mc\u001b[0m\u001b[1;33m=\u001b[0m\u001b[0ma\u001b[0m\u001b[1;33m.\u001b[0m\u001b[0mpop\u001b[0m\u001b[1;33m(\u001b[0m\u001b[1;34m'c'\u001b[0m\u001b[1;33m)\u001b[0m\u001b[1;33m\u001b[0m\u001b[1;33m\u001b[0m\u001b[0m\n\u001b[0m\u001b[0;32m      4\u001b[0m \u001b[0mprint\u001b[0m\u001b[1;33m(\u001b[0m\u001b[0ma\u001b[0m\u001b[1;33m,\u001b[0m\u001b[0mb\u001b[0m\u001b[1;33m,\u001b[0m\u001b[0mc\u001b[0m\u001b[1;33m)\u001b[0m\u001b[1;33m\u001b[0m\u001b[1;33m\u001b[0m\u001b[0m\n",
      "\u001b[1;31mKeyError\u001b[0m: 'c'"
     ]
    }
   ],
   "source": [
    "a={'a':4, 'b':4}\n",
    "b=a.pop('b')\n",
    "c=a.pop('c')\n",
    "print(a,b,c)"
   ]
  },
  {
   "cell_type": "markdown",
   "metadata": {},
   "source": [
    "### dictionary"
   ]
  },
  {
   "cell_type": "code",
   "execution_count": 38,
   "metadata": {},
   "outputs": [
    {
     "name": "stdout",
     "output_type": "stream",
     "text": [
      "[] 2 {'b': 4, 'c': 5, 'd': 1}\n",
      "[2] 4 {'c': 5, 'd': 1}\n",
      "[2, 4] 5 {'d': 1}\n",
      "[2, 4, 5] 1 {}\n",
      "None\n"
     ]
    }
   ],
   "source": [
    "#return the sum of all the positive numbers in a dictionary which may contain more dictionaries nested in it.\n",
    "def sum_dict(mydict, t):\n",
    "    #print(mydict,t)\n",
    "    if mydict=={}:\n",
    "        return []\n",
    "    else:\n",
    "        mykeys = list(mydict.keys())\n",
    "        el = mydict.pop(mykeys[0])\n",
    "        print(t, el, mydict)\n",
    "        if isinstance(el, int):\n",
    "            t.append(el)\n",
    "        sum_dict(mydict, t)\n",
    "\n",
    "mydict = {  \"a\": 2,  \"b\": 4,  \"c\": 5,  \"d\": 1,}\n",
    "print(sum_dict(mydict, []))"
   ]
  },
  {
   "cell_type": "code",
   "execution_count": 34,
   "metadata": {},
   "outputs": [
    {
     "name": "stdout",
     "output_type": "stream",
     "text": [
      "[] 2 {'b': {'x': 2, 'y': {'foo': 3, 'z': {'bar': 2}}}, 'c': {'p': {'h': 2, 'r': 5}, 'q': 'ball', 'r': 5}, 'd': 1, 'e': {'nn': {'lil': 2}, 'mm': 'car', 'd': 30}}\n",
      "[2] {'x': 2, 'y': {'foo': 3, 'z': {'bar': 2}}} {'c': {'p': {'h': 2, 'r': 5}, 'q': 'ball', 'r': 5}, 'd': 1, 'e': {'nn': {'lil': 2}, 'mm': 'car', 'd': 30}}\n",
      "[2] {'p': {'h': 2, 'r': 5}, 'q': 'ball', 'r': 5} {'d': 1, 'e': {'nn': {'lil': 2}, 'mm': 'car', 'd': 30}}\n",
      "[2] 1 {'e': {'nn': {'lil': 2}, 'mm': 'car', 'd': 30}}\n",
      "[2, 1] {'nn': {'lil': 2}, 'mm': 'car', 'd': 30} {}\n",
      "None\n"
     ]
    }
   ],
   "source": [
    "#return the sum of all the positive numbers in a dictionary which may contain more dictionaries nested in it.\n",
    "def sum_dict(mydict, t):\n",
    "    #print(mydict,t)\n",
    "    if mydict=={}:\n",
    "        return []\n",
    "    else:\n",
    "        mykeys = list(mydict.keys())\n",
    "        el = mydict.pop(mykeys[0])\n",
    "        print(t, el, mydict)\n",
    "        if isinstance(el, int):\n",
    "            t.append(el)\n",
    "        t + sum_dict(mydict, t)\n",
    "\n",
    "mydict = {\n",
    "  \"a\": 2,\n",
    "  \"b\": {\"x\": 2, \"y\": {\"foo\": 3, \"z\": {\"bar\": 2}}},\n",
    "  \"c\": {\"p\": {\"h\": 2, \"r\": 5}, \"q\": 'ball', \"r\": 5},\n",
    "  \"d\": 1,\n",
    "  \"e\": {\"nn\": {\"lil\": 2}, \"mm\": 'car',\"d\":30}\n",
    "}\n",
    "print(sum_dict(mydict, []))"
   ]
  },
  {
   "cell_type": "markdown",
   "metadata": {},
   "source": [
    "## parlindrome\n",
    "\n",
    "think about:\n",
    "1. configure minimum parlindrome length and minimum seed length. \n",
    "2. parlindrome pattern: AGA or GCCG. So both odd and even seed length could be involved\n",
    "3. remove repeat string like GGGGGG"
   ]
  },
  {
   "cell_type": "code",
   "execution_count": 344,
   "metadata": {},
   "outputs": [
    {
     "name": "stdout",
     "output_type": "stream",
     "text": [
      "(21, 27)\n"
     ]
    }
   ],
   "source": [
    "#returns if the string is a palindrome. string is equal to its reverse\n",
    "\n",
    "#check if a string is palindrome\n",
    "def p1(input_str):\n",
    "    return bool(input_str[::-1] == input_str)\n",
    "        \n",
    "#extend palindrome sub-string as long as it can\n",
    "#input_str[start:end] must be palindrome\n",
    "def p2(input_str, start, end):\n",
    "    #print(start, end, input_str[start:end])\n",
    "    new_str= input_str[(start-1):(end+1)]\n",
    "    #print(new_str)\n",
    "    if not p1(new_str):\n",
    "        return (start, end)\n",
    "        #return input_str[start:end]\n",
    "    else:\n",
    "        return p2(input_str, start-1, end+1)\n",
    "\n",
    "#test\n",
    "s1=\"CATGTACGC\"\n",
    "#print(p2(s1, 2,5))\n",
    "#print(p2(s1, 1,6))\n",
    "#print(p2(s1, 0,7))\n",
    "s2=\"GCCATGTACGC\"\n",
    "#print(p2(s2, 4,7))\n",
    "#print(p2(s2, 3,8))\n",
    "#print(p2(s2, 2,9))\n",
    "\n",
    "s3=\"GCCATGTACGCGTCGAGAAGACGGGGCC\"\n",
    "#print(p2(s3,8,11))\n",
    "print(p2(s3,22,26))"
   ]
  },
  {
   "cell_type": "code",
   "execution_count": 345,
   "metadata": {},
   "outputs": [
    {
     "name": "stdout",
     "output_type": "stream",
     "text": [
      "[(2, 9, 'CATGTAC'), (8, 11, 'CGC'), (9, 12, 'GCG'), (14, 17, 'GAG'), (15, 18, 'AGA'), (15, 21, 'AGAAGA'), (18, 21, 'AGA'), (21, 27, 'CGGGGC')]\n",
      "[(2, 9, 'CATGTAC'), (15, 21, 'AGAAGA'), (21, 27, 'CGGGGC')]\n",
      "[(2, 9, 'CATGTAC'), (15, 21, 'AGAAGA'), (21, 27, 'CGGGGC')]\n",
      "[(2, 9, 'CATGTAC'), (15, 21, 'AGAAGA'), (21, 27, 'CGGGGC')]\n"
     ]
    }
   ],
   "source": [
    "#search all parlindrome substrings given a long string\n",
    "def p3(input_str, seed_len=3, min_len=4):\n",
    "    if min_len< seed_len:\n",
    "        min_len=seed_len\n",
    "    #search seeds of which length>= min_len\n",
    "    seeds=[]\n",
    "    for i, k in enumerate(input_str[:-(seed_len+1)]):\n",
    "        sub_str = input_str[i:(i+seed_len)]\n",
    "        if p1(sub_str):\n",
    "            seeds.append((sub_str, i, i+seed_len))\n",
    "        sub_str = input_str[i:(i+seed_len+1)]\n",
    "        if p1(sub_str):\n",
    "            seeds.append((sub_str, i, i+seed_len+1))\n",
    "    #print(seeds)\n",
    "    \n",
    "    #extend seeds\n",
    "    p_string =[]\n",
    "    for sub_str, start, end in seeds:\n",
    "        #print(sub_str, start, end)\n",
    "        new_start, new_end = p2(input_str, start,end)\n",
    "        if new_end-new_start>=min_len:\n",
    "            new_sub_str = input_str[new_start:new_end]\n",
    "            if len(set(new_sub_str))>1: #remove repeat string\n",
    "                p_string.append((new_start, new_end, new_sub_str))\n",
    "        #print(input_str[new_start:new_end])\n",
    "    return p_string\n",
    "#\n",
    "s3=\"GCCATGTACGCGTCGAGAAGACGGGGCC\"\n",
    "print(p3(s3,3,3))\n",
    "print(p3(s3,3,4))\n",
    "print(p3(s3,4,3))\n",
    "print(p3(s3,4,4))"
   ]
  },
  {
   "cell_type": "code",
   "execution_count": 321,
   "metadata": {},
   "outputs": [
    {
     "data": {
      "text/plain": [
       "1"
      ]
     },
     "execution_count": 321,
     "metadata": {},
     "output_type": "execute_result"
    }
   ],
   "source": [
    "s=\"AAAA\"\n",
    "len(set(s))"
   ]
  },
  {
   "cell_type": "markdown",
   "metadata": {},
   "source": [
    "# create _search for elasticsearch"
   ]
  },
  {
   "cell_type": "code",
   "execution_count": 116,
   "metadata": {},
   "outputs": [
    {
     "name": "stdout",
     "output_type": "stream",
     "text": [
      "{'a': 'd'}\n",
      "{'a': 'd', 'b.c': '343'}\n",
      "{'a': 'd', 'b.c': '343'}\n",
      "{'a': 'd', 'b.c': '343'}\n",
      "{'a': 'd', 'b.c': '343'}\n",
      "{'a': 'd', 'b.c': '343'}\n",
      "{'a': 'd', 'b.c': '343'}\n"
     ]
    }
   ],
   "source": [
    "import re\n",
    "def string_to_dict(input_str):\n",
    "    input_str = re.sub(r\"_or=|_and=\", \"\", input_str)\n",
    "    str_list = re.findall(r\"[\\w\\.]*=[\\w\\.]*\", input_str)\n",
    "    str_pair = dict([ i.split(\"=\") for i in str_list])\n",
    "    return str_pair\n",
    "#\n",
    "print(string_to_dict(\"a=d\"))\n",
    "print(string_to_dict(\"a=d,b.c=343\"))\n",
    "print(string_to_dict(\"(a=d,b.c=343)\"))\n",
    "print(string_to_dict(\"_or=(a=d,b.c=343)\"))\n",
    "print(string_to_dict(\"_or=a=d,b.c=343\"))\n",
    "print(string_to_dict(\"_and=(a=d,b.c=343)\"))\n",
    "print(string_to_dict(\"_and=a=d,b.c=343\"))"
   ]
  },
  {
   "cell_type": "code",
   "execution_count": 220,
   "metadata": {},
   "outputs": [
    {
     "name": "stdout",
     "output_type": "stream",
     "text": [
      "['_and=A=a,B=b', '_and=(_or=(_and=1=1,2=2),(_and=3=3,4=4))', '_or=C=c,D=d,E.id=e']\n",
      "['_and=A=a,B=b', '_or=C=c,D=d,E.id=e']\n",
      "['A=a,B=b']\n",
      "['A=a,B=b']\n",
      "['A=a', 'B=b', '_and=C=c,D=d']\n"
     ]
    }
   ],
   "source": [
    "import re\n",
    "def split_boolean_string(input_str):\n",
    "    if \"(\" in input_str:\n",
    "        or_list=[]\n",
    "        start, acc = -1, 0\n",
    "        for x,y in enumerate(input_str):\n",
    "            if y==\"(\":\n",
    "                if start==-1:\n",
    "                    start = x\n",
    "                else:\n",
    "                    acc += 1\n",
    "            elif y==\")\":\n",
    "                if acc ==0:\n",
    "                    or_list.append(input_str[start+1:x])\n",
    "                    start, acc =-1, 0\n",
    "                else:\n",
    "                    acc -= 1\n",
    "        return or_list\n",
    "    return [input_str]\n",
    "\n",
    "input_str=\"(_and=A=a,B=b),(_and=(_or=(_and=1=1,2=2),(_and=3=3,4=4))),(_or=C=c,D=d,E.id=e)\"\n",
    "or_list = split_boolean_string(input_str)\n",
    "print(or_list)\n",
    "\n",
    "input_str=\"(_and=A=a,B=b),(_or=C=c,D=d,E.id=e)\"\n",
    "or_list = split_boolean_string(input_str)\n",
    "print(or_list)\n",
    "\n",
    "input_str=\"(A=a,B=b)\"\n",
    "or_list = split_boolean_string(input_str)\n",
    "print(or_list)\n",
    "\n",
    "input_str=\"A=a,B=b\"\n",
    "or_list = split_boolean_string(input_str)\n",
    "print(or_list)\n",
    "\n",
    "input_str=\"_or=(A=a),(B=b),(_and=C=c,D=d)\"\n",
    "or_list = split_boolean_string(input_str)\n",
    "print(or_list)"
   ]
  },
  {
   "cell_type": "code",
   "execution_count": 54,
   "metadata": {},
   "outputs": [
    {
     "name": "stdout",
     "output_type": "stream",
     "text": [
      "{'bool': {'must': [{'match': {'a': 'd'}}, {'match': {'b.c': '343'}}]}}\n"
     ]
    }
   ],
   "source": [
    "#create bool-must query    \n",
    "def create_and_must(input_str):\n",
    "    str_dict = string_to_dict(input_str)\n",
    "    bool_dict = {\n",
    "        \"bool\":{\"must\":[]}\n",
    "    }\n",
    "    for k,v in str_dict.items():\n",
    "        bool_dict[\"bool\"][\"must\"].append({\"match\":{k:v}})\n",
    "    return bool_dict\n",
    "\n",
    "#\n",
    "print(create_and_must(\"a=d,b.c=343\"))"
   ]
  },
  {
   "cell_type": "code",
   "execution_count": 224,
   "metadata": {},
   "outputs": [
    {
     "name": "stdout",
     "output_type": "stream",
     "text": [
      "{'bool': {'should': [{'match': {'a': 'd'}}, {'match': {'b.c': '343'}}], 'minimum_should_match': 1}}\n"
     ]
    }
   ],
   "source": [
    "#create bool-should query    \n",
    "def create_or_should(input_str):\n",
    "    str_dict = string_to_dict(input_str)\n",
    "    bool_dict = {\"bool\":{\"should\":[]}}\n",
    "    if len(str_dict.keys())>1:\n",
    "        bool_dict[\"bool\"][\"minimum_should_match\"] = 1\n",
    "    for k,v in str_dict.items():\n",
    "        bool_dict[\"bool\"][\"should\"].append({\"match\":{k:v}})\n",
    "    return bool_dict\n",
    "\n",
    "#\n",
    "print(create_or_should(\"a=d,b.c=343\"))"
   ]
  },
  {
   "cell_type": "code",
   "execution_count": 182,
   "metadata": {},
   "outputs": [
    {
     "name": "stdout",
     "output_type": "stream",
     "text": [
      "{'_or=', '_and='}\n",
      "{'_or='}\n"
     ]
    }
   ],
   "source": [
    "#convert string to json\n",
    "import json\n",
    "import re\n",
    "s1 = \"(_or=A=a,B.id=b),(_and=C,D)\"\n",
    "print(set(re.findall(r\"_or=|_and=\", s1)))\n",
    "s1 = \"(_or=A=a,B.id=b)\"\n",
    "print(set(re.findall(r\"_or=|_and=\", s1)))\n",
    "\n"
   ]
  },
  {
   "cell_type": "code",
   "execution_count": 244,
   "metadata": {},
   "outputs": [
    {
     "name": "stdout",
     "output_type": "stream",
     "text": [
      "{'bool': {'must': [], 'should': [{'bool': {'should': [{'match': {'C': 'c'}}, {'match': {'D': 'd'}}, {'match': {'E.id': 'e'}}], 'minimum_should_match': 1}}]}}\n",
      "\n",
      "{'bool': {'must': [], 'should': [{'bool': {'must': [{'match': {'A': 'a'}}, {'match': {'B': 'b'}}]}}, {'bool': {'should': [{'match': {'C': 'c'}}, {'match': {'D': 'd'}}, {'match': {'E.id': 'e'}}], 'minimum_should_match': 1}}, {'bool': {'must': [], 'should': [{'bool': {'must': [], 'should': [{'bool': {'must': [{'match': {'1': '1'}}, {'match': {'2': '2'}}]}}, {'bool': {'must': [{'match': {'3': '3'}}, {'match': {'4': '4'}}]}}], 'minimum_should_match': 1}}]}}], 'minimum_should_match': 1}}\n",
      "\n",
      "{'bool': {'must': [], 'should': [{'bool': {'must': [], 'should': [{'bool': {'should': [{'match': {'C': 'c'}}]}}, {'bool': {'should': [{'match': {'D': 'd'}}]}}, {'bool': {'must': [{'match': {'E.id': 'e'}}, {'match': {'F': 'f'}}]}}], 'minimum_should_match': 1}}]}}\n",
      "\n",
      "{'bool': {'must': [], 'should': [{'bool': {'must': [], 'should': [{'bool': {'should': [{'match': {'C': 'c'}}]}}, {'bool': {'must': [], 'should': [{'bool': {'should': [{'match': {'D': 'd'}}, {'match': {'B': 'b'}}], 'minimum_should_match': 1}}, {'bool': {'should': [{'match': {'A': 'a'}}]}}], 'minimum_should_match': 2}}, {'bool': {'must': [{'match': {'E.id': 'e'}}, {'match': {'F': 'f'}}]}}], 'minimum_should_match': 1}}]}}\n",
      "\n"
     ]
    }
   ],
   "source": [
    "\n",
    "def create_query(myStr, parent_bool, bool_type=None):\n",
    "    empty_bool = {\"bool\":{\"must\":[],\"should\":[]}}\n",
    "    boolean_list = split_boolean_string(myStr)\n",
    "    \n",
    "    if len(boolean_list)>1:\n",
    "        #print(\"###\", boolean_list)\n",
    "        parent_bool[\"bool\"][\"minimum_should_match\"] = len(boolean_list) if bool_type == '_and' else 1\n",
    "\n",
    "    for boolean_str in boolean_list:\n",
    "        boolean_counts = set(re.findall(r\"_or=|_and=\", boolean_str))\n",
    "        #print('==incursive:', boolean_str)        \n",
    "        if boolean_counts == {\"_and=\", \"_or=\"}:\n",
    "            #print('==incursive:', boolean_str)\n",
    "            if boolean_str.startswith('_and'):\n",
    "                parent_bool[\"bool\"][\"should\"].append(create_query(boolean_str, empty_bool, '_and'))    \n",
    "            else:\n",
    "                parent_bool[\"bool\"][\"should\"].append(create_query(boolean_str, empty_bool))\n",
    "        elif boolean_counts == {\"_and=\"}:\n",
    "            bool_dict = create_and_must(boolean_str)\n",
    "            parent_bool[\"bool\"][\"should\"].append(bool_dict)\n",
    "        else:\n",
    "            bool_dict = create_or_should(boolean_str)\n",
    "            parent_bool[\"bool\"][\"should\"].append(bool_dict)\n",
    "    #print(parent_bool,\"\\n\")\n",
    "    return parent_bool\n",
    "\n",
    "#\n",
    "input_str=\"C=c,D=d,E.id=e\"\n",
    "query_bool = create_query(input_str, {\"bool\":{\"must\":[],\"should\":[]}})\n",
    "print(query_bool, end=\"\\n\\n\")\n",
    "\n",
    "#\n",
    "input_str=\"_or=(_and=A=a,B=b),(_or=C=c,D=d,E.id=e),(_and=(_or=(_and=1=1,2=2),(_and=3=3,4=4)))\"\n",
    "query_bool = create_query(input_str, {\"bool\":{\"must\":[],\"should\":[]}})\n",
    "print(query_bool, end=\"\\n\\n\")\n",
    "\n",
    "input_str=\"(_or=(C=c),(D=d),(_and=(E.id=e, F=f)))\"\n",
    "query_bool = create_query(input_str, {\"bool\":{\"must\":[],\"should\":[]}})\n",
    "print(query_bool, end=\"\\n\\n\")\n",
    "\n",
    "input_str=\"(_or=(C=c),(_and=(_or=D=d,B=b),(A=a)),(_and=(E.id=e, F=f)))\"\n",
    "query_bool = create_query(input_str, {\"bool\":{\"must\":[],\"should\":[]}})\n",
    "print(query_bool, end=\"\\n\\n\")"
   ]
  },
  {
   "cell_type": "markdown",
   "metadata": {},
   "source": [
    "## inverview questions"
   ]
  },
  {
   "cell_type": "markdown",
   "metadata": {},
   "source": [
    "###  Steps issue\n",
    "Given N steps, allow a guy to step one or two at a time. return steps patterns from 1st to then top.\n",
    "step N, step patterns, \n",
    "N=0, 0, {[0]}\n",
    "N=1, 1, {[0,1]}\n",
    "N=2, 2, {[0,1,2],[0,2]} -> func(2=func(1).append(2) + func(0).apppend(2)\n",
    "N=3, 3, {[0,1,2,3],[0,1,3],[0,2,3]}  -> func(3)= func(2).append(3) + func(1).append(3)\n",
    "N=4, 3, {[0,1,2,3,4],[0,1,2,4],[0,1,3,4],[0,2,3,4],[0,2,4]} -> func(4)= func(3).append(4) + func(2).append(4)"
   ]
  },
  {
   "cell_type": "code",
   "execution_count": 84,
   "metadata": {},
   "outputs": [
    {
     "name": "stdout",
     "output_type": "stream",
     "text": [
      "[[0, 1]]\n",
      "[[0, 1, 2], [0, 2]]\n",
      "[[0, 1, 2, 3], [0, 2, 3], [0, 1, 3]]\n",
      "[[0, 1, 2, 3, 4], [0, 2, 3, 4], [0, 1, 3, 4], [0, 1, 2, 4], [0, 2, 4]]\n",
      "[[0, 1, 2, 3, 4, 5], [0, 2, 3, 4, 5], [0, 1, 3, 4, 5], [0, 1, 2, 4, 5], [0, 2, 4, 5], [0, 1, 2, 3, 5], [0, 2, 3, 5], [0, 1, 3, 5]]\n"
     ]
    }
   ],
   "source": [
    "def num_way(N):\n",
    "    #print(N)\n",
    "    if N==0:\n",
    "        return [[0]]\n",
    "    elif N==1:\n",
    "        return [[0,1]]\n",
    "    else:\n",
    "        p = num_way(N-1) + num_way(N-2)\n",
    "        #print(N, p)\n",
    "        [x.append(N) for x in p]\n",
    "        return p\n",
    "print(num_way(1))\n",
    "print(num_way(2))\n",
    "print(num_way(3))\n",
    "print(num_way(4))\n",
    "print(num_way(5))"
   ]
  },
  {
   "cell_type": "markdown",
   "metadata": {},
   "source": [
    "### DNA sequence\n",
    "ATGC\n",
    "-1 C->G\n",
    "-2 G->C\n",
    "-3 T->A\n",
    "-4 A->T"
   ]
  },
  {
   "cell_type": "code",
   "execution_count": 88,
   "metadata": {},
   "outputs": [
    {
     "name": "stdout",
     "output_type": "stream",
     "text": [
      "s\n",
      "a\n",
      "d\n",
      "f\n",
      "s\n",
      "d\n",
      "a\n",
      "f\n"
     ]
    },
    {
     "data": {
      "text/plain": [
       "'sadfsdaf'"
      ]
     },
     "execution_count": 88,
     "metadata": {},
     "output_type": "execute_result"
    }
   ],
   "source": [
    "def print_str(instr):\n",
    "    if len(instr)==0:\n",
    "        return ''\n",
    "    else:\n",
    "        print(instr[0])\n",
    "        return instr[0]+print_str(instr[1:])\n",
    "print_str('sadfsdaf')"
   ]
  },
  {
   "cell_type": "code",
   "execution_count": 91,
   "metadata": {},
   "outputs": [
    {
     "name": "stdout",
     "output_type": "stream",
     "text": [
      "ATGCGACATTCG\n",
      "ATGCGACATTC\n",
      "ATGCGACATT\n",
      "ATGCGACAT\n",
      "ATGCGACA\n",
      "ATGCGAC\n",
      "ATGCGA\n",
      "ATGCG\n",
      "ATGC\n",
      "ATG\n",
      "AT\n",
      "A\n",
      "\n",
      "CGAATGTCGCAT\n"
     ]
    }
   ],
   "source": [
    "def reverse_seq(dnaseq):\n",
    "    return dnaseq[::-1]\n",
    "def com_seq(nt):\n",
    "    c= {'A':'T', 'T':'A','G':'C','C':'G'}\n",
    "    if nt in c:\n",
    "        return c[nt]\n",
    "    return 'N'\n",
    "    \n",
    "def rev_com(dnaseq):\n",
    "    #print(dnaseq)\n",
    "    if len(dnaseq)==0:\n",
    "        return ''\n",
    "    else:\n",
    "        return com_seq(dnaseq[-1]) + rev_com(dnaseq[:-1])\n",
    "\n",
    "print(rev_com('ATGCGACATTCG'))"
   ]
  }
 ],
 "metadata": {
  "kernelspec": {
   "display_name": "Python 3",
   "language": "python",
   "name": "python3"
  },
  "language_info": {
   "codemirror_mode": {
    "name": "ipython",
    "version": 3
   },
   "file_extension": ".py",
   "mimetype": "text/x-python",
   "name": "python",
   "nbconvert_exporter": "python",
   "pygments_lexer": "ipython3",
   "version": "3.8.5"
  }
 },
 "nbformat": 4,
 "nbformat_minor": 4
}

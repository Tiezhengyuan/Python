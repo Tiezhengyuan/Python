{
 "cells": [
  {
   "cell_type": "markdown",
   "metadata": {},
   "source": [
    "# index of ES"
   ]
  },
  {
   "cell_type": "code",
   "execution_count": null,
   "metadata": {},
   "outputs": [],
   "source": [
    "meta data of a json document\n",
    "      {\n",
    "        \"_index\" : \"orgs-index\",\n",
    "        \"_type\" : \"_doc\",\n",
    "        \"_id\" : \"1263\",\n",
    "        \"_score\" : 1.0,\n",
    "        \"_source\" : {\n",
    "          \"address_line_1\" : \"7410 West Rawson Avenue\",\n",
    "          \"city_municipality\" : \"Franklin\",\n",
    "          \"country\" : \"United States\",\n",
    "          \"ctep_id\" : \"WI137\",\n",
    "          \"id\" : \"252328\",\n",
    "          \"name\" : \"Wheaton Franciscan Healthcare-Saint Francis/Reiman Cancer Center\",\n",
    "          \"state_province_territory\" : \"WI\",\n",
    "          \"va_organization\" : false\n",
    "        }\n",
    "      }"
   ]
  },
  {
   "cell_type": "code",
   "execution_count": null,
   "metadata": {},
   "outputs": [],
   "source": []
  },
  {
   "cell_type": "markdown",
   "metadata": {},
   "source": [
    "## create index"
   ]
  },
  {
   "cell_type": "code",
   "execution_count": null,
   "metadata": {},
   "outputs": [],
   "source": [
    "#create an index known as \"trials\"\n",
    "PUT /trials\n",
    "{\n",
    "  \"settings\": {\n",
    "    \"number_of_shards\": 1,\n",
    "    \"number_of_replicas\": 1\n",
    "  }\n",
    "}\n"
   ]
  },
  {
   "cell_type": "markdown",
   "metadata": {},
   "source": [
    "## delete index"
   ]
  },
  {
   "cell_type": "code",
   "execution_count": null,
   "metadata": {},
   "outputs": [],
   "source": [
    "DELETE /trials\n",
    "{\n",
    "    \"acknowledged\": true\n",
    "}"
   ]
  },
  {
   "cell_type": "markdown",
   "metadata": {},
   "source": [
    "## insert data \n",
    "POST <_index>/<_type>/<_id>\n",
    "_index: index name to which a document belogs\n",
    "_type: index mapping type. \n",
    "_id: document's id\n",
    "\n",
    "new pattern: \n",
    "POST <_index>/_create/<_id>\n",
    "POST <_index>/_doc/<_id>\n",
    "POST <_index>/_doc\n",
    "\n",
    "\n",
    "1. document indexing is relying on _index, _type, and _id together. combination of _type and _id identifies a unique _uid field. However, _type may be removed from ES in the future. _id is generated automatically.\n",
    "2. _type is a way to separtate data logically. It is possible to store several types of data in the same index. That is helpful to keep number of indices low. _type field could restrict a search within complex data.\n",
    "3. Use _type only if all types have similar mapping. For example: parents and children like data. Otherwise, use different slices. \n",
    "4. Data is stored in shards rather than index though we could say \"insert data into index\""
   ]
  },
  {
   "cell_type": "code",
   "execution_count": null,
   "metadata": {},
   "outputs": [],
   "source": [
    "#old pattern\n",
    "POST /trials/trial/NCI-8765-00001\n",
    "{\n",
    "  \"nci_id\": \"NCI-8765-00001\",\n",
    "  \"diseases\": [],\n",
    "  \"is_lead_disease\": true,\n",
    "  \"organizations\":{\n",
    "    \"name\": \"cancer center\",\n",
    "    \"id\": \"0244\"\n",
    "  }\n",
    "}\n"
   ]
  },
  {
   "cell_type": "code",
   "execution_count": null,
   "metadata": {},
   "outputs": [],
   "source": [
    "#new pattern: _type is deprecated.\n",
    "#_id is automatically created.\n",
    "POST /trials/_doc\n",
    "{\n",
    "  \"nci_id\": \"NCI-8765-00001\",\n",
    "  \"diseases\": [],\n",
    "  \"is_lead_disease\": true,\n",
    "  \"organizations\":{\n",
    "    \"name\": \"cancer center\",\n",
    "    \"id\": \"0244\"\n",
    "  }\n",
    "}\n",
    "\n",
    "\n",
    "#_id is NCI-8765-00001\n",
    "POST /trials/_doc/NCI-8765-00001\n",
    "{\n",
    "  \"nci_id\": \"NCI-8765-00001\",\n",
    "  \"diseases\": [],\n",
    "  \"is_lead_disease\": true,\n",
    "  \"organizations\":{\n",
    "    \"name\": \"cancer center\",\n",
    "    \"id\": \"0244\"\n",
    "  }\n",
    "}\n"
   ]
  },
  {
   "cell_type": "markdown",
   "metadata": {},
   "source": [
    "## update data\n",
    "In ES, it is not ok to update data. For updating, it is possible cover old document with new document\n",
    "Once updating succeed, _version will increase one. "
   ]
  },
  {
   "cell_type": "code",
   "execution_count": null,
   "metadata": {},
   "outputs": [],
   "source": [
    "# entirely updates using PUT or POST\n",
    "PUT /trials/_doc/NCI-8765-00001\n",
    "{\n",
    "  \"nci_id\": \"NCI-8765-00001\",\n",
    "  \"diseases\": [],\n",
    "  \"is_lead_disease\": true,\n",
    "  \"organizations\":{\n",
    "    \"name\": \"cancer center\",\n",
    "    \"id\": \"0244\"\n",
    "  },\n",
    "  \"create_date\": \"20334\"\n",
    "}\n",
    "\n",
    "POST /trials/_doc/NCI-8765-00001\n",
    "{\n",
    "  \"nci_id\": \"NCI-8765-00001\",\n",
    "  \"diseases\": [],\n",
    "  \"is_lead_disease\": true,\n",
    "  \"organizations\":{\n",
    "    \"name\": \"cancer center\",\n",
    "    \"id\": \"0244\"\n",
    "  },\n",
    "  \"create_date\": \"20334\"\n",
    "}"
   ]
  },
  {
   "cell_type": "code",
   "execution_count": null,
   "metadata": {},
   "outputs": [],
   "source": [
    "#partial updates\n",
    "POST /trials/_update/NCI-8765-00001\n",
    "{\n",
    "  \"doc\":{\n",
    "      \"biomarkers\":[\n",
    "        {\n",
    "          \"evs_id\": \"C4002\",\n",
    "          \"name\": \"neoplasm\"\n",
    "        }\n",
    "      ]\n",
    "  }\n",
    "}\n",
    "\n"
   ]
  },
  {
   "cell_type": "markdown",
   "metadata": {},
   "source": [
    "## delete data\n",
    "Once deletion succeds, \"result\" is \"deleted\". This document is labelled as \"deleted\" rather than real deletion. ES will automatically delete when enough deletion are collected."
   ]
  },
  {
   "cell_type": "code",
   "execution_count": null,
   "metadata": {},
   "outputs": [],
   "source": [
    "DELETE /trials/_doc/NCI-8765-00002"
   ]
  },
  {
   "cell_type": "markdown",
   "metadata": {},
   "source": [
    "## get data\n",
    "GET {_index}/{_type}/{_id}"
   ]
  },
  {
   "cell_type": "code",
   "execution_count": null,
   "metadata": {},
   "outputs": [],
   "source": [
    "#\n",
    "GET /trials/_doc/NCI-8765-00001"
   ]
  },
  {
   "cell_type": "markdown",
   "metadata": {},
   "source": [
    "## get all data\n",
    "GET /{_index}/_search\n",
    "default return 10 hits"
   ]
  },
  {
   "cell_type": "code",
   "execution_count": null,
   "metadata": {},
   "outputs": [],
   "source": [
    "#get all data\n",
    "GET /trials/_search"
   ]
  },
  {
   "cell_type": "code",
   "execution_count": null,
   "metadata": {},
   "outputs": [],
   "source": [
    "# add conditions\n",
    "GET /trials/_search\n",
    "{\n",
    "  \"query\":{\n",
    "    \"match\":{\n",
    "      \"create_date\": \"20344\"\n",
    "    }\n",
    "  }\n",
    "}\n"
   ]
  },
  {
   "cell_type": "markdown",
   "metadata": {},
   "source": [
    "## check if data exists\n",
    "check if a document exists:\n",
    "check status code: 200 exists. or 404 \n",
    "200 - OK\n",
    "{\"statusCode\":404,\"error\":\"Not Found\",\"message\":\"404 - Not Found\"}"
   ]
  },
  {
   "cell_type": "code",
   "execution_count": null,
   "metadata": {},
   "outputs": [],
   "source": [
    "#check current existance\n",
    "HEAD trials/_doc/NCI-8765-00001"
   ]
  }
 ],
 "metadata": {
  "kernelspec": {
   "display_name": "Python 3",
   "language": "python",
   "name": "python3"
  },
  "language_info": {
   "codemirror_mode": {
    "name": "ipython",
    "version": 3
   },
   "file_extension": ".py",
   "mimetype": "text/x-python",
   "name": "python",
   "nbconvert_exporter": "python",
   "pygments_lexer": "ipython3",
   "version": "3.8.5"
  }
 },
 "nbformat": 4,
 "nbformat_minor": 4
}

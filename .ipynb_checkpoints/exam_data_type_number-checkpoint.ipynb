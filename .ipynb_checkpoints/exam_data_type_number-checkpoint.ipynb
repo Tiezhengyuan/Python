{
 "cells": [
  {
   "cell_type": "markdown",
   "metadata": {
    "slideshow": {
     "slide_type": "subslide"
    }
   },
   "source": [
    "# 1. numeric"
   ]
  },
  {
   "cell_type": "markdown",
   "metadata": {},
   "source": [
    "define numeric: (binary,\n",
    "octal,\n",
    "decimal,\n",
    "hexadecimal)\n",
    "check numeric datatype\n",
    "convert between various datatype\n",
    "accuracy of float\n",
    "Basic math operations"
   ]
  },
  {
   "cell_type": "markdown",
   "metadata": {},
   "source": [
    "## 1.1 integer\n",
    "bin() and int(), isinstance(<>, int)\n",
    "binary: 0b<>, oxtal: 0o<>, hexa: 0x<>"
   ]
  },
  {
   "cell_type": "code",
   "execution_count": 28,
   "metadata": {},
   "outputs": [
    {
     "name": "stdout",
     "output_type": "stream",
     "text": [
      "4\n",
      "34000.0\n",
      "340000.0\n",
      "True\n"
     ]
    }
   ],
   "source": [
    "#decimal\n",
    "d = 4\n",
    "print(d)\n",
    "print(3.4e4) #scientific format\n",
    "print(34e4)\n",
    "#check integer type\n",
    "print(isinstance(d,int))"
   ]
  },
  {
   "cell_type": "code",
   "execution_count": 43,
   "metadata": {},
   "outputs": [
    {
     "name": "stdout",
     "output_type": "stream",
     "text": [
      "36\n",
      "36\n",
      "8\n",
      "0b100100\n"
     ]
    }
   ],
   "source": [
    "#define a binary: start with 0b followed by 0 or 1\n",
    "b=0b00100100\n",
    "print(b)\n",
    "#convert binary to decimal: int()\n",
    "print(int(b))\n",
    "#convert binary-like string to decimal: int()\n",
    "print(int('1000',2))\n",
    "#convert deimal to binary: bin()\n",
    "print(bin(36))"
   ]
  },
  {
   "cell_type": "code",
   "execution_count": 63,
   "metadata": {},
   "outputs": [
    {
     "name": "stdout",
     "output_type": "stream",
     "text": [
      "129\n",
      "0o14\n",
      "83\n"
     ]
    }
   ],
   "source": [
    "#octal: 0,1,2,3,4,5,6,7\n",
    "#define octal\n",
    "o = 0o201\n",
    "print(o)\n",
    "#convert decimal to octal\n",
    "print(oct(12))\n",
    "#convert octal to decimal\n",
    "print(int(0o0123))"
   ]
  },
  {
   "cell_type": "code",
   "execution_count": 64,
   "metadata": {},
   "outputs": [
    {
     "name": "stdout",
     "output_type": "stream",
     "text": [
      "1118\n",
      "0x7b\n",
      "987706\n"
     ]
    }
   ],
   "source": [
    "#hexadecimal:0,1,2,3,4,5,6,7,8,9,A,B,C,D,E,F\n",
    "#define a hexa\n",
    "h = 0x45E\n",
    "print(h)\n",
    "#convert decimal to hexadecimal\n",
    "print(hex(123))\n",
    "#convert hexadecimal to decimal\n",
    "print(int(0xF123A))"
   ]
  },
  {
   "cell_type": "code",
   "execution_count": 55,
   "metadata": {},
   "outputs": [
    {
     "name": "stdout",
     "output_type": "stream",
     "text": [
      "2147483647\n",
      "2147483647\n"
     ]
    }
   ],
   "source": [
    "#Note: in python,\n",
    "integer is unlimited,\n",
    "but it only can have as manay digits as computer's memory space allows.\n",
    "import sys\n",
    "print(sys.maxsize)\n",
    "print(2**(32-1)-1) # this is 32-bit system"
   ]
  },
  {
   "cell_type": "markdown",
   "metadata": {},
   "source": [
    "## 1.2 float\n",
    "float(), isinstance(<>, float)\n",
    "round()"
   ]
  },
  {
   "cell_type": "code",
   "execution_count": 26,
   "metadata": {},
   "outputs": [
    {
     "name": "stdout",
     "output_type": "stream",
     "text": [
      "3.45\n",
      "0.45\n",
      "-3.45\n",
      "True\n"
     ]
    }
   ],
   "source": [
    "print(3.450) #Note is 3.45 rather than 3.450\n",
    "print(.450) \n",
    "print(-3.450)\n",
    "#check float type\n",
    "print(isinstance(4.56, float))"
   ]
  },
  {
   "cell_type": "markdown",
   "metadata": {},
   "source": [
    "### accuracy of floating-point numbers"
   ]
  },
  {
   "cell_type": "code",
   "execution_count": 91,
   "metadata": {},
   "outputs": [
    {
     "name": "stdout",
     "output_type": "stream",
     "text": [
      "3\n",
      "3\n",
      "4\n",
      "3\n",
      "46\n"
     ]
    }
   ],
   "source": [
    "import math\n",
    "print(math.trunc(3.14)) #math.trunc()\n",
    "print(math.trunc(3.67)) \n",
    "print(math.ceil(3.18)) #math.ceil()\n",
    "print(math.floor(3.90)) #math.floor()\n",
    "print(round(45.56))"
   ]
  },
  {
   "cell_type": "code",
   "execution_count": 2,
   "metadata": {},
   "outputs": [
    {
     "name": "stdout",
     "output_type": "stream",
     "text": [
      "3.14\n",
      "3.142\n",
      "3.14159\n",
      "3.1415926000\n"
     ]
    }
   ],
   "source": [
    "a=3.1415926\n",
    "print(\"%.2f\"%a)\n",
    "print(\"%.3f\"%a) #round the 3rd decimal\n",
    "print(\"{0:.5f}\".format(a)) # format()\n",
    "print(\"{0:.10f}\".format(a))"
   ]
  },
  {
   "cell_type": "markdown",
   "metadata": {},
   "source": [
    "### Note: difference decimal floating point adn binary floating point\n",
    "#binary float point has not exact presentation !!!"
   ]
  },
  {
   "cell_type": "code",
   "execution_count": 36,
   "metadata": {},
   "outputs": [
    {
     "name": "stdout",
     "output_type": "stream",
     "text": [
      "3.3000000000000003\n",
      "2.4200000000000004\n",
      "2.4200000000000004\n"
     ]
    }
   ],
   "source": [
    "print(1.1+2.2)\n",
    "print(1.1*2.2)\n",
    "print(1.10*2.20)"
   ]
  },
  {
   "cell_type": "code",
   "execution_count": 45,
   "metadata": {},
   "outputs": [
    {
     "name": "stdout",
     "output_type": "stream",
     "text": [
      "0.14285714285714285\n",
      "0.1428571428571428571428571429\n",
      "0.142857142857142857142857142857\n"
     ]
    }
   ],
   "source": [
    "from decimal import Decimal\n",
    "print(1/7)\n",
    "print(Decimal(1)/Decimal(7))\n",
    "getcontext().prec = 30\n",
    "print(Decimal(1)/Decimal(7))"
   ]
  },
  {
   "cell_type": "markdown",
   "metadata": {},
   "source": [
    "## 1.3 check datatype"
   ]
  },
  {
   "cell_type": "code",
   "execution_count": 3,
   "metadata": {},
   "outputs": [
    {
     "name": "stdout",
     "output_type": "stream",
     "text": [
      "True\n",
      "True\n",
      "True\n",
      "True\n",
      "True\n",
      "True\n"
     ]
    }
   ],
   "source": [
    "#check integer: isinstance()\n",
    "print(isinstance(3, int))\n",
    "#check float\n",
    "print(isinstance(3.45, float))\n",
    "#check string\n",
    "print(isinstance('345', str))\n",
    "#check list\n",
    "print(isinstance([1,2], list))\n",
    "#check dictiontary\n",
    "print(isinstance({'a':3}, dict))\n",
    "#check tuple\n",
    "print(isinstance((2,3), tuple))"
   ]
  },
  {
   "cell_type": "code",
   "execution_count": 147,
   "metadata": {},
   "outputs": [
    {
     "name": "stdout",
     "output_type": "stream",
     "text": [
      "<class 'int'>\n",
      "<class 'str'>\n",
      "<class 'list'>\n",
      "<class 'dict'>\n",
      "<class 'tuple'>\n",
      "Pay attention to the ouput below:\n",
      "<class 'range'>\n",
      "<class 'str'>\n",
      "<class 'str'>\n",
      "<class 'int'>\n",
      "<class 'int'>\n"
     ]
    }
   ],
   "source": [
    "#return data type: type()\n",
    "print(type(10))\n",
    "print(type('10'))\n",
    "print(type(['s']))\n",
    "print(type({3:3}))\n",
    "print(type((23,3)))\n",
    "\n",
    "print(\"Pay attention to the ouput below:\")\n",
    "print(type(range(5)))\n",
    "print(type(bin(10)))\n",
    "print(type(hex(3)))\n",
    "print(type(0x56FA))\n",
    "print(type(0b001010))"
   ]
  },
  {
   "cell_type": "markdown",
   "metadata": {},
   "source": [
    "### 1.4 math functions"
   ]
  },
  {
   "cell_type": "code",
   "execution_count": 4,
   "metadata": {},
   "outputs": [
    {
     "name": "stdout",
     "output_type": "stream",
     "text": [
      "3.5\n",
      "33.5\n",
      "33.501\n",
      "11\n"
     ]
    }
   ],
   "source": [
    "#absolute: abs()\n",
    "print(abs(3.5))\n",
    "print(abs(-33.500))  # Note the result is 33.5 rather than 33.500\n",
    "print(abs(-33.501))\n",
    "print(abs(0b01011))"
   ]
  },
  {
   "cell_type": "code",
   "execution_count": 47,
   "metadata": {},
   "outputs": [
    {
     "name": "stdout",
     "output_type": "stream",
     "text": [
      "3.124\n",
      "3.124\n",
      "3.124\n",
      "3.0\n"
     ]
    }
   ],
   "source": [
    "#round float\n",
    "a= 3.12390\n",
    "#1:\n",
    "print(round(a,3))\n",
    "#2:\n",
    "print(\"%.3f\"%a)\n",
    "#3:\n",
    "print(\"{:.3f}\".format(a))\n",
    "\n",
    "#Note the result determined by round(): is 3.0 rather than 3.00\n",
    "print(round(3.0004,\n",
    "3))"
   ]
  },
  {
   "cell_type": "code",
   "execution_count": 24,
   "metadata": {},
   "outputs": [
    {
     "name": "stdout",
     "output_type": "stream",
     "text": [
      "3\n",
      "3\n",
      "3\n",
      "3\n"
     ]
    }
   ],
   "source": [
    "#trunc float\n",
    "a = 3.54\n",
    "#1:\n",
    "print(int(a))\n",
    "#2:\n",
    "import math\n",
    "print(math.trunc(a))\n",
    "#3:\n",
    "print(math.floor(a))\n",
    "#4:\n",
    "print(\"%d\"%a)"
   ]
  },
  {
   "cell_type": "markdown",
   "metadata": {},
   "source": [
    "### 1.5\ttype casting\n",
    "specify what data type when a variable is defined."
   ]
  },
  {
   "cell_type": "code",
   "execution_count": 4,
   "metadata": {},
   "outputs": [],
   "source": [
    "a=int(4)\n",
    "b=int('3')\n",
    "c=float(3.4)\n",
    "d=str('3')\n",
    "e=str(45)"
   ]
  },
  {
   "cell_type": "markdown",
   "metadata": {},
   "source": [
    "### 1.6 UNICODE\n",
    "unicode is a standard for encoding and handling texts\n",
    "ord(), chr()"
   ]
  },
  {
   "cell_type": "code",
   "execution_count": 98,
   "metadata": {},
   "outputs": [
    {
     "name": "stdout",
     "output_type": "stream",
     "text": [
      "65\n",
      "97\n"
     ]
    }
   ],
   "source": [
    "#ord():convert string to its unicode in integer format\n",
    "print(ord('A'))\n",
    "print(ord('a'))"
   ]
  },
  {
   "cell_type": "code",
   "execution_count": 100,
   "metadata": {},
   "outputs": [
    {
     "name": "stdout",
     "output_type": "stream",
     "text": [
      "\u0003\n",
      "ӑ\n"
     ]
    }
   ],
   "source": [
    "#chr(): take integer as unicode and convert integer to string\n",
    "#The valid range for the argument is from 0 through 1,114,111 (0x10FFFF in hexadecimal format). \n",
    "print(chr(3))\n",
    "print(chr(1233))"
   ]
  },
  {
   "cell_type": "code",
   "execution_count": 102,
   "metadata": {},
   "outputs": [
    {
     "name": "stdout",
     "output_type": "stream",
     "text": [
      "A\n"
     ]
    }
   ],
   "source": [
    "print(chr(ord('A')))"
   ]
  },
  {
   "cell_type": "code",
   "execution_count": null,
   "metadata": {},
   "outputs": [],
   "source": []
  }
 ],
 "metadata": {
  "kernelspec": {
   "display_name": "Python 3",
   "language": "python",
   "name": "python3"
  },
  "language_info": {
   "codemirror_mode": {
    "name": "ipython",
    "version": 3
   },
   "file_extension": ".py",
   "mimetype": "text/x-python",
   "name": "python",
   "nbconvert_exporter": "python",
   "pygments_lexer": "ipython3",
   "version": "3.8.5"
  }
 },
 "nbformat": 4,
 "nbformat_minor": 4
}

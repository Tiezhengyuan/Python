{
 "cells": [
  {
   "cell_type": "markdown",
   "metadata": {},
   "source": [
    "## compare two numbers"
   ]
  },
  {
   "cell_type": "code",
   "execution_count": 7,
   "metadata": {},
   "outputs": [
    {
     "name": "stdout",
     "output_type": "stream",
     "text": [
      "4\n",
      "4\n"
     ]
    }
   ],
   "source": [
    "#1: ordinary approach\n",
    "def get_max1(a,b):\n",
    "    if a>b:\n",
    "        return a\n",
    "    return b\n",
    "\n",
    "print(get_max1(2,4))\n",
    "\n",
    "#2: use max()\n",
    "def get_max2(a,b):\n",
    "    return max(a,b)\n",
    "\n",
    "print(get_max2(2,4))"
   ]
  },
  {
   "cell_type": "markdown",
   "metadata": {},
   "source": [
    "## factorial of a number\n",
    "n!=n*(n-1)*(n-2)*......*1"
   ]
  },
  {
   "cell_type": "code",
   "execution_count": 13,
   "metadata": {},
   "outputs": [
    {
     "name": "stdout",
     "output_type": "stream",
     "text": [
      "3628800\n",
      "1 1\n",
      "2 2\n",
      "3 6\n",
      "4 24\n",
      "5 120\n",
      "6 720\n",
      "7 5040\n",
      "8 40320\n",
      "9 362880\n",
      "10 3628800\n",
      "3628800\n"
     ]
    }
   ],
   "source": [
    "#1:\n",
    "def factorial_1(n):\n",
    "    total = 1\n",
    "    while n>0:\n",
    "        total *= n\n",
    "        n -= 1\n",
    "    return total\n",
    "#2 incursive\n",
    "def factorial_2(n):\n",
    "    while n<=0:\n",
    "        return 1\n",
    "    return n*factorial_2(n-1)\n",
    "\n",
    "#3 ternary operator\n",
    "def factorial_3(n):\n",
    "    return \n",
    "\n",
    "#\n",
    "print(factorial_1(10))\n",
    "print(factorial_2(10))\n",
    "print(factorial_3(10))"
   ]
  },
  {
   "cell_type": "code",
   "execution_count": null,
   "metadata": {},
   "outputs": [],
   "source": []
  },
  {
   "cell_type": "code",
   "execution_count": null,
   "metadata": {},
   "outputs": [],
   "source": []
  },
  {
   "cell_type": "code",
   "execution_count": null,
   "metadata": {},
   "outputs": [],
   "source": []
  },
  {
   "cell_type": "code",
   "execution_count": null,
   "metadata": {},
   "outputs": [],
   "source": []
  }
 ],
 "metadata": {
  "kernelspec": {
   "display_name": "Python 3",
   "language": "python",
   "name": "python3"
  },
  "language_info": {
   "codemirror_mode": {
    "name": "ipython",
    "version": 3
   },
   "file_extension": ".py",
   "mimetype": "text/x-python",
   "name": "python",
   "nbconvert_exporter": "python",
   "pygments_lexer": "ipython3",
   "version": "3.8.5"
  }
 },
 "nbformat": 4,
 "nbformat_minor": 4
}

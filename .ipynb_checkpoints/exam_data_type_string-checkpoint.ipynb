{
 "cells": [
  {
   "cell_type": "markdown",
   "metadata": {},
   "source": [
    "# 2. string: \n",
    "1. constructing,\n",
    "assigning,\n",
    "indexing,\n",
    "immutability\n",
    "2. strings in detail: escaping using the \\ character,\n",
    "quotes and apostrophes inside strings,\n",
    "multiline strings,\n",
    "basic string functions."
   ]
  },
  {
   "cell_type": "markdown",
   "metadata": {},
   "source": [
    "## 2.1 define a string\n",
    "1. string is immutable. string can't be modified. any modification is to be re-assignment.\n",
    "2. python doesn't support char. any char could be as string stype"
   ]
  },
  {
   "cell_type": "code",
   "execution_count": 120,
   "metadata": {},
   "outputs": [
    {
     "name": "stdout",
     "output_type": "stream",
     "text": [
      "a\n",
      "b\n",
      "a\n",
      "enter: a\n",
      "abc'\n"
     ]
    }
   ],
   "source": [
    "#define a string: \n",
    "s= 'a';print(s)\n",
    "s = \"b\";print(s)\n",
    "s = str('a');print(s)\n",
    "a= f\"enter: {s}\"; print(a)\n",
    "\n",
    "#string contains special charactors\n",
    "s= 'abc\\'';print(s)"
   ]
  },
  {
   "cell_type": "code",
   "execution_count": 56,
   "metadata": {},
   "outputs": [
    {
     "name": "stdout",
     "output_type": "stream",
     "text": [
      "abc\\ed'\n",
      "abc\\ed'\n"
     ]
    }
   ],
   "source": [
    "#define string with especial character\n",
    "#method 1: escape operator\n",
    "s='abc\\\\ed\\''\n",
    "print(s)\n",
    "#method 2: encompassed by \"\"\n",
    "s=\"abc\\\\ed'\"\n",
    "print(s)"
   ]
  },
  {
   "cell_type": "code",
   "execution_count": 97,
   "metadata": {
    "scrolled": true
   },
   "outputs": [
    {
     "name": "stdout",
     "output_type": "stream",
     "text": [
      "sss\n",
      "abcabcabc\n"
     ]
    }
   ],
   "source": [
    "# repeat string\n",
    "print('s'*3)\n",
    "print('abc'*3)"
   ]
  },
  {
   "cell_type": "code",
   "execution_count": 64,
   "metadata": {},
   "outputs": [
    {
     "name": "stdout",
     "output_type": "stream",
     "text": [
      "'abc'\n",
      "\"abc\"\n"
     ]
    }
   ],
   "source": [
    "#the two below is ok\n",
    "print(\"'abc'\")\n",
    "print('\"abc\"')\n",
    "\n",
    "#the two below will raise error\n",
    "print(''abc'')\n",
    "print(\"\"abc\"\")"
   ]
  },
  {
   "cell_type": "code",
   "execution_count": null,
   "metadata": {},
   "outputs": [],
   "source": []
  },
  {
   "cell_type": "code",
   "execution_count": 103,
   "metadata": {},
   "outputs": [
    {
     "name": "stdout",
     "output_type": "stream",
     "text": [
      "12226272\n",
      "12226272\n",
      "241987840\n",
      "###integer:\n",
      "1924245968\n",
      "1924245968\n",
      "241540080\n",
      "241540320\n"
     ]
    }
   ],
   "source": [
    "#immutability: they are located in the same address in memory if two strings are idential\n",
    "a= 'abc';b = 'abc';c = 'Abc'\n",
    "print(id(a))\n",
    "print(id(b))\n",
    "print(id(c))\n",
    "print('###integer:')\n",
    "x= 35;y= 35  # keep array of integer objects for all int of between -5 and 256\n",
    "m=789;n=789\n",
    "print(id(x))\n",
    "print(id(y))\n",
    "print(id(m))\n",
    "print(id(n))"
   ]
  },
  {
   "cell_type": "code",
   "execution_count": 9,
   "metadata": {},
   "outputs": [
    {
     "name": "stdout",
     "output_type": "stream",
     "text": [
      "Cary's first name is \"c\"\n",
      "Cary's first name is \"c\"\n"
     ]
    }
   ],
   "source": [
    "#escape character\n",
    "#Note the below equal patterns\n",
    "s=\"Cary's first name is \\\"c\\\"\"; print(s)\n",
    "s='Cary\\'s first name is \"c\"'; print(s)"
   ]
  },
  {
   "cell_type": "markdown",
   "metadata": {},
   "source": [
    "## 2.2 index and slice\n",
    "list[a:b:c]\n",
    "a: start index\n",
    "b: end index\n",
    "c: step,\n",
    "positive is from end to front. negative is revered.\n",
    "\n",
    "If a is missing,\n",
    "a=0\n",
    "if b is missing,\n",
    "b=len(list)-1\n",
    "if c is missing,\n",
    "c=1\n",
    "To be a<b if c is positive,\n",
    "or a>b if c is negative.\n",
    "a or b could be negative and out of index range"
   ]
  },
  {
   "cell_type": "code",
   "execution_count": null,
   "metadata": {},
   "outputs": [],
   "source": []
  },
  {
   "cell_type": "code",
   "execution_count": 111,
   "metadata": {
    "scrolled": true
   },
   "outputs": [
    {
     "name": "stdout",
     "output_type": "stream",
     "text": [
      "w\n",
      "e a\n",
      "we \n",
      "ends.\n",
      "s\n",
      "we are frien\n"
     ]
    }
   ],
   "source": [
    "#index\n",
    "s='we are friends.'\n",
    "print(s[0])  #'w'\n",
    "print(s[1:4]) #'e a'\n",
    "print(s[:3]) #'we '\n",
    "print(s[10:]) #'ends.'\n",
    "print(s[-2]) #'.' the 2nd from the last\n",
    "print(s[:-3]) #'we are frien'\n"
   ]
  },
  {
   "cell_type": "code",
   "execution_count": 57,
   "metadata": {},
   "outputs": [
    {
     "name": "stdout",
     "output_type": "stream",
     "text": [
      ".sdneirf era ew\n",
      "w r red.\n",
      "s.\n",
      " are friends.\n",
      " ew\n",
      "we are friends.\n",
      "we are friends.\n"
     ]
    }
   ],
   "source": [
    "s='we are friends.'\n",
    "print(s[::-1]) # reverse\n",
    "print(s[::2]) #w r red.\n",
    "print(s[-2::]) # the last 2 elements\n",
    "print(s[2::]) # 3rd-end elements\n",
    "print(s[2::-1]) # = s[2:0:-1]\n",
    "\n",
    "#out of range index is ok\n",
    "print(s[:40])\n",
    "print(s[-24:20]) # it is ok if index is out of range"
   ]
  },
  {
   "cell_type": "code",
   "execution_count": 99,
   "metadata": {},
   "outputs": [
    {
     "name": "stdout",
     "output_type": "stream",
     "text": [
      "4321\n"
     ]
    }
   ],
   "source": [
    "#transpose\n",
    "s= '1234'\n",
    "print(s[::-1])"
   ]
  },
  {
   "cell_type": "code",
   "execution_count": 87,
   "metadata": {},
   "outputs": [
    {
     "name": "stdout",
     "output_type": "stream",
     "text": [
      "bc\n",
      "bcd\n"
     ]
    }
   ],
   "source": [
    "s='abcdef'\n",
    "print(s[1:3]) # return index 1,\n",
    "2\n",
    "print(s[1:-2]) # "
   ]
  },
  {
   "cell_type": "markdown",
   "metadata": {},
   "source": [
    "### conversion"
   ]
  },
  {
   "cell_type": "code",
   "execution_count": 5,
   "metadata": {},
   "outputs": [
    {
     "name": "stdout",
     "output_type": "stream",
     "text": [
      "WELCOME TO THIS BEAUTIFUL PALACE IN MARY, NC. I AM JOHNSON.\n",
      "welcome to this beautiful palace in mary, nc. i am johnson.\n",
      "Welcome To This Beautiful Palace In Mary, Nc. I Am Johnson.\n",
      "Welcome to this beautiful palace in mary, nc. i am johnson.\n"
     ]
    }
   ],
   "source": [
    "s = 'Welcome to this beautiful palace in Mary, NC. I am Johnson.'\n",
    "print(s.upper()) #all upper case\n",
    "print(s.lower()) # all lower case\n",
    "print(s.title()) # first letter of each word is uppercase\n",
    "print(s.capitalize()) # first letter of the string is uppercase only."
   ]
  },
  {
   "cell_type": "code",
   "execution_count": 67,
   "metadata": {},
   "outputs": [
    {
     "name": "stdout",
     "output_type": "stream",
     "text": [
      "False\n",
      "False\n",
      "True\n"
     ]
    }
   ],
   "source": [
    "#check all alphanumeric\n",
    "s='this is 500'\n",
    "print(s.isalnum())\n",
    "s='4.53'\n",
    "print(s.isalnum())\n",
    "s='453'\n",
    "print(s.isalnum())"
   ]
  },
  {
   "cell_type": "code",
   "execution_count": 72,
   "metadata": {},
   "outputs": [
    {
     "name": "stdout",
     "output_type": "stream",
     "text": [
      "False\n",
      "True\n"
     ]
    }
   ],
   "source": [
    "s1='me 34'\n",
    "s2='34'\n",
    "print(s1.isdigit())\n",
    "print(s2.isdigit())"
   ]
  },
  {
   "cell_type": "code",
   "execution_count": 80,
   "metadata": {},
   "outputs": [
    {
     "name": "stdout",
     "output_type": "stream",
     "text": [
      "'d'\n",
      "100\n"
     ]
    }
   ],
   "source": [
    "#convert to ASCII\n",
    "print(ascii('dd'))\n",
    "print(ord('d'))"
   ]
  },
  {
   "cell_type": "code",
   "execution_count": null,
   "metadata": {},
   "outputs": [],
   "source": []
  },
  {
   "cell_type": "markdown",
   "metadata": {},
   "source": [
    "### functions"
   ]
  },
  {
   "cell_type": "code",
   "execution_count": 81,
   "metadata": {},
   "outputs": [
    {
     "name": "stdout",
     "output_type": "stream",
     "text": [
      "15\n",
      "7\n"
     ]
    }
   ],
   "source": [
    "#length of a string: len()\n",
    "s= 'my name is Lasa'\n",
    "print(len(s))\n",
    "\n",
    "#count frequency of a sub-string in a string: str.count()\n",
    "s= 'my isname isisis jameis isis bound.'\n",
    "print(s.count('is',3))"
   ]
  },
  {
   "cell_type": "markdown",
   "metadata": {},
   "source": [
    "## conversion between string and list"
   ]
  },
  {
   "cell_type": "code",
   "execution_count": 25,
   "metadata": {},
   "outputs": [
    {
     "name": "stdout",
     "output_type": "stream",
     "text": [
      "['class',\n",
      "'object',\n",
      "'property',\n",
      "'method',\n",
      "'encapsulation']\n",
      "['class,',\n",
      "'object,',\n",
      "'property,',\n",
      "'method,',\n",
      "'encapsulation']\n",
      "['a',\n",
      "'b',\n",
      "'c']\n",
      "['This',\n",
      "'is',\n",
      "'my,\n",
      "email,\n",
      "123-456-7890']\n",
      "['This,\n",
      "is,\n",
      "my',\n",
      "'email',\n",
      "'123-456-7890']\n"
     ]
    }
   ],
   "source": [
    "#string to list: str.split(),\n",
    "str.rsplit()\n",
    "s= 'class,\n",
    "object,\n",
    "property,\n",
    "method,\n",
    "encapsulation'\n",
    "print(s.split(',\n",
    "'))\n",
    "print(s.split()) #default is whitspace\n",
    "\n",
    "#split a string into letters\n",
    "s='abc'\n",
    "print(list(s))\n",
    "\n",
    "#split by maxium splits\n",
    "s='This,\n",
    "is,\n",
    "my,\n",
    "email,\n",
    "123-456-7890'\n",
    "print(s.split(',\n",
    "',\n",
    "2))\n",
    "print(s.rsplit(',\n",
    "',\n",
    "2))"
   ]
  },
  {
   "cell_type": "code",
   "execution_count": null,
   "metadata": {},
   "outputs": [],
   "source": []
  },
  {
   "cell_type": "code",
   "execution_count": 27,
   "metadata": {},
   "outputs": [
    {
     "name": "stdout",
     "output_type": "stream",
     "text": [
      "1,a\n"
     ]
    },
    {
     "ename": "TypeError",
     "evalue": "sequence item 0: expected str instance,\nint found",
     "output_type": "error",
     "traceback": [
      "\u001b[1;31m---------------------------------------------------------------------------\u001b[0m",
      "\u001b[1;31mTypeError\u001b[0m                                 Traceback (most recent call last)",
      "\u001b[1;32m<ipython-input-27-6c2cab17d7e3>\u001b[0m in \u001b[0;36m<module>\u001b[1;34m\u001b[0m\n\u001b[0;32m      3\u001b[0m \u001b[1;33m\u001b[0m\u001b[0m\n\u001b[0;32m      4\u001b[0m \u001b[1;31m#raise error\u001b[0m\u001b[1;33m\u001b[0m\u001b[1;33m\u001b[0m\u001b[1;33m\u001b[0m\u001b[0m\n\u001b[1;32m----> 5\u001b[1;33m \u001b[0ms\u001b[0m\u001b[1;33m=\u001b[0m\u001b[1;34m','\u001b[0m\u001b[1;33m.\u001b[0m\u001b[0mjoin\u001b[0m\u001b[1;33m(\u001b[0m\u001b[1;33m[\u001b[0m\u001b[1;36m1\u001b[0m\u001b[1;33m,\u001b[0m \u001b[1;34m'a'\u001b[0m\u001b[1;33m]\u001b[0m\u001b[1;33m)\u001b[0m\u001b[1;33m;\u001b[0m \u001b[0mprint\u001b[0m\u001b[1;33m(\u001b[0m\u001b[0ms\u001b[0m\u001b[1;33m)\u001b[0m\u001b[1;33m\u001b[0m\u001b[1;33m\u001b[0m\u001b[0m\n\u001b[0m",
      "\u001b[1;31mTypeError\u001b[0m: sequence item 0: expected str instance,\nint found"
     ]
    }
   ],
   "source": [
    "#list to string: join()\n",
    "s=','.join(['1','a']); print(s)\n",
    "\n",
    "#raise error\n",
    "s=','.join([1,'a']); print(s)"
   ]
  },
  {
   "cell_type": "code",
   "execution_count": 1,
   "metadata": {},
   "outputs": [
    {
     "name": "stdout",
     "output_type": "stream",
     "text": [
      "[0, 1, 2, 3, 4, 5, 6, 7, 8, 9]\n",
      "[1, 3, 5, 7, 9]\n",
      "[12, 9, 6, 3]\n",
      "[0, -2, -4, -6, -8]\n"
     ]
    },
    {
     "ename": "SyntaxError",
     "evalue": "'return' outside function (<ipython-input-1-4f26a966d17c>, line 9)",
     "output_type": "error",
     "traceback": [
      "\u001b[1;36m  File \u001b[1;32m\"<ipython-input-1-4f26a966d17c>\"\u001b[1;36m, line \u001b[1;32m9\u001b[0m\n\u001b[1;33m    return []\u001b[0m\n\u001b[1;37m    ^\u001b[0m\n\u001b[1;31mSyntaxError\u001b[0m\u001b[1;31m:\u001b[0m 'return' outside function\n"
     ]
    }
   ],
   "source": [
    "#range(a,b,c): a < b\n",
    "a=range(10); print(list(a))\n",
    "a=range(1,10,2); print(list(a))\n",
    "a=range(12,1,-3); print(list(a))\n",
    "a=range(0,-10,-2); print(list(a))\n",
    "\n",
    "\n",
    "#if a>=b,\n",
    "return []\n",
    "a=range(10,1); print(list(a))\n",
    "print(list(range(-1,-2)))\n",
    "\n",
    "#eror: string type is not working\n",
    "#a=range('a','z',1); print(list(a))\n",
    "#error: float number is not working\n",
    "#a=range(.5,10.5,1); print(list(a))\n"
   ]
  },
  {
   "cell_type": "markdown",
   "metadata": {},
   "source": [
    "## compare strings"
   ]
  },
  {
   "cell_type": "code",
   "execution_count": 40,
   "metadata": {},
   "outputs": [
    {
     "name": "stdout",
     "output_type": "stream",
     "text": [
      "True\n",
      "False\n",
      "True\n",
      "False\n",
      "20>30 False\n",
      "True\n"
     ]
    }
   ],
   "source": [
    "#compare two strings\n",
    "print('str'=='str')\n",
    "print('str'!='str')\n",
    "print('John'>'Jhon')\n",
    "print('Emma'<'Emm')\n",
    "print(\"20>30\",\n",
    "'20'>'30')\n",
    "s='is'\n",
    "print(s is s) # not suggested though doesn't raise error"
   ]
  },
  {
   "cell_type": "markdown",
   "metadata": {},
   "source": [
    "# search string\n"
   ]
  },
  {
   "cell_type": "markdown",
   "metadata": {},
   "source": [
    "## built-in: index(), find(), rfind(), "
   ]
  },
  {
   "cell_type": "code",
   "execution_count": null,
   "metadata": {},
   "outputs": [],
   "source": [
    "s='we are friends.'\n",
    "s.index('e')"
   ]
  },
  {
   "cell_type": "code",
   "execution_count": 7,
   "metadata": {},
   "outputs": [
    {
     "name": "stdout",
     "output_type": "stream",
     "text": [
      "1\n",
      "2\n",
      "0\n",
      "11\n",
      "-1\n"
     ]
    }
   ],
   "source": [
    "s= 'class, object, property, method, encapsulation'\n",
    "if 'object' in s:\n",
    "    print(1)\n",
    "if 'Method' not in s:\n",
    "    print(2)"
   ]
  },
  {
   "cell_type": "code",
   "execution_count": 29,
   "metadata": {},
   "outputs": [
    {
     "name": "stdout",
     "output_type": "stream",
     "text": [
      "0\n",
      "11\n",
      "35\n",
      "-1\n"
     ]
    }
   ],
   "source": [
    "#find substring: find(),rfind()\n",
    "s= 'class, object,property,method,encapsulation'\n",
    "\n",
    "#find c\n",
    "a = s.find('c');print(a)\n",
    "#find substring after a certain index \n",
    "a = s.find('c',10);print(a)\n",
    "#find substring from the end\n",
    "a = s.rfind('c');print(a)\n",
    "#no found\n",
    "a = s.rfind('cccc');print(a)\n"
   ]
  },
  {
   "cell_type": "markdown",
   "metadata": {},
   "source": [
    "## re\n",
    "re.findall()"
   ]
  },
  {
   "cell_type": "code",
   "execution_count": null,
   "metadata": {},
   "outputs": [],
   "source": []
  }
 ],
 "metadata": {
  "kernelspec": {
   "display_name": "Python 3",
   "language": "python",
   "name": "python3"
  },
  "language_info": {
   "codemirror_mode": {
    "name": "ipython",
    "version": 3
   },
   "file_extension": ".py",
   "mimetype": "text/x-python",
   "name": "python",
   "nbconvert_exporter": "python",
   "pygments_lexer": "ipython3",
   "version": "3.8.5"
  }
 },
 "nbformat": 4,
 "nbformat_minor": 4
}

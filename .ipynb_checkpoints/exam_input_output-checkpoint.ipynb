{
 "cells": [
  {
   "cell_type": "markdown",
   "metadata": {},
   "source": [
    "# 1. Basic"
   ]
  },
  {
   "cell_type": "markdown",
   "metadata": {},
   "source": [
    "## 1.1 print() function\n",
    "formatting print() output with end= and sep= arguments"
   ]
  },
  {
   "cell_type": "code",
   "execution_count": 46,
   "metadata": {},
   "outputs": [
    {
     "name": "stdout",
     "output_type": "stream",
     "text": [
      "\n",
      "0\n",
      "8\n",
      "[1,\n",
      "'abc']\n",
      "{'a': 4,\n",
      "'b': 'abc'}\n"
     ]
    }
   ],
   "source": [
    "print() # no arguememts,\n",
    "but \n",
    "print(0)\n",
    "a=8\n",
    "print(a)\n",
    "#print list\n",
    "a=[1,'abc']\n",
    "print(a)\n",
    "#print dictionary\n",
    "d={'a':4,'b':'abc'}\n",
    "print(d)"
   ]
  },
  {
   "cell_type": "code",
   "execution_count": null,
   "metadata": {},
   "outputs": [],
   "source": [
    "#default is end='\\n'\n",
    "print('good')\n",
    "print('morning',\n",
    "end=\"\\n\")\n",
    "print('I am',\n",
    "end=\" \")\n",
    "print('good',\n",
    "end=\"\\n\")\n",
    "print('Hi ',\n",
    "end='Johnson:')"
   ]
  },
  {
   "cell_type": "code",
   "execution_count": null,
   "metadata": {},
   "outputs": [],
   "source": [
    "print('I','am','free',sep=' ')\n",
    "print(123,456,789,sep='-')"
   ]
  },
  {
   "cell_type": "code",
   "execution_count": 19,
   "metadata": {},
   "outputs": [
    {
     "ename": "SyntaxError",
     "evalue": "positional argument follows keyword argument (<ipython-input-19-9697ed2af640>,\nline 2)",
     "output_type": "error",
     "traceback": [
      "\u001b[1;36m  File \u001b[1;32m\"<ipython-input-19-9697ed2af640>\"\u001b[1;36m,\nline \u001b[1;32m2\u001b[0m\n\u001b[1;33m    print(sep='--',\n'Ben',\n25,\n'California')\u001b[0m\n\u001b[1;37m                    ^\u001b[0m\n\u001b[1;31mSyntaxError\u001b[0m\u001b[1;31m:\u001b[0m positional argument follows keyword argument\n"
     ]
    }
   ],
   "source": [
    "print('Ben', 25, 'California',sep='--')\n",
    "#error\n",
    "print(sep='--', 'Ben', 25, 'California')"
   ]
  },
  {
   "cell_type": "code",
   "execution_count": 4,
   "metadata": {},
   "outputs": [
    {
     "name": "stdout",
     "output_type": "stream",
     "text": [
      "1\n",
      "2\n",
      "3\n",
      "4\n",
      "5\n",
      "1,2,3,4,5,1\n",
      "2\n",
      "3\n",
      "4\n",
      "5\n"
     ]
    }
   ],
   "source": [
    "a=0\n",
    "#1\n",
    "while a < 5:\n",
    "    a += 1\n",
    "    print(a)\n",
    "\n",
    "#2\n",
    "a=0\n",
    "while a < 5:\n",
    "    a += 1\n",
    "    print(a,end=',')\n",
    "\n",
    "#3\n",
    "#Note: \"sep\" is overrided when there is only one input\n",
    "a=0\n",
    "while a < 5:\n",
    "    a += 1\n",
    "    print(a,sep=',')"
   ]
  },
  {
   "cell_type": "markdown",
   "metadata": {},
   "source": [
    "## 1.2 input() function"
   ]
  },
  {
   "cell_type": "code",
   "execution_count": 25,
   "metadata": {},
   "outputs": [
    {
     "name": "stdout",
     "output_type": "stream",
     "text": [
      "Enter your name: 4\n",
      "Your name is 4\n"
     ]
    }
   ],
   "source": [
    "inp = input('Enter your name: ')\n",
    "print(f\"Your name is {inp}\")"
   ]
  },
  {
   "cell_type": "code",
   "execution_count": 29,
   "metadata": {},
   "outputs": [
    {
     "name": "stdout",
     "output_type": "stream",
     "text": [
      "4\n",
      "5\n",
      "<class 'str'>\n",
      "45\n"
     ]
    }
   ],
   "source": [
    "#Note: default the type is string if input is numeric\n",
    "x = input()\n",
    "y = input()\n",
    "print(type(x))\n",
    "print(x+y)\n"
   ]
  },
  {
   "cell_type": "code",
   "execution_count": 30,
   "metadata": {},
   "outputs": [
    {
     "name": "stdout",
     "output_type": "stream",
     "text": [
      "3\n",
      "4\n",
      "3333\n"
     ]
    }
   ],
   "source": [
    "#Note: x is string and y is integer. so the string x will be repeated by y times\n",
    "x= input()\n",
    "y= int(input())\n",
    "print(x*y)"
   ]
  },
  {
   "cell_type": "markdown",
   "metadata": {},
   "source": [
    "## 1.3 output formation: %"
   ]
  },
  {
   "cell_type": "code",
   "execution_count": 5,
   "metadata": {},
   "outputs": [
    {
     "name": "stdout",
     "output_type": "stream",
     "text": [
      "nan,\n",
      "nan,\n",
      "NAN,\n",
      "nan,\n",
      "NAN\n"
     ]
    }
   ],
   "source": [
    "a = float(\"NaN\")\n",
    "#\n",
    "print(\"%s, %f,%F,%e,%E\" % (a,a,a,a,a))"
   ]
  },
  {
   "cell_type": "code",
   "execution_count": 16,
   "metadata": {},
   "outputs": [
    {
     "name": "stdout",
     "output_type": "stream",
     "text": [
      "f,\n",
      "F\n",
      "123\n",
      "123\n",
      "123.121\n"
     ]
    }
   ],
   "source": [
    "#%x: hexadecimal\n",
    "print('%x,\n",
    "%X' % (15,15))\n",
    "#%d: decimal\n",
    "print('%d'%(123.05))\n",
    "#%f: float\n",
    "print('%.f'%(123.1205))\n",
    "print('%.3f'%(123.1205))"
   ]
  },
  {
   "cell_type": "code",
   "execution_count": 17,
   "metadata": {},
   "outputs": [
    {
     "name": "stdout",
     "output_type": "stream",
     "text": [
      "[A]\n"
     ]
    }
   ],
   "source": [
    "#%c convert to character\n",
    "print('[%c]'% 65)"
   ]
  },
  {
   "cell_type": "code",
   "execution_count": null,
   "metadata": {},
   "outputs": [],
   "source": [
    "#type error\n",
    "print('%d'%('123.9'))"
   ]
  },
  {
   "cell_type": "markdown",
   "metadata": {},
   "source": [
    "# 2. file handler\n",
    "r: reading (default handler). create a file if it doesn't exists\n",
    "w,\n",
    "writing\n",
    "a,\n",
    "appending\n",
    "x,\n",
    "open a file for exlusive creation. failed if it exists\n",
    "r+,\n",
    "reading and writing\n",
    "t,\n",
    "open in text mode (default)\n",
    "b,\n",
    "open in binary mode "
   ]
  },
  {
   "cell_type": "markdown",
   "metadata": {},
   "source": [
    "## 2.1 read handler\n",
    "#read only: Memorize the three patterns below\n",
    "file.read() and file.readlines() are not suggested if a file is big."
   ]
  },
  {
   "cell_type": "code",
   "execution_count": 6,
   "metadata": {},
   "outputs": [
    {
     "name": "stdout",
     "output_type": "stream",
     "text": [
      "<_io.TextIOWrapper name='F:\\\\python_practise\\\\infile.txt' mode='r' encoding='cp1252'>\n",
      "read entire contents as a string\n",
      "1\n",
      "11\n",
      "222\n",
      "333\n",
      "444\n"
     ]
    }
   ],
   "source": [
    "#1: file.read() get content as string\n",
    "f = open('F:\\python_practise\\infile.txt','r')\n",
    "print(f)\n",
    "print(\"read entire contents as a string\")\n",
    "print(f.read(1)) # read the first character and the file handle move to the 2nd character. \n",
    "print(f.read()) # read the left contents as one string.\n",
    "f.close()"
   ]
  },
  {
   "cell_type": "code",
   "execution_count": 5,
   "metadata": {},
   "outputs": [
    {
     "name": "stdout",
     "output_type": "stream",
     "text": [
      "readlines(): read entire contents as a list\n",
      "['111\\n', '222\\n', '333\\n', '444']\n",
      "readline(): read the first 3 bytes\n",
      "111\n"
     ]
    }
   ],
   "source": [
    "#2: file.readlines(): get content as list\n",
    "f = open('F:\\python_practise\\infile.txt','r')\n",
    "print(\"readlines(): read entire contents as a list\")\n",
    "print(f.readlines())\n",
    "f.close()\n",
    "\n",
    "f = open('F:\\python_practise\\infile.txt','r')\n",
    "print(\"readline(): read the first 3 bytes\")\n",
    "print(f.readline(3))\n",
    "f.close()\n",
    "\n"
   ]
  },
  {
   "cell_type": "code",
   "execution_count": null,
   "metadata": {},
   "outputs": [],
   "source": [
    "#3:read line by line\n",
    "f = open('F:\\python_practise\\infile.txt',\n",
    "'r')\n",
    "print(\"read the file line by line:\")\n",
    "for l in f:\n",
    "    print(l)\n",
    "f.close"
   ]
  },
  {
   "cell_type": "code",
   "execution_count": 24,
   "metadata": {},
   "outputs": [
    {
     "name": "stdout",
     "output_type": "stream",
     "text": [
      "read entire contents as a string\n",
      "111\n",
      "222\n",
      "333\n",
      "444\n",
      "readlines(): read entire contents as a list\n",
      "[]\n"
     ]
    }
   ],
   "source": [
    "#Note: use the same file handler\n",
    "#Therefore,\n",
    "the second read statement return empty because the pointer is at the end of file.\n",
    "#1:\n",
    "f = open('F:\\python_practise\\infile.txt',\n",
    "'r')\n",
    "print(\"read entire contents as a string\")\n",
    "print(f.read())\n",
    "\n",
    "#2:\n",
    "print(\"readlines(): read entire contents as a list\")\n",
    "print(f.readlines())\n",
    "f.close()"
   ]
  },
  {
   "cell_type": "code",
   "execution_count": 34,
   "metadata": {},
   "outputs": [
    {
     "name": "stdout",
     "output_type": "stream",
     "text": [
      "F:\\python_practise\n"
     ]
    }
   ],
   "source": [
    "import os\n",
    "print(os.path.abspath('.'))"
   ]
  },
  {
   "cell_type": "markdown",
   "metadata": {},
   "source": [
    "## 2.2 write\n",
    "write a string using file.write()\n",
    "write a sequence of strings like list or tupe using file.writelines()"
   ]
  },
  {
   "cell_type": "code",
   "execution_count": 35,
   "metadata": {},
   "outputs": [],
   "source": [
    "#file.write()\n",
    "f = open(\"outfile.txt\",\n",
    "'w')\n",
    "f.write(\"file.write(): this is a line.\")\n",
    "f.close()"
   ]
  },
  {
   "cell_type": "code",
   "execution_count": 36,
   "metadata": {},
   "outputs": [],
   "source": [
    "#file.writelines()\n",
    "f = open(\"outfile.txt\",\n",
    "'w')\n",
    "f.writelines(\"file.writelines(): this is a line.\")\n",
    "f.close()"
   ]
  },
  {
   "cell_type": "code",
   "execution_count": 42,
   "metadata": {},
   "outputs": [
    {
     "name": "stdout",
     "output_type": "stream",
     "text": [
      "['a',\n",
      "'b',\n",
      "'c']\n"
     ]
    }
   ],
   "source": [
    "#file.writelines()\n",
    "f = open(\"outfile.txt\",\n",
    "'w')\n",
    "a=list('abc')\n",
    "print(a)\n",
    "f.writelines(a)\n",
    "f.close()"
   ]
  },
  {
   "cell_type": "markdown",
   "metadata": {},
   "source": [
    "# 3. system interaction"
   ]
  },
  {
   "cell_type": "code",
   "execution_count": 15,
   "metadata": {},
   "outputs": [
    {
     "name": "stdout",
     "output_type": "stream",
     "text": [
      "current directory: F:\\python_practise\n",
      "directory of a file: F:\\python_practise\n",
      "file name of a file: infile.txt\n",
      "file name and file extension of a file: ('infile',\n",
      "'.txt')\n",
      "file name and file extension of a file: ('c:\\\\.file',\n",
      "'')\n",
      "absolute path of a file: F:\\python_practise\\infile.txt\n"
     ]
    }
   ],
   "source": [
    "import os\n",
    "\n",
    "#\n",
    "print(\"current directory:\",\n",
    "os.getcwd())\n",
    "\n",
    "#\n",
    "s='F:\\python_practise\\infile.txt'\n",
    "print('directory of a file:',\n",
    "os.path.dirname(s))\n",
    "print('file name of a file:',\n",
    "os.path.basename(s))\n",
    "print('file name and file extension of a file:',\n",
    "os.path.splitext(os.path.basename(s)))\n",
    "print('file name and file extension of a file:',\n",
    "os.path.splitext('c:\\\\.file'))\n",
    "print('absolute path of a file:',\n",
    "os.path.abspath(s))"
   ]
  },
  {
   "cell_type": "code",
   "execution_count": 10,
   "metadata": {},
   "outputs": [
    {
     "name": "stdout",
     "output_type": "stream",
     "text": [
      "None\n",
      "LOCAL\n"
     ]
    }
   ],
   "source": [
    "import os\n",
    "\n",
    "#\n",
    "print(os.getenv('LOCAL'))\n",
    "#set env\n",
    "os.environ['LOCAL']='LOCAL'\n",
    "#show env variable\n",
    "print(os.environ.get('LOCAL'))\n",
    "#delete\n",
    "del os.environ['LOCAL']"
   ]
  },
  {
   "cell_type": "code",
   "execution_count": null,
   "metadata": {},
   "outputs": [],
   "source": []
  }
 ],
 "metadata": {
  "kernelspec": {
   "display_name": "Python 3",
   "language": "python",
   "name": "python3"
  },
  "language_info": {
   "codemirror_mode": {
    "name": "ipython",
    "version": 3
   },
   "file_extension": ".py",
   "mimetype": "text/x-python",
   "name": "python",
   "nbconvert_exporter": "python",
   "pygments_lexer": "ipython3",
   "version": "3.8.5"
  }
 },
 "nbformat": 4,
 "nbformat_minor": 4
}

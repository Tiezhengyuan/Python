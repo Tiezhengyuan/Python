{
 "cells": [
  {
   "cell_type": "markdown",
   "metadata": {},
   "source": [
    "# 5. set"
   ]
  },
  {
   "cell_type": "markdown",
   "metadata": {},
   "source": [
    "## 5.1 define set\n",
    "all elements are unique.\n",
    "set accept string,\n",
    "numeric,\n",
    "tuple,\n",
    "and boolean type. but True evaluate to 1.\n",
    "all elements are unordered \n",
    "No empty set is allowed.\n",
    "set is unchangeable. No item could be changed but could be added.\n",
    "No index. can't access set by index like list"
   ]
  },
  {
   "cell_type": "code",
   "execution_count": 5,
   "metadata": {},
   "outputs": [
    {
     "name": "stdout",
     "output_type": "stream",
     "text": [
      "{False, 1, 'a', (1, 2), 'b', -1000}\n",
      "{'b', 'a'}\n",
      "{1, 23}\n"
     ]
    }
   ],
   "source": [
    "s={'a','b',1,(1,2),True,False,-1000}\n",
    "print(s)\n",
    "s={'b','a','b'}\n",
    "print(s)\n",
    "s=set([1,23])\n",
    "print(s)"
   ]
  },
  {
   "cell_type": "code",
   "execution_count": 6,
   "metadata": {},
   "outputs": [
    {
     "ename": "SyntaxError",
     "evalue": "invalid syntax (<ipython-input-6-312344cc07ef>, line 2)",
     "output_type": "error",
     "traceback": [
      "\u001b[1;36m  File \u001b[1;32m\"<ipython-input-6-312344cc07ef>\"\u001b[1;36m, line \u001b[1;32m2\u001b[0m\n\u001b[1;33m    numeric,or tuple type\u001b[0m\n\u001b[1;37m            ^\u001b[0m\n\u001b[1;31mSyntaxError\u001b[0m\u001b[1;31m:\u001b[0m invalid syntax\n"
     ]
    }
   ],
   "source": [
    "#only string,\n",
    "numeric,or tuple type\n",
    "#the below raise errors\n",
    "s={{1,2},1}\n",
    "s={[1,2],1}\n",
    "s={}"
   ]
  },
  {
   "cell_type": "markdown",
   "metadata": {},
   "source": [
    "## 5.2 compare set\n",
    "this is basic operations on set type"
   ]
  },
  {
   "cell_type": "code",
   "execution_count": 75,
   "metadata": {},
   "outputs": [
    {
     "name": "stdout",
     "output_type": "stream",
     "text": [
      "{'b'}\n",
      "{'c'}\n",
      "{'c',\n",
      "'b'}\n"
     ]
    },
    {
     "ename": "TypeError",
     "evalue": "set expected at most 1 argument,\ngot 2",
     "output_type": "error",
     "traceback": [
      "\u001b[1;31m---------------------------------------------------------------------------\u001b[0m",
      "\u001b[1;31mTypeError\u001b[0m                                 Traceback (most recent call last)",
      "\u001b[1;32m<ipython-input-75-41a736ca745a>\u001b[0m in \u001b[0;36m<module>\u001b[1;34m\u001b[0m\n\u001b[0;32m      9\u001b[0m \u001b[1;31m#symmetric_difference(): return all non-sharing element\u001b[0m\u001b[1;33m\u001b[0m\u001b[1;33m\u001b[0m\u001b[1;33m\u001b[0m\u001b[0m\n\u001b[0;32m     10\u001b[0m \u001b[0mprint\u001b[0m\u001b[1;33m(\u001b[0m\u001b[0ms2\u001b[0m\u001b[1;33m.\u001b[0m\u001b[0msymmetric_difference\u001b[0m\u001b[1;33m(\u001b[0m\u001b[0ms1\u001b[0m\u001b[1;33m)\u001b[0m\u001b[1;33m)\u001b[0m\u001b[1;33m\u001b[0m\u001b[1;33m\u001b[0m\u001b[0m\n\u001b[1;32m---> 11\u001b[1;33m \u001b[0mprint\u001b[0m\u001b[1;33m(\u001b[0m\u001b[0mset\u001b[0m\u001b[1;33m(\u001b[0m\u001b[0ms1\u001b[0m\u001b[1;33m,\u001b[0m\u001b[0ms2\u001b[0m\u001b[1;33m)\u001b[0m\u001b[1;33m)\u001b[0m\u001b[1;33m\u001b[0m\u001b[1;33m\u001b[0m\u001b[0m\n\u001b[0m\u001b[0;32m     12\u001b[0m \u001b[1;31m#union: union()\u001b[0m\u001b[1;33m\u001b[0m\u001b[1;33m\u001b[0m\u001b[1;33m\u001b[0m\u001b[0m\n\u001b[0;32m     13\u001b[0m \u001b[0ms1\u001b[0m\u001b[1;33m=\u001b[0m\u001b[1;33m{\u001b[0m\u001b[1;36m1\u001b[0m\u001b[1;33m,\u001b[0m\u001b[1;36m2\u001b[0m\u001b[1;33m}\u001b[0m\u001b[1;33m\u001b[0m\u001b[1;33m\u001b[0m\u001b[0m\n",
      "\u001b[1;31mTypeError\u001b[0m: set expected at most 1 argument,\ngot 2"
     ]
    }
   ],
   "source": [
    "#set.difference()\n",
    "s1={'a','b'}\n",
    "s2={'a','c'}\n",
    "s3=s1.difference(s2)# in S1 but not in S2\n",
    "print(s3)\n",
    "s4=s2.difference(s1) # in S2 but not in S1\n",
    "print(s4)\n",
    "\n",
    "#symmetric_difference(): return all non-sharing element\n",
    "print(s2.symmetric_difference(s1))\n",
    "\n",
    "#union: union()\n",
    "s1={1,2}\n",
    "s2={1,3,2,7}\n",
    "s3=s1.union(s2)\n",
    "print(s3)\n",
    "\n",
    "#\n"
   ]
  },
  {
   "cell_type": "code",
   "execution_count": 72,
   "metadata": {},
   "outputs": [
    {
     "name": "stdout",
     "output_type": "stream",
     "text": [
      "True\n",
      "True\n",
      "False\n",
      "{3,\n",
      "7}\n"
     ]
    }
   ],
   "source": [
    "s1={1,2}\n",
    "s2={1,3,2,7}\n",
    "#issubset()\n",
    "print(s1.issubset(s2))\n",
    "#issuperset()\n",
    "print(s2.issuperset(s1))\n",
    "#isdisjoint(): return true if no sharing \n",
    "print(s2.isdisjoint(s1))\n"
   ]
  },
  {
   "cell_type": "code",
   "execution_count": 88,
   "metadata": {},
   "outputs": [
    {
     "name": "stdout",
     "output_type": "stream",
     "text": [
      "{2}\n"
     ]
    }
   ],
   "source": [
    "#intersection()\n",
    "s1={1,2}\n",
    "s2={2,4,5}\n",
    "print(s1.intersection(s2))"
   ]
  },
  {
   "cell_type": "markdown",
   "metadata": {},
   "source": [
    "## set operations"
   ]
  },
  {
   "cell_type": "code",
   "execution_count": 68,
   "metadata": {},
   "outputs": [
    {
     "name": "stdout",
     "output_type": "stream",
     "text": [
      "{1,\n",
      "2}\n",
      "{1,\n",
      "2}\n",
      "{1,\n",
      "2}\n"
     ]
    },
    {
     "ename": "TypeError",
     "evalue": "cannot convert dictionary update sequence element #0 to a sequence",
     "output_type": "error",
     "traceback": [
      "\u001b[1;31m---------------------------------------------------------------------------\u001b[0m",
      "\u001b[1;31mTypeError\u001b[0m                                 Traceback (most recent call last)",
      "\u001b[1;32m<ipython-input-68-ad8288f8acbc>\u001b[0m in \u001b[0;36m<module>\u001b[1;34m\u001b[0m\n\u001b[0;32m      8\u001b[0m \u001b[1;31m#update/combine: update()\u001b[0m\u001b[1;33m\u001b[0m\u001b[1;33m\u001b[0m\u001b[1;33m\u001b[0m\u001b[0m\n\u001b[0;32m      9\u001b[0m \u001b[0ms4\u001b[0m\u001b[1;33m=\u001b[0m\u001b[1;33m{\u001b[0m\u001b[1;33m}\u001b[0m\u001b[1;33m\u001b[0m\u001b[1;33m\u001b[0m\u001b[0m\n\u001b[1;32m---> 10\u001b[1;33m \u001b[0ms4\u001b[0m\u001b[1;33m.\u001b[0m\u001b[0mupdate\u001b[0m\u001b[1;33m(\u001b[0m\u001b[0ms1\u001b[0m\u001b[1;33m)\u001b[0m\u001b[1;33m\u001b[0m\u001b[1;33m\u001b[0m\u001b[0m\n\u001b[0m\u001b[0;32m     11\u001b[0m \u001b[0mprint\u001b[0m\u001b[1;33m(\u001b[0m\u001b[0ms4\u001b[0m\u001b[1;33m)\u001b[0m\u001b[1;33m\u001b[0m\u001b[1;33m\u001b[0m\u001b[0m\n",
      "\u001b[1;31mTypeError\u001b[0m: cannot convert dictionary update sequence element #0 to a sequence"
     ]
    }
   ],
   "source": [
    "#copy set\n",
    "s1={1,2};print(s1)\n",
    "#1:\n",
    "s2=set(s1);print(s2)\n",
    "#2:\n",
    "s3=s1.copy();print(s3)\n",
    "#3:\n",
    "#update/combine: update()\n",
    "s4.update(s1)\n",
    "print(s4)\n"
   ]
  },
  {
   "cell_type": "code",
   "execution_count": 65,
   "metadata": {},
   "outputs": [
    {
     "name": "stdout",
     "output_type": "stream",
     "text": [
      "{3,\n",
      "4}\n",
      "{3,\n",
      "4,\n",
      "5}\n"
     ]
    }
   ],
   "source": [
    "s2={3,4}\n",
    "#add: add()\n",
    "s2.add(3); print(s2) # the same\n",
    "s2.add(5); print(s2)"
   ]
  },
  {
   "cell_type": "code",
   "execution_count": 56,
   "metadata": {},
   "outputs": [
    {
     "name": "stdout",
     "output_type": "stream",
     "text": [
      "{'Black',\n",
      "'Yellow'}\n"
     ]
    }
   ],
   "source": [
    "set1 = {\"Yellow\",\"Orange\",\"Black\"}\n",
    "set2 = {\"Orange\",\"Blue\",\"Pink\"}\n",
    "\n",
    "set1.difference_update(set2)\n",
    "print(set1)"
   ]
  },
  {
   "cell_type": "code",
   "execution_count": 64,
   "metadata": {},
   "outputs": [
    {
     "name": "stdout",
     "output_type": "stream",
     "text": [
      "{'Orange',\n",
      "'Black',\n",
      "'Yellow'}\n",
      "{'Orange',\n",
      "'Yellow'}\n",
      "{'Yellow'}\n"
     ]
    },
    {
     "ename": "TypeError",
     "evalue": "'set' object does not support item deletion",
     "output_type": "error",
     "traceback": [
      "\u001b[1;31m---------------------------------------------------------------------------\u001b[0m",
      "\u001b[1;31mTypeError\u001b[0m                                 Traceback (most recent call last)",
      "\u001b[1;32m<ipython-input-64-351ddadd51ff>\u001b[0m in \u001b[0;36m<module>\u001b[1;34m\u001b[0m\n\u001b[0;32m      7\u001b[0m \u001b[0msampleSet\u001b[0m\u001b[1;33m.\u001b[0m\u001b[0mpop\u001b[0m\u001b[1;33m(\u001b[0m\u001b[1;33m)\u001b[0m\u001b[1;33m;\u001b[0m\u001b[0mprint\u001b[0m\u001b[1;33m(\u001b[0m\u001b[0msampleSet\u001b[0m\u001b[1;33m)\u001b[0m\u001b[1;33m\u001b[0m\u001b[1;33m\u001b[0m\u001b[0m\n\u001b[0;32m      8\u001b[0m \u001b[1;31m#3:\u001b[0m\u001b[1;33m\u001b[0m\u001b[1;33m\u001b[0m\u001b[1;33m\u001b[0m\u001b[0m\n\u001b[1;32m----> 9\u001b[1;33m \u001b[1;32mdel\u001b[0m \u001b[0msampleSet\u001b[0m\u001b[1;33m[\u001b[0m\u001b[1;34m'Yellow'\u001b[0m\u001b[1;33m]\u001b[0m\u001b[1;33m;\u001b[0m\u001b[0mprint\u001b[0m\u001b[1;33m(\u001b[0m\u001b[0msampleSet\u001b[0m\u001b[1;33m)\u001b[0m\u001b[1;33m\u001b[0m\u001b[1;33m\u001b[0m\u001b[0m\n\u001b[0m",
      "\u001b[1;31mTypeError\u001b[0m: 'set' object does not support item deletion"
     ]
    }
   ],
   "source": [
    "#delete: \n",
    "sampleSet = {\"Yellow\",\"Orange\",\"Black\"}\n",
    "#1: discard()\n",
    "sampleSet.discard(\"Blue\");print(sampleSet)\n",
    "sampleSet.discard(\"Black\");print(sampleSet)\n",
    "#2: pop(): remove the last element\n",
    "sampleSet.pop();print(sampleSet)\n"
   ]
  },
  {
   "cell_type": "markdown",
   "metadata": {},
   "source": [
    "# 6. tuple\n",
    "tuple is unchangeable. You can't change tuple namely remove/add/update items\n",
    "tuple is ordered. Position of elements are ordered as definition\n",
    "tuple is immutable. "
   ]
  },
  {
   "cell_type": "markdown",
   "metadata": {},
   "source": [
    "## 6.1 define tuple"
   ]
  },
  {
   "cell_type": "code",
   "execution_count": 94,
   "metadata": {},
   "outputs": [
    {
     "name": "stdout",
     "output_type": "stream",
     "text": [
      "(1,\n",
      "2)\n",
      "(1,\n",
      "2)\n",
      "(1,\n",
      "2)\n",
      "(1,\n",
      "2)\n"
     ]
    }
   ],
   "source": [
    "#the below are equal\n",
    "#1\n",
    "t=(1,2);print(t)\n",
    "t=(1,2,);print(t)\n",
    "#2\n",
    "t=tuple([1,2]);print(t)\n",
    "#3\n",
    "t = 1,2;print(t)"
   ]
  },
  {
   "cell_type": "code",
   "execution_count": 101,
   "metadata": {},
   "outputs": [
    {
     "name": "stdout",
     "output_type": "stream",
     "text": [
      "<class 'tuple'>\n",
      "<class 'int'>\n",
      "<class 'str'>\n"
     ]
    }
   ],
   "source": [
    "#Note: when defining a tuple with single item,\n",
    "the item must be followed by a comma.\n",
    "s1=(3,);print(type(s1))\n",
    "s2=(3);print(type(s2))\n",
    "s3=('3');print(type(s3))"
   ]
  },
  {
   "cell_type": "markdown",
   "metadata": {},
   "source": [
    "## 6.2 index and slice"
   ]
  },
  {
   "cell_type": "code",
   "execution_count": 99,
   "metadata": {},
   "outputs": [
    {
     "name": "stdout",
     "output_type": "stream",
     "text": [
      "1\n"
     ]
    }
   ],
   "source": [
    "t=(1,2)\n",
    "print(t[0])"
   ]
  },
  {
   "cell_type": "code",
   "execution_count": 97,
   "metadata": {},
   "outputs": [
    {
     "ename": "TypeError",
     "evalue": "'tuple' object does not support item assignment",
     "output_type": "error",
     "traceback": [
      "\u001b[1;31m---------------------------------------------------------------------------\u001b[0m",
      "\u001b[1;31mTypeError\u001b[0m                                 Traceback (most recent call last)",
      "\u001b[1;32m<ipython-input-97-8cdde268a690>\u001b[0m in \u001b[0;36m<module>\u001b[1;34m\u001b[0m\n\u001b[0;32m      1\u001b[0m \u001b[1;31m#raise error\u001b[0m\u001b[1;33m\u001b[0m\u001b[1;33m\u001b[0m\u001b[1;33m\u001b[0m\u001b[0m\n\u001b[0;32m      2\u001b[0m \u001b[0mt\u001b[0m\u001b[1;33m=\u001b[0m\u001b[1;36m1\u001b[0m\u001b[1;33m,\u001b[0m\u001b[1;36m23\u001b[0m\u001b[1;33m\u001b[0m\u001b[1;33m\u001b[0m\u001b[0m\n\u001b[1;32m----> 3\u001b[1;33m \u001b[0mt\u001b[0m\u001b[1;33m[\u001b[0m\u001b[1;36m0\u001b[0m\u001b[1;33m]\u001b[0m\u001b[1;33m=\u001b[0m\u001b[1;36m3\u001b[0m\u001b[1;33m\u001b[0m\u001b[1;33m\u001b[0m\u001b[0m\n\u001b[0m\u001b[0;32m      4\u001b[0m \u001b[0mprint\u001b[0m\u001b[1;33m(\u001b[0m\u001b[0mt\u001b[0m\u001b[1;33m)\u001b[0m\u001b[1;33m\u001b[0m\u001b[1;33m\u001b[0m\u001b[0m\n",
      "\u001b[1;31mTypeError\u001b[0m: 'tuple' object does not support item assignment"
     ]
    }
   ],
   "source": [
    "#raise error\n",
    "t=1,23\n",
    "t[0]=3\n",
    "print(t)"
   ]
  },
  {
   "cell_type": "markdown",
   "metadata": {},
   "source": [
    "# 7. compare various data type\n",
    "put all similar pythn syntax on various data type together. It is helpful for memorization"
   ]
  },
  {
   "cell_type": "markdown",
   "metadata": {},
   "source": [
    "## 7.1define"
   ]
  },
  {
   "cell_type": "code",
   "execution_count": 119,
   "metadata": {},
   "outputs": [
    {
     "name": "stdout",
     "output_type": "stream",
     "text": [
      "45\n",
      "0.57\n",
      "a\n",
      "['a',\n",
      "1]\n",
      "{'a'}\n",
      "a\n",
      "{'a': 3,\n",
      "'d': 3}\n"
     ]
    }
   ],
   "source": [
    "#define\n",
    "s=45;print(s)\n",
    "s=.5700;print(s)\n",
    "s='a';print(s)\n",
    "s=['a',1];print(s)\n",
    "s={'a'};print(s)\n",
    "s=('a');print(s)\n",
    "s={'a':3,'d':3};print(s)"
   ]
  },
  {
   "cell_type": "code",
   "execution_count": 121,
   "metadata": {},
   "outputs": [
    {
     "name": "stdout",
     "output_type": "stream",
     "text": [
      "45\n",
      "0.57\n",
      "a\n",
      "['a',\n",
      "1]\n",
      "{1,\n",
      "'a'}\n",
      "('a',\n",
      "1)\n",
      "{'a': 'a',\n",
      "1: 1}\n"
     ]
    }
   ],
   "source": [
    "#define using function\n",
    "s=int(45);print(s)\n",
    "s=float(.5700);print(s)\n",
    "s=str('a');print(s)\n",
    "\n",
    "#\n",
    "a=['a',1]\n",
    "s=list(a);print(s)\n",
    "s=set(a);print(s)\n",
    "s=tuple(a);print(s)\n",
    "s=dict(zip(a,a));print(s)"
   ]
  },
  {
   "cell_type": "markdown",
   "metadata": {},
   "source": [
    "## 7.2 index or slice\n",
    "string,\n",
    "list,\n",
    "tuple could be indexed\n",
    "set can't be indexed. dictionary has not index"
   ]
  },
  {
   "cell_type": "code",
   "execution_count": 118,
   "metadata": {},
   "outputs": [
    {
     "name": "stdout",
     "output_type": "stream",
     "text": [
      "d\n",
      "4\n",
      "4\n"
     ]
    }
   ],
   "source": [
    "#index\n",
    "s='abcdef'; print(s[3])\n",
    "s=[1,4,6];print(s[1])\n",
    "s=(1,4,6);print(s[1])"
   ]
  },
  {
   "cell_type": "code",
   "execution_count": 122,
   "metadata": {},
   "outputs": [
    {
     "name": "stdout",
     "output_type": "stream",
     "text": [
      "bc\n",
      "[1,\n",
      "4]\n",
      "(6,\n",
      "10,\n",
      "8)\n"
     ]
    }
   ],
   "source": [
    "#slice\n",
    "s='abcdef'; print(s[1:3])\n",
    "s=[1,4,6,9,3];print(s[:2])\n",
    "s=(1,4,6,10,8);print(s[2:])"
   ]
  },
  {
   "cell_type": "code",
   "execution_count": 123,
   "metadata": {},
   "outputs": [
    {
     "name": "stdout",
     "output_type": "stream",
     "text": [
      "bdf\n",
      "[1]\n",
      "(4,)\n"
     ]
    }
   ],
   "source": [
    "#slice\n",
    "s='abcdef'; print(s[1::2])\n",
    "s=[1,4,6,9,3];print(s[:2:3])\n",
    "s=(1,4,6,10,8);print(s[1:2:2])"
   ]
  },
  {
   "cell_type": "code",
   "execution_count": 124,
   "metadata": {},
   "outputs": [
    {
     "name": "stdout",
     "output_type": "stream",
     "text": [
      "fedcba\n",
      "[6,\n",
      "4,\n",
      "1]\n",
      "(10,)\n"
     ]
    }
   ],
   "source": [
    "#slice\n",
    "s='abcdef'; print(s[::-1])\n",
    "s=[1,4,6,9,3];print(s[2::-1])\n",
    "s=(1,4,6,10,8);print(s[-2:-4:-2])"
   ]
  },
  {
   "cell_type": "markdown",
   "metadata": {},
   "source": [
    "## 7.3 operator: *,\n",
    "+\n",
    "string,\n",
    "list,\n",
    "and tuple support operate +. \n",
    "set and dictionary can't support + and *\n",
    "that only works between the same data type"
   ]
  },
  {
   "cell_type": "code",
   "execution_count": 128,
   "metadata": {},
   "outputs": [
    {
     "name": "stdout",
     "output_type": "stream",
     "text": [
      "abcdefa\n",
      "[1,\n",
      "4,\n",
      "6,\n",
      "9,\n",
      "3,\n",
      "6,\n",
      "7]\n",
      "(1,\n",
      "4,\n",
      "6,\n",
      "10,\n",
      "8,\n",
      "3)\n"
     ]
    }
   ],
   "source": [
    "# combine two same data type\n",
    "s='abcdef'+'a'; print(s)\n",
    "s=[1,4,6,9,3]+[6,7];print(s)\n",
    "s=(1,4,6,10,8)+(3,);print(s)"
   ]
  },
  {
   "cell_type": "code",
   "execution_count": 130,
   "metadata": {},
   "outputs": [
    {
     "name": "stdout",
     "output_type": "stream",
     "text": [
      "abcdefabcdefabcdef\n",
      "[1,\n",
      "4,\n",
      "6,\n",
      "9,\n",
      "3,\n",
      "1,\n",
      "4,\n",
      "6,\n",
      "9,\n",
      "3]\n",
      "(1,\n",
      "4,\n",
      "6,\n",
      "10,\n",
      "8,\n",
      "1,\n",
      "4,\n",
      "6,\n",
      "10,\n",
      "8,\n",
      "1,\n",
      "4,\n",
      "6,\n",
      "10,\n",
      "8,\n",
      "1,\n",
      "4,\n",
      "6,\n",
      "10,\n",
      "8)\n"
     ]
    }
   ],
   "source": [
    "# repeat values\n",
    "s='abcdef'*3; print(s)\n",
    "s=[1,4,6,9,3]*2;print(s)\n",
    "s=(1,4,6,10,8)*4;print(s)"
   ]
  },
  {
   "cell_type": "markdown",
   "metadata": {},
   "source": [
    "## 7.4 copy\n",
    "everythin is object in Python.\n",
    "An object is assigned to another object. The two shared the same address though their keywords are different.\n",
    "For string or dictionary,\n",
    "they use the same address if two strings or dictionaries are identical"
   ]
  },
  {
   "cell_type": "code",
   "execution_count": 141,
   "metadata": {},
   "outputs": [
    {
     "name": "stdout",
     "output_type": "stream",
     "text": [
      "47400960 47400960 47432576\n",
      "12238056 12246824 12238056\n",
      "11980216 12263912 11980216\n",
      "93197672 93141264 93197672\n",
      "93248240 11724832 93248240\n"
     ]
    }
   ],
   "source": [
    "s1='a';s2='a';s3=s1;s3='b';print(id(s1),id(s2),id(s3))\n",
    "s1=['a'];s2=['a'];s3=s1;print(id(s1),id(s2),id(s3))\n",
    "s1={'a'};s2={'a'};s3=s1;print(id(s1),id(s2),id(s3))\n",
    "s1=('a',);s2=('a',);s3=s1;print(id(s1),id(s2),id(s3))\n",
    "s1={'a':1};s2={'a':1};s3=s1;print(id(s1),id(s2),id(s3))"
   ]
  },
  {
   "cell_type": "code",
   "execution_count": 143,
   "metadata": {},
   "outputs": [
    {
     "name": "stdout",
     "output_type": "stream",
     "text": [
      "12246824 12259432\n",
      "11980216 12264360\n",
      "12208480 12331840\n",
      "47400960 47400960\n",
      "93220336 93220336\n"
     ]
    }
   ],
   "source": [
    "#do deepcopy using list(),set(),dict()\n",
    "s1=['a'];s2=list(s1);print(id(s1),id(s2))\n",
    "s1={'a'};s2=set(s2);print(id(s1),id(s2))\n",
    "s1={'a':1};s2=dict(s1);print(id(s1),id(s2))\n",
    "\n",
    "#but str() and tuple() don;t follow this rule\n",
    "s1='a';s2=str(s1);print(id(s1),id(s2))\n",
    "s1=('a',);s2=tuple(s1);print(id(s1),id(s2))"
   ]
  },
  {
   "cell_type": "markdown",
   "metadata": {},
   "source": [
    "## 7.5 mutable and immutable\n",
    "everything in Python is object,\n",
    "which could be either mutable or immutable. Mutable means the object could be changed after it is created. \n",
    "the function id() return address of a certain object. The adress of mutable object keeps the same.\n",
    "The built-in types such bool,\n",
    "int,\n",
    "float,\n",
    "complex,\n",
    "str,\n",
    "tuple,and frozen set are immutable.\n",
    "list,\n",
    "set,\n",
    "dictionary are mutable"
   ]
  },
  {
   "cell_type": "code",
   "execution_count": 45,
   "metadata": {},
   "outputs": [
    {
     "name": "stdout",
     "output_type": "stream",
     "text": [
      "python"
     ]
    }
   ],
   "source": [
    "#string is immutable\n",
    "s = 'python'\n",
    "for i in range(len(s)):\n",
    "    i = s[i].upper()\n",
    "print(s,\n",
    "end=\"\")"
   ]
  },
  {
   "cell_type": "code",
   "execution_count": 48,
   "metadata": {},
   "outputs": [
    {
     "name": "stdout",
     "output_type": "stream",
     "text": [
      "['p',\n",
      "'y',\n",
      "'t',\n",
      "'h',\n",
      "'o',\n",
      "'n']"
     ]
    }
   ],
   "source": [
    "s = list('python')\n",
    "for i in range(len(s)):\n",
    " i = s[i].upper()\n",
    "print(s,\n",
    "end=\"\")"
   ]
  },
  {
   "cell_type": "markdown",
   "metadata": {},
   "source": [
    "## 7.6 change object\n",
    "object: list,\n",
    "set,\n",
    "dictionary\n",
    "CRUD: create,\n",
    "update,\n",
    "delete,\n",
    "replace/add"
   ]
  },
  {
   "cell_type": "markdown",
   "metadata": {},
   "source": [
    "### add an element:"
   ]
  },
  {
   "cell_type": "code",
   "execution_count": 152,
   "metadata": {},
   "outputs": [
    {
     "name": "stdout",
     "output_type": "stream",
     "text": [
      "[1,\n",
      "2,\n",
      "3]\n",
      "[4,\n",
      "1,\n",
      "2,\n",
      "3]\n",
      "{1,\n",
      "2,\n",
      "3}\n",
      "{'a': 1,\n",
      "'b': 2}\n"
     ]
    }
   ],
   "source": [
    "#list: append(),\n",
    "inert()\n",
    "s= [1,2]\n",
    "s.append(3);print(s)\n",
    "s.insert(0,4);print(s)\n",
    "\n",
    "#set: add()\n",
    "s={1,2}\n",
    "s.add(3);print(s)\n",
    "\n",
    "#dictionary: by key\n",
    "d={'a':1}\n",
    "d['b']=2;print(d)"
   ]
  },
  {
   "cell_type": "markdown",
   "metadata": {},
   "source": [
    "### remove an element:"
   ]
  },
  {
   "cell_type": "code",
   "execution_count": 148,
   "metadata": {},
   "outputs": [
    {
     "name": "stdout",
     "output_type": "stream",
     "text": [
      "[1,\n",
      "2,\n",
      "400,\n",
      "3,\n",
      "4,\n",
      "12]\n",
      "[1,\n",
      "400,\n",
      "3,\n",
      "4,\n",
      "12]\n",
      "[400,\n",
      "3,\n",
      "4,\n",
      "12]\n",
      "[3,\n",
      "4,\n",
      "12]\n"
     ]
    }
   ],
   "source": [
    "#list:pop(),\n",
    "del,\n",
    "remove()\n",
    "s=[1,2,400,3,4,12,45]\n",
    "s.pop();print(s) #delete the last one\n",
    "s.pop(1);print(s) #delete the one by index\n",
    "del s[0];print(s) #delete the one by index\n",
    "s.remove(400);print(s)  #delete the one by value"
   ]
  },
  {
   "cell_type": "code",
   "execution_count": 154,
   "metadata": {},
   "outputs": [
    {
     "name": "stdout",
     "output_type": "stream",
     "text": [
      "{1,\n",
      "2}\n"
     ]
    }
   ],
   "source": [
    "#set:remove()\n",
    "s={1,2,3}\n",
    "s.remove(3);print(s) #delete by value"
   ]
  },
  {
   "cell_type": "code",
   "execution_count": 155,
   "metadata": {},
   "outputs": [
    {
     "name": "stdout",
     "output_type": "stream",
     "text": [
      "{'b': 45}\n"
     ]
    }
   ],
   "source": [
    "#dictionary: del\n",
    "s={'a':3,\n",
    "'b':45}\n",
    "del s['a'];print(s)"
   ]
  },
  {
   "cell_type": "markdown",
   "metadata": {},
   "source": [
    "### update element\n",
    "can't update elements of set and tuple#"
   ]
  },
  {
   "cell_type": "code",
   "execution_count": 156,
   "metadata": {},
   "outputs": [
    {
     "name": "stdout",
     "output_type": "stream",
     "text": [
      "[4,\n",
      "2,\n",
      "3]\n"
     ]
    },
    {
     "ename": "IndexError",
     "evalue": "list assignment index out of range",
     "output_type": "error",
     "traceback": [
      "\u001b[1;31m---------------------------------------------------------------------------\u001b[0m",
      "\u001b[1;31mIndexError\u001b[0m                                Traceback (most recent call last)",
      "\u001b[1;32m<ipython-input-156-fea41f4f07ad>\u001b[0m in \u001b[0;36m<module>\u001b[1;34m\u001b[0m\n\u001b[0;32m      3\u001b[0m \u001b[0ma\u001b[0m\u001b[1;33m[\u001b[0m\u001b[1;36m0\u001b[0m\u001b[1;33m]\u001b[0m\u001b[1;33m=\u001b[0m\u001b[1;36m4\u001b[0m\u001b[1;33m;\u001b[0m\u001b[0mprint\u001b[0m\u001b[1;33m(\u001b[0m\u001b[0ma\u001b[0m\u001b[1;33m)\u001b[0m\u001b[1;33m\u001b[0m\u001b[1;33m\u001b[0m\u001b[0m\n\u001b[0;32m      4\u001b[0m \u001b[1;31m#error: out of index range\u001b[0m\u001b[1;33m\u001b[0m\u001b[1;33m\u001b[0m\u001b[1;33m\u001b[0m\u001b[0m\n\u001b[1;32m----> 5\u001b[1;33m \u001b[0ma\u001b[0m\u001b[1;33m[\u001b[0m\u001b[1;36m10\u001b[0m\u001b[1;33m]\u001b[0m\u001b[1;33m=\u001b[0m\u001b[1;36m4\u001b[0m\u001b[1;33m\u001b[0m\u001b[1;33m\u001b[0m\u001b[0m\n\u001b[0m",
      "\u001b[1;31mIndexError\u001b[0m: list assignment index out of range"
     ]
    }
   ],
   "source": [
    "#list:\n",
    "a=[1,2,3]\n",
    "a[0]=4;print(a)\n",
    "#error: out of index range\n",
    "a[10]=4"
   ]
  },
  {
   "cell_type": "code",
   "execution_count": 3,
   "metadata": {},
   "outputs": [
    {
     "name": "stdout",
     "output_type": "stream",
     "text": [
      "{'a': 5}\n",
      "{'a': 5,\n",
      "'b': 3,\n",
      "'c': 6}\n"
     ]
    }
   ],
   "source": [
    "#dictionary: update()\n",
    "a={'a':3}\n",
    "a['a']=5;print(a)\n",
    "a.update({'b':3,'c':6});print(a)"
   ]
  },
  {
   "cell_type": "markdown",
   "metadata": {},
   "source": [
    "### clear all elements\n",
    "clear() work for list,\n",
    "dictionary,\n",
    "and set"
   ]
  },
  {
   "cell_type": "code",
   "execution_count": 10,
   "metadata": {},
   "outputs": [
    {
     "name": "stdout",
     "output_type": "stream",
     "text": [
      "set()\n",
      "set()\n"
     ]
    }
   ],
   "source": [
    "#set:\n",
    "a={12,3}\n",
    "#1:\n",
    "a=set();print(a)\n",
    "#2: clear()\n",
    "a.clear();print(a)"
   ]
  },
  {
   "cell_type": "code",
   "execution_count": 12,
   "metadata": {},
   "outputs": [
    {
     "name": "stdout",
     "output_type": "stream",
     "text": [
      "()\n"
     ]
    }
   ],
   "source": [
    "#tuple:\n",
    "a=(12,3)\n",
    "a=();print(a)"
   ]
  },
  {
   "cell_type": "code",
   "execution_count": 113,
   "metadata": {},
   "outputs": [
    {
     "name": "stdout",
     "output_type": "stream",
     "text": [
      "[]\n",
      "[]\n",
      "[]\n"
     ]
    }
   ],
   "source": [
    "#list:\n",
    "a=[12,3]\n",
    "#1:\n",
    "a=[];print(a)\n",
    "#2: clear()\n",
    "a.clear();print(a)\n",
    "#3: del\n",
    "del a[:];print(a)"
   ]
  },
  {
   "cell_type": "code",
   "execution_count": 6,
   "metadata": {},
   "outputs": [
    {
     "name": "stdout",
     "output_type": "stream",
     "text": [
      "{}\n",
      "{}\n"
     ]
    }
   ],
   "source": [
    "#dictionary\n",
    "a={'a':3}\n",
    "#1\n",
    "a={}; print(a)\n",
    "#2:\n",
    "a.clear();print(a)"
   ]
  },
  {
   "cell_type": "markdown",
   "metadata": {},
   "source": [
    "### delete object\n",
    "delete string,\n",
    "dictionary,\n",
    "list,\n",
    "set,\n",
    "and tuple using del"
   ]
  },
  {
   "cell_type": "code",
   "execution_count": 112,
   "metadata": {},
   "outputs": [],
   "source": [
    "s='asd';del s\n",
    "s={'a':3}; del s\n",
    "s=['asd'];del s\n",
    "s={'a':'sd'};del s\n",
    "s=(1,2);del s"
   ]
  },
  {
   "cell_type": "markdown",
   "metadata": {},
   "source": [
    "### any()\n",
    "used for list() or tuple()\n",
    "return false if all elements could be '',\n",
    "0,\n",
    "or false."
   ]
  },
  {
   "cell_type": "code",
   "execution_count": 77,
   "metadata": {},
   "outputs": [
    {
     "name": "stdout",
     "output_type": "stream",
     "text": [
      "True\n",
      "True\n",
      "False\n",
      "False\n"
     ]
    }
   ],
   "source": [
    "# at least one element is none of '',\n",
    "0 or false\n",
    "print(any([1,'a',0]))\n",
    "print(any((1,'a',False)))\n",
    "\n",
    "#\n",
    "print(any([False,'',0]))\n",
    "print(any((False,'',0)))"
   ]
  },
  {
   "cell_type": "markdown",
   "metadata": {},
   "source": [
    "# 8. stack\n",
    "add or deletion happens at one end."
   ]
  },
  {
   "cell_type": "code",
   "execution_count": null,
   "metadata": {},
   "outputs": [],
   "source": []
  },
  {
   "cell_type": "code",
   "execution_count": null,
   "metadata": {},
   "outputs": [],
   "source": []
  },
  {
   "cell_type": "code",
   "execution_count": null,
   "metadata": {},
   "outputs": [],
   "source": []
  }
 ],
 "metadata": {
  "kernelspec": {
   "display_name": "Python 3",
   "language": "python",
   "name": "python3"
  },
  "language_info": {
   "codemirror_mode": {
    "name": "ipython",
    "version": 3
   },
   "file_extension": ".py",
   "mimetype": "text/x-python",
   "name": "python",
   "nbconvert_exporter": "python",
   "pygments_lexer": "ipython3",
   "version": "3.8.5"
  }
 },
 "nbformat": 4,
 "nbformat_minor": 4
}

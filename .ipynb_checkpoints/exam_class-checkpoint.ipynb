{
 "cells": [
  {
   "cell_type": "markdown",
   "metadata": {},
   "source": [
    "# class"
   ]
  },
  {
   "cell_type": "markdown",
   "metadata": {},
   "source": [
    "## 1. built-in attributes"
   ]
  },
  {
   "cell_type": "markdown",
   "metadata": {},
   "source": [
    "## \\_\\_init\\_\\_\n",
    "1. \\_\\_init\\_\\_ is like constructor in C++ or Java. It could initialize a class when a class is created\n",
    "2. double leading underscores means this is a special method in python,\n",
    "which is automaticall called when an object of the class is created. \n",
    "3. \\_\\_init\\_\\_ is optional. It should be created if it is n't clearly defined.\n",
    "4. \\_\\_init\\_\\_ has not return value"
   ]
  },
  {
   "cell_type": "code",
   "execution_count": 44,
   "metadata": {},
   "outputs": [
    {
     "name": "stdout",
     "output_type": "stream",
     "text": [
      "10\n",
      "20\n"
     ]
    }
   ],
   "source": [
    "class A:\n",
    "    def __init__(self,start):\n",
    "        self.start = start\n",
    "        print(self.start)\n",
    "        \n",
    "    def get_total(self):\n",
    "        return self.start*10\n",
    "\n",
    "#instance a class\n",
    "s1=A(10)\n",
    "s2=A(20)"
   ]
  },
  {
   "cell_type": "code",
   "execution_count": 54,
   "metadata": {},
   "outputs": [
    {
     "name": "stdout",
     "output_type": "stream",
     "text": [
      "True\n",
      "True\n",
      "True\n"
     ]
    }
   ],
   "source": [
    "class A:\n",
    "    pass\n",
    "class B(A):\n",
    "    pass\n",
    "\n",
    "# instance\n",
    "a1=A()\n",
    "a2=B()\n",
    "print(isinstance(a1,A))\n",
    "print(isinstance(a2,A))\n",
    "print(isinstance(a2,B))"
   ]
  },
  {
   "cell_type": "markdown",
   "metadata": {},
   "source": [
    "### \\_\\_name\\_\\_\n",
    "built-in variable defines the name of current script/module\n",
    "When a python script is executed,\n",
    "all codes will be executed from the top to end if there is not main(). __name__ define the entrance of a python script. As showed the code below,\n",
    "the main() will be executed. If the script is imported as a module,\n",
    "the main() will not be executed,\n",
    "but be imported as the module'name."
   ]
  },
  {
   "cell_type": "markdown",
   "metadata": {},
   "source": [
    "'''\n",
    "The script define entrance of a script\n",
    "'''\n",
    "#define a constant\n",
    "ABC = 32\n",
    "\n",
    "#define a function\n",
    "def main():\n",
    "    print(__name__)\n",
    "    return ABC\n",
    "\n",
    "if __name__ == \"__main__\":\n",
    "    main()"
   ]
  },
  {
   "cell_type": "markdown",
   "metadata": {},
   "source": [
    "### \\_\\_str\\_\\_\n",
    "convert python object to string type. \n",
    "compare the two approach showed the below:"
   ]
  },
  {
   "cell_type": "code",
   "execution_count": 12,
   "metadata": {},
   "outputs": [
    {
     "name": "stdout",
     "output_type": "stream",
     "text": [
      "<__main__.MyTest object at 0x05D19F88>\n",
      "__main__\n",
      "None\n"
     ]
    }
   ],
   "source": [
    "class MyTest():\n",
    "    def __init__(self,a,b):\n",
    "        self.a=a\n",
    "        self.b=b\n",
    "if __name__ == \"__main__\":\n",
    "    s=MyTest(3,4)\n",
    "    print(s)\n",
    "    print(s.__module__)\n",
    "    print(s.__doc__)\n"
   ]
  },
  {
   "cell_type": "code",
   "execution_count": 5,
   "metadata": {},
   "outputs": [
    {
     "name": "stdout",
     "output_type": "stream",
     "text": [
      "Input is 3 and 4.\n"
     ]
    }
   ],
   "source": [
    "#if the method __str__() is defined, print() could be used for displaying object.\n",
    "class MyTest():\n",
    "    def __init__(self,a,b):\n",
    "        self.a=a\n",
    "        self.b=b\n",
    "    \n",
    "    def __str__(self):\n",
    "        return f\"Input is {self.a} and {self.b}.\"\n",
    "\n",
    "if __name__ == \"__main__\":\n",
    "    s=MyTest(3,4)\n",
    "    print(s)\n"
   ]
  },
  {
   "cell_type": "markdown",
   "metadata": {},
   "source": [
    "### \\_\\_bases\\_\\_\n",
    "\\_\\_bases\\_\\_ is a tuple filled with the names of all the direct superclasses"
   ]
  },
  {
   "cell_type": "code",
   "execution_count": 27,
   "metadata": {},
   "outputs": [
    {
     "name": "stdout",
     "output_type": "stream",
     "text": [
      "(<class '__main__.A'>,\n",
      "<class '__main__.B'>)\n"
     ]
    }
   ],
   "source": [
    "class A:\n",
    "    pass\n",
    "\n",
    "class B:\n",
    "    pass\n",
    "\n",
    "class C(A,B):\n",
    "    pass\n",
    "\n",
    "print(C.__bases__)"
   ]
  },
  {
   "cell_type": "markdown",
   "metadata": {},
   "source": [
    "### __dict__\n",
    "__dict__ stores all attributes defined in class"
   ]
  },
  {
   "cell_type": "code",
   "execution_count": 9,
   "metadata": {},
   "outputs": [
    {
     "name": "stdout",
     "output_type": "stream",
     "text": [
      "{'a': 3}\n",
      "{'a': 3, 'var': {'b': 3}}\n"
     ]
    }
   ],
   "source": [
    "class A:\n",
    "    cache = {}\n",
    "    var = {'b':1}\n",
    "    \n",
    "    def __init__(self, a):\n",
    "        self.a=a\n",
    "        \n",
    "if __name__ ==\"__main__\":\n",
    "    s=A(3)\n",
    "    #store self.xxx\n",
    "    print(s.__dict__)\n",
    "    \n",
    "    s.var={'b':3}\n",
    "    print(s.__dict__)"
   ]
  },
  {
   "cell_type": "code",
   "execution_count": 16,
   "metadata": {},
   "outputs": [
    {
     "name": "stdout",
     "output_type": "stream",
     "text": [
      "No evs\n",
      "{'b': 1}\n",
      "{'__module__': '__main__', 'cache': {'c': 4}, 'var': {'b': 1}, '__init__': <function A.__init__ at 0x00CA69B8>, '__dict__': <attribute '__dict__' of 'A' objects>, '__weakref__': <attribute '__weakref__' of 'A' objects>, '__doc__': None}\n"
     ]
    }
   ],
   "source": [
    "class A:\n",
    "    cache = {}\n",
    "    var = {'b':1}\n",
    "    \n",
    "    def __init__(self, a):\n",
    "        self.a=a\n",
    "\n",
    "#check if attribute exists\n",
    "if not hasattr(A, \"evs\"):\n",
    "    print('No evs')\n",
    "#get a certain attribute\n",
    "print(getattr(A, 'var'))\n",
    "#create/update attributes\n",
    "setattr(A, 'cache', {'c':4})\n",
    "#get all attributes\n",
    "print(A.__dict__)"
   ]
  },
  {
   "cell_type": "markdown",
   "metadata": {},
   "source": [
    "### pyc file\n",
    ".py file represent a python script. .pyc file is created by python intepreter when that .py file is imported or executed. .pyc file consist of 'complied bytecode',\n",
    "which is translated from the source code."
   ]
  },
  {
   "cell_type": "markdown",
   "metadata": {},
   "source": [
    "### __init__.py\n",
    "__init__.py is define in any directory where stores python scripts. \n",
    "The file simplify the process of importing python modules. \n",
    "Mostly,\n",
    "there is empty of __init__.py. Sometimes,\n",
    "the file consist of initial codes namely namespace of python modules in this directory.\n",
    "\n",
    "src/\n",
    "    __init__.py\n",
    "    primary/\n",
    "        __init__.py\n",
    "        file1.py\n",
    "        file2.py\n",
    "    second/\n",
    "        __init__.py\n",
    "        file3.py\n",
    "        file4"
   ]
  },
  {
   "cell_type": "code",
   "execution_count": null,
   "metadata": {},
   "outputs": [],
   "source": [
    "#common pattern\n",
    "import src.primary.file1\n",
    "from src.second.file3 import get_data\n",
    "import src.primary.file2 as file2\n"
   ]
  },
  {
   "cell_type": "code",
   "execution_count": null,
   "metadata": {},
   "outputs": [],
   "source": [
    "#add the two statements in the file src.primary.__init__.py\n",
    "from . import file1.py\n",
    "from . import file.py\n",
    "\n",
    "#simplify the import process\n",
    "import src.primary"
   ]
  },
  {
   "cell_type": "markdown",
   "metadata": {},
   "source": [
    "### hashbang\n",
    " in Unix-like system,\n",
    "the '#!' showes that the file is a script. The path after #! specifies the path of the interpreter. when executing a script with #!,\n",
    "the intepreter could be optional:\n",
    " $ pythn test_python.py\n",
    " $ test_python.py"
   ]
  },
  {
   "cell_type": "code",
   "execution_count": null,
   "metadata": {},
   "outputs": [],
   "source": [
    "#!/usr/bin/python\n",
    "...."
   ]
  },
  {
   "cell_type": "markdown",
   "metadata": {},
   "source": [
    "## 2. define a class"
   ]
  },
  {
   "cell_type": "code",
   "execution_count": 5,
   "metadata": {},
   "outputs": [
    {
     "name": "stdout",
     "output_type": "stream",
     "text": [
      "129.1500\n",
      "126.0750\n"
     ]
    }
   ],
   "source": [
    "#Here is an example class on definition and calling\n",
    "class MyTest():\n",
    "    '''\n",
    "    define test class\n",
    "    '''\n",
    "    def __init__(self,start):\n",
    "        self.start=start\n",
    "        \n",
    "    def get_total(self,interest):\n",
    "        '''\n",
    "        calculate total\n",
    "        '''\n",
    "        total = self.start*(1+interest)\n",
    "        return \"{:.4f}\".format(total)\n",
    "    \n",
    "if __name__ == \"__main__\":\n",
    "    my=MyTest(123)\n",
    "    print(my.get_total(0.05))\n",
    "    print(my.get_total(0.025))"
   ]
  },
  {
   "cell_type": "code",
   "execution_count": 40,
   "metadata": {},
   "outputs": [],
   "source": [
    "# the simplest definition\n",
    "class MyTest:\n",
    "    pass\n",
    "\n",
    "class MyTest2:\n",
    "    TAG=True"
   ]
  },
  {
   "cell_type": "markdown",
   "metadata": {},
   "source": [
    "## 3. inheritance\n",
    "1. inheritance means passing attributes and methods from a superclass to a subclass.\n",
    "2. mutiple inheritance means that a class has more than one superclass\n",
    "3. polymorphism is the istuation in which as subclass is able to modify its superclass behavior"
   ]
  },
  {
   "cell_type": "code",
   "execution_count": 42,
   "metadata": {},
   "outputs": [
    {
     "name": "stdout",
     "output_type": "stream",
     "text": [
      "B"
     ]
    }
   ],
   "source": [
    "class A: \n",
    "    def a(self):\n",
    "        print(\"A\",\n",
    "end='')\n",
    "    def b(self):\n",
    "        self.a()\n",
    "        \n",
    "class B(A): \n",
    "    def a(self):\n",
    "        print(\"B\",\n",
    "end='')\n",
    "    def do(self):\n",
    "        self.b()\n",
    "\n",
    "B().do()"
   ]
  },
  {
   "cell_type": "code",
   "execution_count": 6,
   "metadata": {},
   "outputs": [
    {
     "name": "stdout",
     "output_type": "stream",
     "text": [
      "129.1500\n",
      "126.0750\n"
     ]
    }
   ],
   "source": [
    "class PrepareData:\n",
    "    '''\n",
    "    check data format\n",
    "    '''\n",
    "    def check_interest(self,\n",
    "interest):\n",
    "        interest = abs(interest)\n",
    "        if interest >=10:\n",
    "            interest /= 100\n",
    "        return interest\n",
    "\n",
    "class MyTest(PrepareData):\n",
    "    '''\n",
    "    define test class\n",
    "    '''\n",
    "    def __init__(self,\n",
    "start):\n",
    "        self.start=start\n",
    "        \n",
    "    def get_total(self,\n",
    "interest):\n",
    "        '''\n",
    "        calculate total\n",
    "        '''\n",
    "        interest = self.check_interest(interest)\n",
    "        total = self.start*(1+interest)\n",
    "        return \"{:.4f}\".format(total)\n",
    "    \n",
    "if __name__ == \"__main__\":\n",
    "    my=MyTest(123)\n",
    "    print(my.get_total(0.05))\n",
    "    print(my.get_total(0.025))"
   ]
  },
  {
   "cell_type": "code",
   "execution_count": 26,
   "metadata": {},
   "outputs": [
    {
     "name": "stdout",
     "output_type": "stream",
     "text": [
      "True\n"
     ]
    },
    {
     "ename": "TypeError",
     "evalue": "__init__() takes 3 positional arguments but 4 were given",
     "output_type": "error",
     "traceback": [
      "\u001b[1;31m---------------------------------------------------------------------------\u001b[0m",
      "\u001b[1;31mTypeError\u001b[0m                                 Traceback (most recent call last)",
      "\u001b[1;32m<ipython-input-26-aba715259a2f>\u001b[0m in \u001b[0;36m<module>\u001b[1;34m\u001b[0m\n\u001b[0;32m     39\u001b[0m \u001b[1;33m\u001b[0m\u001b[0m\n\u001b[0;32m     40\u001b[0m     \u001b[1;31m#inheritance\u001b[0m\u001b[1;33m\u001b[0m\u001b[1;33m\u001b[0m\u001b[1;33m\u001b[0m\u001b[0m\n\u001b[1;32m---> 41\u001b[1;33m     \u001b[0mprint\u001b[0m\u001b[1;33m(\u001b[0m\u001b[0msquare\u001b[0m\u001b[1;33m(\u001b[0m\u001b[1;36m20\u001b[0m\u001b[1;33m)\u001b[0m\u001b[1;33m.\u001b[0m\u001b[0marea\u001b[0m\u001b[1;33m(\u001b[0m\u001b[1;33m)\u001b[0m\u001b[1;33m)\u001b[0m \u001b[1;31m#area() inheritate from super class\u001b[0m\u001b[1;33m\u001b[0m\u001b[1;33m\u001b[0m\u001b[0m\n\u001b[0m\u001b[0;32m     42\u001b[0m     \u001b[0mprint\u001b[0m\u001b[1;33m(\u001b[0m\u001b[0msquare\u001b[0m\u001b[1;33m(\u001b[0m\u001b[1;36m20\u001b[0m\u001b[1;33m)\u001b[0m\u001b[1;33m.\u001b[0m\u001b[0mvolume\u001b[0m\u001b[1;33m(\u001b[0m\u001b[1;36m2\u001b[0m\u001b[1;33m)\u001b[0m\u001b[1;33m)\u001b[0m \u001b[1;31m#volume() inheritate from super class\u001b[0m\u001b[1;33m\u001b[0m\u001b[1;33m\u001b[0m\u001b[0m\n\u001b[0;32m     43\u001b[0m     \u001b[0mprint\u001b[0m\u001b[1;33m(\u001b[0m\u001b[0msquare\u001b[0m\u001b[1;33m(\u001b[0m\u001b[1;36m20\u001b[0m\u001b[1;33m)\u001b[0m\u001b[1;33m.\u001b[0m\u001b[0mhalf_volume\u001b[0m\u001b[1;33m(\u001b[0m\u001b[1;36m2\u001b[0m\u001b[1;33m)\u001b[0m\u001b[1;33m)\u001b[0m \u001b[1;31m# volume() in the method half_volume inheritate from super class\u001b[0m\u001b[1;33m\u001b[0m\u001b[1;33m\u001b[0m\u001b[0m\n",
      "\u001b[1;32m<ipython-input-26-aba715259a2f>\u001b[0m in \u001b[0;36m__init__\u001b[1;34m(self,\nlength)\u001b[0m\n\u001b[0;32m     25\u001b[0m     \u001b[1;32mdef\u001b[0m \u001b[0m__init__\u001b[0m\u001b[1;33m(\u001b[0m\u001b[0mself\u001b[0m\u001b[1;33m,\u001b[0m \u001b[0mlength\u001b[0m\u001b[1;33m)\u001b[0m\u001b[1;33m:\u001b[0m\u001b[1;33m\u001b[0m\u001b[1;33m\u001b[0m\u001b[0m\n\u001b[0;32m     26\u001b[0m         \u001b[0mself\u001b[0m\u001b[1;33m.\u001b[0m\u001b[0mlength\u001b[0m\u001b[1;33m=\u001b[0m\u001b[0mlength\u001b[0m\u001b[1;33m\u001b[0m\u001b[1;33m\u001b[0m\u001b[0m\n\u001b[1;32m---> 27\u001b[1;33m         \u001b[0msuper\u001b[0m\u001b[1;33m(\u001b[0m\u001b[1;33m)\u001b[0m\u001b[1;33m.\u001b[0m\u001b[0m__init__\u001b[0m\u001b[1;33m(\u001b[0m\u001b[0mlength\u001b[0m\u001b[1;33m,\u001b[0m \u001b[0mlength\u001b[0m\u001b[1;33m,\u001b[0m \u001b[1;34m'square'\u001b[0m\u001b[1;33m)\u001b[0m\u001b[1;33m\u001b[0m\u001b[1;33m\u001b[0m\u001b[0m\n\u001b[0m\u001b[0;32m     28\u001b[0m \u001b[1;33m\u001b[0m\u001b[0m\n\u001b[0;32m     29\u001b[0m     \u001b[1;32mdef\u001b[0m \u001b[0mhalf_volume\u001b[0m\u001b[1;33m(\u001b[0m\u001b[0mself\u001b[0m\u001b[1;33m,\u001b[0m \u001b[0mheight\u001b[0m\u001b[1;33m)\u001b[0m\u001b[1;33m:\u001b[0m\u001b[1;33m\u001b[0m\u001b[1;33m\u001b[0m\u001b[0m\n",
      "\u001b[1;31mTypeError\u001b[0m: __init__() takes 3 positional arguments but 4 were given"
     ]
    }
   ],
   "source": [
    "#superclass and subclass: call superclass in subclass for reuse code\n",
    "class export:\n",
    "    def __init__(self,shape):\n",
    "        self.shape=shape\n",
    "        \n",
    "    def print_area(self,area):\n",
    "        print(f\"Area of {self.shape} is {self.data}\")\n",
    "        \n",
    "class rectangle:\n",
    "    def __init__(self,length,width):\n",
    "        self.length=length\n",
    "        self.width=width\n",
    "        \n",
    "    def area(self):\n",
    "        return self.length*self.width\n",
    "    \n",
    "    def volume(self,height):\n",
    "        area = self.area()\n",
    "        return area*height\n",
    "    \n",
    "    def perimeter(self):\n",
    "        return 2*(self.length,self.width)\n",
    "    \n",
    "class square(rectangle,\n",
    "export):\n",
    "    def __init__(self,length):\n",
    "        self.length=length\n",
    "        super().__init__(length,length)\n",
    "        \n",
    "    def half_volume(self,\n",
    "height):\n",
    "        return self.volume(height)/2\n",
    "    \n",
    "    def parimeter(self):\n",
    "        print(\"polymorphism:\",end=' ')\n",
    "        return 4*self.length\n",
    "    \n",
    "if __name__ == \"__main__\":\n",
    "    #super class is rectangle, and sub class is square\n",
    "    print(issubclass(square,rectangle))\n",
    "\n",
    "    #inheritance\n",
    "    print(square(20).area()) #area() inheritate from super class \n",
    "    print(square(20).volume(2)) #volume() inheritate from super class \n",
    "    print(square(20).half_volume(2)) # volume() in the method half_volume inheritate from super class\n",
    "    \n",
    "    #polymophism\n",
    "    print(square(20).parimeter()) #polymorphism: parimeter() in subclass override the method in super class\n",
    "    \n",
    "    #\n",
    "    #s = square(20)\n",
    "    #area1 = s.area()\n",
    "    #s('square').print_area(area1)"
   ]
  },
  {
   "cell_type": "markdown",
   "metadata": {},
   "source": [
    "## 4 Abstract class (ABC)\n",
    "abstract class is sort of blueprint of other classes. abstract class consists of abstract method.\n",
    "ABC can't be implementated but be declared. ABC should work with subclass for class instantiation. "
   ]
  },
  {
   "cell_type": "code",
   "execution_count": 37,
   "metadata": {},
   "outputs": [
    {
     "name": "stdout",
     "output_type": "stream",
     "text": [
      "I can walk and run\n",
      "I can crawl\n"
     ]
    }
   ],
   "source": [
    "from abc import ABCMeta,\n",
    "abstractmethod \n",
    "class Animal(metaclass=ABCMeta): \n",
    "    def __init__(self):\n",
    "        super().__init__()\n",
    "        \n",
    "    @abstractmethod\n",
    "    def move(self): \n",
    "        print(\"I can \")\n",
    "        pass\n",
    "  \n",
    "class Human(Animal): \n",
    "  \n",
    "    def move(self): \n",
    "        print(\"I can walk and run\") \n",
    "  \n",
    "class Snake(Animal): \n",
    "  \n",
    "    def move(self): \n",
    "        print(\"I can crawl\") \n",
    "\n",
    "\n",
    "# Driver code \n",
    "R = Human() \n",
    "R.move() \n",
    "  \n",
    "K = Snake() \n",
    "K.move() \n",
    "  \n"
   ]
  },
  {
   "cell_type": "markdown",
   "metadata": {},
   "source": [
    "## abstraction class"
   ]
  },
  {
   "cell_type": "code",
   "execution_count": null,
   "metadata": {},
   "outputs": [],
   "source": []
  },
  {
   "cell_type": "markdown",
   "metadata": {},
   "source": [
    "# classmethod and staticmethod"
   ]
  },
  {
   "cell_type": "markdown",
   "metadata": {},
   "source": [
    "1. @classmethod and @staticmethod are kind of decorator. No needs to instantiate it when use them.\n",
    "2. @staticmethod just like a function. so the function with @staticmethod is independent from other methods.\n",
    "    you can't modify the class or class instance in the function, which may avoid some accidental changes in the class.\n",
    "    Thus, use @staticmethod if a function is independent int the class.\n",
    "3. The first argugment in @classmethod should be cls, indicating class itself. \n",
    "   cls allows you to access the attributes or other functions within a class\n",
    "4. no constructor __init__() is required.\n"
   ]
  },
  {
   "cell_type": "code",
   "execution_count": 5,
   "metadata": {},
   "outputs": [
    {
     "name": "stdout",
     "output_type": "stream",
     "text": [
      "static method: 2\n",
      "class method: abc\n",
      "class attribute: None\n",
      "foo\n",
      "class function: None\n"
     ]
    }
   ],
   "source": [
    "class Test:\n",
    "    input = None\n",
    "    \n",
    "    def foo():\n",
    "        print('foo')\n",
    "    @staticmethod\n",
    "    def A(a):\n",
    "        print('static method:', a)\n",
    "        \n",
    "    @classmethod\n",
    "    def B(cls, b):\n",
    "        print('class method:', b)        \n",
    "        print('class attribute:', cls.input)\n",
    "        print('class function:', cls.foo())\n",
    "\n",
    "#\n",
    "Test.A(2)\n",
    "Test.B('abc')"
   ]
  },
  {
   "cell_type": "markdown",
   "metadata": {},
   "source": [
    "## inheritance of static class"
   ]
  },
  {
   "cell_type": "code",
   "execution_count": 4,
   "metadata": {},
   "outputs": [
    {
     "name": "stdout",
     "output_type": "stream",
     "text": [
      "30\n"
     ]
    }
   ],
   "source": [
    "class A:\n",
    "    @staticmethod\n",
    "    def add(a, b):\n",
    "        return a+b\n",
    "\n",
    "class B(A):\n",
    "    @staticmethod\n",
    "    def add2(a,b):\n",
    "        init = add(a,b)\n",
    "        return init+100\n",
    "\n",
    "class C:\n",
    "    @staticmethod\n",
    "    def cal_total(a,b):\n",
    "        init = B.add(a,b)\n",
    "        return init*10\n",
    "\n",
    "print(C.cal_total(1,2))"
   ]
  },
  {
   "cell_type": "markdown",
   "metadata": {},
   "source": [
    "### objects in static class"
   ]
  },
  {
   "cell_type": "code",
   "execution_count": 10,
   "metadata": {},
   "outputs": [
    {
     "name": "stdout",
     "output_type": "stream",
     "text": [
      "{4: 3, 'c': 5}\n"
     ]
    }
   ],
   "source": [
    "class A:\n",
    "    @staticmethod\n",
    "    def add(a,b):\n",
    "        return {a:b, b:[a]}\n",
    "\n",
    "class B:\n",
    "    @staticmethod\n",
    "    def _get(a):\n",
    "        res = A.add(a, 3)\n",
    "        B._update(res)\n",
    "        return res\n",
    "    \n",
    "    def _update(res):\n",
    "        res['c'] = 5\n",
    "        if 3 in res:\n",
    "            del res[3]\n",
    "#\n",
    "print(B._get(4))"
   ]
  }
 ],
 "metadata": {
  "kernelspec": {
   "display_name": "Python 3",
   "language": "python",
   "name": "python3"
  },
  "language_info": {
   "codemirror_mode": {
    "name": "ipython",
    "version": 3
   },
   "file_extension": ".py",
   "mimetype": "text/x-python",
   "name": "python",
   "nbconvert_exporter": "python",
   "pygments_lexer": "ipython3",
   "version": "3.8.5"
  }
 },
 "nbformat": 4,
 "nbformat_minor": 4
}

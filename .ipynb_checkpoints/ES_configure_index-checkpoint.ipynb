{
 "cells": [
  {
   "cell_type": "markdown",
   "metadata": {},
   "source": [
    "# configuration of index"
   ]
  },
  {
   "cell_type": "markdown",
   "metadata": {},
   "source": [
    "## check index"
   ]
  },
  {
   "cell_type": "code",
   "execution_count": null,
   "metadata": {},
   "outputs": [],
   "source": [
    "field:\n",
    "meta_fields: _index, _type, _id"
   ]
  },
  {
   "cell_type": "code",
   "execution_count": null,
   "metadata": {},
   "outputs": [],
   "source": [
    "#check configurations\n",
    "GET orgs-index/?pretty"
   ]
  },
  {
   "cell_type": "code",
   "execution_count": null,
   "metadata": {},
   "outputs": [],
   "source": [
    "#index\n",
    "{\n",
    "  \"orgs-index\" : {\n",
    "    \"aliases\" : { },\n",
    "    \"mappings\" : {\n",
    "      \"properties\" : {\n",
    "        \"address_line_1\" : {\n",
    "          \"type\" : \"text\",\n",
    "          \"fields\" : {\n",
    "            \"keyword\" : {\n",
    "              \"type\" : \"keyword\",\n",
    "              \"ignore_above\" : 256\n",
    "            }\n",
    "          }\n",
    "        },\n",
    "        \"city_municipality\" : {\n",
    "          \"type\" : \"text\",\n",
    "          \"fields\" : {\n",
    "            \"keyword\" : {\n",
    "              \"type\" : \"keyword\",\n",
    "              \"ignore_above\" : 256\n",
    "            }\n",
    "          }\n",
    "        },\n",
    "        \"va_organization\" : {\n",
    "          \"type\" : \"boolean\"\n",
    "        }\n",
    "      }\n",
    "    },\n",
    "    \"settings\" : {\n",
    "      \"index\" : {\n",
    "        \"routing\" : {\n",
    "          \"allocation\" : {\n",
    "            \"include\" : {\n",
    "              \"_tier_preference\" : \"data_content\"\n",
    "            }\n",
    "          }\n",
    "        },\n",
    "        \"number_of_shards\" : \"1\",\n",
    "        \"provided_name\" : \"orgs-index\",\n",
    "        \"creation_date\" : \"1612721741854\",\n",
    "        \"number_of_replicas\" : \"1\",\n",
    "        \"uuid\" : \"JFgh43E9SKCvd3pPOgr7hw\",\n",
    "        \"version\" : {\n",
    "          \"created\" : \"7100199\"\n",
    "        }\n",
    "      }\n",
    "    }\n",
    "  }\n",
    "}\n"
   ]
  },
  {
   "cell_type": "markdown",
   "metadata": {},
   "source": [
    "## data type\n",
    "mapping defines various data types whithin an index. Each field has a field data type.\n",
    "\"text\": data are analyzed for full-text search\n",
    "\"keyword\" family: consist of keyword, constant_keyword, and wildcard. data are analyzed for entire as-is. \n",
    "\"boolean\": true or false values\n",
    "\"number\": consist of long, and double.\n",
    "\"date\": consist of data, and date_nanos"
   ]
  },
  {
   "cell_type": "code",
   "execution_count": null,
   "metadata": {},
   "outputs": [],
   "source": [
    "#example\n",
    "\"address_line_1\" : {                  #particular index name\n",
    "    \"type\" : \"text\",                  #data type\n",
    "    \"fields\" : {                      #sub-fields\n",
    "        \"keyword\" : {                 #one sub-field is keyword\n",
    "            \"type\" : \"keyword\",\n",
    "            \"ignore_above\" : 256\n",
    "        }\n",
    "    }\n",
    "},"
   ]
  },
  {
   "cell_type": "markdown",
   "metadata": {},
   "source": [
    "## analyzer\n",
    "analyzer is used during indexing to break down parases and expression into their ocnstituent terms.\n",
    "analyzer consists of a tokenizer and some token filters.\n",
    "there are standard analyzer, simple analyzer, and customary analyzer. standard analyzer is default in EA"
   ]
  },
  {
   "cell_type": "markdown",
   "metadata": {},
   "source": [
    "### test an analyzer"
   ]
  },
  {
   "cell_type": "code",
   "execution_count": null,
   "metadata": {},
   "outputs": [],
   "source": [
    "#check a certain analyzer\n",
    "GET orgs-index/_analyze\n",
    "{\n",
    "  \"analyzer\" : \"standard\",\n",
    "  \"text\" : \"Quick Brown Foxes!\"\n",
    "}\n",
    "\n",
    "\n",
    "#return\n",
    "{\n",
    "  \"tokens\" : [\n",
    "    {\n",
    "      \"token\" : \"quick\",\n",
    "      \"start_offset\" : 0,\n",
    "      \"end_offset\" : 5,\n",
    "      \"type\" : \"<ALPHANUM>\",\n",
    "      \"position\" : 0\n",
    "    },\n",
    "    {\n",
    "      \"token\" : \"brown\",\n",
    "      \"start_offset\" : 6,\n",
    "      \"end_offset\" : 11,\n",
    "      \"type\" : \"<ALPHANUM>\",\n",
    "      \"position\" : 1\n",
    "    },\n",
    "    {\n",
    "      \"token\" : \"foxes\",\n",
    "      \"start_offset\" : 12,\n",
    "      \"end_offset\" : 17,\n",
    "      \"type\" : \"<ALPHANUM>\",\n",
    "      \"position\" : 2\n",
    "    }\n",
    "  ]\n",
    "}"
   ]
  },
  {
   "cell_type": "code",
   "execution_count": null,
   "metadata": {},
   "outputs": [],
   "source": []
  },
  {
   "cell_type": "code",
   "execution_count": null,
   "metadata": {},
   "outputs": [],
   "source": []
  }
 ],
 "metadata": {
  "kernelspec": {
   "display_name": "Python 3",
   "language": "python",
   "name": "python3"
  },
  "language_info": {
   "codemirror_mode": {
    "name": "ipython",
    "version": 3
   },
   "file_extension": ".py",
   "mimetype": "text/x-python",
   "name": "python",
   "nbconvert_exporter": "python",
   "pygments_lexer": "ipython3",
   "version": "3.8.5"
  }
 },
 "nbformat": 4,
 "nbformat_minor": 4
}

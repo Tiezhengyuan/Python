{
 "cells": [
  {
   "cell_type": "markdown",
   "metadata": {},
   "source": [
    "# aggregations"
   ]
  },
  {
   "cell_type": "code",
   "execution_count": null,
   "metadata": {},
   "outputs": [],
   "source": [
    "{\n",
    "    \"aggs”: {\n",
    "        “name_of_aggregation”: {\n",
    "            “type_of_aggregation”: {\n",
    "                “field”: “document_field_name”\n",
    "            }\n",
    "        }\n",
    "    }\n",
    "}"
   ]
  },
  {
   "cell_type": "markdown",
   "metadata": {},
   "source": [
    "#keyword"
   ]
  },
  {
   "cell_type": "code",
   "execution_count": null,
   "metadata": {},
   "outputs": [],
   "source": [
    "#heck properties of the field:\n",
    "#erm is ok for aggregation. text will  cause error.\n",
    "#ve both text and keyword version of the same field\n",
    "PUT orgs-index/_mapping\n",
    "{\n",
    "    \"properties\":{\n",
    "      \"city_municipality\":{\n",
    "        \"type\": \"text\",\n",
    "        \"fields\":{\n",
    "          \"keyword\":{\n",
    "            \"type\": \"keyword\",\n",
    "            \"index\": true,\n",
    "            \"ignore_above\": 256\n",
    "          }\n",
    "        }\n",
    "      }\n",
    "    }\n",
    "}"
   ]
  },
  {
   "cell_type": "markdown",
   "metadata": {},
   "source": []
  },
  {
   "cell_type": "markdown",
   "metadata": {},
   "source": [
    "## bucket aggregation"
   ]
  },
  {
   "cell_type": "code",
   "execution_count": null,
   "metadata": {},
   "outputs": [],
   "source": [
    "# bucket aggregation\n",
    "GET orgs-index/_search\n",
    "{\n",
    "  \"aggs\": {\n",
    "    \"city_municipality_count\": {\n",
    "      \"terms\": {\n",
    "        \"field\": \"city_municipality.keyword\"\n",
    "      }\n",
    "    }\n",
    "  }\n",
    "}"
   ]
  },
  {
   "cell_type": "code",
   "execution_count": null,
   "metadata": {},
   "outputs": [],
   "source": [
    " #aggreation result\n",
    "  \"aggregations\" : {\n",
    "    \"city_municipality_count\" : {\n",
    "      \"doc_count_error_upper_bound\" : 0,\n",
    "      \"sum_other_doc_count\" : 4140,\n",
    "      \"buckets\" : [\n",
    "        {\n",
    "          \"key\" : \"UNKNOWN\",\n",
    "          \"doc_count\" : 485\n",
    "        },\n",
    "        {\n",
    "          \"key\" : \"New York\",\n",
    "          \"doc_count\" : 51\n",
    "        },\n",
    "        {\n",
    "          \"key\" : \"Houston\",\n",
    "          \"doc_count\" : 49\n",
    "        },\n",
    "        {\n",
    "          \"key\" : \"Bethesda\",\n",
    "          \"doc_count\" : 46\n",
    "        },\n",
    "        {\n",
    "          \"key\" : \"San Diego\",\n",
    "          \"doc_count\" : 45\n",
    "        },\n",
    "        {\n",
    "          \"key\" : \"Seattle\",\n",
    "          \"doc_count\" : 45\n",
    "        },\n",
    "        {\n",
    "          \"key\" : \"Chicago\",\n",
    "          \"doc_count\" : 39\n",
    "        },\n",
    "        {\n",
    "          \"key\" : \"Los Angeles\",\n",
    "          \"doc_count\" : 37\n",
    "        },\n",
    "        {\n",
    "          \"key\" : \"Cambridge\",\n",
    "          \"doc_count\" : 32\n",
    "        },\n",
    "        {\n",
    "          \"key\" : \"Philadelphia\",\n",
    "          \"doc_count\" : 31\n",
    "        }\n",
    "      ]\n",
    "    }\n",
    "  }"
   ]
  },
  {
   "cell_type": "markdown",
   "metadata": {},
   "source": [
    "## "
   ]
  },
  {
   "cell_type": "markdown",
   "metadata": {},
   "source": [
    "## nested aggregations\n",
    "nested aggregation is for aggregating nested data"
   ]
  },
  {
   "cell_type": "code",
   "execution_count": null,
   "metadata": {},
   "outputs": [],
   "source": [
    "#data\n",
    "      {\n",
    "        \"_index\" : \"trials\",\n",
    "        \"_type\" : \"trial\",\n",
    "        \"_id\" : \"NCI-8765-00002\",\n",
    "        \"_score\" : 1.0,\n",
    "        \"_source\" : {\n",
    "          \"id\" : \"NCI-8765-00002\",\n",
    "          \"name\" : \"cary\",\n",
    "          \"diseases\" : {\n",
    "            \"evs_id\" : \"C456\",\n",
    "            \"name\" : \"prostate cancer\"\n",
    "          }\n",
    "        }\n",
    "      },"
   ]
  },
  {
   "cell_type": "code",
   "execution_count": null,
   "metadata": {},
   "outputs": [],
   "source": [
    "#mapping biomarkers as property\n",
    "{\n",
    "  \"trials_v2\" : {\n",
    "    \"mappings\" : {\n",
    "      \"properties\" : {\n",
    "        \"biomarkers\" : {\n",
    "          \"type\" : \"nested\",\n",
    "          \"properties\" : {\n",
    "            \"evs_id\" : {\n",
    "              \"type\" : \"text\",\n",
    "              \"fields\" : {\n",
    "                \"keyword\" : {\n",
    "                  \"type\" : \"keyword\"\n",
    "                }\n",
    "              }\n",
    "            },\n",
    "            \"name\" : {\n",
    "              \"type\" : \"text\",\n",
    "              \"fields\" : {\n",
    "                \"keyword\" : {\n",
    "                  \"type\" : \"keyword\"\n",
    "                }\n",
    "              }\n",
    "            }\n",
    "          }\n",
    "        },"
   ]
  },
  {
   "cell_type": "code",
   "execution_count": null,
   "metadata": {},
   "outputs": [],
   "source": [
    "#agg query\n",
    "GET trials/_search\n",
    "{\n",
    "  \"aggs\": {\n",
    "    \"diseases_nested\": {\n",
    "      \"nested\": {\n",
    "        \"path\": \"diseases\"\n",
    "      }, \n",
    "      \"aggs\": {\n",
    "        \"diseases.name\":{\n",
    "          \"terms\":{\n",
    "            \"field\": \"diseases.name.keyword\",\n",
    "            \"missing\": \"n/a\"\n",
    "          }\n",
    "        }\n",
    "      }\n",
    "    }\n",
    "  }\n",
    "}"
   ]
  },
  {
   "cell_type": "code",
   "execution_count": null,
   "metadata": {},
   "outputs": [],
   "source": [
    "#result\n",
    "  \"aggregations\" : {\n",
    "    \"diseases_nested\" : {\n",
    "      \"doc_count\" : 8,\n",
    "      \"diseases.name\" : {\n",
    "        \"doc_count_error_upper_bound\" : 0,\n",
    "        \"sum_other_doc_count\" : 0,\n",
    "        \"buckets\" : [\n",
    "          {\n",
    "            \"key\" : \"breast cancer\",\n",
    "            \"doc_count\" : 2\n",
    "          },\n",
    "          {\n",
    "            \"key\" : \"digestive disorder\",\n",
    "            \"doc_count\" : 2\n",
    "          },\n",
    "          {\n",
    "            \"key\" : \"neoplasm\",\n",
    "            \"doc_count\" : 2\n",
    "          },\n",
    "          {\n",
    "            \"key\" : \"prostate cancer\",\n",
    "            \"doc_count\" : 2\n",
    "          }\n",
    "        ]\n",
    "      }\n",
    "    }\n",
    "  }"
   ]
  },
  {
   "cell_type": "code",
   "execution_count": null,
   "metadata": {},
   "outputs": [],
   "source": []
  }
 ],
 "metadata": {
  "kernelspec": {
   "display_name": "Python 3",
   "language": "python",
   "name": "python3"
  },
  "language_info": {
   "codemirror_mode": {
    "name": "ipython",
    "version": 3
   },
   "file_extension": ".py",
   "mimetype": "text/x-python",
   "name": "python",
   "nbconvert_exporter": "python",
   "pygments_lexer": "ipython3",
   "version": "3.8.5"
  }
 },
 "nbformat": 4,
 "nbformat_minor": 4
}

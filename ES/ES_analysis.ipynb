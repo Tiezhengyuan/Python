{
 "cells": [
  {
   "cell_type": "markdown",
   "metadata": {},
   "source": [
    "# analysis and analyzer\n",
    "\n",
    "query:\n",
    "\n",
    "relevance:\n",
    "analysis:\n"
   ]
  },
  {
   "cell_type": "code",
   "execution_count": null,
   "metadata": {},
   "outputs": [],
   "source": [
    "POST /_analyze\n",
    "{\n",
    "  \"analyzer\": \"standard\",\n",
    "  \"text\": [\"hello word\", \"Hi CARY, good morning\"]\n",
    "}"
   ]
  },
  {
   "cell_type": "code",
   "execution_count": null,
   "metadata": {},
   "outputs": [],
   "source": [
    "{\n",
    "  \"tokens\" : [\n",
    "    {\n",
    "      \"token\" : \"hello\",\n",
    "      \"start_offset\" : 0,\n",
    "      \"end_offset\" : 5,\n",
    "      \"type\" : \"<ALPHANUM>\",\n",
    "      \"position\" : 0\n",
    "    },\n",
    "    {\n",
    "      \"token\" : \"word\",\n",
    "      \"start_offset\" : 6,\n",
    "      \"end_offset\" : 10,\n",
    "      \"type\" : \"<ALPHANUM>\",\n",
    "      \"position\" : 1\n",
    "    },\n",
    "    {\n",
    "      \"token\" : \"hi\",\n",
    "      \"start_offset\" : 11,\n",
    "      \"end_offset\" : 13,\n",
    "      \"type\" : \"<ALPHANUM>\",\n",
    "      \"position\" : 2\n",
    "    },\n",
    "    {\n",
    "      \"token\" : \"cary\",\n",
    "      \"start_offset\" : 14,\n",
    "      \"end_offset\" : 18,\n",
    "      \"type\" : \"<ALPHANUM>\",\n",
    "      \"position\" : 3\n",
    "    },\n",
    "    {\n",
    "      \"token\" : \"good\",\n",
    "      \"start_offset\" : 20,\n",
    "      \"end_offset\" : 24,\n",
    "      \"type\" : \"<ALPHANUM>\",\n",
    "      \"position\" : 4\n",
    "    },\n",
    "    {\n",
    "      \"token\" : \"morning\",\n",
    "      \"start_offset\" : 25,\n",
    "      \"end_offset\" : 32,\n",
    "      \"type\" : \"<ALPHANUM>\",\n",
    "      \"position\" : 5\n",
    "    }\n",
    "  ]\n",
    "}\n"
   ]
  },
  {
   "cell_type": "code",
   "execution_count": null,
   "metadata": {},
   "outputs": [],
   "source": []
  },
  {
   "cell_type": "code",
   "execution_count": null,
   "metadata": {},
   "outputs": [],
   "source": []
  },
  {
   "cell_type": "code",
   "execution_count": null,
   "metadata": {},
   "outputs": [],
   "source": []
  },
  {
   "cell_type": "code",
   "execution_count": null,
   "metadata": {},
   "outputs": [],
   "source": []
  },
  {
   "cell_type": "code",
   "execution_count": null,
   "metadata": {},
   "outputs": [],
   "source": []
  },
  {
   "cell_type": "code",
   "execution_count": null,
   "metadata": {},
   "outputs": [],
   "source": []
  },
  {
   "cell_type": "code",
   "execution_count": null,
   "metadata": {},
   "outputs": [],
   "source": []
  },
  {
   "cell_type": "code",
   "execution_count": null,
   "metadata": {},
   "outputs": [],
   "source": []
  },
  {
   "cell_type": "code",
   "execution_count": null,
   "metadata": {},
   "outputs": [],
   "source": []
  },
  {
   "cell_type": "code",
   "execution_count": null,
   "metadata": {},
   "outputs": [],
   "source": []
  },
  {
   "cell_type": "code",
   "execution_count": null,
   "metadata": {},
   "outputs": [],
   "source": []
  },
  {
   "cell_type": "code",
   "execution_count": null,
   "metadata": {},
   "outputs": [],
   "source": []
  },
  {
   "cell_type": "code",
   "execution_count": null,
   "metadata": {},
   "outputs": [],
   "source": []
  }
 ],
 "metadata": {
  "kernelspec": {
   "display_name": "Python 3",
   "language": "python",
   "name": "python3"
  },
  "language_info": {
   "codemirror_mode": {
    "name": "ipython",
    "version": 3
   },
   "file_extension": ".py",
   "mimetype": "text/x-python",
   "name": "python",
   "nbconvert_exporter": "python",
   "pygments_lexer": "ipython3",
   "version": "3.8.5"
  }
 },
 "nbformat": 4,
 "nbformat_minor": 4
}

{
 "cells": [
  {
   "cell_type": "markdown",
   "metadata": {},
   "source": [
    "# bulk operations\n",
    "\n",
    "POST _bulk\n",
    "{ \"index\" : { \"_index\" : \"test\", \"_id\" : \"1\" } }\n",
    "{ \"field1\" : \"value1\" }\n",
    "{ \"delete\" : { \"_index\" : \"test\", \"_id\" : \"2\" } }\n",
    "{ \"create\" : { \"_index\" : \"test\", \"_id\" : \"3\" } }\n",
    "{ \"field1\" : \"value3\" }\n",
    "{ \"update\" : {\"_id\" : \"1\", \"_index\" : \"test\"} }\n",
    "{ \"doc\" : {\"field2\" : \"value2\"} }\n",
    "\n",
    "actions could be create, index, delete, update\n"
   ]
  },
  {
   "cell_type": "code",
   "execution_count": null,
   "metadata": {},
   "outputs": [],
   "source": [
    "POST _bulk\n",
    "{\"create\":{\"_index\":\"trials\",\"_type\":\"_doc\",\"_id\": \"NCI-8765-00002\"}}\n",
    "{\"id\":\"NCI-8765-00002\",\"name\": \"002\"}\n",
    "{\"create\":{\"_index\":\"trials\",\"_type\":\"_doc\",\"_id\": \"NCI-8765-00003\"}}\n",
    "{\"id\":\"NCI-8765-00003\",\"name\": \"003\"}\n",
    "{\"delete\":{\"_index\":\"trials\",\"_type\":\"_doc\",\"_id\": \"NCI-8765-00004\"}}"
   ]
  },
  {
   "cell_type": "code",
   "execution_count": null,
   "metadata": {},
   "outputs": [],
   "source": []
  },
  {
   "cell_type": "markdown",
   "metadata": {},
   "source": [
    "## create"
   ]
  },
  {
   "cell_type": "code",
   "execution_count": null,
   "metadata": {},
   "outputs": [],
   "source": [
    "POST _bulk\n",
    "{\"create\":{\"_index\":\"trials\",\"_id\": \"NCI-8765-00004\"}}\n",
    "{\"name\": \"cary\"}"
   ]
  },
  {
   "cell_type": "code",
   "execution_count": null,
   "metadata": {},
   "outputs": [],
   "source": [
    "{\n",
    "  \"took\" : 13,\n",
    "  \"errors\" : false,\n",
    "  \"items\" : [\n",
    "    {\n",
    "      \"create\" : {\n",
    "        \"_index\" : \"trials\",\n",
    "        \"_type\" : \"_doc\",\n",
    "        \"_id\" : \"NCI-8765-00004\",\n",
    "        \"_version\" : 1,\n",
    "        \"result\" : \"created\",\n",
    "        \"_shards\" : {\n",
    "          \"total\" : 2,\n",
    "          \"successful\" : 1,\n",
    "          \"failed\" : 0\n",
    "        },\n",
    "        \"_seq_no\" : 25,\n",
    "        \"_primary_term\" : 1,\n",
    "        \"status\" : 201\n",
    "      }\n",
    "    }\n",
    "  ]\n",
    "}\n"
   ]
  },
  {
   "cell_type": "code",
   "execution_count": null,
   "metadata": {},
   "outputs": [],
   "source": [
    "#post failed due to duplicates\n",
    "{\n",
    "      \"create\" : {\n",
    "        \"_index\" : \"trials\",\n",
    "        \"_type\" : \"_doc\",\n",
    "        \"_id\" : \"NCI-8765-00003\",\n",
    "        \"status\" : 409,\n",
    "        \"error\" : {\n",
    "          \"type\" : \"version_conflict_engine_exception\",\n",
    "          \"reason\" : \"[NCI-8765-00003]: version conflict, document already exists (current version [1])\",\n",
    "          \"index_uuid\" : \"1Ttkj4r5QhGfl64YMF70KQ\",\n",
    "          \"shard\" : \"0\",\n",
    "          \"index\" : \"trials\"\n",
    "        }\n",
    "      }\n",
    "    }"
   ]
  },
  {
   "cell_type": "markdown",
   "metadata": {},
   "source": [
    "## delete"
   ]
  },
  {
   "cell_type": "code",
   "execution_count": null,
   "metadata": {},
   "outputs": [],
   "source": [
    "POST _bulk\n",
    "{\"delete\":{\"_index\":\"trials\",\"_id\": \"NCI-8765-00004\"}}"
   ]
  },
  {
   "cell_type": "code",
   "execution_count": null,
   "metadata": {},
   "outputs": [],
   "source": [
    "    {\n",
    "      \"delete\" : {\n",
    "        \"_index\" : \"trials\",\n",
    "        \"_type\" : \"_doc\",\n",
    "        \"_id\" : \"NCI-8765-00004\",\n",
    "        \"_version\" : 2,\n",
    "        \"result\" : \"not_found\",\n",
    "        \"_shards\" : {\n",
    "          \"total\" : 2,\n",
    "          \"successful\" : 1,\n",
    "          \"failed\" : 0\n",
    "        },\n",
    "        \"_seq_no\" : 23,\n",
    "        \"_primary_term\" : 1,\n",
    "        \"status\" : 404\n",
    "      }\n",
    "    }"
   ]
  },
  {
   "cell_type": "markdown",
   "metadata": {},
   "source": [
    "## update"
   ]
  },
  {
   "cell_type": "code",
   "execution_count": null,
   "metadata": {},
   "outputs": [],
   "source": [
    "POST _bulk\n",
    "{\"create\":{\"_index\":\"trials\",\"_id\": \"NCI-8765-00004\"}}\n",
    "{\"name\": \"cary\"}\n",
    "{\"update\":{\"_index\":\"trials\",\"_id\": \"NCI-8765-00004\"}}\n",
    "{\"doc\":{\"name\": \"deurum\",\"site\":\"center\"}}"
   ]
  },
  {
   "cell_type": "code",
   "execution_count": null,
   "metadata": {},
   "outputs": [],
   "source": [
    "{\n",
    "  \"took\" : 92,\n",
    "  \"errors\" : false,\n",
    "  \"items\" : [\n",
    "    {\n",
    "      \"create\" : {\n",
    "        \"_index\" : \"trials\",\n",
    "        \"_type\" : \"_doc\",\n",
    "        \"_id\" : \"NCI-8765-00004\",\n",
    "        \"_version\" : 1,\n",
    "        \"result\" : \"created\",\n",
    "        \"_shards\" : {\n",
    "          \"total\" : 2,\n",
    "          \"successful\" : 1,\n",
    "          \"failed\" : 0\n",
    "        },\n",
    "        \"_seq_no\" : 27,\n",
    "        \"_primary_term\" : 1,\n",
    "        \"status\" : 201\n",
    "      }\n",
    "    },\n",
    "    {\n",
    "      \"update\" : {\n",
    "        \"_index\" : \"trials\",\n",
    "        \"_type\" : \"_doc\",\n",
    "        \"_id\" : \"NCI-8765-00004\",\n",
    "        \"_version\" : 2,\n",
    "        \"result\" : \"updated\",\n",
    "        \"_shards\" : {\n",
    "          \"total\" : 2,\n",
    "          \"successful\" : 1,\n",
    "          \"failed\" : 0\n",
    "        },\n",
    "        \"_seq_no\" : 28,\n",
    "        \"_primary_term\" : 1,\n",
    "        \"status\" : 200\n",
    "      }\n",
    "    }\n",
    "  ]\n",
    "}\n"
   ]
  },
  {
   "cell_type": "markdown",
   "metadata": {},
   "source": [
    "## get"
   ]
  },
  {
   "cell_type": "code",
   "execution_count": null,
   "metadata": {},
   "outputs": [],
   "source": [
    "GET trials/_mget\n",
    "{\n",
    "  \"ids\":[\"NCI-8765-00003\", \"NCI-8765-00004\"]\n",
    "}"
   ]
  },
  {
   "cell_type": "code",
   "execution_count": null,
   "metadata": {},
   "outputs": [],
   "source": [
    "{\n",
    "  \"docs\" : [\n",
    "    {\n",
    "      \"_index\" : \"trials\",\n",
    "      \"_type\" : \"trial\",\n",
    "      \"_id\" : \"NCI-8765-00003\",\n",
    "      \"_version\" : 1,\n",
    "      \"_seq_no\" : 21,\n",
    "      \"_primary_term\" : 1,\n",
    "      \"found\" : true,\n",
    "      \"_source\" : {\n",
    "        \"id\" : \"NCI-8765-00003\",\n",
    "        \"name\" : \"003\"\n",
    "      }\n",
    "    },\n",
    "    {\n",
    "      \"_index\" : \"trials\",\n",
    "      \"_type\" : \"trial\",\n",
    "      \"_id\" : \"NCI-8765-00004\",\n",
    "      \"_version\" : 2,\n",
    "      \"_seq_no\" : 28,\n",
    "      \"_primary_term\" : 1,\n",
    "      \"found\" : true,\n",
    "      \"_source\" : {\n",
    "        \"name\" : \"deurum\",\n",
    "        \"site\" : \"center\"\n",
    "      }\n",
    "    }\n",
    "  ]\n",
    "}\n",
    "b"
   ]
  },
  {
   "cell_type": "markdown",
   "metadata": {},
   "source": [
    "## the best size for bulk operations\n"
   ]
  }
 ],
 "metadata": {
  "kernelspec": {
   "display_name": "Python 3",
   "language": "python",
   "name": "python3"
  },
  "language_info": {
   "codemirror_mode": {
    "name": "ipython",
    "version": 3
   },
   "file_extension": ".py",
   "mimetype": "text/x-python",
   "name": "python",
   "nbconvert_exporter": "python",
   "pygments_lexer": "ipython3",
   "version": "3.8.5"
  }
 },
 "nbformat": 4,
 "nbformat_minor": 4
}

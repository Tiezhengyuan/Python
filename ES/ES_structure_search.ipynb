{
 "cells": [
  {
   "cell_type": "markdown",
   "metadata": {},
   "source": [
    "## term search\n",
    "term query is used for exact match, namely digits, date, bool, or none analyzed string"
   ]
  },
  {
   "cell_type": "code",
   "execution_count": null,
   "metadata": {},
   "outputs": [],
   "source": [
    "#term\n",
    "GET trials/_search\n",
    "{\n",
    "  \"query\":{\n",
    "    \"term\": {\n",
    "      \"id.keyword\": {\n",
    "        \"value\": \"NCI-8765-00003\"\n",
    "      }\n",
    "    }\n",
    "  }\n",
    "}"
   ]
  },
  {
   "cell_type": "code",
   "execution_count": null,
   "metadata": {},
   "outputs": [],
   "source": [
    "#terms\n",
    "\n",
    "GET trials/_search\n",
    "{\n",
    "  \"query\":{\n",
    "    \"terms\": {\n",
    "      \"id.keyword\": [\n",
    "        \"NCI-8765-00002\",\n",
    "        \"NCI-8765-00003\"\n",
    "      ]\n",
    "    }\n",
    "  }\n",
    "}"
   ]
  },
  {
   "cell_type": "markdown",
   "metadata": {},
   "source": [
    "## range search"
   ]
  },
  {
   "cell_type": "code",
   "execution_count": null,
   "metadata": {},
   "outputs": [],
   "source": [
    "GET orgs-index/_search\n",
    "{\n",
    "  \"query\":{\n",
    "    \"range\": {\n",
    "      \"id\": {\n",
    "        \"gte\": 10,\n",
    "        \"lte\": 20\n",
    "      }\n",
    "    }\n",
    "  }\n",
    "}"
   ]
  },
  {
   "cell_type": "markdown",
   "metadata": {},
   "source": [
    "## exists query\n",
    "check if contains a certain field"
   ]
  },
  {
   "cell_type": "code",
   "execution_count": null,
   "metadata": {},
   "outputs": [],
   "source": [
    "GET orgs-index/_search\n",
    "{\n",
    "  \"query\":{\n",
    "    \"exists\": {\n",
    "      \"field\": \"city_municipality\"\n",
    "    }\n",
    "  }\n",
    "}"
   ]
  },
  {
   "cell_type": "markdown",
   "metadata": {},
   "source": [
    "## match query"
   ]
  },
  {
   "cell_type": "code",
   "execution_count": null,
   "metadata": {},
   "outputs": [],
   "source": [
    "GET orgs-index/_search\n",
    "{\n",
    "  \"query\":{\n",
    "    \"match\": {\n",
    "      \"id\": \"NCI-9876-00001\"\n",
    "    }\n",
    "  }\n",
    "}"
   ]
  },
  {
   "cell_type": "markdown",
   "metadata": {},
   "source": [
    "## bool query\n",
    "must: and\n",
    "must_not: not\n",
    "should: or\n",
    "filter: it is better for exact match. filter has cache"
   ]
  },
  {
   "cell_type": "code",
   "execution_count": null,
   "metadata": {},
   "outputs": [],
   "source": [
    "GET orgs-index/_search\n",
    "{\"query\":{\n",
    "  \"bool\": {\n",
    "    \"must\": [\n",
    "      {\"term\": {\n",
    "        \"country.keyword\": {\n",
    "          \"value\": \"United States\"\n",
    "        }\n",
    "      }}\n",
    "    ],\n",
    "    \"must_not\": [\n",
    "      {\"term\": {\n",
    "        \"va_organization\": {\n",
    "          \"value\": false\n",
    "        }\n",
    "      }}\n",
    "    ]\n",
    "  }\n",
    "}}"
   ]
  },
  {
   "cell_type": "code",
   "execution_count": null,
   "metadata": {},
   "outputs": [],
   "source": [
    "GET orgs-index/_search\n",
    "{\"query\":{\n",
    "  \"bool\": {\n",
    "    \"should\": [\n",
    "      {\"term\": {\n",
    "        \"city_municipality\": {\n",
    "          \"value\": \"racin\"\n",
    "        }\n",
    "      }},\n",
    "      {\"term\": {\n",
    "        \"city_municipality\": {\n",
    "          \"value\": \"madison\"\n",
    "        }\n",
    "      }}\n",
    "    ]\n",
    "  }\n",
    "}}"
   ]
  },
  {
   "cell_type": "code",
   "execution_count": null,
   "metadata": {},
   "outputs": [],
   "source": [
    "GET orgs-index/_search\n",
    "{\n",
    "  \"query\": {\n",
    "    \"bool\": {\n",
    "      \"filter\": [\n",
    "        {\"term\": {\"ctep_id.keyword\": \"WI137\"}}\n",
    "      ]\n",
    "    }\n",
    "  }\n",
    "}"
   ]
  },
  {
   "cell_type": "code",
   "execution_count": null,
   "metadata": {},
   "outputs": [],
   "source": []
  }
 ],
 "metadata": {
  "kernelspec": {
   "display_name": "Python 3",
   "language": "python",
   "name": "python3"
  },
  "language_info": {
   "codemirror_mode": {
    "name": "ipython",
    "version": 3
   },
   "file_extension": ".py",
   "mimetype": "text/x-python",
   "name": "python",
   "nbconvert_exporter": "python",
   "pygments_lexer": "ipython3",
   "version": "3.8.5"
  }
 },
 "nbformat": 4,
 "nbformat_minor": 4
}

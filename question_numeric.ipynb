{
 "cells": [
  {
   "cell_type": "markdown",
   "metadata": {},
   "source": [
    "# number\n",
    "## compare two numbers"
   ]
  },
  {
   "cell_type": "code",
   "execution_count": 7,
   "metadata": {},
   "outputs": [
    {
     "name": "stdout",
     "output_type": "stream",
     "text": [
      "4\n",
      "4\n"
     ]
    }
   ],
   "source": [
    "#1: ordinary approach\n",
    "def get_max1(a,b):\n",
    "    if a>b:\n",
    "        return a\n",
    "    return b\n",
    "\n",
    "print(get_max1(2,4))\n",
    "\n",
    "#2: use max()\n",
    "def get_max2(a,b):\n",
    "    return max(a,b)\n",
    "\n",
    "print(get_max2(2,4))"
   ]
  },
  {
   "cell_type": "markdown",
   "metadata": {},
   "source": [
    "## factorial of a number\n",
    "n!=n*(n-1)*(n-2)*......*1"
   ]
  },
  {
   "cell_type": "code",
   "execution_count": 14,
   "metadata": {},
   "outputs": [
    {
     "name": "stdout",
     "output_type": "stream",
     "text": [
      "3628800\n",
      "3628800\n",
      "3628800\n"
     ]
    }
   ],
   "source": [
    "#1:\n",
    "def factorial_1(n):\n",
    "    total = 1\n",
    "    while n>0:\n",
    "        total *= n\n",
    "        n -= 1\n",
    "    return total\n",
    "#2 incursive\n",
    "def factorial_2(n):\n",
    "    while n<=0:\n",
    "        return 1\n",
    "    return n*factorial_2(n-1)\n",
    "\n",
    "#3 ternary operator\n",
    "def factorial_3(n):\n",
    "    return n*factorial_3(n-1) if n > 0 else 1\n",
    "\n",
    "#\n",
    "print(factorial_1(10))\n",
    "print(factorial_2(10))\n",
    "print(factorial_3(10))"
   ]
  },
  {
   "cell_type": "markdown",
   "metadata": {},
   "source": [
    "## simple interest\n",
    "simple interest = (PxTxR)/100\n",
    "P is principle amount\n",
    "T is the time\n",
    "R is the rate"
   ]
  },
  {
   "cell_type": "code",
   "execution_count": null,
   "metadata": {},
   "outputs": [],
   "source": [
    "def simple_interest(p,t,r):\n",
    "    return (p*t*r)/100"
   ]
  },
  {
   "cell_type": "markdown",
   "metadata": {},
   "source": [
    "## detect prime numbers\n",
    "prime number is the positive integer that can't be divided by any other integer except itself and 1"
   ]
  },
  {
   "cell_type": "code",
   "execution_count": 19,
   "metadata": {},
   "outputs": [
    {
     "name": "stdout",
     "output_type": "stream",
     "text": [
      "[2]\n",
      "[5,\n7,\n11,\n13,\n17,\n19,\n23,\n29,\n31,\n37,\n41,\n43,\n47,\n53,\n59]\n"
     ]
    }
   ],
   "source": [
    "#1:\n",
    "def prime_numbers(start,\nend):\n",
    "    if start > end:\n",
    "        raise Exception('start<end')\n",
    "    if start <= 1 or end <= 1:\n",
    "        raise Exception('should be positive')\n",
    "    \n",
    "    p=[]\n",
    "    if start == 1:\n",
    "        p.append(1)\n",
    "        start +=1\n",
    "    for i in range(start,\nend+1):\n",
    "        tag=True\n",
    "        for m in range(2,i):\n",
    "            if i%m==0:\n",
    "                tag=False\n",
    "                break\n",
    "        if tag:\n",
    "            p.append(i)\n",
    "    return p\n",
    "\n",
    "#\n",
    "print(prime_numbers(2,2))\n",
    "print(prime_numbers(4,60))"
   ]
  },
  {
   "cell_type": "code",
   "execution_count": 21,
   "metadata": {},
   "outputs": [
    {
     "name": "stdout",
     "output_type": "stream",
     "text": [
      "[2]\n",
      "[5,\n7,\n11,\n13,\n17,\n19,\n23,\n29,\n31,\n37,\n41,\n43,\n47,\n53,\n59]\n"
     ]
    }
   ],
   "source": [
    "#2: filter()\n",
    "def prime_numbers(start,\nend):\n",
    "    if start > end:\n",
    "        raise Exception('start<end')\n",
    "    if start <= 1 or end <= 1:\n",
    "        raise Exception('should be positive')\n",
    "        \n",
    "    def no_division(n):\n",
    "        for x in range(2,\nn):\n",
    "            if n%x == 0:\n",
    "                return False\n",
    "        return True\n",
    "    p=filter(no_division,\nrange(start,end+1))\n",
    "    return list(p)\n",
    "\n",
    "#\n",
    "print(prime_numbers(2,2))\n",
    "print(prime_numbers(4,60))"
   ]
  },
  {
   "cell_type": "markdown",
   "metadata": {},
   "source": [
    "## Fibonacci number\n",
    "Fn=Fn-1+Fn-2,\nF0=0,\nF1=1"
   ]
  },
  {
   "cell_type": "code",
   "execution_count": 46,
   "metadata": {},
   "outputs": [
    {
     "name": "stdout",
     "output_type": "stream",
     "text": [
      "55\n"
     ]
    }
   ],
   "source": [
    "def Fibonacci_number(n,\nf0=0,\nf1=1):\n",
    "    while n<=2:\n",
    "        return f0+f1\n",
    "    t = Fibonacci_number(n-1,\nf0,\nf1) + Fibonacci_number(n-2,\nf0,\nf1)\n",
    "    return t\n",
    "#\n",
    "print(Fibonacci_number(10))"
   ]
  },
  {
   "cell_type": "markdown",
   "metadata": {},
   "source": [
    "# array\n",
    "## sum of array"
   ]
  },
  {
   "cell_type": "code",
   "execution_count": 47,
   "metadata": {},
   "outputs": [
    {
     "name": "stdout",
     "output_type": "stream",
     "text": [
      "137\n"
     ]
    }
   ],
   "source": [
    "def sum_list(lst):\n",
    "    total=0\n",
    "    for i in lst:\n",
    "        total += i\n",
    "    return total\n",
    "#\n",
    "print(sum_list([1,56,80]))"
   ]
  },
  {
   "cell_type": "markdown",
   "metadata": {},
   "source": [
    "## largest element"
   ]
  },
  {
   "cell_type": "code",
   "execution_count": 48,
   "metadata": {},
   "outputs": [
    {
     "name": "stdout",
     "output_type": "stream",
     "text": [
      "100\n"
     ]
    }
   ],
   "source": [
    "def max_list(lst):\n",
    "    target = 0\n",
    "    for i in lst:\n",
    "        if i> target:\n",
    "            target=i\n",
    "    return target\n",
    "#\n",
    "print(max_list([-5,0,34,100]))"
   ]
  },
  {
   "cell_type": "markdown",
   "metadata": {},
   "source": [
    "## interchange the first and last elements"
   ]
  },
  {
   "cell_type": "code",
   "execution_count": 50,
   "metadata": {},
   "outputs": [
    {
     "name": "stdout",
     "output_type": "stream",
     "text": [
      "[-9,\n4,\n20,\n1]\n"
     ]
    }
   ],
   "source": [
    "def exchange_list(lst):\n",
    "    lst[0],\nlst[-1] = lst[-1],\nlst[0]\n",
    "    return lst\n",
    "#\n",
    "print(exchange_list([1,4,20,-9]))"
   ]
  },
  {
   "cell_type": "markdown",
   "metadata": {},
   "source": [
    "## bubble sort list\n",
    " Compare the adjacent elements,\nand swap them if meeting some conditions,\nand repeat the step again until all elemetns are in order."
   ]
  },
  {
   "cell_type": "code",
   "execution_count": 54,
   "metadata": {},
   "outputs": [
    {
     "name": "stdout",
     "output_type": "stream",
     "text": [
      "[-1,\n8,\n10,\n6,\n2,\n4,\n100]\n",
      "[-1,\n8,\n6,\n2,\n4,\n10,\n100]\n",
      "[-1,\n6,\n2,\n4,\n8,\n10,\n100]\n",
      "[-1,\n2,\n4,\n6,\n8,\n10,\n100]\n",
      "[-1,\n2,\n4,\n6,\n8,\n10,\n100]\n"
     ]
    }
   ],
   "source": [
    "lst = [8,\n-1,\n100,\n10,\n6,\n2,\n4] \n",
    "tag=True\n",
    "while tag:\n",
    "    tag=False\n",
    "    for x in range(0,\nlen(lst)-1):\n",
    "        if lst[x]>lst[x+1]:\n",
    "            tag=True\n",
    "            lst[x],\nlst[x+1] = lst[x+1],\nlst[x]\n",
    "    print(lst)"
   ]
  }
 ],
 "metadata": {
  "kernelspec": {
   "display_name": "Python 3",
   "language": "python",
   "name": "python3"
  },
  "language_info": {
   "codemirror_mode": {
    "name": "ipython",
    "version": 3
   },
   "file_extension": ".py",
   "mimetype": "text/x-python",
   "name": "python",
   "nbconvert_exporter": "python",
   "pygments_lexer": "ipython3",
   "version": "3.8.5"
  }
 },
 "nbformat": 4,
 "nbformat_minor": 4
}

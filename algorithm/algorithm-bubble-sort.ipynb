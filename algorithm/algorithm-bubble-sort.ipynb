{
 "cells": [
  {
   "cell_type": "markdown",
   "metadata": {},
   "source": [
    "# bubble sort"
   ]
  },
  {
   "cell_type": "markdown",
   "metadata": {},
   "source": [
    "## sort integer array"
   ]
  },
  {
   "cell_type": "code",
   "execution_count": 34,
   "metadata": {},
   "outputs": [
    {
     "name": "stdout",
     "output_type": "stream",
     "text": [
      "[-12, 1, 1, 6, 10, 10, 40]\n"
     ]
    }
   ],
   "source": [
    "def sort_array(arr):\n",
    "    arr_len = len(arr)\n",
    "    for i in range(0, arr_len-1):\n",
    "        for j in range(1, arr_len):\n",
    "            if arr[j-1]>arr[j]:\n",
    "                arr[j], arr[j-1] = arr[j-1], arr[j]\n",
    "    return arr\n",
    "\n",
    "arr=[10,1,40,-12,6,1,10]\n",
    "sorted=sort_array(arr)\n",
    "print(sorted)"
   ]
  },
  {
   "cell_type": "code",
   "execution_count": null,
   "metadata": {},
   "outputs": [],
   "source": []
  },
  {
   "cell_type": "code",
   "execution_count": null,
   "metadata": {},
   "outputs": [],
   "source": []
  },
  {
   "cell_type": "markdown",
   "metadata": {},
   "source": [
    "## sort string array"
   ]
  },
  {
   "cell_type": "code",
   "execution_count": 40,
   "metadata": {},
   "outputs": [
    {
     "name": "stdout",
     "output_type": "stream",
     "text": [
      "['chr1', 'chr2', 'chr8', 'chr10', 'chrX', 'chrY']\n"
     ]
    }
   ],
   "source": [
    "import re\n",
    "def sort_array(arr):\n",
    "    arr_len = len(arr)\n",
    "    for i in range(0, arr_len-1):\n",
    "        for j in range(1, arr_len):\n",
    "            a=arr[j-1][3:]\n",
    "            a_char= re.findall(r\"[^0-9]\", a)\n",
    "            b=arr[j][3:]\n",
    "            b_char= re.findall(r\"[^0-9]\", b)\n",
    "            #a is char\n",
    "            if a_char:\n",
    "                if b_char==[] or (b_char and a>b):\n",
    "                    arr[j], arr[j-1] = arr[j-1], arr[j]\n",
    "            #a_char==[]\n",
    "            else:\n",
    "                if b_char==[] and int(a)>int(b):\n",
    "                    arr[j], arr[j-1] = arr[j-1], arr[j]\n",
    "    return arr\n",
    "\n",
    "arr=['chrY', 'chr8', 'chrX', 'chr2', 'chr1', 'chr10']\n",
    "sorted=sort_array(arr)\n",
    "print(sorted)"
   ]
  },
  {
   "cell_type": "code",
   "execution_count": 25,
   "metadata": {},
   "outputs": [
    {
     "data": {
      "text/plain": [
       "[]"
      ]
     },
     "execution_count": 25,
     "metadata": {},
     "output_type": "execute_result"
    }
   ],
   "source": [
    "import re\n",
    "re.findall(r\"[0-9]\", \"sda\")\n"
   ]
  }
 ],
 "metadata": {
  "kernelspec": {
   "display_name": "Python 3",
   "language": "python",
   "name": "python3"
  },
  "language_info": {
   "codemirror_mode": {
    "name": "ipython",
    "version": 3
   },
   "file_extension": ".py",
   "mimetype": "text/x-python",
   "name": "python",
   "nbconvert_exporter": "python",
   "pygments_lexer": "ipython3",
   "version": "3.8.5"
  }
 },
 "nbformat": 4,
 "nbformat_minor": 4
}

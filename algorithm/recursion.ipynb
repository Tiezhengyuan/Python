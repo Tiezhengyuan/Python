{
 "cells": [
  {
   "cell_type": "markdown",
   "metadata": {},
   "source": [
    "# incrusive\n",
    "## Advantages\n",
    "1. Recursive functions make the code look clean and elegant.\n",
    "2. A complex task can be broken down into simpler sub-problems using recursion.\n",
    "3. Sequence generation is easier with recursion than using some nested iteration.\n",
    "## weakness\n",
    "1. Sometimes the logic behind recursion is hard to follow through.\n",
    "2. Recursive calls are expensive (inefficient) as they take up a lot of memory and time.\n",
    "3. Complex recursive functions are hard to debug.\n",
    "### features\n",
    "1: recursion Direction:  start from most complicated input to simplest input\n",
    "2. easy to get result with the simplest input \n",
    "3. easy to go into the next input given a current input. \n",
    "4. Not difficult to get relationships between the results of a current input and its next input.\n",
    "\n",
    "Flow control: suppose there are n inputs. always get the next input and output based on current input and output\n",
    "func(n)->func(n-1)->...->func(1)"
   ]
  },
  {
   "cell_type": "code",
   "execution_count": null,
   "metadata": {},
   "outputs": [],
   "source": [
    "recursive patthern\n",
    "\n",
    "def func(...):\n",
    "    #base case: result with simplest input\n",
    "    #Check to see whether the current value(s) being processed match the base case.\n",
    "    if ...:\n",
    "        return ...\n",
    "    #recursion\n",
    "    #Redefine the answer in terms of a smaller or simpler sub-problem or sub-problems.\n",
    "    else:\n",
    "        #Run the algorithm on the sub-problem.\n",
    "        retrun func(...)"
   ]
  },
  {
   "cell_type": "markdown",
   "metadata": {},
   "source": [
    "# create _search for elasticsearch"
   ]
  },
  {
   "cell_type": "code",
   "execution_count": 116,
   "metadata": {},
   "outputs": [
    {
     "name": "stdout",
     "output_type": "stream",
     "text": [
      "{'a': 'd'}\n",
      "{'a': 'd', 'b.c': '343'}\n",
      "{'a': 'd', 'b.c': '343'}\n",
      "{'a': 'd', 'b.c': '343'}\n",
      "{'a': 'd', 'b.c': '343'}\n",
      "{'a': 'd', 'b.c': '343'}\n",
      "{'a': 'd', 'b.c': '343'}\n"
     ]
    }
   ],
   "source": [
    "import re\n",
    "def string_to_dict(input_str):\n",
    "    input_str = re.sub(r\"_or=|_and=\", \"\", input_str)\n",
    "    str_list = re.findall(r\"[\\w\\.]*=[\\w\\.]*\", input_str)\n",
    "    str_pair = dict([ i.split(\"=\") for i in str_list])\n",
    "    return str_pair\n",
    "#\n",
    "print(string_to_dict(\"a=d\"))\n",
    "print(string_to_dict(\"a=d,b.c=343\"))\n",
    "print(string_to_dict(\"(a=d,b.c=343)\"))\n",
    "print(string_to_dict(\"_or=(a=d,b.c=343)\"))\n",
    "print(string_to_dict(\"_or=a=d,b.c=343\"))\n",
    "print(string_to_dict(\"_and=(a=d,b.c=343)\"))\n",
    "print(string_to_dict(\"_and=a=d,b.c=343\"))"
   ]
  },
  {
   "cell_type": "code",
   "execution_count": 220,
   "metadata": {},
   "outputs": [
    {
     "name": "stdout",
     "output_type": "stream",
     "text": [
      "['_and=A=a,B=b', '_and=(_or=(_and=1=1,2=2),(_and=3=3,4=4))', '_or=C=c,D=d,E.id=e']\n",
      "['_and=A=a,B=b', '_or=C=c,D=d,E.id=e']\n",
      "['A=a,B=b']\n",
      "['A=a,B=b']\n",
      "['A=a', 'B=b', '_and=C=c,D=d']\n"
     ]
    }
   ],
   "source": [
    "import re\n",
    "def split_boolean_string(input_str):\n",
    "    if \"(\" in input_str:\n",
    "        or_list=[]\n",
    "        start, acc = -1, 0\n",
    "        for x,y in enumerate(input_str):\n",
    "            if y==\"(\":\n",
    "                if start==-1:\n",
    "                    start = x\n",
    "                else:\n",
    "                    acc += 1\n",
    "            elif y==\")\":\n",
    "                if acc ==0:\n",
    "                    or_list.append(input_str[start+1:x])\n",
    "                    start, acc =-1, 0\n",
    "                else:\n",
    "                    acc -= 1\n",
    "        return or_list\n",
    "    return [input_str]\n",
    "\n",
    "input_str=\"(_and=A=a,B=b),(_and=(_or=(_and=1=1,2=2),(_and=3=3,4=4))),(_or=C=c,D=d,E.id=e)\"\n",
    "or_list = split_boolean_string(input_str)\n",
    "print(or_list)\n",
    "\n",
    "input_str=\"(_and=A=a,B=b),(_or=C=c,D=d,E.id=e)\"\n",
    "or_list = split_boolean_string(input_str)\n",
    "print(or_list)\n",
    "\n",
    "input_str=\"(A=a,B=b)\"\n",
    "or_list = split_boolean_string(input_str)\n",
    "print(or_list)\n",
    "\n",
    "input_str=\"A=a,B=b\"\n",
    "or_list = split_boolean_string(input_str)\n",
    "print(or_list)\n",
    "\n",
    "input_str=\"_or=(A=a),(B=b),(_and=C=c,D=d)\"\n",
    "or_list = split_boolean_string(input_str)\n",
    "print(or_list)"
   ]
  },
  {
   "cell_type": "code",
   "execution_count": 54,
   "metadata": {},
   "outputs": [
    {
     "name": "stdout",
     "output_type": "stream",
     "text": [
      "{'bool': {'must': [{'match': {'a': 'd'}}, {'match': {'b.c': '343'}}]}}\n"
     ]
    }
   ],
   "source": [
    "#create bool-must query    \n",
    "def create_and_must(input_str):\n",
    "    str_dict = string_to_dict(input_str)\n",
    "    bool_dict = {\n",
    "        \"bool\":{\"must\":[]}\n",
    "    }\n",
    "    for k,v in str_dict.items():\n",
    "        bool_dict[\"bool\"][\"must\"].append({\"match\":{k:v}})\n",
    "    return bool_dict\n",
    "\n",
    "#\n",
    "print(create_and_must(\"a=d,b.c=343\"))"
   ]
  },
  {
   "cell_type": "code",
   "execution_count": 224,
   "metadata": {},
   "outputs": [
    {
     "name": "stdout",
     "output_type": "stream",
     "text": [
      "{'bool': {'should': [{'match': {'a': 'd'}}, {'match': {'b.c': '343'}}], 'minimum_should_match': 1}}\n"
     ]
    }
   ],
   "source": [
    "#create bool-should query    \n",
    "def create_or_should(input_str):\n",
    "    str_dict = string_to_dict(input_str)\n",
    "    bool_dict = {\"bool\":{\"should\":[]}}\n",
    "    if len(str_dict.keys())>1:\n",
    "        bool_dict[\"bool\"][\"minimum_should_match\"] = 1\n",
    "    for k,v in str_dict.items():\n",
    "        bool_dict[\"bool\"][\"should\"].append({\"match\":{k:v}})\n",
    "    return bool_dict\n",
    "\n",
    "#\n",
    "print(create_or_should(\"a=d,b.c=343\"))"
   ]
  },
  {
   "cell_type": "code",
   "execution_count": 182,
   "metadata": {},
   "outputs": [
    {
     "name": "stdout",
     "output_type": "stream",
     "text": [
      "{'_or=', '_and='}\n",
      "{'_or='}\n"
     ]
    }
   ],
   "source": [
    "#convert string to json\n",
    "import json\n",
    "import re\n",
    "s1 = \"(_or=A=a,B.id=b),(_and=C,D)\"\n",
    "print(set(re.findall(r\"_or=|_and=\", s1)))\n",
    "s1 = \"(_or=A=a,B.id=b)\"\n",
    "print(set(re.findall(r\"_or=|_and=\", s1)))\n",
    "\n"
   ]
  },
  {
   "cell_type": "code",
   "execution_count": 244,
   "metadata": {},
   "outputs": [
    {
     "name": "stdout",
     "output_type": "stream",
     "text": [
      "{'bool': {'must': [], 'should': [{'bool': {'should': [{'match': {'C': 'c'}}, {'match': {'D': 'd'}}, {'match': {'E.id': 'e'}}], 'minimum_should_match': 1}}]}}\n",
      "\n",
      "{'bool': {'must': [], 'should': [{'bool': {'must': [{'match': {'A': 'a'}}, {'match': {'B': 'b'}}]}}, {'bool': {'should': [{'match': {'C': 'c'}}, {'match': {'D': 'd'}}, {'match': {'E.id': 'e'}}], 'minimum_should_match': 1}}, {'bool': {'must': [], 'should': [{'bool': {'must': [], 'should': [{'bool': {'must': [{'match': {'1': '1'}}, {'match': {'2': '2'}}]}}, {'bool': {'must': [{'match': {'3': '3'}}, {'match': {'4': '4'}}]}}], 'minimum_should_match': 1}}]}}], 'minimum_should_match': 1}}\n",
      "\n",
      "{'bool': {'must': [], 'should': [{'bool': {'must': [], 'should': [{'bool': {'should': [{'match': {'C': 'c'}}]}}, {'bool': {'should': [{'match': {'D': 'd'}}]}}, {'bool': {'must': [{'match': {'E.id': 'e'}}, {'match': {'F': 'f'}}]}}], 'minimum_should_match': 1}}]}}\n",
      "\n",
      "{'bool': {'must': [], 'should': [{'bool': {'must': [], 'should': [{'bool': {'should': [{'match': {'C': 'c'}}]}}, {'bool': {'must': [], 'should': [{'bool': {'should': [{'match': {'D': 'd'}}, {'match': {'B': 'b'}}], 'minimum_should_match': 1}}, {'bool': {'should': [{'match': {'A': 'a'}}]}}], 'minimum_should_match': 2}}, {'bool': {'must': [{'match': {'E.id': 'e'}}, {'match': {'F': 'f'}}]}}], 'minimum_should_match': 1}}]}}\n",
      "\n"
     ]
    }
   ],
   "source": [
    "\n",
    "def create_query(myStr, parent_bool, bool_type=None):\n",
    "    empty_bool = {\"bool\":{\"must\":[],\"should\":[]}}\n",
    "    boolean_list = split_boolean_string(myStr)\n",
    "    \n",
    "    if len(boolean_list)>1:\n",
    "        #print(\"###\", boolean_list)\n",
    "        parent_bool[\"bool\"][\"minimum_should_match\"] = len(boolean_list) if bool_type == '_and' else 1\n",
    "\n",
    "    for boolean_str in boolean_list:\n",
    "        boolean_counts = set(re.findall(r\"_or=|_and=\", boolean_str))\n",
    "        #print('==incursive:', boolean_str)        \n",
    "        if boolean_counts == {\"_and=\", \"_or=\"}:\n",
    "            #print('==incursive:', boolean_str)\n",
    "            if boolean_str.startswith('_and'):\n",
    "                parent_bool[\"bool\"][\"should\"].append(create_query(boolean_str, empty_bool, '_and'))    \n",
    "            else:\n",
    "                parent_bool[\"bool\"][\"should\"].append(create_query(boolean_str, empty_bool))\n",
    "        elif boolean_counts == {\"_and=\"}:\n",
    "            bool_dict = create_and_must(boolean_str)\n",
    "            parent_bool[\"bool\"][\"should\"].append(bool_dict)\n",
    "        else:\n",
    "            bool_dict = create_or_should(boolean_str)\n",
    "            parent_bool[\"bool\"][\"should\"].append(bool_dict)\n",
    "    #print(parent_bool,\"\\n\")\n",
    "    return parent_bool\n",
    "\n",
    "#\n",
    "input_str=\"C=c,D=d,E.id=e\"\n",
    "query_bool = create_query(input_str, {\"bool\":{\"must\":[],\"should\":[]}})\n",
    "print(query_bool, end=\"\\n\\n\")\n",
    "\n",
    "#\n",
    "input_str=\"_or=(_and=A=a,B=b),(_or=C=c,D=d,E.id=e),(_and=(_or=(_and=1=1,2=2),(_and=3=3,4=4)))\"\n",
    "query_bool = create_query(input_str, {\"bool\":{\"must\":[],\"should\":[]}})\n",
    "print(query_bool, end=\"\\n\\n\")\n",
    "\n",
    "input_str=\"(_or=(C=c),(D=d),(_and=(E.id=e, F=f)))\"\n",
    "query_bool = create_query(input_str, {\"bool\":{\"must\":[],\"should\":[]}})\n",
    "print(query_bool, end=\"\\n\\n\")\n",
    "\n",
    "input_str=\"(_or=(C=c),(_and=(_or=D=d,B=b),(A=a)),(_and=(E.id=e, F=f)))\"\n",
    "query_bool = create_query(input_str, {\"bool\":{\"must\":[],\"should\":[]}})\n",
    "print(query_bool, end=\"\\n\\n\")"
   ]
  },
  {
   "cell_type": "markdown",
   "metadata": {},
   "source": [
    "### DNA sequence\n",
    "ATGC\n",
    "-1 C->G\n",
    "-2 G->C\n",
    "-3 T->A\n",
    "-4 A->T"
   ]
  },
  {
   "cell_type": "code",
   "execution_count": 88,
   "metadata": {},
   "outputs": [
    {
     "name": "stdout",
     "output_type": "stream",
     "text": [
      "s\n",
      "a\n",
      "d\n",
      "f\n",
      "s\n",
      "d\n",
      "a\n",
      "f\n"
     ]
    },
    {
     "data": {
      "text/plain": [
       "'sadfsdaf'"
      ]
     },
     "execution_count": 88,
     "metadata": {},
     "output_type": "execute_result"
    }
   ],
   "source": [
    "def print_str(instr):\n",
    "    if len(instr)==0:\n",
    "        return ''\n",
    "    else:\n",
    "        print(instr[0])\n",
    "        return instr[0]+print_str(instr[1:])\n",
    "print_str('sadfsdaf')"
   ]
  },
  {
   "cell_type": "code",
   "execution_count": 94,
   "metadata": {},
   "outputs": [
    {
     "name": "stdout",
     "output_type": "stream",
     "text": [
      "CGAATGNTCGCAT\n"
     ]
    }
   ],
   "source": [
    "def reverse_seq(dnaseq):\n",
    "    return dnaseq[::-1]\n",
    "\n",
    "def com_nt(nt):\n",
    "    c= {'A':'T', 'T':'A','G':'C','C':'G'}\n",
    "    if nt in c:\n",
    "        return c[nt]\n",
    "    return 'N'\n",
    "    \n",
    "def rev_com(dnaseq):\n",
    "    #print(dnaseq)\n",
    "    if len(dnaseq)==0:\n",
    "        return ''\n",
    "    else:\n",
    "        return com_nt(dnaseq[-1]) + rev_com(dnaseq[:-1])\n",
    "\n",
    "print(rev_com('ATGCGAXCATTCG'))"
   ]
  },
  {
   "cell_type": "code",
   "execution_count": 98,
   "metadata": {},
   "outputs": [
    {
     "name": "stdout",
     "output_type": "stream",
     "text": [
      "MLD\n",
      "ML.\n"
     ]
    }
   ],
   "source": [
    "#translate DNA to protein\n",
    "def trans_aa(dna):\n",
    "    aa_dict = {'ATG': \"M\", 'TCC':'L', 'TCG':'D'}\n",
    "    if dna in aa_dict:\n",
    "        return aa_dict[dna]\n",
    "    return '.'\n",
    "\n",
    "def trans_dna(dna):\n",
    "    if len(dna)==3:\n",
    "        return trans_aa(dna)\n",
    "    elif len(dna)<3:\n",
    "        return '.'\n",
    "    else:\n",
    "        return trans_aa(dna[:3]) + trans_dna(dna[3:])\n",
    "print(trans_dna('ATGTCCTCG'))\n",
    "print(trans_dna('ATGTCCTC'))"
   ]
  },
  {
   "cell_type": "code",
   "execution_count": null,
   "metadata": {},
   "outputs": [],
   "source": [
    "\n"
   ]
  },
  {
   "cell_type": "code",
   "execution_count": null,
   "metadata": {},
   "outputs": [],
   "source": []
  },
  {
   "cell_type": "code",
   "execution_count": null,
   "metadata": {},
   "outputs": [],
   "source": []
  },
  {
   "cell_type": "code",
   "execution_count": null,
   "metadata": {},
   "outputs": [],
   "source": []
  },
  {
   "cell_type": "code",
   "execution_count": null,
   "metadata": {},
   "outputs": [],
   "source": [
    "class TreeNode:\n",
    "    def __init__(self):\n",
    "        self.children = {}\n",
    "class Trie:\n",
    "    def __init__(self):\n",
    "        self.root = TreeNode()"
   ]
  },
  {
   "cell_type": "code",
   "execution_count": null,
   "metadata": {},
   "outputs": [],
   "source": []
  },
  {
   "cell_type": "code",
   "execution_count": 598,
   "metadata": {},
   "outputs": [
    {
     "data": {
      "text/plain": [
       "6"
      ]
     },
     "execution_count": 598,
     "metadata": {},
     "output_type": "execute_result"
    }
   ],
   "source": [
    "int(0b110)"
   ]
  },
  {
   "cell_type": "code",
   "execution_count": 595,
   "metadata": {},
   "outputs": [
    {
     "name": "stdout",
     "output_type": "stream",
     "text": [
      "0b11000 0\n"
     ]
    }
   ],
   "source": [
    "x=24\n",
    "print(bin(x), x&1)"
   ]
  },
  {
   "cell_type": "code",
   "execution_count": 599,
   "metadata": {},
   "outputs": [
    {
     "name": "stdout",
     "output_type": "stream",
     "text": [
      "0b11 0b1001 0b1010\n"
     ]
    }
   ],
   "source": [
    "a,b=3,9\n",
    "print(bin(a), bin(b), bin(a^b))"
   ]
  },
  {
   "cell_type": "code",
   "execution_count": 600,
   "metadata": {},
   "outputs": [],
   "source": [
    "class TreeNode:\n",
    "    def __init__(self, val=0, left=None, right=None, next=None):\n",
    "        self.value = val\n",
    "        self.left = left\n",
    "        self.right = right\n",
    "        self.next = next\n",
    "\n",
    "class Solution:\n",
    "    "
   ]
  },
  {
   "cell_type": "code",
   "execution_count": null,
   "metadata": {
    "scrolled": true
   },
   "outputs": [],
   "source": []
  },
  {
   "cell_type": "code",
   "execution_count": 442,
   "metadata": {},
   "outputs": [
    {
     "data": {
      "text/plain": [
       "-1"
      ]
     },
     "execution_count": 442,
     "metadata": {},
     "output_type": "execute_result"
    }
   ],
   "source": [
    "ord('a')-ord('b')"
   ]
  },
  {
   "cell_type": "code",
   "execution_count": 602,
   "metadata": {},
   "outputs": [
    {
     "ename": "SyntaxError",
     "evalue": "invalid syntax (<ipython-input-602-865e0b921b43>, line 1)",
     "output_type": "error",
     "traceback": [
      "\u001b[1;36m  File \u001b[1;32m\"<ipython-input-602-865e0b921b43>\"\u001b[1;36m, line \u001b[1;32m1\u001b[0m\n\u001b[1;33m    a = [][]\u001b[0m\n\u001b[1;37m           ^\u001b[0m\n\u001b[1;31mSyntaxError\u001b[0m\u001b[1;31m:\u001b[0m invalid syntax\n"
     ]
    }
   ],
   "source": [
    "a = [][]"
   ]
  }
 ],
 "metadata": {
  "kernelspec": {
   "display_name": "Python 3",
   "language": "python",
   "name": "python3"
  },
  "language_info": {
   "codemirror_mode": {
    "name": "ipython",
    "version": 3
   },
   "file_extension": ".py",
   "mimetype": "text/x-python",
   "name": "python",
   "nbconvert_exporter": "python",
   "pygments_lexer": "ipython3",
   "version": "3.8.5"
  }
 },
 "nbformat": 4,
 "nbformat_minor": 4
}

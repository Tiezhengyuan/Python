{
 "cells": [
  {
   "cell_type": "markdown",
   "metadata": {},
   "source": [
    "# 2.list\n",
    "simple lists: \n",
    "constructing vectors,\n",
    "indexing and slicing,\n",
    "the len() function\n",
    "indexing,\n",
    "slicing,\n",
    "\n",
    "basic methods: append(),\n",
    "insert(),\n",
    "index()\n",
    "functions: len(),\n",
    "sorted(),\n",
    "etc.),\n",
    "del instruction,\n",
    "\n",
    "iterating lists with the for loop,\n",
    "\n",
    "initializing,\n",
    "\n",
    "in and not in operators,\n",
    "\n",
    "list comprehension,\n",
    "\n",
    "copying and cloning"
   ]
  },
  {
   "cell_type": "markdown",
   "metadata": {},
   "source": [
    "## list is an object: compare the two patterns below"
   ]
  },
  {
   "cell_type": "code",
   "execution_count": 1,
   "metadata": {},
   "outputs": [
    {
     "name": "stdout",
     "output_type": "stream",
     "text": [
      "[1, 2]\n",
      "[3, 2] [3, 2]\n"
     ]
    }
   ],
   "source": [
    "a=[1,2];print(a)\n",
    "b=a  #share the same address\n",
    "b[0]=3\n",
    "print(a,b)"
   ]
  },
  {
   "cell_type": "code",
   "execution_count": 2,
   "metadata": {},
   "outputs": [
    {
     "name": "stdout",
     "output_type": "stream",
     "text": [
      "[1, 2]\n",
      "[1, 2] [3, 2] [5, 2]\n"
     ]
    }
   ],
   "source": [
    "a=[1,2];printznt(a)\n",
    "b=a[:] # new list\n",
    "c=list(a) #new list\n",
    "b[0]=3\n",
    "c[0]=5\n",
    "print(a,b,c)"
   ]
  },
  {
   "cell_type": "markdown",
   "metadata": {},
   "source": [
    "## 2.1 index and slice"
   ]
  },
  {
   "cell_type": "code",
   "execution_count": 18,
   "metadata": {},
   "outputs": [
    {
     "name": "stdout",
     "output_type": "stream",
     "text": [
      "[1,\n",
      "2,\n",
      "3,\n",
      "4,\n",
      "5]\n",
      "3\n",
      "[1,\n",
      "2,\n",
      "3]\n",
      "[2,\n",
      "3]\n",
      "[1,\n",
      "2]\n",
      "[5,\n",
      "4,\n",
      "3,\n",
      "2,\n",
      "1]\n",
      "[5,\n",
      "2]\n",
      "[1,\n",
      "3,\n",
      "5]\n",
      "[3,\n",
      "5]\n"
     ]
    }
   ],
   "source": [
    "a=[1,2,3,4,5]\n",
    "print(a)\n",
    "print(a[2]) #index 2\n",
    "print(a[:3]) #index 0-2\n",
    "print(a[1:3]) #index 1-2\n",
    "print(a[:-3]) # index 0~(4-3) -> 0,1\n",
    "#get one element by certain elements\n",
    "print(a[::-1])# reverse,\n",
    "per 1 element\n",
    "print(a[::-3]) #reverse,\n",
    "per 3 elements\n",
    "print(a[::2]) # start from 0,\n",
    "per 2 elements\n",
    "print(a[2::2]) # start from 2,\n",
    "per 2 elements"
   ]
  },
  {
   "cell_type": "markdown",
   "metadata": {},
   "source": [
    "## 2.2\tbuilt-in methods\n",
    "append(), insert(), extend()\n",
    "pop(), remove(), del\n",
    "len(), max()"
   ]
  },
  {
   "cell_type": "code",
   "execution_count": 6,
   "metadata": {},
   "outputs": [
    {
     "name": "stdout",
     "output_type": "stream",
     "text": [
      "[1, 2, 3, 8]\n",
      "[1, 2, 3, 8, 3]\n",
      "[0, 1, 2, 3, 8, 3]\n",
      "[0, -8, 1, 2, 3, 8, 3]\n"
     ]
    }
   ],
   "source": [
    "a= [1,2,3,8];print(a)\n",
    "#insert: append()\n",
    "a.append(3);print(a) # insert 3 to the end\n",
    "\n",
    "#insert()\n",
    "a.insert(0,0);print(a) # insert 0 before index 0\n",
    "a.insert(1,-8);print(a) # insert 0 before the index 1"
   ]
  },
  {
   "cell_type": "code",
   "execution_count": 18,
   "metadata": {},
   "outputs": [
    {
     "name": "stdout",
     "output_type": "stream",
     "text": [
      "[1, 2, 3, 5, 6, 7, 8, 9, 10]\n",
      "remove the last [1, 2, 3, 5, 6, 7, 8, 9]\n",
      "remove element with index=2 [1, 2, 5, 6, 7, 8, 9]\n",
      "[1, 2, 5, 6, 8, 9]\n",
      "[2, 5, 6, 8, 9]\n",
      "[5, 6, 8, 9]\n"
     ]
    }
   ],
   "source": [
    "#delete: remove(), pop(),\n",
    "a= [1,2,3,5,6,7,8,9,10];print(a)\n",
    "a.pop();print('remove the last',a) # remove the last element\n",
    "a.pop(2);print('remove element with index=2',a)\n",
    "a.remove(7);print(a) # remove the element of which the value is -8\n",
    "del a[0];print(a) # delete the index 0\n",
    "del a[a.index(2)];print(a) # delete the element of which the value is 1"
   ]
  },
  {
   "cell_type": "code",
   "execution_count": 3,
   "metadata": {},
   "outputs": [
    {
     "ename": "ValueError",
     "evalue": "4 is not in list",
     "output_type": "error",
     "traceback": [
      "\u001b[1;31m---------------------------------------------------------------------------\u001b[0m",
      "\u001b[1;31mValueError\u001b[0m                                Traceback (most recent call last)",
      "\u001b[1;32m<ipython-input-3-739095837ab8>\u001b[0m in \u001b[0;36m<module>\u001b[1;34m\u001b[0m\n\u001b[0;32m      1\u001b[0m \u001b[0ma\u001b[0m\u001b[1;33m=\u001b[0m\u001b[1;33m[\u001b[0m\u001b[1;36m1\u001b[0m\u001b[1;33m,\u001b[0m\u001b[1;36m2\u001b[0m\u001b[1;33m]\u001b[0m\u001b[1;33m\u001b[0m\u001b[1;33m\u001b[0m\u001b[0m\n\u001b[1;32m----> 2\u001b[1;33m \u001b[0ma\u001b[0m\u001b[1;33m.\u001b[0m\u001b[0mindex\u001b[0m\u001b[1;33m(\u001b[0m\u001b[1;36m4\u001b[0m\u001b[1;33m)\u001b[0m\u001b[1;33m\u001b[0m\u001b[1;33m\u001b[0m\u001b[0m\n\u001b[0m",
      "\u001b[1;31mValueError\u001b[0m: 4 is not in list"
     ]
    }
   ],
   "source": [
    "a=[1,2]\n",
    "a.index(4)"
   ]
  },
  {
   "cell_type": "code",
   "execution_count": 14,
   "metadata": {},
   "outputs": [
    {
     "name": "stdout",
     "output_type": "stream",
     "text": [
      "length of the list is  10\n",
      "9\n",
      "z\n"
     ]
    }
   ],
   "source": [
    "a= range(10)\n",
    "#len()\n",
    "print(\"length of the list is \",\n",
    "len(a))\n",
    "#max()\n",
    "print(max(a))\n",
    "b= ['a', 'cs', '34', 'z']\n",
    "print(max(b))"
   ]
  },
  {
   "cell_type": "code",
   "execution_count": 117,
   "metadata": {},
   "outputs": [
    {
     "name": "stdout",
     "output_type": "stream",
     "text": [
      "[1,\n",
      "2] [1,\n",
      "2,\n",
      "3,\n",
      "54]\n",
      "[1,\n",
      "2,\n",
      "2,\n",
      "4]\n",
      "None\n"
     ]
    }
   ],
   "source": [
    "#combine two lists\n",
    "\n",
    "#1: + operator\n",
    "a=[1,2]\n",
    "b= a+ [3,54]\n",
    "print(a,b)\n",
    "\n",
    "#2: extend()\n",
    "a.extend([2,4])\n",
    "print(a)\n"
   ]
  },
  {
   "cell_type": "code",
   "execution_count": 141,
   "metadata": {},
   "outputs": [
    {
     "name": "stdout",
     "output_type": "stream",
     "text": [
      "[1,\n",
      "4,\n",
      "3]\n",
      "[0,\n",
      "0,\n",
      "4,\n",
      "3]\n"
     ]
    }
   ],
   "source": [
    "#update list\n",
    "a=[1,2,3]\n",
    "#update one element at a time\n",
    "a[1]=4; print(a)\n",
    "#update multiple element at a time\n",
    "a[:1]=[0,0];print(a)"
   ]
  },
  {
   "cell_type": "code",
   "execution_count": 15,
   "metadata": {},
   "outputs": [
    {
     "ename": "TypeError",
     "evalue": "'float' object cannot be interpreted as an integer",
     "output_type": "error",
     "traceback": [
      "\u001b[1;31m---------------------------------------------------------------------------\u001b[0m",
      "\u001b[1;31mTypeError\u001b[0m                                 Traceback (most recent call last)",
      "\u001b[1;32m<ipython-input-15-ea35c7bffee8>\u001b[0m in \u001b[0;36m<module>\u001b[1;34m\u001b[0m\n\u001b[0;32m      1\u001b[0m \u001b[1;31m#raise error\u001b[0m\u001b[1;33m\u001b[0m\u001b[1;33m\u001b[0m\u001b[1;33m\u001b[0m\u001b[0m\n\u001b[1;32m----> 2\u001b[1;33m \u001b[1;32mfor\u001b[0m \u001b[0mx\u001b[0m \u001b[1;32min\u001b[0m \u001b[0mrange\u001b[0m\u001b[1;33m(\u001b[0m\u001b[1;36m0.5\u001b[0m\u001b[1;33m,\u001b[0m\u001b[1;36m5.5\u001b[0m\u001b[1;33m,\u001b[0m\u001b[1;36m0.5\u001b[0m\u001b[1;33m)\u001b[0m\u001b[1;33m:\u001b[0m\u001b[1;33m\u001b[0m\u001b[1;33m\u001b[0m\u001b[0m\n\u001b[0m\u001b[0;32m      3\u001b[0m   \u001b[0mprint\u001b[0m\u001b[1;33m(\u001b[0m\u001b[0mx\u001b[0m\u001b[1;33m)\u001b[0m\u001b[1;33m\u001b[0m\u001b[1;33m\u001b[0m\u001b[0m\n",
      "\u001b[1;31mTypeError\u001b[0m: 'float' object cannot be interpreted as an integer"
     ]
    }
   ],
   "source": []
  },
  {
   "cell_type": "markdown",
   "metadata": {},
   "source": [
    "## 2.3 sort list"
   ]
  },
  {
   "cell_type": "code",
   "execution_count": 1,
   "metadata": {},
   "outputs": [
    {
     "name": "stdout",
     "output_type": "stream",
     "text": [
      "[-9, 1, 2, 4, 4, 100]\n",
      "[100, 4, 4, 2, 1, -9]\n",
      "[-9, 1, 2, 4, 4, 100]\n",
      "[100, 4, 4, 2, 1, -9]\n"
     ]
    }
   ],
   "source": [
    "a=[4,1,100,4,-9,2]\n",
    "#sorted()\n",
    "b=sorted(a);print(b)\n",
    "b=sorted(a,\n",
    "reverse=True);print(b)\n",
    "#list.sort()\n",
    "a.sort();print(a)\n",
    "a.sort(reverse=True);print(a)"
   ]
  },
  {
   "cell_type": "code",
   "execution_count": 2,
   "metadata": {},
   "outputs": [
    {
     "name": "stdout",
     "output_type": "stream",
     "text": [
      "[{'name': 'Cary', 'age': 25}, {'name': 'John', 'age': 45}, {'name': 'Nancy', 'age': 36}, {'name': 'Trump', 'age': 58}]\n",
      "[{'name': 'Trump', 'age': 58}, {'name': 'John', 'age': 45}, {'name': 'Nancy', 'age': 36}, {'name': 'Cary', 'age': 25}]\n"
     ]
    }
   ],
   "source": [
    "employee=[{'name':'John','age':45},{'name':'Trump','age':58},{'name':'Cary','age':25},{'name':'Nancy','age':36}]\n",
    "#sort by key\n",
    "employee.sort(key=lambda x: x['name'])\n",
    "print(employee)\n",
    "\n",
    "#sort by key\n",
    "def get_age(employee_item):\n",
    "    return employee_item['age']\n",
    "employee.sort(key=get_age,\n",
    "reverse=True)\n",
    "print(employee)"
   ]
  },
  {
   "cell_type": "markdown",
   "metadata": {},
   "source": [
    "## remove duplicates"
   ]
  },
  {
   "cell_type": "code",
   "execution_count": 4,
   "metadata": {},
   "outputs": [
    {
     "name": "stdout",
     "output_type": "stream",
     "text": [
      "['a', 'b']\n"
     ]
    }
   ],
   "source": [
    "#use set()\n",
    "a = ['b', 'b', 'a', 'b']\n",
    "ua= list(set(a))\n",
    "print(ua)"
   ]
  },
  {
   "cell_type": "code",
   "execution_count": 6,
   "metadata": {},
   "outputs": [
    {
     "name": "stdout",
     "output_type": "stream",
     "text": [
      "['a', 'b']\n"
     ]
    }
   ],
   "source": [
    "#use numpy.unique\n",
    "import numpy as np\n",
    "a = ['b', 'b', 'a', 'b']\n",
    "ua= list(np.unique(a))\n",
    "print(ua)"
   ]
  },
  {
   "cell_type": "code",
   "execution_count": 15,
   "metadata": {},
   "outputs": [
    {
     "name": "stdout",
     "output_type": "stream",
     "text": [
      "['b', 'c', 'd', 'a']\n"
     ]
    }
   ],
   "source": [
    "import numpy as np\n",
    "a = ['b','c', 'b','d', 'a', 'b', 'a', 'd']\n",
    "_, indexes = np.unique(a, return_index=True)\n",
    "ua = [a[i] for i in sorted(indexes)]\n",
    "print(ua)"
   ]
  },
  {
   "cell_type": "code",
   "execution_count": 16,
   "metadata": {},
   "outputs": [
    {
     "name": "stdout",
     "output_type": "stream",
     "text": [
      "[{'status': 'active', 'datetime': '3'}, {'status': 'completed', 'datetime': '2'}]\n"
     ]
    }
   ],
   "source": [
    "import numpy as np\n",
    "a = [{'status': 'active', \"datetime\":'3'},{'status': 'active', \"datetime\":'2'},{'status': 'completed', \"datetime\":'2'}]\n",
    "_, indexes = np.unique([ x['status'] for x in a], return_index=True)\n",
    "ua = [a[i] for i in sorted(indexes)]\n",
    "print(ua)"
   ]
  },
  {
   "cell_type": "markdown",
   "metadata": {},
   "source": [
    "## list loop"
   ]
  },
  {
   "cell_type": "code",
   "execution_count": 63,
   "metadata": {},
   "outputs": [
    {
     "name": "stdout",
     "output_type": "stream",
     "text": [
      "0\n",
      "1\n",
      "2\n",
      "3\n"
     ]
    }
   ],
   "source": [
    "#for loop\n",
    "for x in range(4):\n",
    "    print(x)"
   ]
  },
  {
   "cell_type": "code",
   "execution_count": 64,
   "metadata": {},
   "outputs": [
    {
     "name": "stdout",
     "output_type": "stream",
     "text": [
      "0=a\n",
      "1=b\n",
      "2=xy\n"
     ]
    }
   ],
   "source": [
    "#loop with index and value\n",
    "a=['a',\n",
    "'b',\n",
    "'xy']\n",
    "for i,\n",
    "x in enumerate(a):\n",
    "    print(f\"{i}={x}\")"
   ]
  },
  {
   "cell_type": "code",
   "execution_count": 65,
   "metadata": {},
   "outputs": [
    {
     "name": "stdout",
     "output_type": "stream",
     "text": [
      "1 a\n",
      "2 x\n",
      "3 b\n"
     ]
    }
   ],
   "source": [
    "#loop two lists: zip()\n",
    "a=[1,2,3]\n",
    "b=['a',\n",
    "'x','b']\n",
    "for x,y in zip(a,b):\n",
    "    print(x,y)"
   ]
  },
  {
   "cell_type": "code",
   "execution_count": 87,
   "metadata": {},
   "outputs": [
    {
     "name": "stdout",
     "output_type": "stream",
     "text": [
      "['a:',\n",
      "'b:',\n",
      "'ab:']\n",
      "['a:',\n",
      "'ab:']\n"
     ]
    }
   ],
   "source": [
    "#one line of list loop\n",
    "a=[ 'a',\n",
    "'b',\n",
    "'ab']\n",
    "#\n",
    "b = [x+':' for x in a]\n",
    "print(b)\n",
    "b = [x+':' for x in a if 'a' in x]\n",
    "print(b)"
   ]
  },
  {
   "cell_type": "code",
   "execution_count": 139,
   "metadata": {},
   "outputs": [
    {
     "name": "stdout",
     "output_type": "stream",
     "text": [
      "range(1,\n",
      "11)\n",
      "1 2\n",
      "3 4\n",
      "5 6\n",
      "7 8\n",
      "9 10\n",
      "1 2\n",
      "3 4\n",
      "5 6\n",
      "7 8\n",
      "9 10\n"
     ]
    }
   ],
   "source": [
    "#multiple elements at an iterate\n",
    "a= range(1,11);print(a)\n",
    "#1: list slice\n",
    "for x,y in zip(a[:-1:2],a[1::2]):\n",
    "    print(x,y)\n",
    "#2: even/odd index\n",
    "for i in range(0,\n",
    "len(a)-1,\n",
    "2):\n",
    "    print(a[i],a[i+1])\n"
   ]
  },
  {
   "cell_type": "code",
   "execution_count": null,
   "metadata": {},
   "outputs": [],
   "source": [
    "#raise error\n",
    "for x in range(0.5,5.5,0.5):\n",
    "  print(x)"
   ]
  },
  {
   "cell_type": "markdown",
   "metadata": {},
   "source": [
    "### copy a list\n",
    "shallow copy and deep copy"
   ]
  },
  {
   "cell_type": "code",
   "execution_count": 90,
   "metadata": {},
   "outputs": [
    {
     "name": "stdout",
     "output_type": "stream",
     "text": [
      "100811784\n",
      "100811784\n",
      "[1,\n",
      "2,\n",
      "3,\n",
      "4] [1,\n",
      "2,\n",
      "3,\n",
      "4]\n"
     ]
    }
   ],
   "source": [
    "#list is object\n",
    "a=[1,2,3]\n",
    "b=a #shallow copy\n",
    "print(id(a),\n",
    "id(b))\n",
    "b.append(4)\n",
    "print(a,\n",
    "b)"
   ]
  },
  {
   "cell_type": "code",
   "execution_count": 98,
   "metadata": {},
   "outputs": [
    {
     "name": "stdout",
     "output_type": "stream",
     "text": [
      "[1,\n",
      "2] [1,\n",
      "2,\n",
      "4]\n",
      "12329864 100831880\n",
      "[1,\n",
      "2] [1,\n",
      "2,\n",
      "5]\n",
      "[1,\n",
      "2] [1,\n",
      "2,\n",
      "3]\n"
     ]
    }
   ],
   "source": [
    "#deep copy\n",
    "#deepcopy()\n",
    "from copy import deepcopy\n",
    "a=[1,2]\n",
    "b=deepcopy(a)\n",
    "b.append(4)\n",
    "print(a,\n",
    "b)\n",
    "\n",
    "#copy()\n",
    "c=a.copy()\n",
    "print(id(a),\n",
    "id(c))\n",
    "c.append(5)\n",
    "print(a,c)\n",
    "\n",
    "#list()\n",
    "d=list(a)\n",
    "d.append(3)\n",
    "print(a,d)"
   ]
  },
  {
   "cell_type": "markdown",
   "metadata": {},
   "source": [
    "### convert between string and list\n",
    "split(), join()"
   ]
  },
  {
   "cell_type": "code",
   "execution_count": 105,
   "metadata": {},
   "outputs": [
    {
     "name": "stdout",
     "output_type": "stream",
     "text": [
      "a-b\n"
     ]
    },
    {
     "ename": "TypeError",
     "evalue": "sequence item 1: expected str instance,\nint found",
     "output_type": "error",
     "traceback": [
      "\u001b[1;31m---------------------------------------------------------------------------\u001b[0m",
      "\u001b[1;31mTypeError\u001b[0m                                 Traceback (most recent call last)",
      "\u001b[1;32m<ipython-input-105-be3ab4ecea00>\u001b[0m in \u001b[0;36m<module>\u001b[1;34m\u001b[0m\n\u001b[0;32m      6\u001b[0m \u001b[1;31m#error\u001b[0m\u001b[1;33m\u001b[0m\u001b[1;33m\u001b[0m\u001b[1;33m\u001b[0m\u001b[0m\n\u001b[0;32m      7\u001b[0m \u001b[0ma\u001b[0m\u001b[1;33m=\u001b[0m\u001b[1;33m[\u001b[0m\u001b[1;34m'a'\u001b[0m\u001b[1;33m,\u001b[0m\u001b[1;36m1\u001b[0m\u001b[1;33m]\u001b[0m\u001b[1;33m\u001b[0m\u001b[1;33m\u001b[0m\u001b[0m\n\u001b[1;32m----> 8\u001b[1;33m \u001b[0ms\u001b[0m \u001b[1;33m=\u001b[0m \u001b[1;34m'-'\u001b[0m\u001b[1;33m.\u001b[0m\u001b[0mjoin\u001b[0m\u001b[1;33m(\u001b[0m\u001b[0ma\u001b[0m\u001b[1;33m)\u001b[0m\u001b[1;33m\u001b[0m\u001b[1;33m\u001b[0m\u001b[0m\n\u001b[0m\u001b[0;32m      9\u001b[0m \u001b[0mprint\u001b[0m\u001b[1;33m(\u001b[0m\u001b[0ms\u001b[0m\u001b[1;33m)\u001b[0m\u001b[1;33m\u001b[0m\u001b[1;33m\u001b[0m\u001b[0m\n",
      "\u001b[1;31mTypeError\u001b[0m: sequence item 1: expected str instance,\nint found"
     ]
    }
   ],
   "source": [
    "#list to string\n",
    "a= ['a',\n",
    "'b']\n",
    "s = '-'.join(a)\n",
    "print(s)\n",
    "\n",
    "#error\n",
    "a=['a',1]\n",
    "s = '-'.join(a)\n",
    "print(s)"
   ]
  },
  {
   "cell_type": "code",
   "execution_count": 122,
   "metadata": {},
   "outputs": [
    {
     "name": "stdout",
     "output_type": "stream",
     "text": [
      "['we',\n",
      "'are',\n",
      "'good',\n",
      "'friends']\n",
      "['good',\n",
      "'morning']\n",
      "['we',\n",
      "'are',\n",
      "'good friends']\n",
      "['we are good friends']\n"
     ]
    }
   ],
   "source": [
    "#string to list: split() #default is white space\n",
    "s1='we are good friends'\n",
    "a= s1.split(' ');print(a)\n",
    "\n",
    "s2='good morning'\n",
    "a=s2.split();print(a)\n",
    "\n",
    "#split with max 2 spliter\n",
    "a=s1.split(' ',\n",
    "2);print(a)\n",
    "a=s1.split('#',\n",
    "2);print(a)"
   ]
  },
  {
   "cell_type": "markdown",
   "metadata": {},
   "source": [
    "## lists in lists: matrices and cubes"
   ]
  },
  {
   "cell_type": "code",
   "execution_count": null,
   "metadata": {},
   "outputs": [],
   "source": []
  }
 ],
 "metadata": {
  "kernelspec": {
   "display_name": "Python 3",
   "language": "python",
   "name": "python3"
  },
  "language_info": {
   "codemirror_mode": {
    "name": "ipython",
    "version": 3
   },
   "file_extension": ".py",
   "mimetype": "text/x-python",
   "name": "python",
   "nbconvert_exporter": "python",
   "pygments_lexer": "ipython3",
   "version": "3.8.5"
  }
 },
 "nbformat": 4,
 "nbformat_minor": 4
}

{
 "cells": [
  {
   "cell_type": "markdown",
   "metadata": {
    "slideshow": {
     "slide_type": "subslide"
    }
   },
   "source": [
    "PCEP – Certified Entry-Level Python Programmer Certification: Exam Syllabus"
   ]
  },
  {
   "cell_type": "markdown",
   "metadata": {},
   "source": [
    "# flow control: \n",
    "Flow Control – loops and conditional blocks (20%)\n",
    "Objectives covered by the block (6 exam items)"
   ]
  },
  {
   "cell_type": "markdown",
   "metadata": {},
   "source": [
    "# 1\tconditional statements: \n",
    "if,\n",
    "if-else,\n",
    "if-elif,\n",
    "if-elif-else\n",
    "multiple conditional statements"
   ]
  },
  {
   "cell_type": "code",
   "execution_count": 104,
   "metadata": {},
   "outputs": [
    {
     "name": "stdout",
     "output_type": "stream",
     "text": [
      "3\n"
     ]
    }
   ],
   "source": [
    "a=3\n",
    "if a==3:\n",
    "    print(a)\n",
    "else:\n",
    "    print(-a)"
   ]
  },
  {
   "cell_type": "code",
   "execution_count": 5,
   "metadata": {},
   "outputs": [
    {
     "name": "stdout",
     "output_type": "stream",
     "text": [
      "2.0\n",
      "3\n"
     ]
    }
   ],
   "source": [
    "#analyze the if statements\n",
    "a= 4\n",
    "if a<0:\n",
    "    a = -a\n",
    "elif a==0:\n",
    "    a = 1\n",
    "else:\n",
    "    a *= .5\n",
    "print(a)\n",
    "\n",
    "a = 0\n",
    "b = a ** 0\n",
    "if b < a + 1:\n",
    " c = 1\n",
    "elif b == 1:\n",
    " c = 2\n",
    "else:\n",
    " c = 3\n",
    "print(a + b + c)"
   ]
  },
  {
   "cell_type": "code",
   "execution_count": 165,
   "metadata": {},
   "outputs": [
    {
     "name": "stdout",
     "output_type": "stream",
     "text": [
      "True\n",
      "True\n"
     ]
    }
   ],
   "source": [
    "#check special expression\n",
    "if 3:\n",
    "    print(True)\n",
    "\n",
    "a,b=3,5\n",
    "if a+b:\n",
    "    print(True)"
   ]
  },
  {
   "cell_type": "code",
   "execution_count": 1,
   "metadata": {},
   "outputs": [
    {
     "name": "stdout",
     "output_type": "stream",
     "text": [
      "1\n"
     ]
    }
   ],
   "source": [
    "#this pattern is not syntax error but cause logistic error\n",
    "#the statement will return at line 4\n",
    "a=3\n",
    "if a>0:\n",
    "    print(1)\n",
    "elif a==3:\n",
    "    print(2)\n",
    "else:\n",
    "    print(3)"
   ]
  },
  {
   "cell_type": "code",
   "execution_count": 2,
   "metadata": {},
   "outputs": [
    {
     "name": "stdout",
     "output_type": "stream",
     "text": [
      "2\n"
     ]
    }
   ],
   "source": [
    "#None is taken as False\n",
    "a=None\n",
    "if a:\n",
    "    print(1)\n",
    "else:\n",
    "    print(2)"
   ]
  },
  {
   "cell_type": "code",
   "execution_count": 5,
   "metadata": {},
   "outputs": [
    {
     "name": "stdout",
     "output_type": "stream",
     "text": [
      "3\n",
      "0\n",
      "1\n"
     ]
    }
   ],
   "source": [
    "#Note: 1 and True are equivalent. 0 and False are equivalent\n",
    "a=1\n",
    "if a==True:\n",
    "    print(3)\n",
    "\n",
    "b=0\n",
    "if b==False:\n",
    "    print(b)"
   ]
  },
  {
   "cell_type": "code",
   "execution_count": 4,
   "metadata": {},
   "outputs": [
    {
     "name": "stdout",
     "output_type": "stream",
     "text": [
      "3\n"
     ]
    }
   ],
   "source": []
  },
  {
   "cell_type": "markdown",
   "metadata": {},
   "source": [
    "\n",
    "# 2\tstatement: pass, continue, break\n",
    "break and continue instruction\n",
    "pass statement: nothing happens when pass is executed. pass is usually used as place holder.\n",
    "continue statement: skip the rest code for current iteration in a loop.\n",
    "break statement: terminate the loop or innermost loop if there are nested loops.\n",
    "\n",
    "Note the different impacts on loop"
   ]
  },
  {
   "cell_type": "code",
   "execution_count": 170,
   "metadata": {},
   "outputs": [
    {
     "name": "stdout",
     "output_type": "stream",
     "text": [
      "pass:\n",
      "J\n",
      "o\n",
      "h\n",
      "n\n",
      "break\n",
      "J\n",
      "continue\n",
      "J\n",
      "h\n",
      "n\n"
     ]
    }
   ],
   "source": [
    "s='John'\n",
    "print('pass:')\n",
    "for x in s:\n",
    "    if x == 'o':\n",
    "        pass\n",
    "    print(x)\n",
    "\n",
    "print('break')\n",
    "for x in s:\n",
    "    if x=='o':\n",
    "        break\n",
    "    print(x)\n",
    "\n",
    "print('continue')\n",
    "for x in s:\n",
    "    if x=='o':\n",
    "        continue\n",
    "    print(x)"
   ]
  },
  {
   "cell_type": "code",
   "execution_count": 172,
   "metadata": {},
   "outputs": [
    {
     "name": "stdout",
     "output_type": "stream",
     "text": [
      "0 s\n",
      "0 p\n",
      "1 s\n",
      "1 p\n",
      "2 s\n",
      "2 p\n"
     ]
    }
   ],
   "source": [
    "#break only cause existing of inner loop\n",
    "for x in range(3):\n",
    "    for y in 'spy':\n",
    "        if y == 'y':\n",
    "            break\n",
    "        print(x,y)"
   ]
  },
  {
   "cell_type": "markdown",
   "metadata": {},
   "source": [
    "# 3\tbuilding loops: for\n",
    "for loop of string,\n",
    "list,\n",
    "and dictionary\n",
    "nested for loop\n"
   ]
  },
  {
   "cell_type": "markdown",
   "metadata": {},
   "source": [
    "## loop of list and string"
   ]
  },
  {
   "cell_type": "code",
   "execution_count": 109,
   "metadata": {},
   "outputs": [
    {
     "name": "stdout",
     "output_type": "stream",
     "text": [
      "1\n",
      "2\n",
      "3\n"
     ]
    }
   ],
   "source": [
    "a= [1,\n",
    "2,\n",
    "3]\n",
    "for x in a:\n",
    "    print(x)"
   ]
  },
  {
   "cell_type": "code",
   "execution_count": 111,
   "metadata": {},
   "outputs": [
    {
     "name": "stdout",
     "output_type": "stream",
     "text": [
      "0\n",
      "1\n",
      "2\n",
      "3\n",
      "4\n"
     ]
    }
   ],
   "source": [
    "for x in range(5):\n",
    "    print(x)"
   ]
  },
  {
   "cell_type": "code",
   "execution_count": 116,
   "metadata": {},
   "outputs": [
    {
     "name": "stdout",
     "output_type": "stream",
     "text": [
      "1\n",
      "3\n",
      "5\n",
      "7\n",
      "9\n"
     ]
    }
   ],
   "source": [
    "for x in range(1,\n",
    "10,\n",
    "2):\n",
    "    print(x)"
   ]
  },
  {
   "cell_type": "code",
   "execution_count": 123,
   "metadata": {},
   "outputs": [
    {
     "name": "stdout",
     "output_type": "stream",
     "text": [
      "a\n",
      "b\n",
      "c\n"
     ]
    }
   ],
   "source": [
    "for s in 'abc':\n",
    "    print(s)"
   ]
  },
  {
   "cell_type": "code",
   "execution_count": 126,
   "metadata": {},
   "outputs": [
    {
     "name": "stdout",
     "output_type": "stream",
     "text": [
      "1\n",
      "3\n",
      "5\n",
      "7\n",
      "9\n"
     ]
    }
   ],
   "source": [
    "for s in '1234567890'[::2]:\n",
    "    print(s)"
   ]
  },
  {
   "cell_type": "markdown",
   "metadata": {},
   "source": [
    "## special points"
   ]
  },
  {
   "cell_type": "code",
   "execution_count": 1,
   "metadata": {},
   "outputs": [
    {
     "ename": "NameError",
     "evalue": "name 'i' is not defined",
     "output_type": "error",
     "traceback": [
      "\u001b[1;31m---------------------------------------------------------------------------\u001b[0m",
      "\u001b[1;31mNameError\u001b[0m                                 Traceback (most recent call last)",
      "\u001b[1;32m<ipython-input-1-1862ee1416de>\u001b[0m in \u001b[0;36m<module>\u001b[1;34m\u001b[0m\n\u001b[0;32m      1\u001b[0m \u001b[1;31m#Note: i is defined in the loop. Once the loop terminates, the variable will not exist.\u001b[0m\u001b[1;33m\u001b[0m\u001b[1;33m\u001b[0m\u001b[1;33m\u001b[0m\u001b[0m\n\u001b[1;32m----> 2\u001b[1;33m \u001b[1;32mdel\u001b[0m \u001b[0mi\u001b[0m\u001b[1;33m\u001b[0m\u001b[1;33m\u001b[0m\u001b[0m\n\u001b[0m\u001b[0;32m      3\u001b[0m \u001b[1;32mfor\u001b[0m \u001b[0mi\u001b[0m \u001b[1;32min\u001b[0m \u001b[0mrange\u001b[0m\u001b[1;33m(\u001b[0m\u001b[1;36m10\u001b[0m\u001b[1;33m)\u001b[0m\u001b[1;33m:\u001b[0m\u001b[1;33m\u001b[0m\u001b[1;33m\u001b[0m\u001b[0m\n\u001b[0;32m      4\u001b[0m     \u001b[1;32mpass\u001b[0m\u001b[1;33m\u001b[0m\u001b[1;33m\u001b[0m\u001b[0m\n\u001b[0;32m      5\u001b[0m \u001b[0mprint\u001b[0m\u001b[1;33m(\u001b[0m\u001b[0mi\u001b[0m\u001b[1;33m)\u001b[0m\u001b[1;33m\u001b[0m\u001b[1;33m\u001b[0m\u001b[0m\n",
      "\u001b[1;31mNameError\u001b[0m: name 'i' is not defined"
     ]
    }
   ],
   "source": [
    "#Note: i is defined in the loop. Once the loop terminates, the variable will not exist.\n",
    "del i\n",
    "for i in range(10):\n",
    "    pass\n",
    "print(i)"
   ]
  },
  {
   "cell_type": "markdown",
   "metadata": {},
   "source": [
    "## nestd for loop"
   ]
  },
  {
   "cell_type": "code",
   "execution_count": null,
   "metadata": {},
   "outputs": [],
   "source": [
    "lst = [[c for c in range(r)] for r in range(3)]\n",
    "for x in lst:\n",
    "    for y in x:\n",
    "         if y < 2:\n",
    "             print('*', end='')\n"
   ]
  },
  {
   "cell_type": "code",
   "execution_count": 11,
   "metadata": {},
   "outputs": [
    {
     "name": "stdout",
     "output_type": "stream",
     "text": [
      "[[],\n",
      "[0],\n",
      "[0,\n",
      "1]]\n",
      "***"
     ]
    }
   ],
   "source": [
    "lst = [[c for c in range(r)] for r in range(3)]\n",
    "print(lst)\n",
    "for x in lst:\n",
    "    for y in x:\n",
    "        if y < 2:\n",
    "            print('*', end='')"
   ]
  },
  {
   "cell_type": "markdown",
   "metadata": {},
   "source": [
    "## while\n",
    "while loop\n",
    "while - else\n",
    "while - break -else\n",
    "\n",
    "conditions:\n",
    "1. if while loop is working, the else statement will be skipped after while loop withdraws.\n",
    "2. if while loop is not working, skip while loop and execute else statement.\n",
    "\n",
    "for-else\n",
    "Note: Do loop firstly and then do else statement. logic differs from if-else"
   ]
  },
  {
   "cell_type": "code",
   "execution_count": 2,
   "metadata": {},
   "outputs": [
    {
     "name": "stdout",
     "output_type": "stream",
     "text": [
      "10\n",
      "7\n",
      "4\n",
      "1\n",
      "-2\n"
     ]
    }
   ],
   "source": [
    "#while loop\n",
    "a=10\n",
    "while a>0:\n",
    "    print(a)\n",
    "    a -= 3\n",
    "print(a) # Note the last print statement"
   ]
  },
  {
   "cell_type": "code",
   "execution_count": 10,
   "metadata": {},
   "outputs": [
    {
     "name": "stdout",
     "output_type": "stream",
     "text": [
      "125\n",
      "-2\n"
     ]
    }
   ],
   "source": [
    "#1 while loop is not working. go into else statement\n",
    "a=250 \n",
    "while len(str(a))>10:\n",
    "    a *= 2\n",
    "else:\n",
    "    a //= 2 #-> a= a//2\n",
    "print(a)\n",
    "\n",
    "#2: while loop is working, execute while loop and then else statement \n",
    "a=250 \n",
    "while a > 0:\n",
    "    a = -3\n",
    "else:\n",
    "    a //= 2\n",
    "print(a)\n",
    "\n"
   ]
  },
  {
   "cell_type": "code",
   "execution_count": 11,
   "metadata": {},
   "outputs": [
    {
     "name": "stdout",
     "output_type": "stream",
     "text": [
      "*\n",
      "*\n",
      "*\n",
      "*\n"
     ]
    }
   ],
   "source": [
    "#logic: do while if i>0, or do else\n",
    "i=3\n",
    "while i>0:\n",
    "    i -= 1\n",
    "    print('*')\n",
    "else:\n",
    "    print('*')"
   ]
  },
  {
   "cell_type": "code",
   "execution_count": null,
   "metadata": {},
   "outputs": [],
   "source": [
    "a= -10\n",
    "while a>0:\n",
    "    print(f\">0:{a}\")\n",
    "    a -= 1\n",
    "else:\n",
    "    print(\"Done\")"
   ]
  },
  {
   "cell_type": "code",
   "execution_count": 39,
   "metadata": {},
   "outputs": [
    {
     "name": "stdout",
     "output_type": "stream",
     "text": [
      "*\n",
      "*\n",
      "*\n",
      "*\n"
     ]
    }
   ],
   "source": [
    "a= [1,3,6]\n",
    "for x in a:\n",
    "    print(x)\n",
    "else:\n",
    "    print('done')"
   ]
  },
  {
   "cell_type": "markdown",
   "metadata": {},
   "source": [
    "##  expanding loops: while-break-else,\n"
   ]
  },
  {
   "cell_type": "code",
   "execution_count": null,
   "metadata": {},
   "outputs": [],
   "source": []
  },
  {
   "cell_type": "code",
   "execution_count": null,
   "metadata": {},
   "outputs": [],
   "source": []
  },
  {
   "cell_type": "code",
   "execution_count": null,
   "metadata": {},
   "outputs": [],
   "source": [
    "#2: while loop is working. \n",
    "while len(str(a))>0:\n",
    "    a *= 2 #-> a= a*2\n",
    "    break #without break, it go into infinite loop\n",
    "else:\n",
    "    a //= 2\n",
    "print(a)"
   ]
  },
  {
   "cell_type": "code",
   "execution_count": null,
   "metadata": {},
   "outputs": [],
   "source": [
    "#Note: if while loop is working, the else statement will be skipped after while loop withdraws.\n",
    "i = 10\n",
    "while i > 0 :\n",
    "    i -= 3\n",
    "    print(\"*\")\n",
    "    if i <= 3:\n",
    "        break\n",
    "else:\n",
    "    print(\"*\")"
   ]
  },
  {
   "cell_type": "code",
   "execution_count": null,
   "metadata": {},
   "outputs": [],
   "source": [
    "#2: while loop is working. execute while loop then break the loop. Don't execute else statement\n",
    "a=250 \n",
    "while len(str(a))>0:\n",
    "    a *= 2 #-> a= a*2\n",
    "    break #without break, it go into infinite loop\n",
    "else:\n",
    "    a //= 2\n",
    "print(a)"
   ]
  },
  {
   "cell_type": "markdown",
   "metadata": {},
   "source": []
  },
  {
   "cell_type": "code",
   "execution_count": null,
   "metadata": {},
   "outputs": [],
   "source": []
  },
  {
   "cell_type": "markdown",
   "metadata": {},
   "source": [
    "# 6. common errors"
   ]
  },
  {
   "cell_type": "code",
   "execution_count": null,
   "metadata": {},
   "outputs": [],
   "source": []
  },
  {
   "cell_type": "markdown",
   "metadata": {},
   "source": [
    "# generator\n",
    "generator is sort of function in Python. \n",
    "1. It use yield rather than return. Yield will return a value to the caller, and remember current state waiting for the next calling of yield. Unlike return, yield doesn't exist this function.\n",
    "2. generator could save memory usage especially if a function returns large data. In this case, generator is better than iterator (for/while loop)"
   ]
  },
  {
   "cell_type": "markdown",
   "metadata": {},
   "source": [
    "## basic generator"
   ]
  },
  {
   "cell_type": "code",
   "execution_count": 4,
   "metadata": {},
   "outputs": [
    {
     "name": "stdout",
     "output_type": "stream",
     "text": [
      "range(0, 4)\n",
      "0\n",
      "1\n",
      "2\n",
      "3\n"
     ]
    }
   ],
   "source": [
    "#build generator using range()\n",
    "x = range(4)\n",
    "print(x)\n",
    "#loop generator like array\n",
    "for i in x:\n",
    "    print(i)"
   ]
  },
  {
   "cell_type": "code",
   "execution_count": 9,
   "metadata": {},
   "outputs": [
    {
     "name": "stdout",
     "output_type": "stream",
     "text": [
      "<generator object get_letter at 0x00FEAD10>\n",
      "a\n",
      "b\n",
      "c\n",
      "end iteration\n"
     ]
    }
   ],
   "source": [
    "#define a generator\n",
    "def get_letter():\n",
    "    for i in \"abc\":\n",
    "        yield i\n",
    "m=get_letter()\n",
    "print(m)\n",
    "\n",
    "#call a value one by one\n",
    "print(next(m))\n",
    "print(next(m))\n",
    "print(next(m))\n",
    "try:\n",
    "    print(next(m))\n",
    "except StopIteration:\n",
    "    print(\"end iteration\")"
   ]
  },
  {
   "cell_type": "code",
   "execution_count": 8,
   "metadata": {},
   "outputs": [
    {
     "name": "stdout",
     "output_type": "stream",
     "text": [
      "a\n",
      "b\n",
      "c\n"
     ]
    }
   ],
   "source": [
    "#iterate a generator\n",
    "def get_letter():\n",
    "    for i in \"abc\":\n",
    "        yield i\n",
    "m=get_letter()\n",
    "for l in m:\n",
    "    print(l)"
   ]
  },
  {
   "cell_type": "markdown",
   "metadata": {},
   "source": [
    "## complexity of for loop \n",
    "time complexity: O(), O(1)"
   ]
  },
  {
   "cell_type": "code",
   "execution_count": null,
   "metadata": {},
   "outputs": [],
   "source": [
    "#O(1): Here c is a constant   \n",
    "for i in range(c):\n",
    "    #some O(1) expression\n",
    "    pass"
   ]
  },
  {
   "cell_type": "code",
   "execution_count": null,
   "metadata": {},
   "outputs": [],
   "source": [
    "#O(n): C is constant, n is incremented/decremented\n",
    "i=0\n",
    "while(i<n):\n",
    "   i+=c "
   ]
  },
  {
   "cell_type": "code",
   "execution_count": null,
   "metadata": {},
   "outputs": [],
   "source": [
    "#O(n^2): C is constant, n is incremented/decremented\n",
    "i,j=0,0\n",
    "while(i<n):\n",
    "    while(j<n):\n",
    "        i+=c \n",
    "        j+=c"
   ]
  }
 ],
 "metadata": {
  "kernelspec": {
   "display_name": "Python 3",
   "language": "python",
   "name": "python3"
  },
  "language_info": {
   "codemirror_mode": {
    "name": "ipython",
    "version": 3
   },
   "file_extension": ".py",
   "mimetype": "text/x-python",
   "name": "python",
   "nbconvert_exporter": "python",
   "pygments_lexer": "ipython3",
   "version": "3.8.5"
  }
 },
 "nbformat": 4,
 "nbformat_minor": 4
}

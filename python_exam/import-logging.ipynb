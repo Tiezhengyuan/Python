{
 "cells": [
  {
   "cell_type": "markdown",
   "metadata": {},
   "source": [
    "# logging\n",
    "\n",
    "level name:\n",
    "CRITICAL\n",
    "ERROR\n",
    "WARNING\n",
    "INFO\n",
    "DEBUG\n",
    "NOTSET"
   ]
  },
  {
   "cell_type": "markdown",
   "metadata": {},
   "source": [
    "## simple tour"
   ]
  },
  {
   "cell_type": "code",
   "execution_count": 2,
   "metadata": {},
   "outputs": [
    {
     "name": "stdout",
     "output_type": "stream",
     "text": [
      "denomenator can't be zero.\n"
     ]
    }
   ],
   "source": [
    "#use print statements\n",
    "def division(x,y):\n",
    "    if y==0:\n",
    "        print(f\"denomenator can't be zero.\")\n",
    "        return None\n",
    "    return x/y\n",
    "\n",
    "division(3, 4)\n",
    "division(3,0)"
   ]
  },
  {
   "cell_type": "code",
   "execution_count": null,
   "metadata": {},
   "outputs": [],
   "source": [
    "# use logging\n",
    "import logging\n",
    "\n",
    "def division(x,y):\n",
    "    if y==0:\n",
    "        logging.error(f\"denomenator can't be zero.\")\n",
    "        return None\n",
    "    logging.info(f\"export division\")\n",
    "    return x/y\n",
    "\n",
    "division(3, 4)\n",
    "division(3,0)"
   ]
  },
  {
   "cell_type": "code",
   "execution_count": null,
   "metadata": {},
   "outputs": [],
   "source": [
    "#Note: IPython session starts up logging. basicConfig doesn't work\n",
    "import logging\n",
    "logging.basicConfig(filename='python_debug.log', filemode='a', level=logging.DEBUG, \n",
    "    format='%(asctime)s:%(level)s:%(message)s', datefmt='%H:%M:%S')\n",
    "\n",
    "def division(x,y):\n",
    "    if y==0:\n",
    "        logging.error(f\"denomenator can't be zero.\")\n",
    "        return None\n",
    "    if x==0:\n",
    "        logging.warning(f\"numerator is zero\")\n",
    "    logging.info(f\"export division\")\n",
    "    return x/y\n",
    "\n",
    "division(3, 4)\n",
    "division(3,0)\n",
    "division(0,4)"
   ]
  },
  {
   "cell_type": "code",
   "execution_count": null,
   "metadata": {},
   "outputs": [],
   "source": [
    "import logging\n",
    "logger = logging.getLogger()\n",
    "fhandler = logging.FileHandler(filename='python_debug.log', mode='a')\n",
    "formatter = logging.Formatter('%(asctime)s:%(level)s:%(message)s', datefmt='%H:%M:%S')\n",
    "fhandler.setFormatter(formatter)\n",
    "logger.addHandler(fhandler)\n",
    "logger.setLevel(logging.DEBUG)\n",
    "    \n",
    "\n",
    "def division(x,y):\n",
    "    if y==0:\n",
    "        logging.error(f\"denomenator can't be zero.\")\n",
    "        return None\n",
    "    if x==0:\n",
    "        logging.warning(f\"numerator is zero\")\n",
    "    logging.info(f\"export division\")\n",
    "    return x/y\n",
    "\n",
    "division(3, 4)\n",
    "division(3,0)\n",
    "division(0,4)"
   ]
  },
  {
   "cell_type": "markdown",
   "metadata": {},
   "source": [
    "## basic configuration\n",
    "\n"
   ]
  },
  {
   "cell_type": "markdown",
   "metadata": {},
   "source": [
    "### LogRecord\n",
    "logrecord instances are created automatically by the Logger every thime something is logged or created manually by makeLogRecord().\n",
    "logrecord object contains all information pertinent to the event being logged. The format is %<args>\n",
    "    \n",
    "%name\n",
    "%level\n",
    "    %pathname\n",
    "    %lineno\n",
    "    %msg\n",
    "    %args\n",
    "    %exc_info\n",
    "    %func\n",
    "    \n",
    "\n",
    "#log record attributs:\n",
    "    %(asctime)s\n",
    "    %(name)s : name of the logger\n",
    "    %(message)s\n",
    "    %(levelname)s: \n",
    "    \n",
    "    %(created)f\n",
    "    %(relativeCreated)s\n",
    "    %(filename)s\n",
    "    %(funcname)s\n",
    "\n",
    "    %(pathname)s\n",
    "    \n",
    "    %(levelno)s\n",
    "    %(lineno)s\n",
    "    %(module)s\n",
    "    %(process)s\n",
    "    %(processName)s\n",
    "    %(thread)s\n",
    "    %(threadName)s\n",
    "    "
   ]
  },
  {
   "cell_type": "code",
   "execution_count": 4,
   "metadata": {},
   "outputs": [
    {
     "name": "stdout",
     "output_type": "stream",
     "text": [
      "{'__module__': 'logging', '__doc__': '\\n    A LogRecord instance represents an event being logged.\\n\\n    LogRecord instances are created every time something is logged. They\\n    contain all the information pertinent to the event being logged. The\\n    main information passed in is in msg and args, which are combined\\n    using str(msg) % args to create the message field of the record. The\\n    record also includes information such as when the record was created,\\n    the source line where the logging call was made, and any exception\\n    information to be logged.\\n    ', '__init__': <function LogRecord.__init__ at 0x01709028>, '__repr__': <function LogRecord.__repr__ at 0x01709070>, 'getMessage': <function LogRecord.getMessage at 0x017090B8>, '__dict__': <attribute '__dict__' of 'LogRecord' objects>, '__weakref__': <attribute '__weakref__' of 'LogRecord' objects>}\n"
     ]
    }
   ],
   "source": [
    "import logging\n",
    "logger = logging.getLogRecordFactory()\n",
    "print(logger.__dict__)"
   ]
  },
  {
   "cell_type": "markdown",
   "metadata": {},
   "source": [
    "### logger object"
   ]
  },
  {
   "cell_type": "code",
   "execution_count": 5,
   "metadata": {},
   "outputs": [
    {
     "ename": "NameError",
     "evalue": "name '__main__' is not defined",
     "output_type": "error",
     "traceback": [
      "\u001b[1;31m---------------------------------------------------------------------------\u001b[0m",
      "\u001b[1;31mNameError\u001b[0m                                 Traceback (most recent call last)",
      "\u001b[1;32m<ipython-input-5-976eee56e0a6>\u001b[0m in \u001b[0;36m<module>\u001b[1;34m\u001b[0m\n\u001b[0;32m      5\u001b[0m \u001b[0mlogger\u001b[0m \u001b[1;33m=\u001b[0m \u001b[0mlogging\u001b[0m\u001b[1;33m.\u001b[0m\u001b[0mgetLogger\u001b[0m\u001b[1;33m(\u001b[0m\u001b[1;33m)\u001b[0m\u001b[1;33m\u001b[0m\u001b[1;33m\u001b[0m\u001b[0m\n\u001b[0;32m      6\u001b[0m \u001b[1;31m#\u001b[0m\u001b[1;33m\u001b[0m\u001b[1;33m\u001b[0m\u001b[1;33m\u001b[0m\u001b[0m\n\u001b[1;32m----> 7\u001b[1;33m \u001b[0mmain_logger\u001b[0m \u001b[1;33m=\u001b[0m \u001b[0mlogging\u001b[0m\u001b[1;33m.\u001b[0m\u001b[0mgetLogger\u001b[0m\u001b[1;33m(\u001b[0m\u001b[0m__main__\u001b[0m\u001b[1;33m)\u001b[0m\u001b[1;33m\u001b[0m\u001b[1;33m\u001b[0m\u001b[0m\n\u001b[0m\u001b[0;32m      8\u001b[0m \u001b[0mprint\u001b[0m\u001b[1;33m(\u001b[0m\u001b[0mmain_logger\u001b[0m\u001b[1;33m)\u001b[0m\u001b[1;33m\u001b[0m\u001b[1;33m\u001b[0m\u001b[0m\n\u001b[0;32m      9\u001b[0m \u001b[1;33m\u001b[0m\u001b[0m\n",
      "\u001b[1;31mNameError\u001b[0m: name '__main__' is not defined"
     ]
    }
   ],
   "source": [
    "#Logger object\n",
    "import logging\n",
    "\n",
    "#return logger object: root logger if name=None\n",
    "logger = logging.getLogger()\n",
    "\n",
    "#return a logger with specified name\n",
    "#hello is child logger of root logger\n",
    "hello_logger = logging.getLogger('hello')\n",
    "#world is child logger of hello logger\n",
    "hello_world_logger = logging.getLogger('hello.world')\n",
    "recommended_logger = logging.getLogger(__name__)\n",
    "print(logger)\n",
    "print(recommended_logger)"
   ]
  },
  {
   "cell_type": "markdown",
   "metadata": {},
   "source": [
    "### logger level\n",
    "\n",
    "Level    Numeric value\n",
    "CRITICAL 50\n",
    "ERROR    40\n",
    "WARNING  30\n",
    "INFO     20\n",
    "DEBUG    10\n",
    "NOTSET   0\n",
    "\n"
   ]
  },
  {
   "cell_type": "code",
   "execution_count": 5,
   "metadata": {},
   "outputs": [
    {
     "name": "stderr",
     "output_type": "stream",
     "text": [
      "CRITICAL:root:Your CRITICAL message\n",
      "ERROR:root:Your ERROR message\n",
      "WARNING:root:Your WARNING message\n"
     ]
    }
   ],
   "source": [
    "#logger level\n",
    "import logging\n",
    "\n",
    "logging.basicConfig()\n",
    "\n",
    "#default level is WARNING. INFO/DEBUG will not display\n",
    "logger = logging.getLogger()\n",
    "\n",
    "logger.critical('Your CRITICAL message')\n",
    "logger.error('Your ERROR message')\n",
    "logger.warning('Your WARNING message')\n",
    "logger.info('Your INFO message')\n",
    "logger.debug('Your DEBUG message')"
   ]
  },
  {
   "cell_type": "code",
   "execution_count": 6,
   "metadata": {},
   "outputs": [
    {
     "name": "stderr",
     "output_type": "stream",
     "text": [
      "CRITICAL:root:Your CRITICAL message\n",
      "ERROR:root:Your ERROR message\n",
      "WARNING:root:Your WARNING message\n",
      "INFO:root:Your INFO message\n",
      "DEBUG:root:Your DEBUG message\n"
     ]
    }
   ],
   "source": [
    "import logging\n",
    "\n",
    "logging.basicConfig()\n",
    "\n",
    "logger = logging.getLogger()\n",
    "logger.setLevel(logging.DEBUG)\n",
    "\n",
    "logger.critical('Your CRITICAL message')\n",
    "logger.error('Your ERROR message')\n",
    "logger.warning('Your WARNING message')\n",
    "logger.info('Your INFO message')\n",
    "logger.debug('Your DEBUG message')"
   ]
  },
  {
   "cell_type": "markdown",
   "metadata": {},
   "source": [
    "### basicConfig\n",
    "\n",
    "basicConfig() creates a StreamHandler object that proceses logs and displays them in the console\n",
    "1. create logging level which same as logger.setLevel()\n",
    "2. create FileHandler with log file location. all logs will rediret to this file.\n",
    "3. default format: <level>:<root or logger name>:<message>\n"
   ]
  },
  {
   "cell_type": "code",
   "execution_count": 7,
   "metadata": {
    "scrolled": true
   },
   "outputs": [
    {
     "name": "stderr",
     "output_type": "stream",
     "text": [
      "CRITICAL:root:Your CRITICAL message\n",
      "ERROR:root:Your ERROR message\n",
      "WARNING:root:Your WARNING message\n",
      "INFO:root:Your INFO message\n",
      "DEBUG:root:Your DEBUG message\n"
     ]
    }
   ],
   "source": [
    "import logging\n",
    "\n",
    "FORMAT = '%(name)s:%(levelname)s:%(asctime)s:%(message)s'\n",
    "logging.basicConfig(level=logging.CRITICAL, \n",
    "    filename='prod.log', filemode='a', format=FORMAT)\n",
    "\n",
    "logger = logging.getLogger()\n",
    "\n",
    "logger.critical('Your CRITICAL message')\n",
    "logger.error('Your ERROR message')\n",
    "logger.warning('Your WARNING message')\n",
    "logger.info('Your INFO message')\n",
    "logger.debug('Your DEBUG message')"
   ]
  },
  {
   "cell_type": "code",
   "execution_count": 9,
   "metadata": {},
   "outputs": [
    {
     "name": "stderr",
     "output_type": "stream",
     "text": [
      "CRITICAL:__main__:Your CRITICAL message\n",
      "ERROR:__main__:Your ERROR message\n",
      "WARNING:__main__:Your WARNING message\n",
      "INFO:__main__:Your INFO message\n",
      "DEBUG:__main__:Your DEBUG message\n"
     ]
    }
   ],
   "source": [
    "import logging\n",
    "\n",
    "logger = logging.getLogger(__name__)\n",
    "\n",
    "handler = logging.FileHandler('prod.log', mode='a')\n",
    "handler.setLevel(logging.CRITICAL)\n",
    "\n",
    "FORMAT = '%(name)s:%(levelname)s:%(asctime)s:%(message)s'\n",
    "formatter = logging.Formatter(FORMAT)\n",
    "handler.setFormatter(formatter)\n",
    "\n",
    "logger.addHandler(handler)\n",
    "\n",
    "logger.critical('Your CRITICAL message')\n",
    "logger.error('Your ERROR message')\n",
    "logger.warning('Your WARNING message')\n",
    "logger.info('Your INFO message')\n",
    "logger.debug('Your DEBUG message')"
   ]
  },
  {
   "cell_type": "markdown",
   "metadata": {},
   "source": [
    "# quiz"
   ]
  },
  {
   "cell_type": "markdown",
   "metadata": {},
   "source": [
    "Scenario\n",
    "It's likely that the temperature of your phone battery can get pretty high. Check if that’s true. Write a program that will simulate the recording of battery temperatures with an interval of one minute. The simulation should contain 60 logs (the last hour).\n",
    "\n",
    "To simulate temperatures, use one of the available random functions in Python. Temperatures should be drawn in the range of 20–40 degrees Celsius, and then saved in the following format:\n",
    "\n",
    "LEVEL_NAME – TEMPERATURE_IN_CELSIUS UNIT => DEBUG – 20 C\n",
    "\n",
    "The drawn temperatures should be assigned to the appropriate level depending on their value:\n",
    "\n",
    "DEBUG = TEMPERATURE_IN_CELSIUS < 20\n",
    "WARNING = TEMPERATURE_IN_CELSIUS >= 30 AND TEMPERATURE_IN_CELSIUS <= 35\n",
    "CRITICAL = TEMPERATURE_IN_CELSIUS > 35\n",
    "\n",
    "Put all logs in the battery_temperature.log file. The task will be completed when you implement your own handler and formatter."
   ]
  },
  {
   "cell_type": "code",
   "execution_count": 22,
   "metadata": {},
   "outputs": [
    {
     "name": "stderr",
     "output_type": "stream",
     "text": [
      "DEBUG:__main__:TEMPERATURE_IN_CELSIUS < 20\n",
      "WARNING:__main__:TEMPERATURE_IN_CELSIUS >= 30 AND TEMPERATURE_IN_CELSIUS <= 35\n",
      "DEBUG:__main__:TEMPERATURE_IN_CELSIUS < 20\n",
      "CRITICAL:__main__:TEMPERATURE_IN_CELSIUS > 35\n",
      "DEBUG:__main__:TEMPERATURE_IN_CELSIUS < 20\n",
      "DEBUG:__main__:TEMPERATURE_IN_CELSIUS < 20\n",
      "CRITICAL:__main__:TEMPERATURE_IN_CELSIUS > 35\n",
      "DEBUG:__main__:TEMPERATURE_IN_CELSIUS < 20\n",
      "CRITICAL:__main__:TEMPERATURE_IN_CELSIUS > 35\n",
      "DEBUG:__main__:TEMPERATURE_IN_CELSIUS < 20\n"
     ]
    }
   ],
   "source": [
    "import random\n",
    "import logging\n",
    "\n",
    "FORMAT = '%(levelname)s = %(message)s'\n",
    "logging.basicConfig(level=logging.DEBUG, format=FORMAT,\n",
    "        filename=\"battery_temperature.log\", filemode='a')\n",
    "logger = logging.getLogger(__name__)\n",
    "\n",
    "class temperature:\n",
    "    def get_temperature(self):\n",
    "        temp = random.randrange(0,50)\n",
    "        if temp<20:\n",
    "            logger.debug('TEMPERATURE_IN_CELSIUS < 20')\n",
    "        elif temp>35:\n",
    "            logger.critical('TEMPERATURE_IN_CELSIUS > 35')\n",
    "        else:\n",
    "            logger.warning('TEMPERATURE_IN_CELSIUS >= 30 AND TEMPERATURE_IN_CELSIUS <= 35')\n",
    "\n",
    "a=temperature()\n",
    "for i in range(10):\n",
    "    a.get_temperature()"
   ]
  },
  {
   "cell_type": "code",
   "execution_count": 18,
   "metadata": {},
   "outputs": [
    {
     "data": {
      "text/plain": [
       "61"
      ]
     },
     "execution_count": 18,
     "metadata": {},
     "output_type": "execute_result"
    }
   ],
   "source": [
    "import random\n"
   ]
  },
  {
   "cell_type": "code",
   "execution_count": 6,
   "metadata": {},
   "outputs": [
    {
     "ename": "NameError",
     "evalue": "name '__main__' is not defined",
     "output_type": "error",
     "traceback": [
      "\u001b[1;31m---------------------------------------------------------------------------\u001b[0m",
      "\u001b[1;31mNameError\u001b[0m                                 Traceback (most recent call last)",
      "\u001b[1;32m<ipython-input-6-41ecc123a810>\u001b[0m in \u001b[0;36m<module>\u001b[1;34m\u001b[0m\n\u001b[0;32m      1\u001b[0m \u001b[1;32mimport\u001b[0m \u001b[0mlogging\u001b[0m\u001b[1;33m\u001b[0m\u001b[1;33m\u001b[0m\u001b[0m\n\u001b[1;32m----> 2\u001b[1;33m \u001b[0mmain_logger\u001b[0m \u001b[1;33m=\u001b[0m \u001b[0mlogging\u001b[0m\u001b[1;33m.\u001b[0m\u001b[0mgetLogger\u001b[0m\u001b[1;33m(\u001b[0m\u001b[0m__main__\u001b[0m\u001b[1;33m)\u001b[0m\u001b[1;33m\u001b[0m\u001b[1;33m\u001b[0m\u001b[0m\n\u001b[0m\u001b[0;32m      3\u001b[0m \u001b[0mprint\u001b[0m\u001b[1;33m(\u001b[0m\u001b[0mmain_logger\u001b[0m\u001b[1;33m)\u001b[0m\u001b[1;33m\u001b[0m\u001b[1;33m\u001b[0m\u001b[0m\n",
      "\u001b[1;31mNameError\u001b[0m: name '__main__' is not defined"
     ]
    }
   ],
   "source": [
    "import logging\n",
    "main_logger = logging.getLogger(__main__)\n",
    "print(main_logger)"
   ]
  }
 ],
 "metadata": {
  "kernelspec": {
   "display_name": "Python 3",
   "language": "python",
   "name": "python3"
  },
  "language_info": {
   "codemirror_mode": {
    "name": "ipython",
    "version": 3
   },
   "file_extension": ".py",
   "mimetype": "text/x-python",
   "name": "python",
   "nbconvert_exporter": "python",
   "pygments_lexer": "ipython3",
   "version": "3.8.5"
  }
 },
 "nbformat": 4,
 "nbformat_minor": 4
}

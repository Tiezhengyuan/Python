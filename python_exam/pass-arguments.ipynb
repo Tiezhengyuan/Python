{
 "cells": [
  {
   "cell_type": "markdown",
   "metadata": {},
   "source": [
    "# sys.argv"
   ]
  },
  {
   "cell_type": "markdown",
   "metadata": {},
   "source": []
  },
  {
   "cell_type": "code",
   "execution_count": 3,
   "metadata": {},
   "outputs": [
    {
     "name": "stdout",
     "output_type": "stream",
     "text": [
      "['c:\\\\users\\\\tiezh\\\\appdata\\\\local\\\\programs\\\\python\\\\python38-32\\\\lib\\\\site-packages\\\\ipykernel_launcher.py', '-f', 'C:\\\\Users\\\\tiezh\\\\AppData\\\\Roaming\\\\jupyter\\\\runtime\\\\kernel-d34a97d1-1440-493b-8533-b5781d228e08.json']\n",
      "c:\\users\\tiezh\\appdata\\local\\programs\\python\\python38-32\\lib\\site-packages\\ipykernel_launcher.py\n",
      "-f\n"
     ]
    }
   ],
   "source": [
    "import sys\n",
    "\n",
    "arguments = sys.argv\n",
    "print(arguments)\n",
    "\n",
    "script_path = sys.argv[0]\n",
    "print(script_path)\n",
    "print(sys.argv[1])"
   ]
  },
  {
   "cell_type": "markdown",
   "metadata": {},
   "source": [
    "# configuration file\n",
    "\n",
    "example: separator could be colon : or equal =\n",
    "\n",
    "[DEFAULT]\n",
    "host = localhost # This is a comment.\n",
    "\n",
    "[mariadb]\n",
    "name = hello\n",
    "user = user\n",
    "password = password\n",
    "\n",
    "[redis]\n",
    "port = 6379\n",
    "db = 0"
   ]
  },
  {
   "cell_type": "code",
   "execution_count": 11,
   "metadata": {},
   "outputs": [
    {
     "name": "stdout",
     "output_type": "stream",
     "text": [
      "mariadb section:\n",
      "Host: localhost # This is a comment.\n",
      "Database: hello\n",
      "Username: user\n",
      "Password: password \n",
      "\n",
      "redis section:\n",
      "Host: localhost # This is a comment.\n",
      "Port: 6379\n",
      "Database number: 0\n"
     ]
    }
   ],
   "source": [
    "import configparser\n",
    "\n",
    "#read configuration form text file\n",
    "config = configparser.ConfigParser()\n",
    "config.read('config.ini')\n",
    "\n",
    "print('Sections:', config.sections(),'\\n')\n",
    "\n",
    "print('mariadb section:')\n",
    "print('Host:', config['mariadb']['host'])\n",
    "print('Database:', config['mariadb']['name'])\n",
    "print('Username:', config['mariadb']['user'])\n",
    "print('Password:', config['mariadb']['password'], '\\n')\n",
    "\n",
    "print('redis section:')\n",
    "print('Host:', config['redis']['host'])\n",
    "print('Port:', int(config['redis']['port']))\n",
    "print('Database number:', int(config['redis']['db']))\n"
   ]
  },
  {
   "cell_type": "code",
   "execution_count": 8,
   "metadata": {},
   "outputs": [
    {
     "name": "stdout",
     "output_type": "stream",
     "text": [
      "Sections: ['mariadb', 'redis'] \n",
      "\n",
      "mariadb section:\n",
      "Host: localhost\n",
      "Database: hello\n",
      "Username: root\n",
      "Password: password \n",
      "\n",
      "redis section:\n",
      "Host: localhost\n",
      "Port: 6379\n",
      "Database number: 0\n"
     ]
    }
   ],
   "source": [
    "import configparser\n",
    "\n",
    "dict = {\n",
    "    'DEFAULT': {\n",
    "        'host': 'localhost'\n",
    "    },\n",
    "    'mariadb': {\n",
    "        'name': 'hello',\n",
    "        'user': 'root',\n",
    "        'password': 'password'\n",
    "    },\n",
    "    'redis': {\n",
    "        'port': 6379,\n",
    "        'db': 0\n",
    "    }\n",
    "}\n",
    "\n",
    "#read configuration from python dictionary\n",
    "config = configparser.ConfigParser()\n",
    "config.read_dict(dict)\n",
    "\n",
    "print('Sections:', config.sections(),'\\n')\n",
    "\n",
    "print('mariadb section:')\n",
    "print('Host:', config['mariadb']['host'])\n",
    "print('Database:', config['mariadb']['name'])\n",
    "print('Username:', config['mariadb']['user'])\n",
    "print('Password:', config['mariadb']['password'], '\\n')\n",
    "\n",
    "print('redis section:')\n",
    "print('Host:', config['redis']['host'])\n",
    "print('Port:', int(config['redis']['port']))\n",
    "print('Database number:', int(config['redis']['db']))"
   ]
  },
  {
   "cell_type": "code",
   "execution_count": null,
   "metadata": {},
   "outputs": [],
   "source": [
    "import configparser\n",
    "\n",
    "#create a configuration text file\n",
    "config = configparser.ConfigParser()\n",
    "\n",
    "config['DEFAULT'] = {'host': 'localhost'}\n",
    "config['mariadb'] = {'name': 'hello', 'user': 'root',\n",
    "                     'password': 'password'}\n",
    "config['redis'] = {'port': 6379, 'db': 0}\n",
    "\n",
    "with open('config.ini', 'w') as configfile:\n",
    "    config.write(configfile)"
   ]
  },
  {
   "cell_type": "markdown",
   "metadata": {},
   "source": [
    "## interpolate configuration values\n",
    "\n",
    "%(<key>)s\n",
    "dsn = redis://%(host)s:%(port)s\n",
    "\n",
    "For the dsn option, it'll be the following string: redis://localhost. Note that the placeholder %(host)s has been replaced by the value stored in the host option."
   ]
  },
  {
   "cell_type": "code",
   "execution_count": 13,
   "metadata": {},
   "outputs": [
    {
     "name": "stdout",
     "output_type": "stream",
     "text": [
      "redis://localhost:6379\n"
     ]
    }
   ],
   "source": [
    "import configparser\n",
    "\n",
    "config = configparser.ConfigParser()\n",
    "config.read('config.ini')\n",
    "\n",
    "print(config['redis']['dsn'])"
   ]
  },
  {
   "cell_type": "markdown",
   "metadata": {},
   "source": [
    "## Scenario\n",
    "Imagine a situation in which you receive a configuration file containing access data for various services. Unfortunately, the file is a terrible mess, because it contains data used in both production and development environments.\n",
    "\n",
    "Your task will be to create two files named prod_config.ini and dev_config.ini. The prod_config.ini file should only contain sections for the production environment, while dev_config.ini should only contain sections for the development environment.\n",
    "\n",
    "To distinguish between the environments, use the env option added to all sections in the mess.ini file. The env option should be removed from the sections before moving them to the files."
   ]
  },
  {
   "cell_type": "code",
   "execution_count": 34,
   "metadata": {},
   "outputs": [
    {
     "name": "stdout",
     "output_type": "stream",
     "text": [
      "{'_dict': <class 'dict'>, '_sections': {'mariadb': {'name': 'hello', 'user': 'user', 'password': 'password'}, 'redis': {'port': '6379', 'db': '0'}}, '_defaults': {'host': 'localhost # This is a comment.'}, '_converters': <configparser.ConverterMapping object at 0x058079E8>, '_proxies': {'DEFAULT': <Section: DEFAULT>, 'mariadb': <Section: mariadb>, 'redis': <Section: redis>}, '_delimiters': ('=', ':'), '_optcre': re.compile('\\n        (?P<option>.*?)                    # very permissive!\\n        \\\\s*(?P<vi>=|:)\\\\s*              # any number of space/tab,\\n                                           # followed by any of t, re.VERBOSE), '_comment_prefixes': ('#', ';'), '_inline_comment_prefixes': (), '_strict': True, '_allow_no_value': False, '_empty_lines_in_values': True, 'default_section': 'DEFAULT', '_interpolation': <configparser.BasicInterpolation object at 0x003CB070>}\n",
      "{'mariadb': {'name': 'hello', 'user': 'user', 'password': 'password'}, 'redis': {'port': '6379', 'db': '0'}, 'DEFAULT': {'host': 'localhost # This is a comment.'}}\n",
      "done\n"
     ]
    }
   ],
   "source": [
    "from configparser import ConfigParser as cp\n",
    "from copy import deepcopy\n",
    "\n",
    "def to_config_dict(config_file):\n",
    "    config = cp()\n",
    "    config.read(config_file)\n",
    "    #print(config.sections())\n",
    "    print(config.__dict__)\n",
    "    config_dict = deepcopy(config._sections)\n",
    "    config_dict['DEFAULT'] = config._defaults\n",
    "    return config_dict\n",
    "\n",
    "def to_config_file(config_dict, config_file):\n",
    "    config = cp()\n",
    "    config.read_dict(config_dict)\n",
    "    with open(config_file, 'w') as f:\n",
    "        config.write(f)\n",
    "\n",
    "#\n",
    "config_dict = to_config_dict('config.ini')\n",
    "print(config_dict)\n",
    "config_dict['dynamodb'] = { 'table': 'user', \n",
    "    'endpoint': f\"{config_dict['redis']['port']}\"} \n",
    "to_config_file(config_dict, 'config2.ini')\n",
    "print(\"done\")"
   ]
  },
  {
   "cell_type": "code",
   "execution_count": 46,
   "metadata": {},
   "outputs": [
    {
     "name": "stdout",
     "output_type": "stream",
     "text": [
      "{'mariadb': {'name': 'hello', 'user': 'user', 'passward': 'password'}, 'redis': {'port': '6379', 'db': '0'}, 'DEFAULT': {'host': 'localhost'}}\n",
      "{'sentry': {'key': 'key', 'secret': 'secret'}, 'github': {'user': 'user', 'password': 'password'}, 'DEFAULT': {}}\n",
      "done\n"
     ]
    }
   ],
   "source": [
    "from configparser import ConfigParser as cp\n",
    "from copy import deepcopy\n",
    "import os\n",
    "\n",
    "def to_config_dict(config_file):\n",
    "    config = cp()\n",
    "    config.read(config_file)\n",
    "    config_dict = deepcopy(config._sections)\n",
    "    config_dict['DEFAULT'] = config._defaults\n",
    "    return config_dict\n",
    "\n",
    "def to_config_file(config_dict, config_file):\n",
    "    config = cp()\n",
    "    config.read_dict(config_dict)\n",
    "    with open(config_file, 'w') as f:\n",
    "        config.write(f)\n",
    "\n",
    "#create configuration files\n",
    "config_prod={'sentry':{'key':'key', 'secret':'secret'}, \n",
    "             'github':{'user':'user', 'password':'password'}}\n",
    "to_config_file(config_prod, 'prod_config.ini')\n",
    "\n",
    "config_dev={\n",
    "    'DEFAULT': {'host':'localhost'},\n",
    "    'mariadb':{'name':'hello', 'user': 'user', 'passward':'password'}, \n",
    "    'redis':{'port':'6379', 'db':'0'}}\n",
    "to_config_file(config_dev, 'dev_config.ini')\n",
    "\n",
    "#get configurations\n",
    "os.environ['ENV']= 'dev'\n",
    "config_dict = to_config_dict(f\"{os.getenv('ENV')}_config.ini\")\n",
    "print(config_dict)\n",
    "os.environ['ENV']= 'prod'\n",
    "config_dict = to_config_dict(f\"{os.getenv('ENV')}_config.ini\")\n",
    "print(config_dict)\n",
    "print(\"done\")"
   ]
  }
 ],
 "metadata": {
  "kernelspec": {
   "display_name": "Python 3",
   "language": "python",
   "name": "python3"
  },
  "language_info": {
   "codemirror_mode": {
    "name": "ipython",
    "version": 3
   },
   "file_extension": ".py",
   "mimetype": "text/x-python",
   "name": "python",
   "nbconvert_exporter": "python",
   "pygments_lexer": "ipython3",
   "version": "3.8.5"
  }
 },
 "nbformat": 4,
 "nbformat_minor": 4
}

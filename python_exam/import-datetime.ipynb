{
 "cells": [
  {
   "cell_type": "markdown",
   "metadata": {},
   "source": [
    "# import datetime"
   ]
  },
  {
   "cell_type": "code",
   "execution_count": 1,
   "metadata": {},
   "outputs": [],
   "source": [
    "from datetime import datetime"
   ]
  },
  {
   "cell_type": "markdown",
   "metadata": {},
   "source": [
    "## create date object\n",
    "datetime.datetime.now() return current datetime object"
   ]
  },
  {
   "cell_type": "code",
   "execution_count": 10,
   "metadata": {},
   "outputs": [
    {
     "name": "stdout",
     "output_type": "stream",
     "text": [
      "2010-03-04 00:00:00\n"
     ]
    },
    {
     "ename": "TypeError",
     "evalue": "an integer is required (got type str)",
     "output_type": "error",
     "traceback": [
      "\u001b[1;31m---------------------------------------------------------------------------\u001b[0m",
      "\u001b[1;31mTypeError\u001b[0m                                 Traceback (most recent call last)",
      "\u001b[1;32m<ipython-input-10-b165ed0fea34>\u001b[0m in \u001b[0;36m<module>\u001b[1;34m\u001b[0m\n\u001b[0;32m      3\u001b[0m \u001b[0mprint\u001b[0m\u001b[1;33m(\u001b[0m\u001b[0mx\u001b[0m\u001b[1;33m)\u001b[0m\u001b[1;33m\u001b[0m\u001b[1;33m\u001b[0m\u001b[0m\n\u001b[0;32m      4\u001b[0m \u001b[1;33m\u001b[0m\u001b[0m\n\u001b[1;32m----> 5\u001b[1;33m \u001b[0mx\u001b[0m\u001b[1;33m=\u001b[0m \u001b[0mdatetime\u001b[0m\u001b[1;33m(\u001b[0m\u001b[1;34m'2010'\u001b[0m\u001b[1;33m,\u001b[0m\u001b[1;34m'3'\u001b[0m\u001b[1;33m,\u001b[0m\u001b[1;34m'4'\u001b[0m\u001b[1;33m)\u001b[0m\u001b[1;33m\u001b[0m\u001b[1;33m\u001b[0m\u001b[0m\n\u001b[0m\u001b[0;32m      6\u001b[0m \u001b[0mprint\u001b[0m\u001b[1;33m(\u001b[0m\u001b[0mx\u001b[0m\u001b[1;33m)\u001b[0m\u001b[1;33m\u001b[0m\u001b[1;33m\u001b[0m\u001b[0m\n",
      "\u001b[1;31mTypeError\u001b[0m: an integer is required (got type str)"
     ]
    }
   ],
   "source": [
    "#new create\n",
    "x= datetime(2010,3,4)\n",
    "print(x)\n",
    "\n",
    "#should be integer\n",
    "# x= datetime('2010','3','4')\n"
   ]
  },
  {
   "cell_type": "code",
   "execution_count": null,
   "metadata": {},
   "outputs": [],
   "source": []
  },
  {
   "cell_type": "code",
   "execution_count": null,
   "metadata": {},
   "outputs": [],
   "source": []
  },
  {
   "cell_type": "markdown",
   "metadata": {},
   "source": [
    "## convert data object\n",
    "strftime() datetime to string (f denoted format)\n",
    "strptime() string to datetime (p denoted product"
   ]
  },
  {
   "cell_type": "code",
   "execution_count": 26,
   "metadata": {},
   "outputs": [
    {
     "name": "stdout",
     "output_type": "stream",
     "text": [
      "2021-08-25\n"
     ]
    }
   ],
   "source": [
    "#convert to string\n",
    "t = datetime.now()\n",
    "t_str=t.strftime(\"%Y-%m-%d\")\n",
    "print(t_str)"
   ]
  },
  {
   "cell_type": "code",
   "execution_count": 34,
   "metadata": {},
   "outputs": [
    {
     "name": "stdout",
     "output_type": "stream",
     "text": [
      "2012-04-30 00:00:00\n",
      "2012-12-30 13:45:05\n",
      "2012-04-01 00:00:00\n",
      "1900-04-12 00:00:00\n"
     ]
    }
   ],
   "source": [
    "#string to datetime\n",
    "t=datetime.strptime(\"2012-4-30\", \"%Y-%m-%d\")\n",
    "print(t)\n",
    "t=datetime.strptime(\"2012-12-30 13:45:05\", \"%Y-%m-%d %H:%M:%S\")\n",
    "print(t)\n",
    "t=datetime.strptime(\"2012-4\", \"%Y-%m\")\n",
    "print(t)\n",
    "t=datetime.strptime(\"4-12\", \"%m-%d\")\n",
    "print(t)"
   ]
  },
  {
   "cell_type": "code",
   "execution_count": null,
   "metadata": {},
   "outputs": [],
   "source": []
  },
  {
   "cell_type": "markdown",
   "metadata": {},
   "source": [
    "## get date\n",
    "datetime_obj.strftime(\"<dirctive>\")\n",
    "    %A: weekday\n",
    "    %B: month name\n",
    "    %H: hour 00-23\n",
    "    %W: week number of year\n"
   ]
  },
  {
   "cell_type": "code",
   "execution_count": 17,
   "metadata": {},
   "outputs": [
    {
     "name": "stdout",
     "output_type": "stream",
     "text": [
      "current= 2021-08-25 10:07:27.351314\n",
      "year= 2021\n",
      "month= 8\n",
      "day= 25\n",
      "month name= August\n",
      "week= Wednesday\n",
      "days= 25\n",
      "time= <built-in method time of datetime.datetime object at 0x05E2BE60>\n"
     ]
    }
   ],
   "source": [
    "current = datetime.now()\n",
    "print(\"current=\", current)\n",
    "print(\"year=\", current.year)\n",
    "print(\"month=\", current.month)\n",
    "print(\"day=\", current.day)\n",
    "\n",
    "print(\"month name=\", current.strftime(\"%B\"))\n",
    "print(\"week=\", current.strftime(\"%A\"))\n",
    "\n",
    "print(\"time=\", current.time)"
   ]
  },
  {
   "cell_type": "code",
   "execution_count": 23,
   "metadata": {},
   "outputs": [
    {
     "name": "stdout",
     "output_type": "stream",
     "text": [
      "2010-01-21 12:45:23\n",
      "2010-01-21\n",
      "01/21/2010, 12:45:23\n"
     ]
    }
   ],
   "source": [
    "#year,month,day,hour,minute,second\n",
    "x= datetime(2010,1,21, 12, 45, 23)\n",
    "print(x)\n",
    "print(x.strftime(\"%Y-%m-%d\"))\n",
    "print(x.strftime(\"%m/%d/%Y, %H:%M:%S\"))\n"
   ]
  },
  {
   "cell_type": "markdown",
   "metadata": {},
   "source": [
    "## math of datetime"
   ]
  },
  {
   "cell_type": "code",
   "execution_count": 41,
   "metadata": {},
   "outputs": [
    {
     "name": "stdout",
     "output_type": "stream",
     "text": [
      "2021-08-25 15:58:51.670235\n",
      "2021-08-28 17:58:51.670235\n",
      "2021-08-22 15:58:51.670235\n"
     ]
    }
   ],
   "source": [
    "from datetime import timedelta\n",
    "t=datetime.now()\n",
    "\n",
    "#move date\n",
    "print(t)\n",
    "t1=t+timedelta(days=3,hours=2)\n",
    "print(t1)\n",
    "t2=t+timedelta(days=-3)\n",
    "print(t2)"
   ]
  },
  {
   "cell_type": "code",
   "execution_count": 49,
   "metadata": {},
   "outputs": [
    {
     "name": "stdout",
     "output_type": "stream",
     "text": [
      "2021-08-25 17:45:21.161887\n",
      "2021-08-26 17:45:21.161887\n",
      "2021-08-01 17:45:21.161887\n",
      "31\n",
      "2021-08-31 17:45:21.161887\n"
     ]
    }
   ],
   "source": [
    "now=datetime.now()\n",
    "print(now)\n",
    "\n",
    "#the nex day\n",
    "next_date = now + timedelta(days=1)\n",
    "print(next_date)\n",
    "\n",
    "#get first day\n",
    "first_date=now.replace(day=1)\n",
    "print(first_date)\n",
    "\n",
    "#get last day\n",
    "import calendar\n",
    "last_day = calendar.monthrange(now.year, now.month)[1]\n",
    "print(last_day)\n",
    "last_date=now.replace(day=last_day)\n",
    "print(last_date)"
   ]
  },
  {
   "cell_type": "code",
   "execution_count": 70,
   "metadata": {},
   "outputs": [
    {
     "name": "stdout",
     "output_type": "stream",
     "text": [
      "2012-12-01 00:00:00 2021-08-25 18:07:28.021038\n",
      "3189 days, 18:07:28.021038\n",
      "-275594848.021038\n",
      "same\n"
     ]
    }
   ],
   "source": [
    "import datetime\n",
    "#date interval\n",
    "t=datetime.datetime(2012,12,1)\n",
    "now=datetime.datetime.now()\n",
    "print(t,now)\n",
    "\n",
    "delta=now-t\n",
    "print(delta)\n",
    "delta=t-now\n",
    "print(delta.total_seconds())\n",
    "\n",
    "#\n",
    "t1=datetime.datetime(2012,12,1)\n",
    "t2=datetime.datetime(2012,12,1)\n",
    "if t1==t2:\n",
    "    print(\"same\")\n",
    "if t>now:\n",
    "    print(t)"
   ]
  },
  {
   "cell_type": "code",
   "execution_count": 66,
   "metadata": {},
   "outputs": [
    {
     "name": "stdout",
     "output_type": "stream",
     "text": [
      "2019-01-01 00:00:00\n",
      "2019-01-01 00:00:00\n",
      "2019-01-02 00:00:00\n",
      "2019-01-03 00:00:00\n",
      "2019-01-04 00:00:00\n",
      "2019-01-05 00:00:00\n",
      "2019-01-06 00:00:00\n",
      "2019-01-07 00:00:00\n",
      "2019-01-08 00:00:00\n",
      "2019-01-09 00:00:00\n",
      "2019-01-10 00:00:00\n",
      "2019-01-11 00:00:00\n",
      "2019-01-12 00:00:00\n",
      "2019-01-13 00:00:00\n",
      "2019-01-14 00:00:00\n",
      "2019-01-15 00:00:00\n",
      "2019-01-16 00:00:00\n",
      "2019-01-17 00:00:00\n",
      "2019-01-18 00:00:00\n",
      "2019-01-19 00:00:00\n",
      "2019-01-20 00:00:00\n",
      "2019-01-21 00:00:00\n",
      "2019-01-22 00:00:00\n",
      "2019-01-23 00:00:00\n",
      "2019-01-24 00:00:00\n",
      "2019-01-25 00:00:00\n",
      "2019-01-26 00:00:00\n",
      "2019-01-27 00:00:00\n",
      "2019-01-28 00:00:00\n",
      "2019-01-29 00:00:00\n",
      "2019-01-30 00:00:00\n",
      "2019-01-31 00:00:00\n"
     ]
    }
   ],
   "source": [
    "#go through days of a certain month\n",
    "import datetime\n",
    "import calendar\n",
    "def go_day(month):\n",
    "    date=datetime.datetime.strptime(month, \"%Y-%m\")\n",
    "    print(date)\n",
    "\n",
    "    last_day=calendar.monthrange(date.year,date.month)[1]\n",
    "    for day in range(1, last_day+1):\n",
    "        next_date=date.replace(day=day)        \n",
    "        print(next_date)\n",
    "\n",
    "go_day(\"2019-01\")"
   ]
  },
  {
   "cell_type": "markdown",
   "metadata": {},
   "source": [
    "# import time"
   ]
  },
  {
   "cell_type": "code",
   "execution_count": 170,
   "metadata": {},
   "outputs": [
    {
     "name": "stdout",
     "output_type": "stream",
     "text": [
      "12:34:56\n"
     ]
    }
   ],
   "source": [
    "import time\n",
    "print(time.strftime('12:34:56'))"
   ]
  },
  {
   "cell_type": "code",
   "execution_count": 183,
   "metadata": {},
   "outputs": [
    {
     "name": "stdout",
     "output_type": "stream",
     "text": [
      "time.struct_time(tm_year=1900, tm_mon=1, tm_mday=1, tm_hour=12, tm_min=34, tm_sec=56, tm_wday=0, tm_yday=1, tm_isdst=-1)\n"
     ]
    },
    {
     "ename": "TypeError",
     "evalue": "unsupported operand type(s) for -: 'time.struct_time' and 'time.struct_time'",
     "output_type": "error",
     "traceback": [
      "\u001b[1;31m---------------------------------------------------------------------------\u001b[0m",
      "\u001b[1;31mTypeError\u001b[0m                                 Traceback (most recent call last)",
      "\u001b[1;32m<ipython-input-183-172bed455cd3>\u001b[0m in \u001b[0;36m<module>\u001b[1;34m\u001b[0m\n\u001b[0;32m      2\u001b[0m \u001b[0mtime2\u001b[0m \u001b[1;33m=\u001b[0m \u001b[0mtime\u001b[0m\u001b[1;33m.\u001b[0m\u001b[0mstrptime\u001b[0m\u001b[1;33m(\u001b[0m\u001b[1;34m'2:34:56'\u001b[0m\u001b[1;33m,\u001b[0m \u001b[1;34m'%H:%M:%S'\u001b[0m\u001b[1;33m)\u001b[0m\u001b[1;33m\u001b[0m\u001b[1;33m\u001b[0m\u001b[0m\n\u001b[0;32m      3\u001b[0m \u001b[0mprint\u001b[0m\u001b[1;33m(\u001b[0m\u001b[0mtime1\u001b[0m\u001b[1;33m)\u001b[0m\u001b[1;33m\u001b[0m\u001b[1;33m\u001b[0m\u001b[0m\n\u001b[1;32m----> 4\u001b[1;33m \u001b[0mprint\u001b[0m\u001b[1;33m(\u001b[0m\u001b[0mtime2\u001b[0m\u001b[1;33m-\u001b[0m\u001b[0mtime1\u001b[0m\u001b[1;33m)\u001b[0m\u001b[1;33m\u001b[0m\u001b[1;33m\u001b[0m\u001b[0m\n\u001b[0m",
      "\u001b[1;31mTypeError\u001b[0m: unsupported operand type(s) for -: 'time.struct_time' and 'time.struct_time'"
     ]
    }
   ],
   "source": [
    "time1 = time.strptime('12:34:56', '%H:%M:%S')\n",
    "time2 = time.strptime('2:34:56', '%H:%M:%S')\n",
    "print(time1)\n",
    "print(time2-time1)"
   ]
  },
  {
   "cell_type": "code",
   "execution_count": null,
   "metadata": {},
   "outputs": [],
   "source": []
  }
 ],
 "metadata": {
  "kernelspec": {
   "display_name": "Python 3",
   "language": "python",
   "name": "python3"
  },
  "language_info": {
   "codemirror_mode": {
    "name": "ipython",
    "version": 3
   },
   "file_extension": ".py",
   "mimetype": "text/x-python",
   "name": "python",
   "nbconvert_exporter": "python",
   "pygments_lexer": "ipython3",
   "version": "3.8.5"
  }
 },
 "nbformat": 4,
 "nbformat_minor": 4
}

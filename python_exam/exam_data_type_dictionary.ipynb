{
 "cells": [
  {
   "cell_type": "markdown",
   "metadata": {},
   "source": [
    "# 4. dictionaries: \n",
    "building,\n",
    "indexing,\n",
    "adding and removing keys,\n",
    "iterating through dictionaries as well as their keys and values,\n",
    "checking key existence,\n",
    "keys(),\n",
    "items() and values() methods\n"
   ]
  },
  {
   "cell_type": "markdown",
   "metadata": {},
   "source": [
    "## 4.1 define dictionary\n",
    "key-value pattern: like hash in Perl.\n",
    "dictionary is mutable. key-value is accessed by keyword rather than its position(index like list type). Therefore,\n",
    "the order of the items is not associated with item accessing.\n",
    "but keys is immutable.dictionary is kind of hash table. keys are stored as hash list. Hash list is identified by address (objectID),which is immutable. If hash list is mutable,\n",
    "key-value will be wrong."
   ]
  },
  {
   "cell_type": "code",
   "execution_count": 1,
   "metadata": {},
   "outputs": [],
   "source": [
    "#define empty. the below are equal\n",
    "d={}\n",
    "d=dict()\n",
    "d=dict({})"
   ]
  },
  {
   "cell_type": "code",
   "execution_count": 31,
   "metadata": {},
   "outputs": [
    {
     "name": "stdout",
     "output_type": "stream",
     "text": [
      "{'d': 4,\n",
      "'a': 'a'}\n",
      "{'d': 4,\n",
      "'a': 'a'}\n"
     ]
    }
   ],
   "source": [
    "#define a dictionary\n",
    "d= {'d':4,\n",
    "'a':'a'};print(d)\n",
    "d= dict({'d':4,\n",
    "'a':'a'});print(d)"
   ]
  },
  {
   "cell_type": "code",
   "execution_count": 53,
   "metadata": {},
   "outputs": [
    {
     "name": "stdout",
     "output_type": "stream",
     "text": [
      "[{'a': 10,\n",
      "'b': 2},\n",
      "{'a': 10,\n",
      "'b': 4}]\n",
      "[{'a': 10,\n",
      "'b': 2},\n",
      "{'a': 10,\n",
      "'b': 4}]\n"
     ]
    }
   ],
   "source": [
    "#dictionary is defined as object\n",
    "#Note: though the d_attr is newly defined and was updated without working on d_obj directly,\n",
    "but actually d_obj is updated.\n",
    "d_obj=[{'a':1,\n",
    "'b':2},\n",
    "{'a':3,\n",
    "'b':4}]\n",
    "for d_attr in d_obj:\n",
    "    d_attr['a']=10\n",
    "print(d_obj)\n",
    "\n",
    "#hard copy so there is no updates on d_obj\n",
    "for d_attr in d_obj:\n",
    "    item=dict(d_attr)\n",
    "    item['a']=100\n",
    "print(d_obj)"
   ]
  },
  {
   "cell_type": "code",
   "execution_count": 12,
   "metadata": {},
   "outputs": [
    {
     "data": {
      "text/plain": [
       "[{'name': 'b', 'count': 12},\n",
       " {'name': 'a', 'count': 4},\n",
       " {'name': 'c', 'count': 0}]"
      ]
     },
     "execution_count": 12,
     "metadata": {},
     "output_type": "execute_result"
    }
   ],
   "source": [
    "#transform dictionary\n",
    "d={'a':4,'b':12,'c':0}\n",
    "[{'name':x, 'count':d[x]} for x in sorted(d, key=d.get, reverse=True)]"
   ]
  },
  {
   "cell_type": "markdown",
   "metadata": {},
   "source": [
    "## 4.2 index and slice"
   ]
  },
  {
   "cell_type": "code",
   "execution_count": 14,
   "metadata": {},
   "outputs": [
    {
     "name": "stdout",
     "output_type": "stream",
     "text": [
      "4\n",
      "4\n",
      "None\n"
     ]
    }
   ],
   "source": [
    "#get value by keyword\n",
    "d= {'d':4,\n",
    "'a':'a'}\n",
    "#1:\n",
    "print(d['d'])\n",
    "#2: this pattern is suggested because it will not raise error while key doesn't exist\n",
    "print(d.get('d'))\n",
    "print(d.get('x'))"
   ]
  },
  {
   "cell_type": "code",
   "execution_count": 95,
   "metadata": {},
   "outputs": [
    {
     "name": "stdout",
     "output_type": "stream",
     "text": [
      "True\n",
      "True\n",
      "True\n",
      "True\n",
      "False\n",
      "False\n",
      "False\n"
     ]
    }
   ],
   "source": [
    "#check key exists\n",
    "d={'a':3}\n",
    "print('a' in d)\n",
    "print('a' in d.keys())\n",
    "print(d.get('a') != None)\n",
    "print(d['a'] != None)\n",
    "\n",
    "#\n",
    "print('b' in d)\n",
    "print('b' in d.keys())\n",
    "print(d.get('b') != None)\n"
   ]
  },
  {
   "cell_type": "markdown",
   "metadata": {},
   "source": [
    "## 4.3 loop"
   ]
  },
  {
   "cell_type": "code",
   "execution_count": 84,
   "metadata": {},
   "outputs": [
    {
     "name": "stdout",
     "output_type": "stream",
     "text": [
      "d 4\n",
      "a a\n",
      "c z\n",
      "d 4\n",
      "a a\n",
      "c z\n"
     ]
    }
   ],
   "source": [
    "#iterate\n",
    "d= {'d':'4',\n",
    "'a':'a'}\n",
    "for k in d:\n",
    "    print(k,\n",
    "d[k])\n",
    "    \n",
    "#key and value\n",
    "for k,v in d.items():\n",
    "    print(k,v)"
   ]
  },
  {
   "cell_type": "code",
   "execution_count": 85,
   "metadata": {},
   "outputs": [
    {
     "name": "stdout",
     "output_type": "stream",
     "text": [
      "sorted by key:\n",
      "a\n",
      "c\n",
      "d\n",
      "d 4\n",
      "c z\n",
      "a a\n",
      "sorted by value\n",
      "c z\n",
      "a a\n",
      "d 4\n"
     ]
    }
   ],
   "source": [
    "d= {'d':'4',\n",
    "'a':'a',\n",
    "'c':'z'}\n",
    "print(\"sorted by key:\")\n",
    "#sorted loop\n",
    "for k in sorted(d):\n",
    "    print(k)\n",
    "for k,v in sorted(d.items(),reverse=True):\n",
    "    print(k,v)\n",
    "\n",
    "print(\"sorted by value\")\n",
    "for k in sorted(d,\n",
    "key=lambda x: d[x],\n",
    "reverse=True):\n",
    "    print(k,\n",
    "d[k])"
   ]
  },
  {
   "cell_type": "code",
   "execution_count": 93,
   "metadata": {},
   "outputs": [
    {
     "name": "stdout",
     "output_type": "stream",
     "text": [
      "not exists\n",
      "3\n",
      "['d',\n",
      "'a',\n",
      "'c']\n",
      "['d',\n",
      "'a',\n",
      "'c']\n",
      "['4',\n",
      "'a',\n",
      "'z']\n"
     ]
    }
   ],
   "source": [
    "#check a key exists\n",
    "d= {'d':'4',\n",
    "'a':'a',\n",
    "'c':'z'}\n",
    "if 'x' in d:\n",
    "    print('x is in dict')\n",
    "else:\n",
    "    print('not exists')\n",
    "\n",
    "#return number of key-value\n",
    "print(len(d))\n",
    "\n",
    "#return keys to list\n",
    "print(list(d))\n",
    "print(list(d.keys()))\n",
    "\n",
    "#return values to list\n",
    "print(list(d.values()))"
   ]
  },
  {
   "cell_type": "markdown",
   "metadata": {},
   "source": [
    "## 4.4 change dictionary"
   ]
  },
  {
   "cell_type": "code",
   "execution_count": 1,
   "metadata": {},
   "outputs": [
    {
     "name": "stdout",
     "output_type": "stream",
     "text": [
      "{'a': 3,\n",
      "'b': 5}\n",
      "{'a': 3,\n",
      "'b': 5,\n",
      "'c': {'a': 4}}\n",
      "{'a': 3,\n",
      "'b': 5,\n",
      "'c': {'a': 4,\n",
      "'b': 10}}\n",
      "{'a': 3,\n",
      "'b': 5,\n",
      "'c': {'a': 4,\n",
      "'b': 10},\n",
      "'x': 45}\n"
     ]
    }
   ],
   "source": [
    "#add/update a key\n",
    "d={'a':3}\n",
    "d['b']=5;print(d)\n",
    "d['c']={'a':4};print(d)\n",
    "d['c']['b']=10;print(d)\n",
    "\n",
    "#update()\n",
    "d.update({'x':45});print(d)"
   ]
  },
  {
   "cell_type": "code",
   "execution_count": 30,
   "metadata": {},
   "outputs": [
    {
     "name": "stdout",
     "output_type": "stream",
     "text": [
      "{'b': 4,\n",
      "'c': 5}\n",
      "{'b': 4} ('c',\n",
      "5)\n",
      "{} 4\n"
     ]
    },
    {
     "ename": "KeyError",
     "evalue": "'x'",
     "output_type": "error",
     "traceback": [
      "\u001b[1;31m---------------------------------------------------------------------------\u001b[0m",
      "\u001b[1;31mKeyError\u001b[0m                                  Traceback (most recent call last)",
      "\u001b[1;32m<ipython-input-30-2b3301320925>\u001b[0m in \u001b[0;36m<module>\u001b[1;34m\u001b[0m\n\u001b[0;32m      7\u001b[0m \u001b[0mx\u001b[0m\u001b[1;33m=\u001b[0m\u001b[0md\u001b[0m\u001b[1;33m.\u001b[0m\u001b[0mpop\u001b[0m\u001b[1;33m(\u001b[0m\u001b[1;34m'b'\u001b[0m\u001b[1;33m)\u001b[0m\u001b[1;33m;\u001b[0m \u001b[0mprint\u001b[0m\u001b[1;33m(\u001b[0m\u001b[0md\u001b[0m\u001b[1;33m,\u001b[0m\u001b[0mx\u001b[0m\u001b[1;33m)\u001b[0m\u001b[1;33m\u001b[0m\u001b[1;33m\u001b[0m\u001b[0m\n\u001b[0;32m      8\u001b[0m \u001b[1;31m#raise error if the key doesn't exist\u001b[0m\u001b[1;33m\u001b[0m\u001b[1;33m\u001b[0m\u001b[1;33m\u001b[0m\u001b[0m\n\u001b[1;32m----> 9\u001b[1;33m \u001b[0mx\u001b[0m\u001b[1;33m=\u001b[0m\u001b[0md\u001b[0m\u001b[1;33m.\u001b[0m\u001b[0mpop\u001b[0m\u001b[1;33m(\u001b[0m\u001b[1;34m'x'\u001b[0m\u001b[1;33m)\u001b[0m\u001b[1;33m;\u001b[0m\u001b[0mprint\u001b[0m\u001b[1;33m(\u001b[0m\u001b[0md\u001b[0m\u001b[1;33m,\u001b[0m\u001b[0mx\u001b[0m\u001b[1;33m)\u001b[0m\u001b[1;33m\u001b[0m\u001b[1;33m\u001b[0m\u001b[0m\n\u001b[0m\u001b[0;32m     10\u001b[0m \u001b[0md\u001b[0m\u001b[1;33m.\u001b[0m\u001b[0mpopitem\u001b[0m\u001b[1;33m(\u001b[0m\u001b[1;33m)\u001b[0m\u001b[1;33m\u001b[0m\u001b[1;33m\u001b[0m\u001b[0m\n",
      "\u001b[1;31mKeyError\u001b[0m: 'x'"
     ]
    }
   ],
   "source": [
    "#delete a key-value by keyword\n",
    "d={'a':3,'b':4,\n",
    "'c':5}\n",
    "del d['a']; print(d)\n",
    "#delete the last key-value by keyword,\n",
    "return value\n",
    "x=d.popitem(); print(d,x)\n",
    "#delete the key-value by keyword,\n",
    "return value\n",
    "x=d.pop('b'); print(d,x)\n",
    "#raise error if the key doesn't exist\n",
    "x=d.pop('x');print(d,x)\n",
    "d.popitem()"
   ]
  },
  {
   "cell_type": "code",
   "execution_count": 20,
   "metadata": {},
   "outputs": [
    {
     "name": "stdout",
     "output_type": "stream",
     "text": [
      "{1: 2}\n"
     ]
    },
    {
     "ename": "NameError",
     "evalue": "name 'd' is not defined",
     "output_type": "error",
     "traceback": [
      "\u001b[1;31m---------------------------------------------------------------------------\u001b[0m",
      "\u001b[1;31mNameError\u001b[0m                                 Traceback (most recent call last)",
      "\u001b[1;32m<ipython-input-20-73813dc327bc>\u001b[0m in \u001b[0;36m<module>\u001b[1;34m\u001b[0m\n\u001b[0;32m      1\u001b[0m \u001b[1;31m#delete a dictionary\u001b[0m\u001b[1;33m\u001b[0m\u001b[1;33m\u001b[0m\u001b[1;33m\u001b[0m\u001b[0m\n\u001b[0;32m      2\u001b[0m \u001b[0md\u001b[0m\u001b[1;33m=\u001b[0m\u001b[1;33m{\u001b[0m\u001b[1;36m1\u001b[0m\u001b[1;33m:\u001b[0m\u001b[1;36m2\u001b[0m\u001b[1;33m}\u001b[0m\u001b[1;33m;\u001b[0m\u001b[0mprint\u001b[0m\u001b[1;33m(\u001b[0m\u001b[0md\u001b[0m\u001b[1;33m)\u001b[0m\u001b[1;33m\u001b[0m\u001b[1;33m\u001b[0m\u001b[0m\n\u001b[1;32m----> 3\u001b[1;33m \u001b[1;32mdel\u001b[0m \u001b[0md\u001b[0m\u001b[1;33m;\u001b[0m \u001b[0mprint\u001b[0m\u001b[1;33m(\u001b[0m\u001b[0md\u001b[0m\u001b[1;33m)\u001b[0m\u001b[1;33m\u001b[0m\u001b[1;33m\u001b[0m\u001b[0m\n\u001b[0m",
      "\u001b[1;31mNameError\u001b[0m: name 'd' is not defined"
     ]
    }
   ],
   "source": [
    "#delete a dictionary\n",
    "d={1:2};print(d)\n",
    "del d; print(d)"
   ]
  },
  {
   "cell_type": "code",
   "execution_count": 22,
   "metadata": {},
   "outputs": [
    {
     "name": "stdout",
     "output_type": "stream",
     "text": [
      "{1: 2}\n",
      "{}\n",
      "set()\n"
     ]
    }
   ],
   "source": [
    "#empty a dictionary\n",
    "d={1:2};print(d)\n",
    "#1:\n",
    "d={};print(d)\n",
    "#2:\n",
    "d={1,2}\n",
    "d.clear();print(d)"
   ]
  },
  {
   "cell_type": "code",
   "execution_count": 34,
   "metadata": {},
   "outputs": [
    {
     "name": "stdout",
     "output_type": "stream",
     "text": [
      "{'a': 1,\n",
      "'b': 2} {1: 'a',\n",
      "2: 'b'}\n"
     ]
    }
   ],
   "source": [
    "#switch key-value\n",
    "d={'a':1,'b':2}\n",
    "a=dict({d[x]:x for x in d})\n",
    "print(d,a)"
   ]
  },
  {
   "cell_type": "markdown",
   "metadata": {},
   "source": [
    "## 4.5 copy a dictionary\n",
    "this approach like as that of list: list.copy(),\n",
    "list()"
   ]
  },
  {
   "cell_type": "code",
   "execution_count": null,
   "metadata": {},
   "outputs": [],
   "source": [
    "#shallow copy\n",
    "d={1:2}\n",
    "x = d\n",
    "print(x)"
   ]
  },
  {
   "cell_type": "code",
   "execution_count": 24,
   "metadata": {},
   "outputs": [
    {
     "name": "stdout",
     "output_type": "stream",
     "text": [
      "{1: 2} {1: 2,\n",
      "4: 5}\n",
      "{1: 2} {1: 2,\n",
      "8: 4}\n"
     ]
    }
   ],
   "source": [
    "#deepcopy\n",
    "d={1:2}\n",
    "#1: dict()\n",
    "x=dict(d)\n",
    "x[4]=5\n",
    "print(d,x)\n",
    "#2: dict.copy()\n",
    "y=d.copy()\n",
    "y[8]=4\n",
    "print(d,y)"
   ]
  },
  {
   "cell_type": "markdown",
   "metadata": {},
   "source": [
    "## 4.6 convert"
   ]
  },
  {
   "cell_type": "code",
   "execution_count": 9,
   "metadata": {},
   "outputs": [
    {
     "name": "stdout",
     "output_type": "stream",
     "text": [
      "{'A': 'A',\n",
      "'B': 'B',\n",
      "'C': 'C'}\n",
      "{'a': 45,\n",
      "'b': 34}\n",
      "{1: 2,\n",
      "3: 4}\n"
     ]
    }
   ],
   "source": [
    "#str to dict\n",
    "d={ i:i for i in 'ABC'};print(d)\n",
    "\n",
    "#list to dict\n",
    "a=['a',\n",
    "'b']\n",
    "b=[45,\n",
    "34]\n",
    "d={x:y for x,y in zip(a,b)};print(d)\n",
    "\n",
    "#set to dict\n",
    "a=[(1,2),(3,4)]\n",
    "print(dict(a))"
   ]
  },
  {
   "cell_type": "markdown",
   "metadata": {},
   "source": [
    "## 4.7 defaultdict\n",
    "defaultdict is subclass of collections. defaultdict() is close to dict(),\n",
    "except that defaultdict() would provide a default value if a key doesn't exist. So defaultdict would not return KeyError."
   ]
  },
  {
   "cell_type": "code",
   "execution_count": 70,
   "metadata": {},
   "outputs": [
    {
     "name": "stdout",
     "output_type": "stream",
     "text": [
      "{'a': 3}\n",
      "defaultdict(<function <lambda> at 0x00BC1850>,\n",
      "{'a': 3})\n",
      "3\n",
      "unknown\n",
      "unknown\n"
     ]
    }
   ],
   "source": [
    "#dict object\n",
    "d1= dict({'a':3})\n",
    "print(d1)\n",
    "\n",
    "#defaultdict object\n",
    "from collections import defaultdict\n",
    "d2= defaultdict(lambda : 'unknown',\n",
    "{'a':3})\n",
    "print(d2)\n",
    "print(d2['a'])\n",
    "print(d2['b'])\n",
    "print(d2['c'])"
   ]
  },
  {
   "cell_type": "code",
   "execution_count": null,
   "metadata": {},
   "outputs": [],
   "source": []
  }
 ],
 "metadata": {
  "kernelspec": {
   "display_name": "Python 3",
   "language": "python",
   "name": "python3"
  },
  "language_info": {
   "codemirror_mode": {
    "name": "ipython",
    "version": 3
   },
   "file_extension": ".py",
   "mimetype": "text/x-python",
   "name": "python",
   "nbconvert_exporter": "python",
   "pygments_lexer": "ipython3",
   "version": "3.8.5"
  }
 },
 "nbformat": 4,
 "nbformat_minor": 4
}

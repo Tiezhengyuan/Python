{
 "cells": [
  {
   "cell_type": "markdown",
   "metadata": {},
   "source": [
    "# tkinter\n",
    "\n",
    "A paradigm used in GUI is called event-driven programming.\n",
    "\n",
    "widgets: GUI elements are designed to receive gestures called controls or widgets.\n",
    "\n",
    "event: press/release button, move mouse cursor, tap a screen etc\n",
    "\n",
    "EDP(event-driven paradigm): \n",
    "\n",
    "callback: a function designed to be invoked by someone/something else (not us!) is often called a callback. handler and callback are interchangeable"
   ]
  },
  {
   "cell_type": "markdown",
   "metadata": {},
   "source": [
    "## window\n",
    "window.call()\n",
    "window.bind(, callback)"
   ]
  },
  {
   "cell_type": "code",
   "execution_count": 403,
   "metadata": {},
   "outputs": [],
   "source": [
    "#main window\n",
    "import tkinter as tk\n",
    "\n",
    "window = tk.Tk()\n",
    "window.mainloop()"
   ]
  },
  {
   "cell_type": "code",
   "execution_count": 13,
   "metadata": {},
   "outputs": [],
   "source": [
    "import tkinter as tk\n",
    "from tkinter import Button, messagebox\n",
    "\n",
    "def click_ok():\n",
    "    reply= messagebox.askquestion(\"Message\", \"are you sure to quit?\")\n",
    "    if reply == 'yes':\n",
    "        skylight.destroy()\n",
    "\n",
    "\n",
    "\n",
    "#create main window, which is created by Tk()\n",
    "skylight = tk.Tk()\n",
    "\n",
    "#add a set of necessary widgets to the main window\n",
    "skylight.title('Skylight')\n",
    "\n",
    "button = Button(skylight, text=\"OK\", command=click_ok)\n",
    "button.place(x=10,y=10)\n",
    "\n",
    "#invoke main windows'method mainloop()\n",
    "#launch the event controller\n",
    "skylight.mainloop()\n"
   ]
  },
  {
   "cell_type": "code",
   "execution_count": 397,
   "metadata": {},
   "outputs": [],
   "source": [
    "#bind click window with changing title of window\n",
    "import tkinter as tk\n",
    "\n",
    "#callback change title of window\n",
    "def click(*args):\n",
    "    global counter\n",
    "    if counter > 0:\n",
    "        counter -= 1\n",
    "    window.title(str(counter))\n",
    "\n",
    "\n",
    "counter = 10\n",
    "window = tk.Tk()\n",
    "window.title(str(counter))\n",
    "#bind clicking left button of cursor with callback\n",
    "window.bind(\"<Button-1>\", click)\n",
    "window.mainloop()"
   ]
  },
  {
   "cell_type": "code",
   "execution_count": 399,
   "metadata": {},
   "outputs": [
    {
     "ename": "TclError",
     "evalue": "can't use \"pyimage2\" as iconphoto: not a photo image",
     "output_type": "error",
     "traceback": [
      "\u001b[1;31m---------------------------------------------------------------------------\u001b[0m",
      "\u001b[1;31mTclError\u001b[0m                                  Traceback (most recent call last)",
      "\u001b[1;32m<ipython-input-399-281daed6960a>\u001b[0m in \u001b[0;36m<module>\u001b[1;34m\u001b[0m\n\u001b[0;32m      3\u001b[0m \u001b[0mwindow\u001b[0m \u001b[1;33m=\u001b[0m \u001b[0mtk\u001b[0m\u001b[1;33m.\u001b[0m\u001b[0mTk\u001b[0m\u001b[1;33m(\u001b[0m\u001b[1;33m)\u001b[0m\u001b[1;33m\u001b[0m\u001b[1;33m\u001b[0m\u001b[0m\n\u001b[0;32m      4\u001b[0m \u001b[0mwindow\u001b[0m\u001b[1;33m.\u001b[0m\u001b[0mtitle\u001b[0m\u001b[1;33m(\u001b[0m\u001b[1;34m'Icon?'\u001b[0m\u001b[1;33m)\u001b[0m\u001b[1;33m\u001b[0m\u001b[1;33m\u001b[0m\u001b[0m\n\u001b[1;32m----> 5\u001b[1;33m \u001b[0mwindow\u001b[0m\u001b[1;33m.\u001b[0m\u001b[0mtk\u001b[0m\u001b[1;33m.\u001b[0m\u001b[0mcall\u001b[0m\u001b[1;33m(\u001b[0m\u001b[1;34m'wm'\u001b[0m\u001b[1;33m,\u001b[0m \u001b[1;34m'iconphoto'\u001b[0m\u001b[1;33m,\u001b[0m \u001b[0mwindow\u001b[0m\u001b[1;33m.\u001b[0m\u001b[0m_w\u001b[0m\u001b[1;33m,\u001b[0m \u001b[0mPhotoImage\u001b[0m\u001b[1;33m(\u001b[0m\u001b[0mfile\u001b[0m\u001b[1;33m=\u001b[0m\u001b[1;34m'logo.png'\u001b[0m\u001b[1;33m)\u001b[0m\u001b[1;33m)\u001b[0m\u001b[1;33m\u001b[0m\u001b[1;33m\u001b[0m\u001b[0m\n\u001b[0m\u001b[0;32m      6\u001b[0m \u001b[0mwindow\u001b[0m\u001b[1;33m.\u001b[0m\u001b[0mbind\u001b[0m\u001b[1;33m(\u001b[0m\u001b[1;34m\"&lt;Button-1&gt;\"\u001b[0m\u001b[1;33m,\u001b[0m \u001b[1;32mlambda\u001b[0m \u001b[0me\u001b[0m\u001b[1;33m:\u001b[0m \u001b[0mwindow\u001b[0m\u001b[1;33m.\u001b[0m\u001b[0mdestroy\u001b[0m\u001b[1;33m(\u001b[0m\u001b[1;33m)\u001b[0m\u001b[1;33m)\u001b[0m\u001b[1;33m\u001b[0m\u001b[1;33m\u001b[0m\u001b[0m\n\u001b[0;32m      7\u001b[0m \u001b[0mwindow\u001b[0m\u001b[1;33m.\u001b[0m\u001b[0mmainloop\u001b[0m\u001b[1;33m(\u001b[0m\u001b[1;33m)\u001b[0m\u001b[1;33m\u001b[0m\u001b[1;33m\u001b[0m\u001b[0m\n",
      "\u001b[1;31mTclError\u001b[0m: can't use \"pyimage2\" as iconphoto: not a photo image"
     ]
    }
   ],
   "source": [
    "import tkinter as tk\n",
    "\n",
    "window = tk.Tk()\n",
    "window.title('Icon?')\n",
    "window.tk.call('wm', 'iconphoto', window._w, PhotoImage(file='logo.png'))\n",
    "window.bind(\"&lt;Button-1&gt;\", lambda e: window.destroy())\n",
    "window.mainloop()"
   ]
  },
  {
   "cell_type": "code",
   "execution_count": 405,
   "metadata": {},
   "outputs": [],
   "source": [
    "#change size of window\n",
    "import tkinter as tk\n",
    "\n",
    "\n",
    "def click(*args):\n",
    "    global size, grows\n",
    "    if grows:\n",
    "        size += 50\n",
    "        if size >= 500:\n",
    "            grows = False\n",
    "    else:\n",
    "        size -= 50\n",
    "        if size <= 100:\n",
    "            grows = True\n",
    "    window.geometry(str(size) + \"x\" + str(size))\n",
    "\n",
    "\n",
    "size = 100\n",
    "grows = True\n",
    "window = tk.Tk()\n",
    "#set size of window\n",
    "window.maxsize(width=500, height=500)\n",
    "window.geometry(\"100x100\")\n",
    "window.resizable(width=True, height=True)\n",
    "#bind click event with callback\n",
    "window.bind(\"&lt;Button-1&gt;\", click)\n",
    "window.mainloop()"
   ]
  },
  {
   "cell_type": "code",
   "execution_count": 406,
   "metadata": {},
   "outputs": [],
   "source": [
    "#close window with confirmation \n",
    "import tkinter as tk\n",
    "from tkinter import messagebox\n",
    "\n",
    "\n",
    "def really():\n",
    "    if messagebox.askyesno(\"?\", \"Wilt thou be gone?\"):\n",
    "        window.destroy()\n",
    "\n",
    "\n",
    "window = tk.Tk()\n",
    "window.protocol(\"WM_DELETE_WINDOW\", really)\n",
    "window.mainloop()\n"
   ]
  },
  {
   "cell_type": "markdown",
   "metadata": {},
   "source": [
    "## messagebox\n",
    "\n",
    "Note: The usage \"tk.messagebox\" doesn't work.\n",
    "import tkinter as tk\n",
    "from tkinter import messagebox\n",
    "\n",
    "\n",
    "methods:\n",
    "messagebox.showinfo(): return 'ok' in everycase\n",
    "messagebox.showerror(): return 'ok' in everycase\n",
    "messagebox.showwarning(): return 'ok' in everycase\n",
    "messagebox.askyesno(): return True or False\n",
    "messagebox.askokcancel(): return True or False\n",
    "messagebox.askquestion(): return 'yes' or 'no'"
   ]
  },
  {
   "cell_type": "code",
   "execution_count": 416,
   "metadata": {},
   "outputs": [
    {
     "name": "stdout",
     "output_type": "stream",
     "text": [
      "ok\n"
     ]
    }
   ],
   "source": [
    "import tkinter as tk\n",
    "from tkinter import messagebox\n",
    "\n",
    "\n",
    "def question():\n",
    "    answer = messagebox.showinfo(\"info\", \"Your code does nothing!\")\n",
    "    print(answer)\n",
    "\n",
    "\n",
    "window = tk.Tk()\n",
    "button = tk.Button(window, text=\"Alarming message\", command=question)\n",
    "button.pack()\n",
    "window.mainloop()"
   ]
  },
  {
   "cell_type": "code",
   "execution_count": 413,
   "metadata": {},
   "outputs": [
    {
     "name": "stdout",
     "output_type": "stream",
     "text": [
      "ok\n"
     ]
    }
   ],
   "source": [
    "import tkinter as tk\n",
    "from tkinter import messagebox\n",
    "\n",
    "\n",
    "def question():\n",
    "    answer = messagebox.showerror(\"!\", \"Your code does nothing!\")\n",
    "    print(answer)\n",
    "\n",
    "\n",
    "window = tk.Tk()\n",
    "button = tk.Button(window, text=\"Alarming message\", command=question)\n",
    "button.pack()\n",
    "window.mainloop()"
   ]
  },
  {
   "cell_type": "code",
   "execution_count": 414,
   "metadata": {},
   "outputs": [
    {
     "name": "stdout",
     "output_type": "stream",
     "text": [
      "ok\n"
     ]
    }
   ],
   "source": [
    "import tkinter as tk\n",
    "from tkinter import messagebox\n",
    "\n",
    "\n",
    "def question():\n",
    "    answer = messagebox.showwarning(\"Be careful!\", \"Big Brother is watching you!\")\n",
    "    print(answer)\n",
    "\n",
    "\n",
    "window = tk.Tk()\n",
    "button = tk.Button(window, text=\"What's going on?\", command=question)\n",
    "button.pack()\n",
    "window.mainloop()"
   ]
  },
  {
   "cell_type": "code",
   "execution_count": 417,
   "metadata": {},
   "outputs": [
    {
     "name": "stdout",
     "output_type": "stream",
     "text": [
      "True\n"
     ]
    }
   ],
   "source": [
    "import tkinter as tk\n",
    "from tkinter import messagebox\n",
    "\n",
    "\n",
    "def question():\n",
    "    answer = messagebox.askyesno(\"?\", \"To be or not to be?\")\n",
    "    print(answer)\n",
    "\n",
    "\n",
    "window = tk.Tk()\n",
    "button = tk.Button(window, text=\"Ask the question!\", command=question)\n",
    "button.pack()\n",
    "window.mainloop()\n"
   ]
  },
  {
   "cell_type": "code",
   "execution_count": 408,
   "metadata": {},
   "outputs": [
    {
     "name": "stdout",
     "output_type": "stream",
     "text": [
      "True\n"
     ]
    }
   ],
   "source": [
    "import tkinter as tk\n",
    "from tkinter import messagebox\n",
    "\n",
    "\n",
    "def question():\n",
    "    answer = messagebox.askokcancel(\"?\", \"I'm going to format your hard drive\")\n",
    "    print(answer)\n",
    "\n",
    "\n",
    "window = tk.Tk()\n",
    "button = tk.Button(window, text=\"What are your plans?\", command=question)\n",
    "button.pack()\n",
    "window.mainloop()"
   ]
  },
  {
   "cell_type": "code",
   "execution_count": 412,
   "metadata": {},
   "outputs": [
    {
     "name": "stdout",
     "output_type": "stream",
     "text": [
      "no\n",
      "yes\n"
     ]
    }
   ],
   "source": [
    "import tkinter as tk\n",
    "from tkinter import messagebox\n",
    "\n",
    "\n",
    "def question():\n",
    "    answer = messagebox.askquestion(\"?\", \n",
    "        \"I'm going to format your hard drive\")\n",
    "    print(answer)\n",
    "\n",
    "\n",
    "window = Tk()\n",
    "button = tk.Button(window, text=\"What are your plans?\", command=question)\n",
    "button.pack()\n",
    "window.mainloop()\n"
   ]
  },
  {
   "cell_type": "code",
   "execution_count": null,
   "metadata": {},
   "outputs": [],
   "source": []
  },
  {
   "cell_type": "markdown",
   "metadata": {},
   "source": [
    "## layout\n",
    "\n",
    "place(x,y,height, width)\n",
    "grid(row, column)\n",
    "pack(side, fill, )\n",
    "\n",
    "\n",
    "pack()\tThe Pack geometry manager packs widgets in rows or columns.\n",
    "grid()\tThe Grid geometry manager puts the widgets in a 2-dimensional table. \n",
    "The master widget is split into a number of rows and columns, and each “cell” in the resulting table can hold a widget.\n",
    "place()\tThe Place geometry manager is the simplest of the three general geometry managers provided in Tkinter. \n",
    "It allows you explicitly set the position and size of a window, either in absolute terms, or relative to another window."
   ]
  },
  {
   "cell_type": "code",
   "execution_count": 14,
   "metadata": {},
   "outputs": [],
   "source": [
    "#place()\n",
    "import tkinter as tk\n",
    "from tkinter import Button, messagebox\n",
    "\n",
    "skylight = tk.Tk()\n",
    "skylight.title('Skylight')\n",
    "\n",
    "button1 = Button(skylight, text=\"OK\")\n",
    "button1.place(x=10,y=10)\n",
    "\n",
    "button2 = Button(skylight, text=\"Cancel\")\n",
    "button2.place(x=60,y=10, height=30, width=60)\n",
    "\n",
    "skylight.mainloop()"
   ]
  },
  {
   "cell_type": "code",
   "execution_count": 28,
   "metadata": {},
   "outputs": [],
   "source": [
    "import tkinter as tk\n",
    "from tkinter import Button, messagebox\n",
    "\n",
    "skylight = tk.Tk()\n",
    "skylight.title('Skylight')\n",
    "\n",
    "button1 = Button(skylight, text=\"OK\")\n",
    "button2 = Button(skylight, text=\"cancel\")\n",
    "button3 = Button(skylight, text=\"good\")\n",
    "button1.grid(row=0, column=0)\n",
    "button2.grid(row=1, column=1)\n",
    "button3.grid(row=2, column=0, columnspan=2)\n",
    "\n",
    "\n",
    "skylight.mainloop()"
   ]
  },
  {
   "cell_type": "code",
   "execution_count": 31,
   "metadata": {},
   "outputs": [],
   "source": [
    "import tkinter as tk\n",
    "from tkinter import Button, messagebox\n",
    "\n",
    "skylight = tk.Tk()\n",
    "skylight.title('Skylight')\n",
    "\n",
    "button1 = Button(skylight, text=\"OK\")\n",
    "button2 = Button(skylight, text=\"cancel\")\n",
    "button3 = Button(skylight, text=\"good\")\n",
    "button1.pack(side=tk.RIGHT, fill=tk.Y)\n",
    "button2.pack()\n",
    "button3.pack()\n",
    "\n",
    "\n",
    "skylight.mainloop()"
   ]
  },
  {
   "cell_type": "code",
   "execution_count": null,
   "metadata": {},
   "outputs": [],
   "source": [
    "#grid(), font=(\"font_family_name\", \"font_size\", \"font_style\")\n",
    "import tkinter as tk\n",
    "\n",
    "\n",
    "window = tk.Tk()\n",
    "label_1 = tk.Label(window, text=\"Quick brown fox jumps over the lazy dog\")\n",
    "label_1.grid(column=0, row=0)\n",
    "label_2 = tk.Label(window, text=\"Quick brown fox jumps over the lazy dog\", font=(\"Times\", \"12\"))\n",
    "label_2.grid(column=0, row=1)\n",
    "label_3 = tk.Label(window, text=\"Quick brown fox jumps over the lazy dog\", font=(\"Arial\", \"16\", \"bold\"))\n",
    "label_3.grid(column=0, row=2)\n",
    "window.mainloop()"
   ]
  },
  {
   "cell_type": "code",
   "execution_count": 91,
   "metadata": {},
   "outputs": [],
   "source": [
    "#anchor: compass coordinates including NW, N, NE, W, CENTER, E, SW, S, SE\n",
    "import tkinter as tk\n",
    "\n",
    "window = tk.Tk()\n",
    "button_1 = tk.Button(window, text=\"Regular button\");\n",
    "button_1[\"anchor\"] = tk.E\n",
    "button_1[\"width\"] = 20  # pixels!\n",
    "button_1.pack()\n",
    "button_2 = tk.Button(window, text=\"Another button\")\n",
    "button_2[\"anchor\"] = tk.SW\n",
    "button_2[\"width\"] = 20\n",
    "button_2[\"height\"] = 3  # rows\n",
    "button_2.pack()\n",
    "window.mainloop()"
   ]
  },
  {
   "cell_type": "markdown",
   "metadata": {},
   "source": [
    "# property\n",
    "\n",
    "widget property:\n",
    "background/bg:\tThe color of the widget’s background (you can freely use either of these two forms)\n",
    "foreground/fg:\tThe color of the widget’s foreground (note: it can mean different things in different widgets; in general, it’s used to specify text color)\n",
    "activeforeground/activebackground:\tLike bg and fg but used when the widget becomes active\n",
    "disabledforeground:\tThe width of the widget\n"
   ]
  },
  {
   "cell_type": "markdown",
   "metadata": {},
   "source": [
    "### approach for configure property\n",
    "At widget creation, using keyword arguments.\n",
    "After widget creation, using a dictionary index.\n",
    "And use the config() method with keyword attributes."
   ]
  },
  {
   "cell_type": "code",
   "execution_count": 566,
   "metadata": {},
   "outputs": [],
   "source": [
    "\n",
    "import tkinter as tk\n",
    "\n",
    "window = tk.Tk()\n",
    "\n",
    "#set property in widget\n",
    "button_1 = tk.Button(window, text=\"Ordinary button\", bg='blue')\n",
    "button_1.pack()\n",
    "\n",
    "button_2 = tk.Button(window, text=\"Colorful button\")\n",
    "button_2.pack()\n",
    "\n",
    "#set property by dictionary\n",
    "button_2['bg'] =\"#000000\"\n",
    "button_2['fg'] =\"yellow\"\n",
    "\n",
    "#set property using widget.config()\n",
    "button_2.config(activeforeground =\"#FF0000\")\n",
    "button_2.config(activebackground =\"green\")\n",
    "window.mainloop()\n"
   ]
  },
  {
   "cell_type": "code",
   "execution_count": 567,
   "metadata": {},
   "outputs": [],
   "source": [
    "import tkinter as tk\n",
    "\n",
    "#change property by callback\n",
    "def click():\n",
    "    button_2['bg'] =\"#000000\"\n",
    "    button_2.config(fg =\"yellow\")\n",
    "    button_2.config(activeforeground =\"#FF0000\")\n",
    "    button_2.config(activebackground =\"green\")\n",
    "\n",
    "window = tk.Tk()\n",
    "\n",
    "button_1 = tk.Button(window, text=\"click\", command=click)\n",
    "button_1.pack()\n",
    "button_2 = tk.Button(window, text=\"Colorful button\")\n",
    "button_2.pack()\n",
    "\n",
    "window.mainloop()"
   ]
  },
  {
   "cell_type": "markdown",
   "metadata": {},
   "source": [
    " ## text\n",
    " widgets: button, entry\n",
    " \n",
    " color: button(..., fg, activeforeground)\n",
    " font: \n",
    "     button(..., font=font.Font(family,size,weight), )\n",
    " \n",
    " "
   ]
  },
  {
   "cell_type": "code",
   "execution_count": 452,
   "metadata": {},
   "outputs": [],
   "source": [
    "#button\n",
    "import tkinter as tk\n",
    "from tkinter import font\n",
    "\n",
    "window = tk.Tk()\n",
    "\n",
    "#default\n",
    "button=tk.Button(window, text='ok')\n",
    "button.pack()\n",
    "\n",
    "#foreground\n",
    "button=tk.Button(window, text='color', fg='red')\n",
    "button.pack()\n",
    "\n",
    "#activeforeground: clicking on it\n",
    "button=tk.Button(window, text='active', activeforeground='red')\n",
    "button.pack()\n",
    "\n",
    "#font\n",
    "myfont=font.Font(family='Helvetica',size=30, weight='bold')\n",
    "button=tk.Button(window, text='font', font=myfont)\n",
    "button.pack()\n",
    "\n",
    "#\n",
    "button=tk.Button(window, text='font', \n",
    "    font='Helveticaize 30 italic underline')\n",
    "button.pack()\n",
    "\n",
    "#Default is -1, meaning that no character of the text\n",
    "#on the button will be underlined. If nonnegative, \n",
    "#the corresponding text character will be underlined.\n",
    "button=tk.Button(window, text='underline', underline=1)\n",
    "button.pack()\n",
    "\n",
    "\n",
    "window.mainloop()"
   ]
  },
  {
   "cell_type": "code",
   "execution_count": 440,
   "metadata": {},
   "outputs": [],
   "source": [
    "import tkinter as tk\n",
    "\n",
    "window = tk.Tk()\n",
    "window.geometry(\"100x100\")\n",
    "\n",
    "entry_1 = tk.Entry(window, text=\"Ordinary\")\n",
    "entry_1.pack()\n",
    "\n",
    "entry_2 = tk.Entry(window, text=\"Ordinary\", fg='red')\n",
    "entry_2.pack()\n",
    "\n",
    "window.mainloop()\n"
   ]
  },
  {
   "cell_type": "code",
   "execution_count": null,
   "metadata": {},
   "outputs": [],
   "source": []
  },
  {
   "cell_type": "markdown",
   "metadata": {},
   "source": [
    "## colors: bg, activebackground,\n",
    "widgets: button, entry\n",
    "button(bg,activebackground) \n",
    "\n",
    "tkinter use RGB color model, which is a additive model. the proportion of red, green and blue in hexadecimal digits.\n",
    "\n",
    "dark green: #0008800\n",
    "red: #FF0000\n",
    "black: #000000\n",
    "white: #fff\n",
    "grey: #808080\n"
   ]
  },
  {
   "cell_type": "code",
   "execution_count": 427,
   "metadata": {},
   "outputs": [],
   "source": [
    "#button\n",
    "import tkinter as tk\n",
    "\n",
    "window = tk.Tk()\n",
    "button=tk.Button(window, text='ok')\n",
    "button.pack(side=tk.LEFT)\n",
    "\n",
    "#foreground, background\n",
    "button=tk.Button(window, text='ok', bg='grey')\n",
    "button.pack(side=tk.LEFT)\n",
    "\n",
    "#foreground, background\n",
    "button=tk.Button(window, text='ok', activebackground='black')\n",
    "button.pack(side=tk.LEFT)\n",
    "\n",
    "window.mainloop()"
   ]
  },
  {
   "cell_type": "code",
   "execution_count": 429,
   "metadata": {},
   "outputs": [],
   "source": [
    "import tkinter as tk\n",
    "\n",
    "window = tk.Tk()\n",
    "button_1 = tk.Button(window, text=\"Ordinary button\");\n",
    "button_1.pack()\n",
    "button_2 = tk.Button(window, text=\"Colorful button\")\n",
    "button_2.pack()\n",
    "button_2.config(bg =\"#000000\")\n",
    "button_2.config(activebackground =\"green\")\n",
    "window.mainloop()\n"
   ]
  },
  {
   "cell_type": "code",
   "execution_count": 573,
   "metadata": {},
   "outputs": [],
   "source": [
    "import tkinter as tk\n",
    "\n",
    "window = tk.Tk()\n",
    "tk.Button(window, text=\"black\", bg='#000000').pack()\n",
    "tk.Button(window, text=\"red\", fg='red', bg='#FF0000').pack()\n",
    "window.mainloop()\n",
    "\n"
   ]
  },
  {
   "cell_type": "code",
   "execution_count": null,
   "metadata": {},
   "outputs": [],
   "source": []
  },
  {
   "cell_type": "markdown",
   "metadata": {},
   "source": [
    "## border\n",
    "widgets: button, entry\n",
    "Button(bd,relief)"
   ]
  },
  {
   "cell_type": "code",
   "execution_count": 435,
   "metadata": {},
   "outputs": [],
   "source": [
    "#can't change border color. \n",
    "import tkinter as tk\n",
    "\n",
    "window = tk.Tk()\n",
    "button_1 = tk.Button(window, text=\"Ordinary button\",bd=10, relief=\"raised\")\n",
    "button_1.pack()\n",
    "\n",
    "button_2 = tk.Button(window, text=\"Exceptional button\")\n",
    "button_2.pack()\n",
    "button_2[\"borderwidth\"] = 15\n",
    "button_2[\"relief\"] = 'groove'\n",
    "window.mainloop()"
   ]
  },
  {
   "cell_type": "code",
   "execution_count": 437,
   "metadata": {},
   "outputs": [],
   "source": [
    "import tkinter as tk\n",
    "\n",
    "window = tk.Tk()\n",
    "entry_1 = tk.Entry(window, text=\"Ordinary\")\n",
    "entry_1.pack()\n",
    "\n",
    "entry_2 = tk.Entry(window, text=\"Ordinary\", bd=10)\n",
    "entry_2.pack()\n",
    "\n",
    "window.mainloop()"
   ]
  },
  {
   "cell_type": "markdown",
   "metadata": {},
   "source": [
    "## cursor"
   ]
  },
  {
   "cell_type": "code",
   "execution_count": 92,
   "metadata": {},
   "outputs": [],
   "source": [
    "#change shape of cursor\n",
    "import tkinter as tk\n",
    "\n",
    "window = tk.Tk()\n",
    "label_1 = tk.Label(window, height=3, text=\"arrow\", cursor=\"arrow\")\n",
    "label_1.pack()\n",
    "label_2 = tk.Label(window, height=3, text=\"clock\", cursor=\"clock\")\n",
    "label_2.pack()\n",
    "label_3 = tk.Label(window, height=3, text=\"heart\", cursor=\"heart\")\n",
    "label_3.pack()\n",
    "window.mainloop()\n"
   ]
  },
  {
   "cell_type": "code",
   "execution_count": null,
   "metadata": {},
   "outputs": [],
   "source": [
    "## cursor\n",
    "\n",
    "#change shape of cursor\n",
    "import tkinter as tk\n",
    "\n",
    "window = tk.Tk()\n",
    "label_1 = tk.Label(window, height=3, text=\"arrow\", cursor=\"arrow\")\n",
    "label_1.pack()\n",
    "label_2 = tk.Label(window, height=3, text=\"clock\", cursor=\"clock\")\n",
    "label_2.pack()\n",
    "label_3 = tk.Label(window, height=3, text=\"heart\", cursor=\"heart\")\n",
    "label_3.pack()\n",
    "window.mainloop()\n"
   ]
  },
  {
   "cell_type": "code",
   "execution_count": null,
   "metadata": {},
   "outputs": [],
   "source": []
  },
  {
   "cell_type": "markdown",
   "metadata": {},
   "source": [
    "## state\n",
    "state: disabled/normal"
   ]
  },
  {
   "cell_type": "code",
   "execution_count": 568,
   "metadata": {},
   "outputs": [],
   "source": [
    "import tkinter as tk\n",
    "\n",
    "window = tk.Tk()\n",
    "button_1 = tk.Button(window, text=\"active\");\n",
    "button_1.pack()\n",
    "button_2 = tk.Button(window, text=\"disable\", state='disabled')\n",
    "button_2.pack()\n",
    "button_3 = tk.Button(window, text=\"active\", state='normal')\n",
    "button_3.pack()\n",
    "\n",
    "window.mainloop()\n"
   ]
  },
  {
   "cell_type": "code",
   "execution_count": 455,
   "metadata": {},
   "outputs": [],
   "source": [
    "import tkinter as tk\n",
    "\n",
    "window = tk.Tk()\n",
    "window.geometry(\"100x100\")\n",
    "\n",
    "entry_1 = tk.Entry(window, text=\"Ordinary\")\n",
    "entry_1.pack()\n",
    "\n",
    "entry_2 = tk.Entry(window, text=\"Ordinary\", state='disabled')\n",
    "entry_2.pack()\n",
    "\n",
    "window.mainloop()\n"
   ]
  },
  {
   "cell_type": "markdown",
   "metadata": {},
   "source": [
    "## size\n",
    "\n",
    "methods for Entry\n",
    "tk.Entry(width) Here width is number of text rather than pixels\n",
    "entry.place(x,y,width,height)\n",
    "entry.grid(row,column, ipadx,ipady"
   ]
  },
  {
   "cell_type": "code",
   "execution_count": 456,
   "metadata": {},
   "outputs": [],
   "source": [
    "import tkinter as tk\n",
    "\n",
    "window = tk.Tk()\n",
    "button_1 = tk.Button(window, text=\"active\");\n",
    "button_1.pack()\n",
    "button_2 = tk.Button(window, text=\"disable\", width=20, height=5)\n",
    "button_2.pack()\n",
    "\n",
    "window.mainloop()"
   ]
  },
  {
   "cell_type": "code",
   "execution_count": 530,
   "metadata": {},
   "outputs": [],
   "source": [
    "import tkinter as tk\n",
    "\n",
    "window = tk.Tk()\n",
    "window.geometry(\"400x200\")\n",
    "\n",
    "#default\n",
    "entry_1 = tk.Entry(window)\n",
    "entry_1.pack()\n",
    "\n",
    "#set width\n",
    "entry_2 = tk.Entry(window, width=20)\n",
    "entry_2.pack()\n",
    "\n",
    "#place()\n",
    "entry_3 = tk.Entry(window)\n",
    "entry_3.place(x=10,y=100, width=150, height=20)\n",
    "\n",
    "\n",
    "window.mainloop()"
   ]
  },
  {
   "cell_type": "code",
   "execution_count": 468,
   "metadata": {},
   "outputs": [],
   "source": [
    "import tkinter as tk\n",
    "\n",
    "window = tk.Tk()\n",
    "window.geometry(\"300x200\")\n",
    "\n",
    "#grid()\n",
    "entryExample1 = tk.Entry(window)\n",
    "entryExample1.grid(row=3, column=3, padx=10,  pady=10,  ipady=30)\n",
    "\n",
    "window.mainloop()"
   ]
  },
  {
   "cell_type": "code",
   "execution_count": 532,
   "metadata": {},
   "outputs": [],
   "source": [
    "import tkinter as tk\n",
    "\n",
    "window = tk.Tk()\n",
    "\n",
    "#set start size \n",
    "#pixels: column x row\n",
    "window.geometry(\"400x200\")\n",
    "\n",
    "#set maximum size of window\n",
    "window.maxsize(width=500, height=500)\n",
    "\n",
    "#\n",
    "window.resizable(width=True, height=True)\n",
    "\n",
    "window.mainloop()"
   ]
  },
  {
   "cell_type": "markdown",
   "metadata": {},
   "source": [
    "# event handler\n",
    "\n",
    "widgets need to respond to the events namely mouse click or key press. A callback should be bound with a specific event.\n",
    "\n",
    "events -> event manager -> application components.\n",
    "\n",
    "1. tk.Button(window, text, command=callback)\n",
    "2. widget.bind(event, callback):\n",
    "<Button-1><Button-2><Button-3>\n",
    "<ButtonRelease-1><DoubleButton-1>\n"
   ]
  },
  {
   "cell_type": "markdown",
   "metadata": {},
   "source": [
    "callback: \n",
    "1. it possible to change a callback to a widget.\n",
    "2. one callback can be bound to >1 widget.\n",
    "\n",
    "\n",
    "\n",
    "w.bind(event_name,callable[,'+']) : w.bind(event_name,callable) sets callable as the callback for event_name on w. w.bind(event_name,callable,'+') adds callable to the previous bindings for event_name on w.\n",
    "\n",
    "\n",
    "w.bind_all(event_name,callable[,'+']): w.bind_all(event_name,callable) sets callable as the callback for event_name on all widgets. w.bind_all(event_name,callable,'+') adds callable to the previous bindings for event_name on all widgets.\n",
    "\n",
    "\n",
    "w.unbind(event_name) :Removes all callbacks for event_name on w.\n",
    "\n",
    "w.unbind_all(event_name): Removes all callbacks for event_name on any widget, as set by bind_all.\n",
    "\n",
    "\n"
   ]
  },
  {
   "cell_type": "markdown",
   "metadata": {},
   "source": [
    "## bind event \n",
    "\n",
    "<Double-Button-1> Button 1 was double clicked. You can use Double or Triple as prefixes.\n",
    "\n",
    "<Enter>           The mouse pointer entered the widget (this event doesn’t mean that the user pressed the Enter key!).\n",
    "\n",
    "<Leave>           The mouse pointer left the widget.\n",
    "\n",
    "<FocusIn>         Keyboard focus was moved to this widget, or to a child of\n",
    "                  this widget.\n",
    "\n",
    "<FocusOut>     Keyboard focus was moved from this widget to another widget.\n",
    "\n",
    "<Return>          The user pressed the Enter key. For an ordinary 102-key\n",
    "                  PC-style keyboard, the special keys are Cancel (the Break\n",
    "                  key), BackSpace, Tab, Return(the Enter key), Shift_L (any\n",
    "                  Shift key), Control_L (any Control key), Alt_L (any Alt key), Pause, Caps_Lock, Escape, Prior (Page Up), Next (Page Down), End, Home, Left, Up, Right, Down, Print, Insert, Delete, F1, F2, F3, F4, F5, F6, F7, F8, F9, F10, F11, F12, Num_Lock, and Scroll_Lock.\n",
    "\n",
    "<Key>             The user pressed any key. The key is provided in the char\n",
    "                  member of the event object passed to the callback (this is an empty string for special keys). a The user typed an “a”. Most printable characters can be used as is. The exceptions are space (<space>) and less than (<less>). Note that 1 is a keyboard binding, while <1> is a\n",
    " button binding.\n",
    "\n",
    "<Shift-Up>        The user pressed the Up arrow, while holding the Shift key pressed. You can use prefixes like Alt, Shift, and Control.\n",
    "\n",
    "<Configure>       The widget changed size (or location, on some platforms). The new size is provided in the width and height attributes of the event object passed to the callback.\n",
    "\n",
    "<Activate>        A widget is changing from being inactive to being active.\n",
    "                  This refers to changes in the state option of a widget such as a button changing from inactive (grayed out) to active.\n",
    "\n",
    "\n",
    "<Deactivate>      A widget is changing from being active to being inactive.\n",
    "                  This refers to changes in the state option of a widget such as a radiobutton changing from active to inactive (grayed out).\n",
    "\n",
    "<Destroy>         A widget is being destroyed.\n",
    "\n",
    "<Expose>          This event occurs whenever at least some part of your\n",
    "                  application or widget becomes visible after having been\n",
    "                  covered up by another window.\n",
    "\n",
    "<KeyRelease>      The user let up on a key.\n",
    "\n",
    "<Map>             A widget is being mapped, that is, made visible in the\n",
    "                  application. This will happen, for example, when you call the widget's .grid() method.\n",
    "\n",
    "<Motion>      The user moved the mouse pointer entirely within a widget.\n",
    "\n",
    "<MouseWheel>      The user moved the mouse wheel up or down. At present, this binding works on Windows and MacOS, but not under Linux.\n",
    "\n",
    "<Unmap>           A widget is being unmapped and is no longer visible.\n",
    "\n",
    "<Visibility>      Happens when at least some part of the application window\n",
    "                  becomes visible on the screen."
   ]
  },
  {
   "cell_type": "code",
   "execution_count": 625,
   "metadata": {},
   "outputs": [
    {
     "name": "stdout",
     "output_type": "stream",
     "text": [
      ".!button 1 17 15\n"
     ]
    }
   ],
   "source": [
    "#bind cursor button\n",
    "import tkinter as tk\n",
    "def click(event):\n",
    "    #event: event type, button number, coordinator of cursor\n",
    "    print(event.widget, event.num, event.x, event.y)\n",
    "\n",
    "root=tk.Tk()\n",
    "b=tk.Button(root, text='click')\n",
    "b.pack()\n",
    "b.bind(\"<Button-1>\", lambda event:click(event))\n",
    "\n",
    "\n",
    "root.mainloop()"
   ]
  },
  {
   "cell_type": "code",
   "execution_count": 628,
   "metadata": {},
   "outputs": [
    {
     "name": "stdout",
     "output_type": "stream",
     "text": [
      ". a\n"
     ]
    }
   ],
   "source": [
    "#bind key event <key-q> =<q>\n",
    "import tkinter as tk\n",
    "\n",
    "def click(event):\n",
    "    print(event.widget, event.char)\n",
    "\n",
    "root=tk.Tk()\n",
    "b=tk.Button(root, text='click')\n",
    "b.pack()\n",
    "b.bind_all(\"<Key-Q>\", lambda event:click(event))\n",
    "b.bind_all(\"<a>\", lambda event:click(event))\n",
    "root.mainloop()"
   ]
  },
  {
   "cell_type": "markdown",
   "metadata": {},
   "source": [
    "## widget(command=callback)\n",
    "The cammand option is not used in all widgets, but only used in tk.Button,.\n",
    "The cammand option is only bound with left-click and backspace. It doesn't not bind the Return key.\n"
   ]
  },
  {
   "cell_type": "code",
   "execution_count": 605,
   "metadata": {},
   "outputs": [],
   "source": [
    "import tkinter as tk\n",
    "def click(event):\n",
    "    #event: click number, coordinator of cursor\n",
    "    print(event)\n",
    "def q(*args):\n",
    "    print(event)\n",
    "root=tk.Tk()\n",
    "b=tk.Button(root, text='click')\n",
    "b.pack()\n",
    "b.bind(\"<Button-1>\", lambda event:click(event))\n",
    "\n",
    "b2=tk.Button(root, text='click')\n",
    "b2.pack()\n",
    "b2.bind(\"<q>\", q)\n",
    "\n",
    "root.mainloop()"
   ]
  },
  {
   "cell_type": "code",
   "execution_count": 82,
   "metadata": {},
   "outputs": [],
   "source": [
    "import tkinter as tk\n",
    "\n",
    "\n",
    "#Note: event should be argument in bind()\n",
    "def click(event=None):\n",
    "    if event is None:\n",
    "        tk.messagebox.showinfo('msg', 'null event')    \n",
    "    else:\n",
    "        string = \"x=\" + str(event.x) + \",y=\" + str(event.y) + \\\n",
    "                 \",num=\" + str(event.num) + \",type=\" + event.type\n",
    "        tk.messagebox.showinfo('msg', string)\n",
    "\n",
    "window = tk.Tk()\n",
    "window.title(\"message\")\n",
    "\n",
    "label = tk.Label(window, text='me')\n",
    "label.pack()\n",
    "\n",
    "#command in Button is binded with a callback: messagebox.showinfo\n",
    "b1 = tk.Button(window, text=\"ok\", command=click)\n",
    "b1.pack()\n",
    "b2 = tk.Button(window, text=\"cancel\", command=window.destroy)\n",
    "b2.pack()\n",
    "\n",
    "#bind(): callback function is click()\n",
    "frame=tk.Frame(window, height=30, width=60, bg='blue')\n",
    "frame.bind(\"<Button-1>\", click)\n",
    "frame.pack()\n",
    "\n",
    "window.mainloop()"
   ]
  },
  {
   "cell_type": "code",
   "execution_count": 83,
   "metadata": {},
   "outputs": [],
   "source": [
    "import tkinter as tk\n",
    "from tkinter import messagebox\n",
    "\n",
    "\n",
    "#switch state\n",
    "def on_off():\n",
    "    global switch\n",
    "    if switch:\n",
    "        button_2.config(command=lambda: None)\n",
    "        button_2.config(text=\"Gee!\")\n",
    "    else:\n",
    "        button_2.config(command=peekaboo)\n",
    "        button_2.config(text=\"Peekaboo!\")\n",
    "    switch = not switch\n",
    "\n",
    "\n",
    "def peekaboo():\n",
    "    messagebox.showinfo(\"\", \"PEEKABOO!\")\n",
    "\n",
    "\n",
    "def do_nothing():\n",
    "    pass\n",
    "\n",
    "\n",
    "switch = True\n",
    "window = tk.Tk()\n",
    "buton_1 = tk.Button(window, text=\"On/Off\", command=on_off)\n",
    "buton_1.pack()\n",
    "button_2 = tk.Button(window, text=\"Peekaboo!\", command=peekaboo)\n",
    "button_2.pack()\n",
    "window.mainloop()"
   ]
  },
  {
   "cell_type": "markdown",
   "metadata": {},
   "source": [
    "## widget.bind_all()"
   ]
  },
  {
   "cell_type": "code",
   "execution_count": 85,
   "metadata": {},
   "outputs": [],
   "source": [
    "#bind_all()\n",
    "\n",
    "import tkinter as tk\n",
    "from tkinter import messagebox\n",
    "\n",
    "def hello(dummy):\n",
    "    messagebox.showinfo(\"\", \"Hello!\")\n",
    "\n",
    "window = tk.Tk()\n",
    "button = tk.Button(window, text=\"On/Off\")\n",
    "button.pack()\n",
    "label = tk.Label(window, text=\"Label\")\n",
    "label.pack()\n",
    "frame = tk.Frame(window, bg=\"yellow\", width=100, height=20)\n",
    "frame.pack()\n",
    "window.bind_all(\"<Button-1>\", hello)\n",
    "window.mainloop()\n"
   ]
  },
  {
   "cell_type": "markdown",
   "metadata": {},
   "source": [
    "## widget.bind()\n",
    "callback to widget which lacks the command property. "
   ]
  },
  {
   "cell_type": "code",
   "execution_count": null,
   "metadata": {},
   "outputs": [],
   "source": []
  },
  {
   "cell_type": "markdown",
   "metadata": {},
   "source": [
    "## invoke()\n",
    "button.invoke(): run callback defined by command property"
   ]
  },
  {
   "cell_type": "code",
   "execution_count": 552,
   "metadata": {},
   "outputs": [
    {
     "name": "stdout",
     "output_type": "stream",
     "text": [
      "The Button Was Clicked!\n",
      "The Button Was Clicked!\n",
      "The Button Was Clicked!\n",
      "The Button Was Clicked!\n",
      "The Button Was Clicked!\n"
     ]
    }
   ],
   "source": [
    "from tkinter import *\n",
    "\n",
    "def callback():\n",
    "    print('The Button Was Clicked!')\n",
    "    \n",
    "root = Tk()\n",
    "\n",
    "#invoke callback when button is clicked\n",
    "button = ttk.Button(root, text='Click Here!', command=callback)\n",
    "button.pack(padx=100, pady=50)\n",
    "\n",
    "#invoke callback once widget is loaded\n",
    "button.invoke()\n",
    "\n",
    "root.mainloop()"
   ]
  },
  {
   "cell_type": "code",
   "execution_count": null,
   "metadata": {},
   "outputs": [],
   "source": []
  },
  {
   "cell_type": "markdown",
   "metadata": {},
   "source": [
    "# command\n",
    "create button: button = tk.Button(window, text, command=<func>)\n",
    "get property: text = button.cget('text')\n",
    "get text: text = button['text']\n",
    "update text: button.config(text='')"
   ]
  },
  {
   "cell_type": "code",
   "execution_count": 86,
   "metadata": {},
   "outputs": [],
   "source": [
    "#use global variables\n",
    "import tkinter as tk\n",
    "\n",
    "\n",
    "def on_off():\n",
    "    global button\n",
    "    state = button[\"text\"]\n",
    "    if state == \"ON\":\n",
    "        state = \"OFF\"\n",
    "    else:\n",
    "        state = \"ON\"\n",
    "    button[\"text\"] = state\n",
    "\n",
    "\n",
    "window = tk.Tk()\n",
    "button = tk.Button(window, text=\"OFF\", command=on_off)\n",
    "button.place(x=50, y=100, width=100)\n",
    "window.mainloop()"
   ]
  },
  {
   "cell_type": "code",
   "execution_count": 88,
   "metadata": {},
   "outputs": [],
   "source": [
    "#pass arugments to button command\n",
    "\n",
    "import tkinter as tk\n",
    "\n",
    "def on_off(button):\n",
    "    state = button[\"text\"]\n",
    "    if state == \"ON\":\n",
    "        state = \"OFF\"\n",
    "    else:\n",
    "        state = \"ON\"\n",
    "    button[\"text\"] = state\n",
    "\n",
    "window = tk.Tk()\n",
    "button = tk.Button(window, text=\"OFF\", command=lambda: on_off(button))\n",
    "button.place(x=50, y=100, width=100)\n",
    "window.mainloop()"
   ]
  },
  {
   "cell_type": "markdown",
   "metadata": {},
   "source": []
  },
  {
   "cell_type": "code",
   "execution_count": 92,
   "metadata": {},
   "outputs": [],
   "source": []
  },
  {
   "cell_type": "markdown",
   "metadata": {},
   "source": [
    "# methods\n"
   ]
  },
  {
   "cell_type": "code",
   "execution_count": null,
   "metadata": {},
   "outputs": [],
   "source": []
  },
  {
   "cell_type": "markdown",
   "metadata": {},
   "source": [
    "## geometry managers\n",
    "\n",
    "place(x,y,height, width)\n",
    "grid(row, column)\n",
    "pack(side, fill, )\n",
    "\n",
    "Note: pack() and grid() can't be used in the same container\n",
    "\n",
    "\n"
   ]
  },
  {
   "cell_type": "markdown",
   "metadata": {},
   "source": [
    "### widget.pack()\n",
    "pack(expand, fill=X/Y/BOTH, side): The Pack geometry manager packs widgets in rows or columns. default: expand=True, fill=None, side=TOP\n",
    "\n",
    "fill tells the widget to grow to as much space is available for it in the direction specified\n",
    "expand tells the master to take any space that is not assigned to any widget and distribute it to all widgets that have a non-zero expand value."
   ]
  },
  {
   "cell_type": "code",
   "execution_count": 478,
   "metadata": {},
   "outputs": [],
   "source": [
    "import tkinter as tk\n",
    "from tkinter import messagebox\n",
    "\n",
    "skylight = tk.Tk()\n",
    "\n",
    "#default pack buttons in rows and placed in the center\n",
    "button1 = tk.Button(skylight, text=\"OK\")\n",
    "button1.pack()\n",
    "#default pack entry in rows, and fill entire width\n",
    "tk.Entry(skylight).pack()\n",
    "#pack another button\n",
    "tk.Button(skylight, text=\"Cancel\").pack()\n",
    "\n",
    "#pack widgets side by side using side=left/right/center\n",
    "#Note: the real layout:button-entry-button\n",
    "#the order of statements can't control layout\n",
    "tk.Button(skylight, text=\"right\").pack(side=tk.RIGHT)\n",
    "tk.Button(skylight, text=\"left\").pack(side=tk.LEFT)\n",
    "tk.Entry(skylight).pack(side=tk.LEFT)\n",
    "\n",
    "skylight.mainloop()"
   ]
  },
  {
   "cell_type": "code",
   "execution_count": 487,
   "metadata": {},
   "outputs": [],
   "source": [
    "import tkinter as tk\n",
    "from tkinter import Button, messagebox\n",
    "\n",
    "skylight = tk.Tk()\n",
    "skylight.title('Skylight')\n",
    "\n",
    "Button(skylight, text=\"OK\").pack(side=tk.RIGHT, fill=tk.Y)\n",
    "Button(skylight, text=\"cancel\").pack()\n",
    "Button(skylight, text=\"good\").pack()\n",
    "Button(skylight, text=\"you\").pack(side=tk.LEFT)\n",
    "Button(skylight, text=\"today\").pack(side=tk.RIGHT, fill=tk.X)\n",
    "\n",
    "skylight.mainloop()"
   ]
  },
  {
   "cell_type": "code",
   "execution_count": 495,
   "metadata": {},
   "outputs": [],
   "source": [
    "import tkinter as tk\n",
    "\n",
    "root = tk.Tk()\n",
    "root.geometry('200x200+200+200')\n",
    "\n",
    "tk.Label(root, text='Label', bg='tan').pack()\n",
    "tk.Label(root, text='Label2', bg='green').pack(fill=tk.Y)\n",
    "\n",
    "tk.Label(root, text='Label1', bg='blue').pack(fill=tk.X)\n",
    "tk.Label(root, text='Label3', bg='red').pack(fill=tk.BOTH)\n",
    "\n",
    "tk.Label(root, text='Label4', bg='yellow').pack(expand=1, fill=tk.Y)\n",
    "\n",
    "root.mainloop()"
   ]
  },
  {
   "cell_type": "markdown",
   "metadata": {},
   "source": [
    "### widget.place()\n",
    "place()\tThe Place geometry manager is the simplest of the three general geometry managers provided in Tkinter. \n",
    "It allows you explicitly set the position and size of a window, either in absolute terms, or relative to another window."
   ]
  },
  {
   "cell_type": "code",
   "execution_count": 14,
   "metadata": {},
   "outputs": [],
   "source": [
    "#place()\n",
    "import tkinter as tk\n",
    "from tkinter import Button, messagebox\n",
    "\n",
    "skylight = tk.Tk()\n",
    "skylight.title('Skylight')\n",
    "\n",
    "button1 = Button(skylight, text=\"OK\")\n",
    "button1.place(x=10,y=10)\n",
    "\n",
    "button2 = Button(skylight, text=\"Cancel\")\n",
    "button2.place(x=60,y=10, height=30, width=60)\n",
    "\n",
    "skylight.mainloop()"
   ]
  },
  {
   "cell_type": "markdown",
   "metadata": {},
   "source": [
    "### widget.grid()\n",
    "grid():\tThe Grid geometry manager puts the widgets in a 2-dimensional table. The master widget is split into a number of rows and columns, and each “cell” in the resulting table can hold a widget.\n",
    "\n",
    "gird(row, column, rowspan, columnspan, sticky)\n",
    "sticky=N/E/S/W/NE/NW/SE/SW"
   ]
  },
  {
   "cell_type": "code",
   "execution_count": 644,
   "metadata": {},
   "outputs": [],
   "source": [
    "import tkinter as tk\n",
    "from tkinter import Button, messagebox\n",
    "\n",
    "root = tk.Tk()\n",
    "root.geometry('100x100')\n",
    "\n",
    "#root.rowconfigure(2)\n",
    "#root.columnconfigure(2)\n",
    "\n",
    "Button(root, text=\"OK\").grid(row=0,column=0)\n",
    "\n",
    "skylight.mainloop()"
   ]
  },
  {
   "cell_type": "code",
   "execution_count": 508,
   "metadata": {},
   "outputs": [],
   "source": [
    "import tkinter as tk\n",
    "from tkinter import Button, messagebox\n",
    "\n",
    "skylight = tk.Tk()\n",
    "skylight.title('Skylight')\n",
    "\n",
    "Button(skylight, text=\"OK\").grid(row=0, column=0)\n",
    "Button(skylight, text=\"cancel\").grid(row=1, column=1)\n",
    "Button(skylight, text=\"good\").grid(row=2, column=2, columnspan=2)\n",
    "\n",
    "skylight.mainloop()"
   ]
  },
  {
   "cell_type": "code",
   "execution_count": 526,
   "metadata": {},
   "outputs": [],
   "source": [
    "import tkinter as tk\n",
    "\n",
    "skylight = tk.Tk()\n",
    "\n",
    "tk.Label(skylight, text=\"right\", width=10).grid(row=0, sticky=E)\n",
    "tk.Label(skylight, text=\"left############\").grid(row=1, sticky=W)\n",
    "\n",
    "skylight.mainloop()"
   ]
  },
  {
   "cell_type": "code",
   "execution_count": 496,
   "metadata": {},
   "outputs": [],
   "source": [
    "#grid(), font=(\"font_family_name\", \"font_size\", \"font_style\")\n",
    "import tkinter as tk\n",
    "\n",
    "\n",
    "window = tk.Tk()\n",
    "label_1 = tk.Label(window, text=\"Quick\")\n",
    "label_1.grid(column=0, row=0)\n",
    "label_2 = tk.Label(window, text=\"brown lazy dog\", font=(\"Times\", \"12\"))\n",
    "label_2.grid(column=0, row=1)\n",
    "label_3 = tk.Label(window, text=\"fox jumps over the lazy dog\", font=(\"Arial\", \"16\", \"bold\"))\n",
    "label_3.grid(column=0, row=2)\n",
    "window.mainloop()"
   ]
  },
  {
   "cell_type": "code",
   "execution_count": 517,
   "metadata": {},
   "outputs": [],
   "source": [
    "from tkinter import *\n",
    "\n",
    "tk=Tk()\n",
    "var=IntVar()\n",
    " \n",
    " \n",
    "Label(tk,text=\"First\").grid(row=0,column=0, sticky=E)\n",
    "Label(tk,text=\"Second\").grid(row=1,column=0, sticky=W)\n",
    " \n",
    "\n",
    "Entry(tk).grid(row=0,column=1)\n",
    "Entry(tk).grid(row=1,column=1)\n",
    "\n",
    "Checkbutton(tk,text=\"Precerve aspect\",variable=var).grid(columnspan=2,sticky=W)\n",
    "\n",
    "mainloop()"
   ]
  },
  {
   "cell_type": "markdown",
   "metadata": {},
   "source": [
    "### anchor\n",
    "#anchor: NW, N, NE, W, CENTER, E, SW, S, SE"
   ]
  },
  {
   "cell_type": "code",
   "execution_count": 91,
   "metadata": {},
   "outputs": [],
   "source": [
    "import tkinter as tk\n",
    "\n",
    "window = tk.Tk()\n",
    "button_1 = tk.Button(window, text=\"Regular button\");\n",
    "button_1[\"anchor\"] = tk.E\n",
    "button_1[\"width\"] = 20  # pixels!\n",
    "button_1.pack()\n",
    "button_2 = tk.Button(window, text=\"Another button\")\n",
    "button_2[\"anchor\"] = tk.SW\n",
    "button_2[\"width\"] = 20\n",
    "button_2[\"height\"] = 3  # rows\n",
    "button_2.pack()\n",
    "window.mainloop()"
   ]
  },
  {
   "cell_type": "markdown",
   "metadata": {},
   "source": []
  },
  {
   "cell_type": "code",
   "execution_count": null,
   "metadata": {},
   "outputs": [],
   "source": []
  },
  {
   "cell_type": "code",
   "execution_count": null,
   "metadata": {},
   "outputs": [],
   "source": []
  },
  {
   "cell_type": "markdown",
   "metadata": {},
   "source": [
    "## destroy()\n",
    "root.destroy() or widget.destroy(): will destroy that window and all of its running bacllbacks instantly.\n"
   ]
  },
  {
   "cell_type": "code",
   "execution_count": 534,
   "metadata": {},
   "outputs": [],
   "source": [
    "#root window destroy()\n",
    "import tkinter as tk\n",
    "\n",
    "def quit():\n",
    "    window.destroy()\n",
    "\n",
    "window = tk.Tk()\n",
    "\n",
    "tk.Button(window, text=\"quit\", command=quit).pack()\n",
    "\n",
    "window.mainloop()"
   ]
  },
  {
   "cell_type": "markdown",
   "metadata": {},
   "source": [
    "## change state????????\n",
    "button.instate()"
   ]
  },
  {
   "cell_type": "code",
   "execution_count": 564,
   "metadata": {},
   "outputs": [
    {
     "name": "stdout",
     "output_type": "stream",
     "text": [
      "normal\n",
      "normal\n"
     ]
    }
   ],
   "source": [
    "from tkinter import *\n",
    "from tkinter import ttk\n",
    "\n",
    "def callback():\n",
    "    print(b['state'])\n",
    "    if b['state']=='normal':\n",
    "        print(b['state'])\n",
    "        b.instate(['disabled'])\n",
    "    else:\n",
    "        b.instate(['active'])\n",
    "    \n",
    "root = Tk()\n",
    "\n",
    "button = ttk.Button(root, text='Click Here!', command=callback)\n",
    "button.pack(padx=100, pady=50)\n",
    "\n",
    "b = ttk.Button(root, text='yesterday')\n",
    "b.pack(padx=100, pady=50)\n",
    "\n",
    "\n",
    "root.mainloop()"
   ]
  },
  {
   "cell_type": "markdown",
   "metadata": {},
   "source": [
    "## focus\n",
    "\n",
    "widget.focus_set(): allow focus\n",
    "window.focus_get(): retrieve widgets by focusing event\n"
   ]
  },
  {
   "cell_type": "code",
   "execution_count": 595,
   "metadata": {},
   "outputs": [
    {
     "name": "stdout",
     "output_type": "stream",
     "text": [
      ".!button\n",
      "Get property: b1\n",
      ".!button2\n",
      "Get property: b2\n",
      ".!entry\n"
     ]
    }
   ],
   "source": [
    "from tkinter import * \n",
    "from tkinter.ttk import *\n",
    "\n",
    "def click(*args):\n",
    "    print(root.focus_get())\n",
    "    widget=root.focus_get()\n",
    "    if 'button' in str(widget):\n",
    "        print('Get property:', widget['text'])\n",
    "    \n",
    "# creating master window\n",
    "root = Tk()\n",
    "\n",
    "# Entry widget which currently has the focus\n",
    "e1 = Entry(root)\n",
    "e1.focus_set()\n",
    "e1.bind(\"<FocusIn>\", click)\n",
    "e1.pack()\n",
    "\n",
    "\n",
    "# Button widget which currently has the focus\n",
    "b1 = Button(root, text =\"b1\", command=click)\n",
    "b1.focus_set()\n",
    "b1.pack()\n",
    "\n",
    "\n",
    "b2 = Button(root, text =\"b2\", command=click)\n",
    "b2.focus_set()\n",
    "b2.pack()\n",
    "\n",
    "  \n",
    "\n",
    "root.mainloop()"
   ]
  },
  {
   "cell_type": "code",
   "execution_count": null,
   "metadata": {},
   "outputs": [],
   "source": []
  },
  {
   "cell_type": "markdown",
   "metadata": {},
   "source": [
    "## methods:\n",
    "widget.after(time_ms, function)\n",
    "widget.after_cancel(id)\n",
    "widget.destroy()\n",
    "widget.focus_get()\n",
    "widget.focus_set()"
   ]
  },
  {
   "cell_type": "code",
   "execution_count": 419,
   "metadata": {},
   "outputs": [],
   "source": [
    "import tkinter as tk\n",
    "\n",
    "\n",
    "def blink():\n",
    "    global is_white\n",
    "    if is_white:\n",
    "        color = 'black'\n",
    "    else:\n",
    "        color = 'white'\n",
    "    is_white = not is_white\n",
    "    frame.config(bg=color)\n",
    "    frame.after(500, blink)\n",
    "\n",
    "\n",
    "is_white = True\n",
    "window = tk.Tk()\n",
    "frame = tk.Frame(window, width=200, height=100, bg='white')\n",
    "frame.after(500, blink)\n",
    "frame.pack()\n",
    "window.mainloop()\n"
   ]
  },
  {
   "cell_type": "code",
   "execution_count": null,
   "metadata": {},
   "outputs": [],
   "source": [
    "import tkinter as tk\n",
    "\n",
    "\n",
    "def suicide():\n",
    "    frame.destroy()\n",
    "\n",
    "\n",
    "window = tk.Tk()\n",
    "frame = tk.Frame(window, width=200, height=100, bg='green')\n",
    "button = tk.Button(frame, text=\"I'm a frame's child\")\n",
    "button.place(x=10, y=10)\n",
    "frame.after(5000, suicide)\n",
    "frame.pack()\n",
    "window.mainloop()"
   ]
  },
  {
   "cell_type": "code",
   "execution_count": 94,
   "metadata": {},
   "outputs": [],
   "source": [
    "import tkinter as tk\n",
    "\n",
    "\n",
    "def flip_focus():\n",
    "    if window.focus_get() is button_1:\n",
    "        button_2.focus_set()\n",
    "    else:\n",
    "        button_1.focus_set()\n",
    "    window.after(1000, flip_focus)\n",
    "\n",
    "\n",
    "window = tk.Tk()\n",
    "button_1 = tk.Button(window, text=\"First\")\n",
    "button_1.pack()\n",
    "button_2 = tk.Button(window, text=\"Second\")\n",
    "button_2.pack()\n",
    "window.after(1000, flip_focus)\n",
    "window.mainloop()\n"
   ]
  },
  {
   "cell_type": "markdown",
   "metadata": {},
   "source": [
    "# variable\n",
    "BooleanVar\n",
    "DoubleVar\n",
    "IntVar\n",
    "StringVar\n"
   ]
  },
  {
   "cell_type": "code",
   "execution_count": null,
   "metadata": {},
   "outputs": [],
   "source": []
  },
  {
   "cell_type": "code",
   "execution_count": 95,
   "metadata": {},
   "outputs": [
    {
     "name": "stdout",
     "output_type": "stream",
     "text": [
      "Reading\n",
      "Writing\n",
      "Writing\n",
      "abcdef\n"
     ]
    }
   ],
   "source": [
    "import tkinter as tk\n",
    "\n",
    "\n",
    "def r_observer(*args):\n",
    "    print(\"Reading\")\n",
    "\n",
    "\n",
    "def w_observer(*args):\n",
    "    print(\"Writing\")\n",
    "\n",
    "\n",
    "dummy = tk.Tk()    # we need this although we won't display any windows\n",
    "variable = tk.StringVar()\n",
    "variable.set(\"abc\")\n",
    "r_obsid = variable.trace(\"r\", r_observer)\n",
    "w_obsid = variable.trace(\"w\", w_observer)\n",
    "variable.set(variable.get() + 'd')  # read followed by write\n",
    "variable.trace_vdelete(\"r\", r_obsid)\n",
    "variable.set(variable.get() + 'e')\n",
    "variable.trace_vdelete(\"w\", w_obsid)\n",
    "variable.set(variable.get() + 'f')\n",
    "print(variable.get())\n"
   ]
  },
  {
   "cell_type": "markdown",
   "metadata": {},
   "source": [
    "## StringVar\n",
    "\n",
    "Use Tkinter StringVar object to manage values of widgets more effectively.\n",
    "Assign the StringVar object to the textvariable of the widget.\n",
    "Use the trace() method of the StringVar object to trace the text changes.\n",
    "\n",
    "1. create StringVar\n",
    "str_var = tk.StringVar(constainer, value, name)\n",
    "2. assign StringVar to textvariable:\n",
    "entry = tk.Entry(window, textvariable=str_var)\n",
    "label = tk.Label(window, textvariable=str_var)"
   ]
  },
  {
   "cell_type": "code",
   "execution_count": 121,
   "metadata": {},
   "outputs": [
    {
     "name": "stdout",
     "output_type": "stream",
     "text": [
      "hi\n",
      "1\n",
      "0\n"
     ]
    }
   ],
   "source": [
    "import tkinter as tk\n",
    "\n",
    "def clear_text(event):\n",
    "    entry.delete(0, tk.END)\n",
    "\n",
    "\n",
    "window = tk.Tk()\n",
    "\n",
    "#tk.Label\n",
    "var1 = tk.StringVar(window)\n",
    "label = tk.Label(window, textvariable=var1)\n",
    "label.pack()\n",
    "var1.set('hi')\n",
    "print(var1.get())\n",
    "\n",
    "#tk.Radiobutton\n",
    "var4=tk.StringVar(window)\n",
    "var4.set('a')\n",
    "cb=tk.Radiobutton(window, text='a',variable=var4)\n",
    "cb.pack()\n",
    "\n",
    "window.mainloop()"
   ]
  },
  {
   "cell_type": "code",
   "execution_count": 137,
   "metadata": {},
   "outputs": [],
   "source": [
    "import tkinter as tk\n",
    "\n",
    "#remove default value\n",
    "def clear_text(event):\n",
    "    entry1.delete(0, tk.END)\n",
    "\n",
    "#change property of label \n",
    "def login():\n",
    "    if len(var1.get())==0:\n",
    "        label2.config(text=\"wrong name\")\n",
    "    else:\n",
    "        label2.config(text=var1.get())\n",
    "\n",
    "\n",
    "window = tk.Tk()\n",
    "\n",
    "#tk.Entry\n",
    "var1=tk.StringVar(window)\n",
    "var1.set('enter your name')\n",
    "\n",
    "label1=tk.Label(window, text=\"Name\")\n",
    "label1.grid(column=0, row=0)\n",
    "\n",
    "entry1=tk.Entry(window, textvariable=var1)\n",
    "entry1.bind(\"<Button-1>\", clear_text)\n",
    "entry1.grid(column=1, row=0)\n",
    "\n",
    "\n",
    "button = tk.Button(window, text='enter', command=login)\n",
    "button.grid(column=2, row=0)\n",
    "\n",
    "\n",
    "label2=tk.Label(window)\n",
    "label2.grid(column=0, row=1)\n",
    "\n",
    "window.mainloop()"
   ]
  },
  {
   "cell_type": "code",
   "execution_count": 144,
   "metadata": {},
   "outputs": [],
   "source": [
    "import tkinter as tk\n",
    "\n",
    "#change property of label \n",
    "def login():\n",
    "    if len(var1.get())>0  and var1.get() == var2.get():\n",
    "        label3.config(text=\"good\")\n",
    "    else:\n",
    "        label3.config(text=\"wrong\")\n",
    "\n",
    "\n",
    "window = tk.Tk()\n",
    "\n",
    "#tk.Entry\n",
    "var1=tk.StringVar(window)\n",
    "\n",
    "label1=tk.Label(window, text=\"New password\")\n",
    "label1.grid(column=0, row=0)\n",
    "\n",
    "entry1=tk.Entry(window, textvariable=var1, show=\"*\")\n",
    "entry1.grid(column=1, row=0)\n",
    "\n",
    "var2=tk.StringVar(window)\n",
    "\n",
    "label2=tk.Label(window, text=\"Confirm password\")\n",
    "label2.grid(column=0, row=1)\n",
    "\n",
    "entry2=tk.Entry(window, textvariable=var2, show=\"*\")\n",
    "entry2.grid(column=1, row=1)\n",
    "\n",
    "\n",
    "button = tk.Button(window, text='enter', command=login)\n",
    "button.grid(column=0, row=2)\n",
    "\n",
    "\n",
    "label3=tk.Label(window)\n",
    "label3.grid(column=1, row=2)\n",
    "\n",
    "window.mainloop()"
   ]
  },
  {
   "cell_type": "markdown",
   "metadata": {},
   "source": [
    "## trace()\n",
    "1. trace(<trace_mode>, <callback function>): bind variable with callback function\n",
    "2. trace_add() or trace_variable(): add obeserve to a variable return name of the callback function whenever the value is accessed.\n",
    "3. trace_vdelete()\n",
    "4. trace_vinfo()"
   ]
  },
  {
   "cell_type": "code",
   "execution_count": 258,
   "metadata": {},
   "outputs": [],
   "source": [
    "from tkinter import *\n",
    "\n",
    "def callback(sv):\n",
    "    print(sv.get())\n",
    "\n",
    "root = Tk()\n",
    "sv = StringVar()\n",
    "#trigger callback once there is writing\n",
    "sv.trace(\"w\", lambda name, index, mode, sv=sv: callback(sv))\n",
    "e = Entry(root, textvariable=sv)\n",
    "e.pack()\n",
    "root.mainloop()  "
   ]
  },
  {
   "cell_type": "code",
   "execution_count": 183,
   "metadata": {},
   "outputs": [
    {
     "name": "stdout",
     "output_type": "stream",
     "text": [
      " changing data ： f\n",
      " changing data ： fg\n",
      " changing data ： fgf\n",
      " changing data ： fgff\n",
      " changing data ： fgffd\n",
      " changing data ： fgffds\n",
      " changing data ： fgffdsg\n",
      " changing data ： fgffdsgf\n",
      " changing data ： fgffdsgfg\n",
      " changing data ： fgffdsgfgf\n"
     ]
    }
   ],
   "source": [
    "from tkinter import *\n",
    "\n",
    "def mycall(*args):\n",
    "    xl.set(xE.get())\n",
    "    print(\" changing data ：\",xE.get())\n",
    "\n",
    "root = Tk()\n",
    "root.title(\"tkinter the trace of () change tracking \")\n",
    "\n",
    "xE = StringVar()\n",
    "entry = Entry(root,textvariable=xE)\n",
    "entry.pack(pady=5,padx=10)\n",
    "xE.trace(\"w\", mycall) #\"w\"  is a write argument \n",
    "\n",
    "xl = StringVar()\n",
    "lab = Label(root,textvariable=xl)\n",
    "xl.set(\" the input display \")\n",
    "lab.pack(pady=5,padx=10)\n",
    "\n",
    "root.mainloop()"
   ]
  },
  {
   "cell_type": "code",
   "execution_count": 253,
   "metadata": {},
   "outputs": [
    {
     "name": "stdout",
     "output_type": "stream",
     "text": [
      ":\n",
      "g\n"
     ]
    }
   ],
   "source": [
    "from tkinter import * \n",
    "\n",
    "# defining the callback function (observer)\n",
    "def my_callback(var, indx, mode):\n",
    "    print(\":\")\n",
    "    print(my_var.get())\n",
    "  \n",
    "  \n",
    "root = Tk()\n",
    "  \n",
    "my_var = StringVar()\n",
    "# registering the observer\n",
    "my_var.trace_add('write', my_callback)\n",
    "  \n",
    "Label(root, textvariable = my_var).pack(padx = 5, pady = 5)\n",
    "Entry(root, textvariable = my_var).pack(padx = 5, pady = 5)\n",
    "  \n",
    "root.mainloop()\n"
   ]
  },
  {
   "cell_type": "code",
   "execution_count": 276,
   "metadata": {},
   "outputs": [
    {
     "name": "stdout",
     "output_type": "stream",
     "text": [
      "Reading\n",
      "Writing\n",
      "Writing\n",
      "abcdef\n"
     ]
    }
   ],
   "source": [
    "###NOTE this code and analyze the results\n",
    "\n",
    "\n",
    "import tkinter as tk\n",
    "\n",
    "\n",
    "def r_observer(*args):\n",
    "    print(\"Reading\")\n",
    "\n",
    "\n",
    "def w_observer(*args):\n",
    "    print(\"Writing\")\n",
    "\n",
    "\n",
    "dummy = tk.Tk()    # we need this although we won't display any windows\n",
    "variable = tk.StringVar()\n",
    "variable.set(\"abc\")\n",
    "r_obsid = variable.trace(\"r\", r_observer)\n",
    "w_obsid = variable.trace(\"w\", w_observer)\n",
    "\n",
    "variable.set(variable.get() + 'd')  # read followed by write\n",
    "#delate bound between variable and callback\n",
    "variable.trace_vdelete(\"r\", r_obsid)\n",
    "\n",
    "variable.set(variable.get() + 'e')\n",
    "#delete bound between variable and callback\n",
    "variable.trace_vdelete(\"w\", w_obsid)\n",
    "\n",
    "variable.set(variable.get() + 'f')\n",
    "print(variable.get())"
   ]
  },
  {
   "cell_type": "code",
   "execution_count": 394,
   "metadata": {},
   "outputs": [],
   "source": [
    "import tkinter as tk\n",
    "\n",
    "\n",
    "def on_off():\n",
    "    global accessible\n",
    "    if accessible == tk.DISABLED:\n",
    "        accessible = tk.ACTIVE\n",
    "    else:\n",
    "        accessible = tk.DISABLED\n",
    "    sub_menu.entryconfigure(1, state=accessible)\n",
    "\n",
    "\n",
    "accessible = tk.DISABLED\n",
    "window = tk.Tk()\n",
    "menu = tk.Menu(window)\n",
    "window.config(menu=menu)\n",
    "sub_menu = tk.Menu(menu, tearoff=0)\n",
    "menu.add_cascade(label=\"Menu\", menu=sub_menu)\n",
    "sub_menu.add_command(label=\"On/Off\", command=on_off)\n",
    "sub_menu.add_command(label=\"Switch\", state=tk.DISABLED)\n",
    "window.mainloop()\n"
   ]
  },
  {
   "cell_type": "code",
   "execution_count": null,
   "metadata": {},
   "outputs": [],
   "source": []
  },
  {
   "cell_type": "code",
   "execution_count": null,
   "metadata": {},
   "outputs": [],
   "source": []
  },
  {
   "cell_type": "code",
   "execution_count": null,
   "metadata": {},
   "outputs": [],
   "source": []
  },
  {
   "cell_type": "code",
   "execution_count": null,
   "metadata": {},
   "outputs": [],
   "source": []
  },
  {
   "cell_type": "markdown",
   "metadata": {},
   "source": [
    "# quiz"
   ]
  },
  {
   "cell_type": "code",
   "execution_count": 453,
   "metadata": {},
   "outputs": [],
   "source": []
  }
 ],
 "metadata": {
  "kernelspec": {
   "display_name": "Python 3",
   "language": "python",
   "name": "python3"
  },
  "language_info": {
   "codemirror_mode": {
    "name": "ipython",
    "version": 3
   },
   "file_extension": ".py",
   "mimetype": "text/x-python",
   "name": "python",
   "nbconvert_exporter": "python",
   "pygments_lexer": "ipython3",
   "version": "3.8.5"
  }
 },
 "nbformat": 4,
 "nbformat_minor": 4
}

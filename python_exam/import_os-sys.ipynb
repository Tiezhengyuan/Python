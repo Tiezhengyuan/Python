{
 "cells": [
  {
   "cell_type": "markdown",
   "metadata": {},
   "source": [
    "# import os\n",
    "provide functions for scripts interacting with operating system"
   ]
  },
  {
   "cell_type": "code",
   "execution_count": 49,
   "metadata": {},
   "outputs": [],
   "source": [
    "import os"
   ]
  },
  {
   "cell_type": "markdown",
   "metadata": {},
   "source": [
    "## get directory\n",
    "os.getcwd(), os.chdir(), os.listdir()\n",
    "os.path.basename(), os.path.splitext(), os.path.join() \n",
    "os.path.isdir(), os.path.isfile()\n",
    "os.walk()"
   ]
  },
  {
   "cell_type": "code",
   "execution_count": 57,
   "metadata": {},
   "outputs": [
    {
     "name": "stdout",
     "output_type": "stream",
     "text": [
      "F:\\AWS\n",
      "F:\\\n",
      "F:\\AWS\n",
      "['.aws', '.pytest_cache', 'bin', 'cloud_practioner.docx', 'deploy applications.docx', 'devadmin-credentials.csv', 'devassoc.ppk', 'devrestricted-credentials.csv', 'dva-401', 'helloaws.mp3', 'helloaws.py', 'js', 'mypy', 'new_user_credentials.csv', 'node_modules', 'Online Material Chapter 1 Code.zip', 'Online Material Chapter 11 Code.zip', 'Online Material Chapter 12 Code.zip', 'Online Material Chapter 2 Code.zip', 'package-lock.json', 'requirements.txt', 'server-polly.txt', 'server-short.txt', 'VPC_devassoc_credential.txt', 'web_instance_credential.txt']\n"
     ]
    }
   ],
   "source": [
    "#current directory\n",
    "print(os.getcwd())\n",
    "#change to parent directory\n",
    "os.chdir('../')\n",
    "print(os.getcwd())\n",
    "#change to a certain directory\n",
    "os.chdir('F:/AWS/')\n",
    "print(os.getcwd())\n",
    "#list subdir and files\n",
    "print(os.listdir(os.getcwd()))"
   ]
  },
  {
   "cell_type": "code",
   "execution_count": 123,
   "metadata": {},
   "outputs": [
    {
     "name": "stdout",
     "output_type": "stream",
     "text": [
      "absolute path: F:\\python_practise\\test1\\test2\\test.txt\n",
      "directory: test1/test2\n",
      "file name: test.txt\n",
      "base name and extension:  ('test', '.txt')\n",
      "parent dir: test1\n",
      "new file: F:\\python_practise\\test4.json\n"
     ]
    }
   ],
   "source": [
    "mydir = \"test1/test2/test.txt\"\n",
    "#get absolute path\n",
    "abs_path = os.path.abspath(mydir);print('absolute path:', abs_path)\n",
    "#get dir\n",
    "dir_name = os.path.dirname(mydir);print('directory:', dir_name)\n",
    "#get file name\n",
    "file_name = os.path.basename(mydir);print('file name:', file_name)\n",
    "#get base name and extension\n",
    "print('base name and extension: ', os.path.splitext(file_name))\n",
    "#get parent dir\n",
    "parent_dir = os.path.dirname(dir_name);print('parent dir:', parent_dir)\n",
    "#create new path\n",
    "new_path = os.path.join(os.getcwd(), 'test4.json');print('new file:', new_path)"
   ]
  },
  {
   "cell_type": "code",
   "execution_count": 124,
   "metadata": {},
   "outputs": [
    {
     "name": "stdout",
     "output_type": "stream",
     "text": [
      "F:\\python_practise\n",
      "['.ipynb_checkpoints', 'crimeData', 'dataType', 'ES', 'plugin', 'PPT', 'PythonPipeline', 'PythonPlot', 'PythonStatistics', 'python_exam', 'unittest']\n",
      "['algorithm_recursive.ipynb', 'logging.ipynb', 'python_debug.log', 'python_pdf.ipynb', 'python_unittest.ipynb', 'question_numeric.ipynb', 'simple_table.pdf', 'template.docx', 'trials-settings.json', '~$am_PCEP_syllabus.docx']\n",
      "F:\\python_practise\\.ipynb_checkpoints\n",
      "[]\n",
      "['algorithm_recursive-checkpoint.ipynb', 'ES_analysis-checkpoint.ipynb', 'ES_bulk_operations-checkpoint.ipynb', 'ES_configure_index-checkpoint.ipynb', 'ES_index-checkpoint.ipynb', 'ES_python-checkpoint.ipynb', 'ES_search-checkpoint.ipynb', 'ES_search_aggregation-checkpoint.ipynb', 'ES_settings-checkpoint.ipynb', 'ES_structure_search-checkpoint.ipynb', 'exam_class-checkpoint.ipynb', 'exam_data_type-checkpoint.ipynb', 'exam_data_type_dictionary-checkpoint.ipynb', 'exam_data_type_list-checkpoint.ipynb', 'exam_data_type_number-checkpoint.ipynb', 'exam_data_type_string-checkpoint.ipynb', 'exam_flow_control-checkpoint.ipynb', 'exam_function-checkpoint.ipynb', 'exam_input_output-checkpoint.ipynb', 'exam_operator-checkpoint.ipynb', 'exam_random_data-checkpoint.ipynb', 'exam_terminology-checkpoint.ipynb', 'exam_wrong_coding-checkpoint.ipynb', 'logging-checkpoint.ipynb', 'python_pdf-checkpoint.ipynb', 'python_unittest-checkpoint.ipynb', 'question_numeric-checkpoint.ipynb']\n",
      "F:\\python_practise\\crimeData\n",
      "[]\n",
      "[]\n",
      "F:\\python_practise\\dataType\n",
      "['dictionary', 'list', 'np.array', 'pandas.dataframe', 'string', 'typeConversion']\n",
      "['datatype.py']\n",
      "F:\\python_practise\\dataType\\dictionary\n",
      "[]\n",
      "[]\n",
      "F:\\python_practise\\dataType\\list\n",
      "[]\n",
      "['compare_lists.py', 'create_2Dlist.py', 'create_list.py', 'judge_empty.py', 'list_3_insertion.py', 'list_3_insert_number.py', 'list_4_get_region.py', 'list_loop.py', 'remove_duplicate.py', 'transform_list.py']\n",
      "F:\\python_practise\\dataType\\np.array\n",
      "[]\n",
      "['array_math.py', 'array_stat.py', 'broadcasting.py', 'combine_split', 'create.py', 'create_array.py', 'create_matrix.py', 'index_slice.py', 'mastrix_stat.py', 'mean.py', 'numpy_array.py', 'numpy_matrix (2).py', 'numpy_matrix.py', 'numpy_methods.py', 'random.py', 'reshape.py', 'slice.py']\n",
      "F:\\python_practise\\dataType\\pandas.dataframe\n",
      "[]\n",
      "['broadcast.py', 'change_names.py', 'combine.py', 'create.py', 'delete.py', 'filter-out.py', 'groupby.py', 'hiearchical.py', 'index_select.py', 'insert.py', 'IO_df.py', 'missing-data.py', 'pandas_11_slice_df.py', 'pandas_12_size_df#.py', 'pandas_2_merge_dataframe.py', 'pandas_3_create_df.py', 'pandas_4_math_dataframe.py', 'pandas_4_math_df.py', 'pandas_5_group_df.py', 'pandas_6_rehape_dataframe.py', 'pandas_6_reshape_df.py', 'pandas_7_sort_dataframe.py', 'pandas_7_sort_df.py', 'pandas_8_replace_df.py', 'pandas_9_loop_df.py', 'summarization.py', 'test.csv', 'test.txt', 'update.py']\n",
      "F:\\python_practise\\dataType\\string\n",
      "[]\n",
      "['anagram.py', 'append.py', 'compress_string.py', 'duplicated_letters.py', 'index_string.py', 'letter_frequency.py', 'nonrepeat.py', 'nonrepeated_substring.py', 'numeric_DNA.py', 'palindrame.py', 'palindrome.py', 'permutation.py', 'repeat_letters.py', 'replacement.py', 'replace_byIndex.py', 'replace_byMatch.py', 'reverse_complimentary.py', 'split.py', 'split_string.py', 'string_length.py', 'string_memory_usage.py', 'switch_letters.py', 'truncate.py']\n",
      "F:\\python_practise\\dataType\\typeConversion\n",
      "[]\n",
      "['list_matrix.py', 'string_to_integer.py']\n",
      "F:\\python_practise\\ES\n",
      "[]\n",
      "['ES_analysis.ipynb', 'ES_bulk_operations.ipynb', 'ES_configure_index.ipynb', 'ES_index.ipynb', 'ES_python.ipynb', 'ES_query', 'ES_search.ipynb', 'ES_search_aggregation.ipynb', 'ES_settings.ipynb', 'ES_structure_search.ipynb']\n",
      "F:\\python_practise\\plugin\n",
      "[]\n",
      "['1419777594_python-with-basic-code-completion.zip', 'ez_setup.py', 'org-netbeans-modules-python-console.nbm', 'org-netbeans-modules-python-core.nbm', 'org-netbeans-modules-python-debugger.nbm', 'org-netbeans-modules-python-editor.nbm', 'org-netbeans-modules-python-help.nbm', 'org-netbeans-modules-python-options.nbm', 'org-netbeans-modules-python-platform.nbm', 'org-netbeans-modules-python-project.nbm', 'org-netbeans-modules-python-samples.nbm', 'org-netbeans-modules-python-testrunner.nbm', 'python-3.9.0a2-amd64.exe']\n",
      "F:\\python_practise\\PPT\n",
      "[]\n",
      "['a.pdf', 'bar-plot.pptx', 'boxplot-histogram.pptx', 'crime_data_analysis.pptx', 'dataFrame.pptx', 'hello.pdf', 'KNN.pptx', 'linear-regression.pptx', 'ndarray.pptx', 'numpy.pptx', 'pie-plot.pptx', 'scatter-plot.pptx']\n",
      "F:\\python_practise\\PythonPipeline\n",
      "['Class', 'testClass']\n",
      "['new_test.py', 'README', 'read_data.py', 'testpython.py']\n",
      "F:\\python_practise\\PythonPipeline\\Class\n",
      "['__pycache__']\n",
      "['argument_passDict.py', 'argument_passList.py', 'class.py', 'constructor.py', 'decorator_embeddedFunction.py', 'decorator_log.py', 'decorator_log_class.py', 'decorator_PassFunction1.py', 'decorator_PassFunction2.py', 'decorator_returnFunction.py', 'filter.py', 'generator_buildin.py', 'generator_create.py', 'generator_huge_file.py', 'generator_wordIndex.py', 'inheritance1.py', 'inheritance2.py', 'loop_dict.py', 'loop_generator.py', 'loop_list.py', 'loop_list_expression.py', 'loop_string.py', 'map_price.py', 'new_class.py', 'new_test.py', 'parallel_multiProcessing.py', 'parallel_multiProcessingDummy.py', 'parallel_thread.py', 'parallel_threading.py', 'parallel_vectorProcessing.py', 'pass_args.py', 'pass_argumentsToFunc.py', 'standard_coding1.py', 'standard_comma.py', 'standard_format.py', 'while_1.py', 'while_break.py', 'while_continue.py', 'while_dict.py', 'while_else.py']\n",
      "F:\\python_practise\\PythonPipeline\\Class\\__pycache__\n",
      "[]\n",
      "['inheritance.cpython-39.pyc', 'inheritance1.cpython-39.pyc', 'inheritance2.cpython-39.pyc', 'new_class.cpython-39.pyc']\n",
      "F:\\python_practise\\PythonPipeline\\testClass\n",
      "[]\n",
      "['exportSeq.py', 'getDNA.py', 'getLength.py']\n",
      "F:\\python_practise\\PythonPlot\n",
      "[]\n",
      "['bar-plot.py', 'boxplot.py', 'differential_expressed_genes.csv', 'gapminder-FiveYearData.csv', 'histogram.py', 'multi-plots.py', 'pie-plot.py', 'plot_3_table.py', 'plot_4_network_graphs.py', 'plot_5_network_graphs.py', 'plot_6_draw_chromosomes.py', 'scatter-plot.py']\n",
      "F:\\python_practise\\PythonStatistics\n",
      "['__pycache__']\n",
      "['differential_expressed_genes.csv', 'gapminder-FiveYearData.csv', 'KNN.py', 'linear_regression_2_test_model.py', 'linear_regression_smf.py', 'myClassifier.py', 'myLinearRegression.py', 'simple-linear-regression.py', 'statsmodels.py']\n",
      "F:\\python_practise\\PythonStatistics\\__pycache__\n",
      "[]\n",
      "['lm_func.cpython-36.pyc', 'myClassifier.cpython-36.pyc', 'myLinearRegression.cpython-36.pyc']\n",
      "F:\\python_practise\\python_exam\n",
      "['.ipynb_checkpoints']\n",
      "['exam_class.ipynb', 'exam_data_type.ipynb', 'exam_data_type_dictionary.ipynb', 'exam_data_type_list.ipynb', 'exam_data_type_number.ipynb', 'exam_data_type_string.ipynb', 'exam_flow_control.ipynb', 'exam_function.ipynb', 'exam_import_libs.ipynb', 'exam_input_output.ipynb', 'exam_operator.ipynb', 'exam_random_data.ipynb', 'exam_terminology.ipynb', 'exam_wrong_coding.ipynb']\n",
      "F:\\python_practise\\python_exam\\.ipynb_checkpoints\n",
      "[]\n",
      "['exam_data_type_string-checkpoint.ipynb', 'exam_flow_control-checkpoint.ipynb', 'exam_import_libs-checkpoint.ipynb']\n",
      "F:\\python_practise\\unittest\n",
      "['.pytest_cache', 'pytest', '__pycache__']\n",
      "['func.py', 'get-pip.py', 'myjson.py', 'test_func_1.py', 'test_func_2.py', 'test_func_3.py', 'test_func_exception.py', 'test_myjson.py']\n",
      "F:\\python_practise\\unittest\\.pytest_cache\n",
      "['v']\n",
      "['.gitignore', 'CACHEDIR.TAG', 'README.md']\n",
      "F:\\python_practise\\unittest\\.pytest_cache\\v\n",
      "['cache']\n",
      "[]\n",
      "F:\\python_practise\\unittest\\.pytest_cache\\v\\cache\n",
      "[]\n",
      "['lastfailed', 'nodeids', 'stepwise']\n",
      "F:\\python_practise\\unittest\\pytest\n",
      "[]\n",
      "['conftest.py', 'func.py', 'test_func.py']\n",
      "F:\\python_practise\\unittest\\__pycache__\n",
      "[]\n",
      "['func.cpython-38.pyc', 'myjson.cpython-38.pyc', 'test_func.cpython-38-pytest-6.0.1.pyc', 'test_func_1.cpython-38-pytest-6.0.1.pyc', 'test_func_2.cpython-38-pytest-6.0.1.pyc', 'test_func_3.cpython-38-pytest-6.0.1.pyc', 'test_func_exception.cpython-38-pytest-6.0.1.pyc', 'test_myjson.cpython-38-pytest-6.0.1.pyc']\n"
     ]
    }
   ],
   "source": [
    "#recrusively list dir\n",
    "d = os.walk(\"F:\\python_practise\")\n",
    "for root, subdirs,files in d:\n",
    "    print(root, subdirs, files, sep='\\n')"
   ]
  },
  {
   "cell_type": "markdown",
   "metadata": {},
   "source": [
    "## create/delete/rename \n",
    "os.mkdir(), os.rmdir(), os.rename(), os.remove()\n",
    "os.path.isfile(), os.path.isdir()\n",
    "os.makedirs(): make directory recrusively"
   ]
  },
  {
   "cell_type": "code",
   "execution_count": 69,
   "metadata": {},
   "outputs": [
    {
     "name": "stdout",
     "output_type": "stream",
     "text": [
      "create directory: None\n",
      "rename directory: None\n",
      "delet directory: None\n"
     ]
    }
   ],
   "source": [
    "mydir =\"F:/test\"\n",
    "if not os.path.isdir(mydir):\n",
    "    print(\"create directory:\", os.mkdir(mydir))\n",
    "    print(\"rename directory:\", os.rename(mydir, mydir+'0'))\n",
    "    print(\"delet directory:\", os.rmdir(mydir+'0'))\n",
    "else:\n",
    "    print(\"delet directory:\", os.rmdir(mydir))"
   ]
  },
  {
   "cell_type": "code",
   "execution_count": 103,
   "metadata": {},
   "outputs": [],
   "source": [
    "file_name = 'F:\\d.txt'\n",
    "#create a file\n",
    "f = open(file_name, 'w')\n",
    "f.write(\"abc\")\n",
    "f.close()\n",
    "if os.path.isfile(file_name):\n",
    "    #rename file name\n",
    "    os.rename(file_name, file_name+'.tmp')\n",
    "    #delete a file\n",
    "    os.remove(file_name+'.tmp')\n"
   ]
  },
  {
   "cell_type": "code",
   "execution_count": 108,
   "metadata": {},
   "outputs": [],
   "source": [
    "parent_dir = \"F:/test\"\n",
    "mydir = os.path.join(parent_dir, \"test1/test2\")\n",
    "if not os.path.isdir(parent_dir):\n",
    "    os.mkdir(parent_dir)\n",
    "if not os.path.isdir(mydir):\n",
    "    os.makedirs(mydir, 0o666)\n",
    "else:\n",
    "    os.rmdir(mydir)"
   ]
  },
  {
   "cell_type": "markdown",
   "metadata": {},
   "source": [
    "## copy a file"
   ]
  },
  {
   "cell_type": "code",
   "execution_count": 138,
   "metadata": {},
   "outputs": [
    {
     "name": "stdout",
     "output_type": "stream",
     "text": [
      "current dir: F:\\python_practise\n"
     ]
    },
    {
     "data": {
      "text/plain": [
       "0"
      ]
     },
     "execution_count": 138,
     "metadata": {},
     "output_type": "execute_result"
    }
   ],
   "source": [
    "#os.system\n",
    "print('current dir:', os.getcwd())\n",
    "os.system(\"copy test1.txt, test2.txt\")"
   ]
  },
  {
   "cell_type": "code",
   "execution_count": 137,
   "metadata": {},
   "outputs": [
    {
     "name": "stdout",
     "output_type": "stream",
     "text": [
      "current dir: F:\\python_practise\n"
     ]
    },
    {
     "data": {
      "text/plain": [
       "<os._wrap_close at 0x64d40d0>"
      ]
     },
     "execution_count": 137,
     "metadata": {},
     "output_type": "execute_result"
    }
   ],
   "source": [
    "#os.popen\n",
    "print('current dir:', os.getcwd())\n",
    "os.popen(\"copy test1.txt, test2.txt\")"
   ]
  },
  {
   "cell_type": "code",
   "execution_count": 150,
   "metadata": {},
   "outputs": [
    {
     "name": "stdout",
     "output_type": "stream",
     "text": [
      "F:\\python_practise\n"
     ]
    }
   ],
   "source": [
    "#os.link(): create hard link\n",
    "#link means any changes in one file will be repeated in linked files\n",
    "#hard link means deletion of source will have not impact on the linked file.\n",
    "current_dir = os.getcwd();print(current_dir)\n",
    "if os.path.isfile('test1.txt'):\n",
    "    if os.path.isfile('test3.txt'):\n",
    "        os.remove('test3.txt')\n",
    "    os.link(\"test1.txt\", \"test3.txt\")"
   ]
  },
  {
   "cell_type": "code",
   "execution_count": 155,
   "metadata": {},
   "outputs": [
    {
     "name": "stdout",
     "output_type": "stream",
     "text": [
      "F:\\python_practise\n"
     ]
    }
   ],
   "source": [
    "#create symbolic link\n",
    "current_dir = os.getcwd();print(current_dir)\n",
    "source_file = \"test1.txt\"\n",
    "target_file = \"test4.txt\"\n",
    "if os.path.isfile(source_file):\n",
    "    if os.path.isfile(target_file):\n",
    "        os.remove(target_file)\n",
    "    os.symlink(source_file, target_file)"
   ]
  },
  {
   "cell_type": "markdown",
   "metadata": {},
   "source": [
    "# import sys\n",
    "access variables used by inerpreter and related functions "
   ]
  },
  {
   "cell_type": "code",
   "execution_count": 6,
   "metadata": {},
   "outputs": [
    {
     "name": "stdout",
     "output_type": "stream",
     "text": [
      "['__name__', '__doc__', '__package__', '__loader__', '__spec__', 'addaudithook', 'audit', 'breakpointhook', 'callstats', '_clear_type_cache', '_current_frames', 'displayhook', 'exc_info', 'excepthook', 'exit', 'getdefaultencoding', 'getallocatedblocks', 'getfilesystemencoding', 'getfilesystemencodeerrors', 'getrefcount', 'getrecursionlimit', 'getsizeof', '_getframe', 'getwindowsversion', '_enablelegacywindowsfsencoding', 'intern', 'is_finalizing', 'setcheckinterval', 'getcheckinterval', 'setswitchinterval', 'getswitchinterval', 'setprofile', 'getprofile', 'setrecursionlimit', 'settrace', 'gettrace', 'call_tracing', '_debugmallocstats', 'set_coroutine_origin_tracking_depth', 'get_coroutine_origin_tracking_depth', 'set_asyncgen_hooks', 'get_asyncgen_hooks', 'unraisablehook', 'modules', 'stderr', '__stderr__', '__displayhook__', '__excepthook__', '__breakpointhook__', '__unraisablehook__', 'version', 'hexversion', '_git', '_framework', 'api_version', 'copyright', 'platform', 'maxsize', 'float_info', 'int_info', 'hash_info', 'maxunicode', 'builtin_module_names', 'byteorder', 'dllhandle', 'winver', 'version_info', 'implementation', 'flags', 'float_repr_style', 'thread_info', 'meta_path', 'path_importer_cache', 'path_hooks', 'path', 'executable', '_base_executable', 'prefix', 'base_prefix', 'exec_prefix', 'base_exec_prefix', 'pycache_prefix', 'argv', 'warnoptions', '_xoptions', 'dont_write_bytecode', '__stdin__', 'stdin', '__stdout__', 'stdout', '_home', '__interactivehook__', 'ps1', 'ps2', 'ps3', 'last_type', 'last_value', 'last_traceback']\n"
     ]
    }
   ],
   "source": [
    "import sys\n",
    "print(list(sys.__dict__))"
   ]
  },
  {
   "cell_type": "code",
   "execution_count": 41,
   "metadata": {},
   "outputs": [
    {
     "name": "stdout",
     "output_type": "stream",
     "text": [
      "['__breakpointhook__', '__displayhook__', '__doc__', '__excepthook__', '__interactivehook__', '__loader__', '__name__', '__package__', '__spec__', '__stderr__', '__stdin__', '__stdout__', '__unraisablehook__', '_base_executable', '_clear_type_cache', '_current_frames', '_debugmallocstats', '_enablelegacywindowsfsencoding', '_framework', '_getframe', '_git', '_home', '_xoptions', 'addaudithook', 'api_version', 'argv', 'audit', 'base_exec_prefix', 'base_prefix', 'breakpointhook', 'builtin_module_names', 'byteorder', 'call_tracing', 'callstats', 'copyright', 'displayhook', 'dllhandle', 'dont_write_bytecode', 'exc_info', 'excepthook', 'exec_prefix', 'executable', 'exit', 'flags', 'float_info', 'float_repr_style', 'get_asyncgen_hooks', 'get_coroutine_origin_tracking_depth', 'getallocatedblocks', 'getcheckinterval', 'getdefaultencoding', 'getfilesystemencodeerrors', 'getfilesystemencoding', 'getprofile', 'getrecursionlimit', 'getrefcount', 'getsizeof', 'getswitchinterval', 'gettrace', 'getwindowsversion', 'hash_info', 'hexversion', 'implementation', 'int_info', 'intern', 'is_finalizing', 'last_traceback', 'last_type', 'last_value', 'maxsize', 'maxunicode', 'meta_path', 'modules', 'path', 'path_hooks', 'path_importer_cache', 'platform', 'prefix', 'ps1', 'ps2', 'ps3', 'pycache_prefix', 'set_asyncgen_hooks', 'set_coroutine_origin_tracking_depth', 'setcheckinterval', 'setprofile', 'setrecursionlimit', 'setswitchinterval', 'settrace', 'stderr', 'stdin', 'stdout', 'thread_info', 'unraisablehook', 'version', 'version_info', 'warnoptions', 'winver']\n"
     ]
    }
   ],
   "source": [
    "print(dir(sys))"
   ]
  },
  {
   "cell_type": "code",
   "execution_count": 17,
   "metadata": {},
   "outputs": [
    {
     "name": "stdout",
     "output_type": "stream",
     "text": [
      "__main__\n",
      "sys\n"
     ]
    }
   ],
   "source": [
    "print(__name__)\n",
    "print(sys.__name__)"
   ]
  },
  {
   "cell_type": "code",
   "execution_count": 16,
   "metadata": {},
   "outputs": [
    {
     "data": {
      "text/plain": [
       "<function sys.exit(status=None, /)>"
      ]
     },
     "execution_count": 16,
     "metadata": {},
     "output_type": "execute_result"
    }
   ],
   "source": [
    "sys.exit"
   ]
  },
  {
   "cell_type": "code",
   "execution_count": 15,
   "metadata": {},
   "outputs": [
    {
     "data": {
      "text/plain": [
       "sys.int_info(bits_per_digit=15, sizeof_digit=2)"
      ]
     },
     "execution_count": 15,
     "metadata": {},
     "output_type": "execute_result"
    }
   ],
   "source": [
    "sys.int_info"
   ]
  },
  {
   "cell_type": "code",
   "execution_count": 14,
   "metadata": {},
   "outputs": [
    {
     "data": {
      "text/plain": [
       "('_abc',\n",
       " '_ast',\n",
       " '_bisect',\n",
       " '_blake2',\n",
       " '_codecs',\n",
       " '_codecs_cn',\n",
       " '_codecs_hk',\n",
       " '_codecs_iso2022',\n",
       " '_codecs_jp',\n",
       " '_codecs_kr',\n",
       " '_codecs_tw',\n",
       " '_collections',\n",
       " '_contextvars',\n",
       " '_csv',\n",
       " '_datetime',\n",
       " '_functools',\n",
       " '_heapq',\n",
       " '_imp',\n",
       " '_io',\n",
       " '_json',\n",
       " '_locale',\n",
       " '_lsprof',\n",
       " '_md5',\n",
       " '_multibytecodec',\n",
       " '_opcode',\n",
       " '_operator',\n",
       " '_pickle',\n",
       " '_random',\n",
       " '_sha1',\n",
       " '_sha256',\n",
       " '_sha3',\n",
       " '_sha512',\n",
       " '_signal',\n",
       " '_sre',\n",
       " '_stat',\n",
       " '_statistics',\n",
       " '_string',\n",
       " '_struct',\n",
       " '_symtable',\n",
       " '_thread',\n",
       " '_tracemalloc',\n",
       " '_warnings',\n",
       " '_weakref',\n",
       " '_winapi',\n",
       " '_xxsubinterpreters',\n",
       " 'array',\n",
       " 'atexit',\n",
       " 'audioop',\n",
       " 'binascii',\n",
       " 'builtins',\n",
       " 'cmath',\n",
       " 'errno',\n",
       " 'faulthandler',\n",
       " 'gc',\n",
       " 'itertools',\n",
       " 'marshal',\n",
       " 'math',\n",
       " 'mmap',\n",
       " 'msvcrt',\n",
       " 'nt',\n",
       " 'parser',\n",
       " 'sys',\n",
       " 'time',\n",
       " 'winreg',\n",
       " 'xxsubtype',\n",
       " 'zlib')"
      ]
     },
     "execution_count": 14,
     "metadata": {},
     "output_type": "execute_result"
    }
   ],
   "source": [
    "sys.builtin_module_names"
   ]
  },
  {
   "cell_type": "markdown",
   "metadata": {},
   "source": [
    "## input/output\n",
    "stdin,\n",
    "stdout\n",
    "argv\n",
    "stderr"
   ]
  },
  {
   "cell_type": "code",
   "execution_count": 34,
   "metadata": {},
   "outputs": [
    {
     "name": "stdout",
     "output_type": "stream",
     "text": [
      "hello world"
     ]
    }
   ],
   "source": [
    "sys.stdout.write(\"hello world\")"
   ]
  },
  {
   "cell_type": "code",
   "execution_count": 36,
   "metadata": {},
   "outputs": [
    {
     "data": {
      "text/plain": [
       "''"
      ]
     },
     "execution_count": 36,
     "metadata": {},
     "output_type": "execute_result"
    }
   ],
   "source": [
    "#if enter d, return 'd\\n'\n",
    "#if enter \"good\", return '\"good\"\\n'\n",
    "sys.stdin.readline()"
   ]
  },
  {
   "cell_type": "code",
   "execution_count": null,
   "metadata": {},
   "outputs": [],
   "source": [
    "#enter string expression, of which the string must be encompassed by \"\"\n",
    "#if enter \"d\", return 'd'\n",
    "#if enter \"good\", return 'good'\n",
    "eval(sys.stdin.readline())"
   ]
  },
  {
   "cell_type": "markdown",
   "metadata": {},
   "source": [
    "### pass arguments into scripts   at command line"
   ]
  },
  {
   "cell_type": "code",
   "execution_count": 37,
   "metadata": {},
   "outputs": [
    {
     "data": {
      "text/plain": [
       "['c:\\\\users\\\\tiezh\\\\appdata\\\\local\\\\programs\\\\python\\\\python38-32\\\\lib\\\\site-packages\\\\ipykernel_launcher.py',\n",
       " '-f',\n",
       " 'C:\\\\Users\\\\tiezh\\\\AppData\\\\Roaming\\\\jupyter\\\\runtime\\\\kernel-80c6c41c-bafe-4349-b50b-6918626f2056.json']"
      ]
     },
     "execution_count": 37,
     "metadata": {},
     "output_type": "execute_result"
    }
   ],
   "source": [
    "#return list ['']\n",
    "sys.argv"
   ]
  },
  {
   "cell_type": "code",
   "execution_count": 39,
   "metadata": {},
   "outputs": [
    {
     "name": "stderr",
     "output_type": "stream",
     "text": [
      "error"
     ]
    }
   ],
   "source": [
    "sys.stderr.write(\"error\")"
   ]
  },
  {
   "cell_type": "code",
   "execution_count": null,
   "metadata": {},
   "outputs": [],
   "source": []
  },
  {
   "cell_type": "code",
   "execution_count": null,
   "metadata": {},
   "outputs": [],
   "source": []
  },
  {
   "cell_type": "markdown",
   "metadata": {},
   "source": [
    "## path"
   ]
  },
  {
   "cell_type": "code",
   "execution_count": 19,
   "metadata": {},
   "outputs": [
    {
     "data": {
      "text/plain": [
       "['F:\\\\python_practise\\\\python_exam',\n",
       " 'F:\\\\AWS\\\\mypy',\n",
       " 'c:\\\\users\\\\tiezh\\\\appdata\\\\local\\\\programs\\\\python\\\\python38-32\\\\python38.zip',\n",
       " 'c:\\\\users\\\\tiezh\\\\appdata\\\\local\\\\programs\\\\python\\\\python38-32\\\\DLLs',\n",
       " 'c:\\\\users\\\\tiezh\\\\appdata\\\\local\\\\programs\\\\python\\\\python38-32\\\\lib',\n",
       " 'c:\\\\users\\\\tiezh\\\\appdata\\\\local\\\\programs\\\\python\\\\python38-32',\n",
       " '',\n",
       " 'C:\\\\Users\\\\tiezh\\\\AppData\\\\Roaming\\\\Python\\\\Python38\\\\site-packages',\n",
       " 'c:\\\\users\\\\tiezh\\\\appdata\\\\local\\\\programs\\\\python\\\\python38-32\\\\lib\\\\site-packages',\n",
       " 'c:\\\\users\\\\tiezh\\\\appdata\\\\local\\\\programs\\\\python\\\\python38-32\\\\lib\\\\site-packages\\\\win32',\n",
       " 'c:\\\\users\\\\tiezh\\\\appdata\\\\local\\\\programs\\\\python\\\\python38-32\\\\lib\\\\site-packages\\\\win32\\\\lib',\n",
       " 'c:\\\\users\\\\tiezh\\\\appdata\\\\local\\\\programs\\\\python\\\\python38-32\\\\lib\\\\site-packages\\\\Pythonwin',\n",
       " 'c:\\\\users\\\\tiezh\\\\appdata\\\\local\\\\programs\\\\python\\\\python38-32\\\\lib\\\\site-packages\\\\IPython\\\\extensions',\n",
       " 'C:\\\\Users\\\\tiezh\\\\.ipython']"
      ]
     },
     "execution_count": 19,
     "metadata": {},
     "output_type": "execute_result"
    }
   ],
   "source": [
    "#list of PYTHONPATH\n",
    "sys.path"
   ]
  },
  {
   "cell_type": "code",
   "execution_count": 20,
   "metadata": {},
   "outputs": [
    {
     "data": {
      "text/plain": [
       "[zipimport.zipimporter,\n",
       " <function _frozen_importlib_external.FileFinder.path_hook.<locals>.path_hook_for_FileFinder(path)>]"
      ]
     },
     "execution_count": 20,
     "metadata": {},
     "output_type": "execute_result"
    }
   ],
   "source": [
    "sys.path_hooks"
   ]
  },
  {
   "cell_type": "code",
   "execution_count": 40,
   "metadata": {},
   "outputs": [
    {
     "data": {
      "text/plain": [
       "['__add__',\n",
       " '__class__',\n",
       " '__contains__',\n",
       " '__delattr__',\n",
       " '__delitem__',\n",
       " '__dir__',\n",
       " '__doc__',\n",
       " '__eq__',\n",
       " '__format__',\n",
       " '__ge__',\n",
       " '__getattribute__',\n",
       " '__getitem__',\n",
       " '__gt__',\n",
       " '__hash__',\n",
       " '__iadd__',\n",
       " '__imul__',\n",
       " '__init__',\n",
       " '__init_subclass__',\n",
       " '__iter__',\n",
       " '__le__',\n",
       " '__len__',\n",
       " '__lt__',\n",
       " '__mul__',\n",
       " '__ne__',\n",
       " '__new__',\n",
       " '__reduce__',\n",
       " '__reduce_ex__',\n",
       " '__repr__',\n",
       " '__reversed__',\n",
       " '__rmul__',\n",
       " '__setattr__',\n",
       " '__setitem__',\n",
       " '__sizeof__',\n",
       " '__str__',\n",
       " '__subclasshook__',\n",
       " 'append',\n",
       " 'clear',\n",
       " 'copy',\n",
       " 'count',\n",
       " 'extend',\n",
       " 'index',\n",
       " 'insert',\n",
       " 'pop',\n",
       " 'remove',\n",
       " 'reverse',\n",
       " 'sort']"
      ]
     },
     "execution_count": 40,
     "metadata": {},
     "output_type": "execute_result"
    }
   ],
   "source": [
    "dir(sys.path)"
   ]
  },
  {
   "cell_type": "markdown",
   "metadata": {},
   "source": [
    "## version"
   ]
  },
  {
   "cell_type": "code",
   "execution_count": 21,
   "metadata": {},
   "outputs": [
    {
     "data": {
      "text/plain": [
       "'3.8.5 (tags/v3.8.5:580fbb0, Jul 20 2020, 15:43:08) [MSC v.1926 32 bit (Intel)]'"
      ]
     },
     "execution_count": 21,
     "metadata": {},
     "output_type": "execute_result"
    }
   ],
   "source": [
    "#python version\n",
    "sys.version"
   ]
  },
  {
   "cell_type": "code",
   "execution_count": 22,
   "metadata": {},
   "outputs": [
    {
     "data": {
      "text/plain": [
       "1013"
      ]
     },
     "execution_count": 22,
     "metadata": {},
     "output_type": "execute_result"
    }
   ],
   "source": [
    "#C API version for this intepreter\n",
    "sys.api_version"
   ]
  },
  {
   "cell_type": "code",
   "execution_count": 23,
   "metadata": {},
   "outputs": [
    {
     "data": {
      "text/plain": [
       "sys.version_info(major=3, minor=8, micro=5, releaselevel='final', serial=0)"
      ]
     },
     "execution_count": 23,
     "metadata": {},
     "output_type": "execute_result"
    }
   ],
   "source": [
    "sys.version_info"
   ]
  },
  {
   "cell_type": "markdown",
   "metadata": {},
   "source": [
    "## system"
   ]
  },
  {
   "cell_type": "code",
   "execution_count": 25,
   "metadata": {},
   "outputs": [
    {
     "data": {
      "text/plain": [
       "'win32'"
      ]
     },
     "execution_count": 25,
     "metadata": {},
     "output_type": "execute_result"
    }
   ],
   "source": [
    "sys.platform"
   ]
  },
  {
   "cell_type": "code",
   "execution_count": 139,
   "metadata": {},
   "outputs": [
    {
     "data": {
      "text/plain": [
       "('_abc',\n",
       " '_ast',\n",
       " '_bisect',\n",
       " '_blake2',\n",
       " '_codecs',\n",
       " '_codecs_cn',\n",
       " '_codecs_hk',\n",
       " '_codecs_iso2022',\n",
       " '_codecs_jp',\n",
       " '_codecs_kr',\n",
       " '_codecs_tw',\n",
       " '_collections',\n",
       " '_contextvars',\n",
       " '_csv',\n",
       " '_datetime',\n",
       " '_functools',\n",
       " '_heapq',\n",
       " '_imp',\n",
       " '_io',\n",
       " '_json',\n",
       " '_locale',\n",
       " '_lsprof',\n",
       " '_md5',\n",
       " '_multibytecodec',\n",
       " '_opcode',\n",
       " '_operator',\n",
       " '_pickle',\n",
       " '_random',\n",
       " '_sha1',\n",
       " '_sha256',\n",
       " '_sha3',\n",
       " '_sha512',\n",
       " '_signal',\n",
       " '_sre',\n",
       " '_stat',\n",
       " '_statistics',\n",
       " '_string',\n",
       " '_struct',\n",
       " '_symtable',\n",
       " '_thread',\n",
       " '_tracemalloc',\n",
       " '_warnings',\n",
       " '_weakref',\n",
       " '_winapi',\n",
       " '_xxsubinterpreters',\n",
       " 'array',\n",
       " 'atexit',\n",
       " 'audioop',\n",
       " 'binascii',\n",
       " 'builtins',\n",
       " 'cmath',\n",
       " 'errno',\n",
       " 'faulthandler',\n",
       " 'gc',\n",
       " 'itertools',\n",
       " 'marshal',\n",
       " 'math',\n",
       " 'mmap',\n",
       " 'msvcrt',\n",
       " 'nt',\n",
       " 'parser',\n",
       " 'sys',\n",
       " 'time',\n",
       " 'winreg',\n",
       " 'xxsubtype',\n",
       " 'zlib')"
      ]
     },
     "execution_count": 139,
     "metadata": {},
     "output_type": "execute_result"
    }
   ],
   "source": [
    "sys.builtin_module_names"
   ]
  },
  {
   "cell_type": "code",
   "execution_count": 141,
   "metadata": {},
   "outputs": [
    {
     "data": {
      "text/plain": [
       "'nt'"
      ]
     },
     "execution_count": 141,
     "metadata": {},
     "output_type": "execute_result"
    }
   ],
   "source": [
    "#the name of the operating system dependent module imported\n",
    "os.name"
   ]
  },
  {
   "cell_type": "markdown",
   "metadata": {},
   "source": [
    "# import io\n",
    "deal with various type of I/O, namely text, binary, raw"
   ]
  },
  {
   "cell_type": "code",
   "execution_count": 157,
   "metadata": {},
   "outputs": [],
   "source": [
    "import io"
   ]
  },
  {
   "cell_type": "markdown",
   "metadata": {},
   "source": [
    "## text IO"
   ]
  },
  {
   "cell_type": "code",
   "execution_count": null,
   "metadata": {},
   "outputs": [],
   "source": [
    "f = open(\"test1.txt\", 'r', encoding='utf-8')\n",
    "f.readlines()\n",
    "f.closed()"
   ]
  },
  {
   "cell_type": "code",
   "execution_count": 158,
   "metadata": {},
   "outputs": [
    {
     "name": "stdout",
     "output_type": "stream",
     "text": [
      "<_io.StringIO object at 0x01C172F8>\n"
     ]
    }
   ],
   "source": [
    "f = io.StringIO(\"test data\")\n",
    "print(f)"
   ]
  },
  {
   "cell_type": "code",
   "execution_count": 165,
   "metadata": {},
   "outputs": [],
   "source": [
    "with open(\"test5.txt\", 'w') as f:\n",
    "    f.write(\"ok\")\n",
    "f.close()\n",
    "\n"
   ]
  },
  {
   "cell_type": "markdown",
   "metadata": {},
   "source": [
    "## binary IO"
   ]
  },
  {
   "cell_type": "code",
   "execution_count": 162,
   "metadata": {},
   "outputs": [
    {
     "data": {
      "text/plain": [
       "[]"
      ]
     },
     "execution_count": 162,
     "metadata": {},
     "output_type": "execute_result"
    }
   ],
   "source": [
    "f = open(\"test4.txt\", 'rb')\n",
    "f.readlines()\n"
   ]
  },
  {
   "cell_type": "code",
   "execution_count": null,
   "metadata": {},
   "outputs": [],
   "source": []
  },
  {
   "cell_type": "code",
   "execution_count": null,
   "metadata": {},
   "outputs": [],
   "source": []
  },
  {
   "cell_type": "code",
   "execution_count": null,
   "metadata": {},
   "outputs": [],
   "source": []
  },
  {
   "cell_type": "code",
   "execution_count": null,
   "metadata": {},
   "outputs": [],
   "source": []
  }
 ],
 "metadata": {
  "kernelspec": {
   "display_name": "Python 3",
   "language": "python",
   "name": "python3"
  },
  "language_info": {
   "codemirror_mode": {
    "name": "ipython",
    "version": 3
   },
   "file_extension": ".py",
   "mimetype": "text/x-python",
   "name": "python",
   "nbconvert_exporter": "python",
   "pygments_lexer": "ipython3",
   "version": "3.8.5"
  }
 },
 "nbformat": 4,
 "nbformat_minor": 4
}

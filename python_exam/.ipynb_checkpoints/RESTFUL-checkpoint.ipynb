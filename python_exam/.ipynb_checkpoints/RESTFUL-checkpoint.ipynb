{
 "cells": [
  {
   "cell_type": "markdown",
   "metadata": {},
   "source": [
    "# REST\n",
    "\n"
   ]
  },
  {
   "cell_type": "markdown",
   "metadata": {},
   "source": [
    "## import socket\n",
    "BSD sockets organize communication in the two domains: Unix domain and internet domain\n",
    "\n",
    "socket address consists of IP address + port number\n",
    "socket number is 16-bit integer number identify within a particular system."
   ]
  },
  {
   "cell_type": "code",
   "execution_count": null,
   "metadata": {},
   "outputs": [],
   "source": [
    "#fetch document from server\n",
    "import socket\n",
    "\n",
    "server_addr = input(\"What server do you want to connect to? \")\n",
    "\n",
    "#socket.SOCK_STREAM is a socket which transmit single characters\n",
    "sock = socket.socket(socket.AF_INET, socket.SOCK_STREAM)\n",
    "\n",
    "#Note: tuple type, the doube parentheses are necessary\n",
    "sock.connect((server_addr, 80))\n",
    "sock.send(b\"GET / HTTP/1.1\\r\\nHost: \" +\n",
    "          bytes(server_addr, \"utf8\") +\n",
    "          b\"\\r\\nConnection: close\\r\\n\\r\\n\")\n",
    "\n",
    "#sock.recv() reads data. The argument is recv's internal buffer\n",
    "reply = sock.recv(10000)\n",
    "\n",
    "sock.shutdown(socket.SHUT_RDWR)\n",
    "sock.close()"
   ]
  },
  {
   "cell_type": "code",
   "execution_count": null,
   "metadata": {},
   "outputs": [],
   "source": []
  },
  {
   "cell_type": "markdown",
   "metadata": {},
   "source": [
    "# import json\n",
    "json is abbreviation of JavaScript Object Notation. text-based is a UTF text. Json is mainly used for data interchange between two OS systems.\n",
    "\n",
    "An object of any class is eitther JSON-serilizedable by default, or can be turned into such a object.\n",
    "\n",
    "common methods:\n",
    "json.dumps(): encode\n",
    "json.loads(): decode: str to json\n",
    "json.dump(): json to file hander\n",
    "json.load(): file hander to json\n"
   ]
  },
  {
   "cell_type": "code",
   "execution_count": 32,
   "metadata": {},
   "outputs": [
    {
     "name": "stdout",
     "output_type": "stream",
     "text": [
      "{}\n",
      "{}\n"
     ]
    },
    {
     "ename": "JSONDecodeError",
     "evalue": "Expecting value: line 1 column 1 (char 0)",
     "output_type": "error",
     "traceback": [
      "\u001b[1;31m---------------------------------------------------------------------------\u001b[0m",
      "\u001b[1;31mJSONDecodeError\u001b[0m                           Traceback (most recent call last)",
      "\u001b[1;32m<ipython-input-32-8755245b967b>\u001b[0m in \u001b[0;36m<module>\u001b[1;34m\u001b[0m\n\u001b[0;32m      4\u001b[0m \u001b[0mprint\u001b[0m\u001b[1;33m(\u001b[0m\u001b[0mjson\u001b[0m\u001b[1;33m.\u001b[0m\u001b[0mloads\u001b[0m\u001b[1;33m(\u001b[0m\u001b[1;34m\"{}\"\u001b[0m\u001b[1;33m)\u001b[0m\u001b[1;33m)\u001b[0m\u001b[1;33m\u001b[0m\u001b[1;33m\u001b[0m\u001b[0m\n\u001b[0;32m      5\u001b[0m \u001b[0mprint\u001b[0m\u001b[1;33m(\u001b[0m\u001b[0mjson\u001b[0m\u001b[1;33m.\u001b[0m\u001b[0mloads\u001b[0m\u001b[1;33m(\u001b[0m\u001b[1;34m'{}'\u001b[0m\u001b[1;33m)\u001b[0m\u001b[1;33m)\u001b[0m\u001b[1;33m\u001b[0m\u001b[1;33m\u001b[0m\u001b[0m\n\u001b[1;32m----> 6\u001b[1;33m \u001b[0mprint\u001b[0m\u001b[1;33m(\u001b[0m\u001b[0mjson\u001b[0m\u001b[1;33m.\u001b[0m\u001b[0mloads\u001b[0m\u001b[1;33m(\u001b[0m\u001b[1;34m\"\"\u001b[0m\u001b[1;33m)\u001b[0m\u001b[1;33m)\u001b[0m\u001b[1;33m\u001b[0m\u001b[1;33m\u001b[0m\u001b[0m\n\u001b[0m\u001b[0;32m      7\u001b[0m \u001b[1;33m\u001b[0m\u001b[0m\n\u001b[0;32m      8\u001b[0m \u001b[1;31m# string is encompassed by '. Any ' within string is illegal\u001b[0m\u001b[1;33m\u001b[0m\u001b[1;33m\u001b[0m\u001b[1;33m\u001b[0m\u001b[0m\n",
      "\u001b[1;32mc:\\users\\tiezh\\appdata\\local\\programs\\python\\python38-32\\lib\\json\\__init__.py\u001b[0m in \u001b[0;36mloads\u001b[1;34m(s, cls, object_hook, parse_float, parse_int, parse_constant, object_pairs_hook, **kw)\u001b[0m\n\u001b[0;32m    355\u001b[0m             \u001b[0mparse_int\u001b[0m \u001b[1;32mis\u001b[0m \u001b[1;32mNone\u001b[0m \u001b[1;32mand\u001b[0m \u001b[0mparse_float\u001b[0m \u001b[1;32mis\u001b[0m \u001b[1;32mNone\u001b[0m \u001b[1;32mand\u001b[0m\u001b[1;33m\u001b[0m\u001b[1;33m\u001b[0m\u001b[0m\n\u001b[0;32m    356\u001b[0m             parse_constant is None and object_pairs_hook is None and not kw):\n\u001b[1;32m--> 357\u001b[1;33m         \u001b[1;32mreturn\u001b[0m \u001b[0m_default_decoder\u001b[0m\u001b[1;33m.\u001b[0m\u001b[0mdecode\u001b[0m\u001b[1;33m(\u001b[0m\u001b[0ms\u001b[0m\u001b[1;33m)\u001b[0m\u001b[1;33m\u001b[0m\u001b[1;33m\u001b[0m\u001b[0m\n\u001b[0m\u001b[0;32m    358\u001b[0m     \u001b[1;32mif\u001b[0m \u001b[0mcls\u001b[0m \u001b[1;32mis\u001b[0m \u001b[1;32mNone\u001b[0m\u001b[1;33m:\u001b[0m\u001b[1;33m\u001b[0m\u001b[1;33m\u001b[0m\u001b[0m\n\u001b[0;32m    359\u001b[0m         \u001b[0mcls\u001b[0m \u001b[1;33m=\u001b[0m \u001b[0mJSONDecoder\u001b[0m\u001b[1;33m\u001b[0m\u001b[1;33m\u001b[0m\u001b[0m\n",
      "\u001b[1;32mc:\\users\\tiezh\\appdata\\local\\programs\\python\\python38-32\\lib\\json\\decoder.py\u001b[0m in \u001b[0;36mdecode\u001b[1;34m(self, s, _w)\u001b[0m\n\u001b[0;32m    335\u001b[0m \u001b[1;33m\u001b[0m\u001b[0m\n\u001b[0;32m    336\u001b[0m         \"\"\"\n\u001b[1;32m--> 337\u001b[1;33m         \u001b[0mobj\u001b[0m\u001b[1;33m,\u001b[0m \u001b[0mend\u001b[0m \u001b[1;33m=\u001b[0m \u001b[0mself\u001b[0m\u001b[1;33m.\u001b[0m\u001b[0mraw_decode\u001b[0m\u001b[1;33m(\u001b[0m\u001b[0ms\u001b[0m\u001b[1;33m,\u001b[0m \u001b[0midx\u001b[0m\u001b[1;33m=\u001b[0m\u001b[0m_w\u001b[0m\u001b[1;33m(\u001b[0m\u001b[0ms\u001b[0m\u001b[1;33m,\u001b[0m \u001b[1;36m0\u001b[0m\u001b[1;33m)\u001b[0m\u001b[1;33m.\u001b[0m\u001b[0mend\u001b[0m\u001b[1;33m(\u001b[0m\u001b[1;33m)\u001b[0m\u001b[1;33m)\u001b[0m\u001b[1;33m\u001b[0m\u001b[1;33m\u001b[0m\u001b[0m\n\u001b[0m\u001b[0;32m    338\u001b[0m         \u001b[0mend\u001b[0m \u001b[1;33m=\u001b[0m \u001b[0m_w\u001b[0m\u001b[1;33m(\u001b[0m\u001b[0ms\u001b[0m\u001b[1;33m,\u001b[0m \u001b[0mend\u001b[0m\u001b[1;33m)\u001b[0m\u001b[1;33m.\u001b[0m\u001b[0mend\u001b[0m\u001b[1;33m(\u001b[0m\u001b[1;33m)\u001b[0m\u001b[1;33m\u001b[0m\u001b[1;33m\u001b[0m\u001b[0m\n\u001b[0;32m    339\u001b[0m         \u001b[1;32mif\u001b[0m \u001b[0mend\u001b[0m \u001b[1;33m!=\u001b[0m \u001b[0mlen\u001b[0m\u001b[1;33m(\u001b[0m\u001b[0ms\u001b[0m\u001b[1;33m)\u001b[0m\u001b[1;33m:\u001b[0m\u001b[1;33m\u001b[0m\u001b[1;33m\u001b[0m\u001b[0m\n",
      "\u001b[1;32mc:\\users\\tiezh\\appdata\\local\\programs\\python\\python38-32\\lib\\json\\decoder.py\u001b[0m in \u001b[0;36mraw_decode\u001b[1;34m(self, s, idx)\u001b[0m\n\u001b[0;32m    353\u001b[0m             \u001b[0mobj\u001b[0m\u001b[1;33m,\u001b[0m \u001b[0mend\u001b[0m \u001b[1;33m=\u001b[0m \u001b[0mself\u001b[0m\u001b[1;33m.\u001b[0m\u001b[0mscan_once\u001b[0m\u001b[1;33m(\u001b[0m\u001b[0ms\u001b[0m\u001b[1;33m,\u001b[0m \u001b[0midx\u001b[0m\u001b[1;33m)\u001b[0m\u001b[1;33m\u001b[0m\u001b[1;33m\u001b[0m\u001b[0m\n\u001b[0;32m    354\u001b[0m         \u001b[1;32mexcept\u001b[0m \u001b[0mStopIteration\u001b[0m \u001b[1;32mas\u001b[0m \u001b[0merr\u001b[0m\u001b[1;33m:\u001b[0m\u001b[1;33m\u001b[0m\u001b[1;33m\u001b[0m\u001b[0m\n\u001b[1;32m--> 355\u001b[1;33m             \u001b[1;32mraise\u001b[0m \u001b[0mJSONDecodeError\u001b[0m\u001b[1;33m(\u001b[0m\u001b[1;34m\"Expecting value\"\u001b[0m\u001b[1;33m,\u001b[0m \u001b[0ms\u001b[0m\u001b[1;33m,\u001b[0m \u001b[0merr\u001b[0m\u001b[1;33m.\u001b[0m\u001b[0mvalue\u001b[0m\u001b[1;33m)\u001b[0m \u001b[1;32mfrom\u001b[0m \u001b[1;32mNone\u001b[0m\u001b[1;33m\u001b[0m\u001b[1;33m\u001b[0m\u001b[0m\n\u001b[0m\u001b[0;32m    356\u001b[0m         \u001b[1;32mreturn\u001b[0m \u001b[0mobj\u001b[0m\u001b[1;33m,\u001b[0m \u001b[0mend\u001b[0m\u001b[1;33m\u001b[0m\u001b[1;33m\u001b[0m\u001b[0m\n",
      "\u001b[1;31mJSONDecodeError\u001b[0m: Expecting value: line 1 column 1 (char 0)"
     ]
    }
   ],
   "source": [
    "#takes a json string as argument, and returns a json object\n",
    "import json\n",
    "\n",
    "print(json.loads(\"{}\")) \n",
    "print(json.loads('{}'))\n",
    "\n",
    "\n",
    "# string is encompassed by '. Any ' within string is illegal\n",
    "d= '{\"a\":3}'\n",
    "print(json.loads(d))\n",
    "\n",
    "#true and null should be lower case. None can't be recognized.\n",
    "d= '{\"a\":true, \"b\":null}'\n",
    "print(json.loads(d))\n",
    "\n",
    "d= '{\"a\":\"3\", \"b\":3}'\n",
    "print(json.loads(d))\n",
    "\n",
    "\n",
    "json.loads(\"{\\\"registration_number\\\":\\\"3\\\",\\\"year_of_production\\\":\\\"3\\\",\\\"passenger\\\":false,\\\"mass\\\":\\\"3\\\"}\")"
   ]
  },
  {
   "cell_type": "code",
   "execution_count": null,
   "metadata": {},
   "outputs": [],
   "source": []
  },
  {
   "cell_type": "code",
   "execution_count": 27,
   "metadata": {},
   "outputs": [
    {
     "name": "stdout",
     "output_type": "stream",
     "text": [
      "\"\\\"The Meaning of Life\\\" by Monty Python's Flying Circus\"\n",
      "{\"a\": \"3\", \"b\": 3}\n",
      "[\n",
      "  {\n",
      "    \"a\": \"3\",\n",
      "    \"b\": 3\n",
      "  },\n",
      "  3,\n",
      "  [\n",
      "    3,\n",
      "    4\n",
      "  ]\n",
      "]\n"
     ]
    }
   ],
   "source": [
    "#takes python data as arguments, return a Json string\n",
    "import json\n",
    "\n",
    "comics = '\"The Meaning of Life\" by Monty Python\\'s Flying Circus'\n",
    "print(json.dumps(comics))\n",
    "\n",
    "d= {\"a\":\"3\", \"b\":3}\n",
    "print(json.dumps(d))\n",
    "\n",
    "d= [{\"a\":\"3\", \"b\":3}, 3, [3,4]]\n",
    "print(json.dumps(d, indent=2, sort_keys=True))"
   ]
  },
  {
   "cell_type": "code",
   "execution_count": 38,
   "metadata": {},
   "outputs": [
    {
     "name": "stdout",
     "output_type": "stream",
     "text": [
      "\n"
     ]
    }
   ],
   "source": [
    "#Wrong json strong\n",
    "#print(json.loads(\"\"))\n",
    "#print(json.loads(\"\\\"\"))\n",
    "#print(json.loads('\"'))\n",
    "\n",
    "print(json.loads('\"\"'))"
   ]
  },
  {
   "cell_type": "code",
   "execution_count": 2,
   "metadata": {},
   "outputs": [
    {
     "name": "stdout",
     "output_type": "stream",
     "text": [
      "<class '__main__.Who'>\n",
      "{'name': 'Jane Doe', 'age': 23}\n"
     ]
    }
   ],
   "source": [
    "import json\n",
    "\n",
    "\n",
    "class Who:\n",
    "    def __init__(self, name, age):\n",
    "        self.name = name\n",
    "        self.age = age\n",
    "\n",
    "\n",
    "class MyEncoder(json.JSONEncoder):\n",
    "    def default(self, w):\n",
    "        if isinstance(w, Who):\n",
    "            return w.__dict__\n",
    "        else:\n",
    "            return super().default(self, z)\n",
    "\n",
    "\n",
    "class MyDecoder(json.JSONDecoder):\n",
    "    def __init__(self):\n",
    "        json.JSONDecoder.__init__(self, object_hook=self.decode_who)\n",
    "\n",
    "    def decode_who(self, d):\n",
    "        return Who(**d)\n",
    "\n",
    "\n",
    "some_man = Who('Jane Doe', 23)\n",
    "json_str = json.dumps(some_man, cls=MyEncoder)\n",
    "new_man = json.loads(json_str, cls=MyDecoder)\n",
    "\n",
    "print(type(new_man))\n",
    "print(new_man.__dict__)"
   ]
  },
  {
   "cell_type": "markdown",
   "metadata": {},
   "source": [
    "## json exception"
   ]
  },
  {
   "cell_type": "code",
   "execution_count": 25,
   "metadata": {},
   "outputs": [
    {
     "name": "stdout",
     "output_type": "stream",
     "text": [
      "Expecting value: line 1 column 6 (char 5)\n"
     ]
    }
   ],
   "source": [
    "import json\n",
    "\n",
    "#string is not valid JSON\n",
    "s = '{\"a\":b}'\n",
    "try:\n",
    "    j = json.loads(s)\n",
    "    print(j)\n",
    "except ValueError as e:\n",
    "    print(e)"
   ]
  },
  {
   "cell_type": "code",
   "execution_count": null,
   "metadata": {},
   "outputs": [],
   "source": []
  },
  {
   "cell_type": "markdown",
   "metadata": {},
   "source": [
    "# import requests\n",
    "\n",
    "IETE: Internet Protocol Standards\n",
    "IP: internet protocol\n",
    "TCP\n",
    "HTTP\n",
    "UDP: user diagram protocol operates on top of IP. UDP doesn't use handshakes and is faster than TCP\n",
    "\n",
    "\n",
    "http://www.api.com:80/page1.html\n",
    "\n",
    "web protocol: http(HyperText)\n",
    "host www.api.com\n",
    "port: integer. length is 16bits. default=80 TCP socket for web protocol\n",
    "document: page1.html\n",
    "\n",
    "\n",
    "methods of requests:\n",
    "requests read data from url\n",
    "decode() convert data to internal formate used by strings"
   ]
  },
  {
   "cell_type": "markdown",
   "metadata": {},
   "source": [
    "## POST\n",
    "requests.post()"
   ]
  },
  {
   "cell_type": "code",
   "execution_count": null,
   "metadata": {},
   "outputs": [],
   "source": [
    "#add data\n",
    "#return 404 error if data exists\n",
    "payload = {'id':3, 'name':4}\n",
    "request.post(\"http://uri/resource/3\", data=payload)"
   ]
  },
  {
   "cell_type": "code",
   "execution_count": null,
   "metadata": {},
   "outputs": [],
   "source": [
    "import json\n",
    "import requests\n",
    "import logging\n",
    "logger = logging.getLogger()\n",
    "logger.setLevel(logging.DEBUG)\n",
    "\n",
    "def handler(event, context):\n",
    "\n",
    "    try:\n",
    "        payload = json.loads(event['body'])\n",
    "        response = requests.post(event['url'], data=payload, timeout=3)\n",
    "        response.raise_for_status()\n",
    "        logger.info('POST is good, nci_id=', payload.get['nci_id'])\n",
    "    except requests.exceptions.ConnectionError as e:\n",
    "        print(e.response)\n",
    "        logger.debug(\"ConnectionError\")\n",
    "    except requests.exceptions.HTTPError as e:\n",
    "        print(str(e.response))\n",
    "        code = e.response.status_code\n",
    "        if  code == 405:\n",
    "            logger.debug(\"HTTPError: API is not used for POST, error=\", code)\n",
    "        elif  code == 404:\n",
    "            logger.debug(\"HTTPError: wrong endpoint, error=\", code)\n",
    "        else:\n",
    "            logger.debug(\"HTTPError: error=\", code)\n",
    "    except:\n",
    "        logger.debug(\"wrong event\")\n",
    "\n",
    "#wrong post API\n",
    "event = {\n",
    "    \"url\":'http://www.google.com',\n",
    "    \"body\": '{\"nci_id\": \"abc\"}'\n",
    "}\n",
    "handler(event, None)\n",
    "\n",
    "#wrong host\n",
    "event['url'] = 'http://www.google.comcc'\n",
    "handler(event, None)\n",
    "\n",
    "event['url'] = 'http://www.google.com?a=4'\n",
    "handler(event, None)\n",
    "\n",
    "#wrong endpoint\n",
    "event['url'] = 'http://www.google.com/a=4'\n",
    "handler(event, None)\n",
    "\n",
    "#wrong endpoint\n",
    "event = {\"url\":'http://www.google.com'}\n",
    "handler(event, None)\n",
    "\n",
    "\n",
    "print(\"done\")\n"
   ]
  },
  {
   "cell_type": "markdown",
   "metadata": {},
   "source": [
    "## DELETE\n",
    "requests.delete()\n",
    "\n",
    "if the resouce doesn't exist. reponse.status_code is set to requests.codes.not_found"
   ]
  },
  {
   "cell_type": "code",
   "execution_count": null,
   "metadata": {},
   "outputs": [],
   "source": [
    "#delete resources from the server http://uri\n",
    "requests.delete(\"http://uri/resources\")"
   ]
  },
  {
   "cell_type": "markdown",
   "metadata": {},
   "source": [
    "## UPDATE\n",
    "requests.put()\n",
    "requests.patch()"
   ]
  },
  {
   "cell_type": "code",
   "execution_count": null,
   "metadata": {},
   "outputs": [],
   "source": [
    "#cover old data with new data\n",
    "payload = {'id':3, 'name':4}\n",
    "request.put(\"http://uri/resource/3\", data=payload)"
   ]
  },
  {
   "cell_type": "code",
   "execution_count": null,
   "metadata": {},
   "outputs": [],
   "source": [
    "#replace partially\n",
    "payload = {'id':3, 'model':'new'}\n",
    "request.patch(\"http://uri/resource/3\", data=payload)"
   ]
  },
  {
   "cell_type": "markdown",
   "metadata": {},
   "source": [
    "## GET\n",
    "requests.get()\n",
    "requests.head()"
   ]
  },
  {
   "cell_type": "code",
   "execution_count": 6,
   "metadata": {},
   "outputs": [
    {
     "name": "stdout",
     "output_type": "stream",
     "text": [
      "200\n",
      "{'name': 'status_codes', 'continue': 100, 'CONTINUE': 100, 'switching_protocols': 101, 'SWITCHING_PROTOCOLS': 101, 'processing': 102, 'PROCESSING': 102, 'checkpoint': 103, 'CHECKPOINT': 103, 'uri_too_long': 122, 'URI_TOO_LONG': 122, 'request_uri_too_long': 122, 'REQUEST_URI_TOO_LONG': 122, 'ok': 200, 'OK': 200, 'okay': 200, 'OKAY': 200, 'all_ok': 200, 'ALL_OK': 200, 'all_okay': 200, 'ALL_OKAY': 200, 'all_good': 200, 'ALL_GOOD': 200, '\\\\o/': 200, '✓': 200, 'created': 201, 'CREATED': 201, 'accepted': 202, 'ACCEPTED': 202, 'non_authoritative_info': 203, 'NON_AUTHORITATIVE_INFO': 203, 'non_authoritative_information': 203, 'NON_AUTHORITATIVE_INFORMATION': 203, 'no_content': 204, 'NO_CONTENT': 204, 'reset_content': 205, 'RESET_CONTENT': 205, 'reset': 205, 'RESET': 205, 'partial_content': 206, 'PARTIAL_CONTENT': 206, 'partial': 206, 'PARTIAL': 206, 'multi_status': 207, 'MULTI_STATUS': 207, 'multiple_status': 207, 'MULTIPLE_STATUS': 207, 'multi_stati': 207, 'MULTI_STATI': 207, 'multiple_stati': 207, 'MULTIPLE_STATI': 207, 'already_reported': 208, 'ALREADY_REPORTED': 208, 'im_used': 226, 'IM_USED': 226, 'multiple_choices': 300, 'MULTIPLE_CHOICES': 300, 'moved_permanently': 301, 'MOVED_PERMANENTLY': 301, 'moved': 301, 'MOVED': 301, '\\\\o-': 301, 'found': 302, 'FOUND': 302, 'see_other': 303, 'SEE_OTHER': 303, 'other': 303, 'OTHER': 303, 'not_modified': 304, 'NOT_MODIFIED': 304, 'use_proxy': 305, 'USE_PROXY': 305, 'switch_proxy': 306, 'SWITCH_PROXY': 306, 'temporary_redirect': 307, 'TEMPORARY_REDIRECT': 307, 'temporary_moved': 307, 'TEMPORARY_MOVED': 307, 'temporary': 307, 'TEMPORARY': 307, 'permanent_redirect': 308, 'PERMANENT_REDIRECT': 308, 'resume_incomplete': 308, 'RESUME_INCOMPLETE': 308, 'resume': 308, 'RESUME': 308, 'bad_request': 400, 'BAD_REQUEST': 400, 'bad': 400, 'BAD': 400, 'unauthorized': 401, 'UNAUTHORIZED': 401, 'payment_required': 402, 'PAYMENT_REQUIRED': 402, 'payment': 402, 'PAYMENT': 402, 'forbidden': 403, 'FORBIDDEN': 403, 'not_found': 404, 'NOT_FOUND': 404, '-o-': 404, '-O-': 404, 'method_not_allowed': 405, 'METHOD_NOT_ALLOWED': 405, 'not_allowed': 405, 'NOT_ALLOWED': 405, 'not_acceptable': 406, 'NOT_ACCEPTABLE': 406, 'proxy_authentication_required': 407, 'PROXY_AUTHENTICATION_REQUIRED': 407, 'proxy_auth': 407, 'PROXY_AUTH': 407, 'proxy_authentication': 407, 'PROXY_AUTHENTICATION': 407, 'request_timeout': 408, 'REQUEST_TIMEOUT': 408, 'timeout': 408, 'TIMEOUT': 408, 'conflict': 409, 'CONFLICT': 409, 'gone': 410, 'GONE': 410, 'length_required': 411, 'LENGTH_REQUIRED': 411, 'precondition_failed': 412, 'PRECONDITION_FAILED': 412, 'precondition': 428, 'PRECONDITION': 428, 'request_entity_too_large': 413, 'REQUEST_ENTITY_TOO_LARGE': 413, 'request_uri_too_large': 414, 'REQUEST_URI_TOO_LARGE': 414, 'unsupported_media_type': 415, 'UNSUPPORTED_MEDIA_TYPE': 415, 'unsupported_media': 415, 'UNSUPPORTED_MEDIA': 415, 'media_type': 415, 'MEDIA_TYPE': 415, 'requested_range_not_satisfiable': 416, 'REQUESTED_RANGE_NOT_SATISFIABLE': 416, 'requested_range': 416, 'REQUESTED_RANGE': 416, 'range_not_satisfiable': 416, 'RANGE_NOT_SATISFIABLE': 416, 'expectation_failed': 417, 'EXPECTATION_FAILED': 417, 'im_a_teapot': 418, 'IM_A_TEAPOT': 418, 'teapot': 418, 'TEAPOT': 418, 'i_am_a_teapot': 418, 'I_AM_A_TEAPOT': 418, 'misdirected_request': 421, 'MISDIRECTED_REQUEST': 421, 'unprocessable_entity': 422, 'UNPROCESSABLE_ENTITY': 422, 'unprocessable': 422, 'UNPROCESSABLE': 422, 'locked': 423, 'LOCKED': 423, 'failed_dependency': 424, 'FAILED_DEPENDENCY': 424, 'dependency': 424, 'DEPENDENCY': 424, 'unordered_collection': 425, 'UNORDERED_COLLECTION': 425, 'unordered': 425, 'UNORDERED': 425, 'upgrade_required': 426, 'UPGRADE_REQUIRED': 426, 'upgrade': 426, 'UPGRADE': 426, 'precondition_required': 428, 'PRECONDITION_REQUIRED': 428, 'too_many_requests': 429, 'TOO_MANY_REQUESTS': 429, 'too_many': 429, 'TOO_MANY': 429, 'header_fields_too_large': 431, 'HEADER_FIELDS_TOO_LARGE': 431, 'fields_too_large': 431, 'FIELDS_TOO_LARGE': 431, 'no_response': 444, 'NO_RESPONSE': 444, 'none': 444, 'NONE': 444, 'retry_with': 449, 'RETRY_WITH': 449, 'retry': 449, 'RETRY': 449, 'blocked_by_windows_parental_controls': 450, 'BLOCKED_BY_WINDOWS_PARENTAL_CONTROLS': 450, 'parental_controls': 450, 'PARENTAL_CONTROLS': 450, 'unavailable_for_legal_reasons': 451, 'UNAVAILABLE_FOR_LEGAL_REASONS': 451, 'legal_reasons': 451, 'LEGAL_REASONS': 451, 'client_closed_request': 499, 'CLIENT_CLOSED_REQUEST': 499, 'internal_server_error': 500, 'INTERNAL_SERVER_ERROR': 500, 'server_error': 500, 'SERVER_ERROR': 500, '/o\\\\': 500, '✗': 500, 'not_implemented': 501, 'NOT_IMPLEMENTED': 501, 'bad_gateway': 502, 'BAD_GATEWAY': 502, 'service_unavailable': 503, 'SERVICE_UNAVAILABLE': 503, 'unavailable': 503, 'UNAVAILABLE': 503, 'gateway_timeout': 504, 'GATEWAY_TIMEOUT': 504, 'http_version_not_supported': 505, 'HTTP_VERSION_NOT_SUPPORTED': 505, 'http_version': 505, 'HTTP_VERSION': 505, 'variant_also_negotiates': 506, 'VARIANT_ALSO_NEGOTIATES': 506, 'insufficient_storage': 507, 'INSUFFICIENT_STORAGE': 507, 'bandwidth_limit_exceeded': 509, 'BANDWIDTH_LIMIT_EXCEEDED': 509, 'bandwidth': 509, 'BANDWIDTH': 509, 'not_extended': 510, 'NOT_EXTENDED': 510, 'network_authentication_required': 511, 'NETWORK_AUTHENTICATION_REQUIRED': 511, 'network_auth': 511, 'NETWORK_AUTH': 511, 'network_authentication': 511, 'NETWORK_AUTHENTICATION': 511}\n",
      "{'X-Powered-By': 'Express', 'Vary': 'Origin, Accept-Encoding', 'Access-Control-Allow-Credentials': 'true', 'Accept-Ranges': 'bytes', 'Cache-Control': 'public, max-age=0', 'Last-Modified': 'Tue, 29 Jun 2021 22:36:41 GMT', 'ETag': 'W/\"277-17a59ead90d\"', 'Content-Type': 'text/html; charset=UTF-8', 'Content-Length': '631', 'Date': 'Mon, 05 Jul 2021 16:11:28 GMT', 'Connection': 'keep-alive', 'Keep-Alive': 'timeout=5'}\n"
     ]
    }
   ],
   "source": [
    "import requests\n",
    "\n",
    "reply = requests.get('http://localhost:3000')\n",
    "print(reply.status_code)\n",
    "print(resply.text)\n",
    "print(requests.codes.__dict__, end=\"\\n\")\n",
    "print(reply.headers)"
   ]
  },
  {
   "cell_type": "markdown",
   "metadata": {},
   "source": [
    "### head()\n",
    "sends a HEAD request to a url. Differing from get(), no content is returned, but only status_code or HTTP headers are returned."
   ]
  },
  {
   "cell_type": "code",
   "execution_count": 54,
   "metadata": {},
   "outputs": [
    {
     "name": "stdout",
     "output_type": "stream",
     "text": [
      "['__attrs__', '__bool__', '__class__', '__delattr__', '__dict__', '__dir__', '__doc__', '__enter__', '__eq__', '__exit__', '__format__', '__ge__', '__getattribute__', '__getstate__', '__gt__', '__hash__', '__init__', '__init_subclass__', '__iter__', '__le__', '__lt__', '__module__', '__ne__', '__new__', '__nonzero__', '__reduce__', '__reduce_ex__', '__repr__', '__setattr__', '__setstate__', '__sizeof__', '__str__', '__subclasshook__', '__weakref__', '_content', '_content_consumed', '_next', 'apparent_encoding', 'close', 'connection', 'content', 'cookies', 'elapsed', 'encoding', 'headers', 'history', 'is_permanent_redirect', 'is_redirect', 'iter_content', 'iter_lines', 'json', 'links', 'next', 'ok', 'raise_for_status', 'raw', 'reason', 'request', 'status_code', 'text', 'url']\n",
      "200\n",
      "https://www.w3schools.com/python/demopage.php\n",
      "{'Accept-Ranges': 'bytes', 'Age': '363814', 'Cache-Control': 'public', 'Content-Security-Policy': \"frame-ancestors 'self' https://mycourses.w3schools.com;\", 'Content-Type': 'text/html; charset=UTF-8', 'Date': 'Sun, 11 Jul 2021 19:14:10 GMT', 'Last-Modified': 'Wed, 07 Jul 2021 14:10:36 GMT', 'Server': 'ECS (agb/A43F)', 'X-Cache': 'HIT', 'X-Content-Security-Policy': \"frame-ancestors 'self' https://mycourses.w3schools.com;\", 'X-Powered-By': 'PHP/8.0.7', 'Content-Length': '0'}\n",
      "<bound method Response.json of <Response [200]>>\n"
     ]
    }
   ],
   "source": [
    "import requests\n",
    "\n",
    "response = requests.head('https://www.w3schools.com/python/demopage.php')\n",
    "print(dir(response))\n",
    "print(response.status_code)\n",
    "print(response.url)\n",
    "print(response.headers)\n",
    "print(response.json)\n"
   ]
  },
  {
   "cell_type": "markdown",
   "metadata": {},
   "source": [
    "## exceptions"
   ]
  },
  {
   "cell_type": "code",
   "execution_count": null,
   "metadata": {},
   "outputs": [],
   "source": [
    "import requests\n",
    "\n",
    "try:\n",
    "    reply = requests.get('http://localhost:3000', timeout=1)\n",
    "except requests.exceptions.Timeout:\n",
    "    print('Sorry, Mr. Impatient, you didn\\'t get your data')\n",
    "else:\n",
    "    print('Here is your data, my Master!')"
   ]
  },
  {
   "cell_type": "code",
   "execution_count": 7,
   "metadata": {},
   "outputs": [
    {
     "name": "stdout",
     "output_type": "stream",
     "text": [
      "Server error\n"
     ]
    }
   ],
   "source": [
    "import requests\n",
    "\n",
    "key_names = [\"id\", \"brand\", \"model\", \"production_year\", \"convertible\"]\n",
    "kay_widths = [10, 15, 10, 20, 15]\n",
    "\n",
    "\n",
    "def show_head():\n",
    "    for (n, w) in zip(key_names, kay_widths):\n",
    "        print(n.ljust(w), end='| ')\n",
    "    print()\n",
    "\n",
    "\n",
    "def show_car(car):\n",
    "    for (n, w) in zip(key_names, kay_widths):\n",
    "        print(str(car[n]).ljust(w), end='| ')\n",
    "    print()\n",
    "\n",
    "\n",
    "def show(json):\n",
    "    show_head()\n",
    "    for car in json:\n",
    "        show_car(car)\n",
    "\n",
    "\n",
    "try:\n",
    "    reply = requests.get('http://localhost:3000/cars')\n",
    "except requests.RequestException:\n",
    "    print('Communication error')\n",
    "else:\n",
    "    if reply.status_code == requests.codes.ok:\n",
    "        show(reply.json())\n",
    "    else:\n",
    "        print('Server error')"
   ]
  },
  {
   "cell_type": "code",
   "execution_count": 40,
   "metadata": {},
   "outputs": [
    {
     "name": "stdout",
     "output_type": "stream",
     "text": [
      "Method not allowed: cant POST:  405\n",
      "Bad Request: wrong payload:  400\n",
      "Not Found: wrong endpoint:  404\n"
     ]
    }
   ],
   "source": [
    "#request.exceptions.HTTPError\n",
    "try:\n",
    "    r = requests.post('http://google.com/', data={'birthday': '9/9/3999'})\n",
    "    r.raise_for_status()\n",
    "except requests.exceptions.HTTPError as e:\n",
    "    print('Method not allowed: cant POST: ', e.response.status_code)\n",
    "\n",
    "try:\n",
    "    r = requests.get('http://google.com/', data={'birthday': '9/9/3999'})\n",
    "    r.raise_for_status()\n",
    "except requests.exceptions.HTTPError as e:\n",
    "    print('Bad Request: wrong payload: ', e.response.status_code)\n",
    "\n",
    "try:\n",
    "    r = requests.get('http://google.com/foo')\n",
    "    r.raise_for_status()\n",
    "except requests.exceptions.HTTPError as e:\n",
    "    print('Not Found: wrong endpoint: ', e.response.status_code)\n",
    "    \n"
   ]
  },
  {
   "cell_type": "code",
   "execution_count": 43,
   "metadata": {},
   "outputs": [
    {
     "name": "stdout",
     "output_type": "stream",
     "text": [
      "200\n",
      "wrong host\n",
      "wrong port\n"
     ]
    }
   ],
   "source": [
    "#requests.exceptions.ConnectionError\n",
    "try:\n",
    "    r = requests.get('http://localhost:3000', timeout=3)\n",
    "    r.raise_for_status()\n",
    "    print(r.status_code)\n",
    "except requests.exceptions.ConnectionError as e:\n",
    "    print('wrong host')\n",
    "    \n",
    "try:\n",
    "    r = requests.get('http://localhost', timeout=3)\n",
    "    r.raise_for_status()\n",
    "except requests.exceptions.ConnectionError as e:\n",
    "    print('wrong host')\n",
    "\n",
    "try:\n",
    "    r = requests.get('http://localhost:3030', timeout=3)\n",
    "    r.raise_for_status()\n",
    "    print(r.status_code)\n",
    "except requests.exceptions.ConnectionError as e:\n",
    "    print('wrong port')"
   ]
  },
  {
   "cell_type": "code",
   "execution_count": 46,
   "metadata": {},
   "outputs": [
    {
     "name": "stdout",
     "output_type": "stream",
     "text": [
      "Request exception: should not be https but http\n"
     ]
    }
   ],
   "source": [
    "#requests.exceptions.RequestException\n",
    "try:\n",
    "    r = requests.get('https://localhost:3000', params={'a':4})\n",
    "    r.raise_for_status()\n",
    "    print(r.url)\n",
    "    print(r.status_code)\n",
    "except requests.exceptions.RequestException as e:\n",
    "    print('Request exception: should not be https but http')"
   ]
  },
  {
   "cell_type": "code",
   "execution_count": null,
   "metadata": {},
   "outputs": [],
   "source": [
    "#requests.exceptions.TimeOut\n",
    "try:\n",
    "    #timeout = 3 seconds \n",
    "    r = requests.get(\"http://ipv4.download.thinkbroadband.com/1GB.zip\", \n",
    "        verify=False)\n",
    "    r.raise_for_status()\n",
    "    print(r.url)\n",
    "    print(r.status_code)\n",
    "except requests.exceptions.TimeOut as e:\n",
    "    print('Time out: ')"
   ]
  },
  {
   "cell_type": "code",
   "execution_count": 39,
   "metadata": {},
   "outputs": [
    {
     "name": "stdout",
     "output_type": "stream",
     "text": [
      "done\n"
     ]
    }
   ],
   "source": [
    "\n"
   ]
  },
  {
   "cell_type": "code",
   "execution_count": null,
   "metadata": {},
   "outputs": [],
   "source": [
    "import re"
   ]
  }
 ],
 "metadata": {
  "kernelspec": {
   "display_name": "Python 3",
   "language": "python",
   "name": "python3"
  },
  "language_info": {
   "codemirror_mode": {
    "name": "ipython",
    "version": 3
   },
   "file_extension": ".py",
   "mimetype": "text/x-python",
   "name": "python",
   "nbconvert_exporter": "python",
   "pygments_lexer": "ipython3",
   "version": "3.8.5"
  }
 },
 "nbformat": 4,
 "nbformat_minor": 4
}

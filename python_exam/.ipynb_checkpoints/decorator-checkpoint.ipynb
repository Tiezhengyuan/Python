{
 "cells": [
  {
   "cell_type": "code",
   "execution_count": null,
   "metadata": {},
   "outputs": [],
   "source": []
  },
  {
   "cell_type": "markdown",
   "metadata": {},
   "source": [
    "# decorator\n",
    "A design pattern that describes the structure of related objects. Decorator enable to modify the behaviour of a function, emthod, or class by wrapping another callable object. \n",
    "1. Decorating function returns a function that could be called later\n",
    "2. Decorating function can act as argument of a decorated function, and perform addtional actions.\n",
    "3. decorators reyl on closures, *args, **kwargs\n"
   ]
  },
  {
   "cell_type": "markdown",
   "metadata": {},
   "source": [
    "## basic\n",
    "function decorator"
   ]
  },
  {
   "cell_type": "markdown",
   "metadata": {},
   "source": [
    "### function decorator\n",
    "when func() is later called, it invokes the wrapper function returned by decorator. therefore the wrapper function then run the original func"
   ]
  },
  {
   "cell_type": "code",
   "execution_count": null,
   "metadata": {},
   "outputs": [],
   "source": [
    "def warehouse_decorator(material):\n",
    "    def wrapper(our_function):\n",
    "        def internal_wrapper(*args):\n",
    "            print('<strong>*</strong> Wrapping items from {} with {}'\\\n",
    "                  .format(our_function.__name__, material))\n",
    "            our_function(*args)\n",
    "            print()\n",
    "        return internal_wrapper\n",
    "    return wrapper\n",
    "\n",
    "\n",
    "@warehouse_decorator('kraft')\n",
    "def pack_books(*args):\n",
    "    print(\"We'll pack books:\", args)\n",
    "\n",
    "\n",
    "@warehouse_decorator('foil')\n",
    "def pack_toys(*args):\n",
    "    print(\"We'll pack toys:\", args)\n",
    "\n",
    "\n",
    "pack_books('Alice in Wonderland', 'Winnie the Pooh')\n",
    "pack_toys('doll', 'car')"
   ]
  },
  {
   "cell_type": "code",
   "execution_count": 4,
   "metadata": {},
   "outputs": [
    {
     "name": "stdout",
     "output_type": "stream",
     "text": [
      "begin to calculate\n",
      "addition= 7\n"
     ]
    }
   ],
   "source": [
    "#pattern 1: function + function\n",
    "def decorator(func):\n",
    "    def wrapper(*args):\n",
    "        print(\"begin to calculate\")\n",
    "        func(*args)\n",
    "    return wrapper\n",
    "\n",
    "@decorator\n",
    "def add(a,b):\n",
    "    total=a+b\n",
    "    print(\"addition=\", total)\n",
    "    return total\n",
    "\n",
    "add(3,4)\n",
    "    "
   ]
  },
  {
   "cell_type": "code",
   "execution_count": 5,
   "metadata": {},
   "outputs": [
    {
     "name": "stdout",
     "output_type": "stream",
     "text": [
      "begin to calculate\n",
      "addition= 7\n"
     ]
    }
   ],
   "source": [
    "#pattern 2: class + function\n",
    "class decorator:\n",
    "    def __init__(self, func):\n",
    "        self.func =func\n",
    "        \n",
    "    def __call__(self, *args):\n",
    "        print(\"begin to calculate\")\n",
    "        self.func(*args)\n",
    "\n",
    "@decorator\n",
    "def add(a,b):\n",
    "    total=a+b\n",
    "    print(\"addition=\", total)\n",
    "    return total\n",
    "\n",
    "add(3,4)"
   ]
  },
  {
   "cell_type": "code",
   "execution_count": 75,
   "metadata": {},
   "outputs": [
    {
     "name": "stdout",
     "output_type": "stream",
     "text": [
      "begin to calculate\n",
      "addition= 7\n",
      "begin to calculate\n",
      "substraction= -1\n"
     ]
    }
   ],
   "source": [
    "#pattern 3: function + class-function\n",
    "def decorator(func):\n",
    "    def wrapper(*args):\n",
    "        print(\"begin to calculate\")\n",
    "        func(*args)\n",
    "    return wrapper\n",
    "\n",
    "class calculate:\n",
    "    \n",
    "    @decorator\n",
    "    def add(self, a,b):\n",
    "        total=a+b\n",
    "        print(\"addition=\", total)\n",
    "        return total\n",
    "    \n",
    "    @decorator\n",
    "    def sub(self, a,b):\n",
    "        total=a-b\n",
    "        print(\"substraction=\", total)\n",
    "        return total\n",
    "calculate().add(3,4)\n",
    "calculate().sub(3,4)"
   ]
  },
  {
   "cell_type": "markdown",
   "metadata": {},
   "source": [
    "### class decorator"
   ]
  },
  {
   "cell_type": "code",
   "execution_count": 18,
   "metadata": {},
   "outputs": [
    {
     "name": "stdout",
     "output_type": "stream",
     "text": [
      "begin to calculate  add\n",
      "addition= 7\n",
      "begin to calculate  sub\n",
      "substraction= -1\n"
     ]
    },
    {
     "data": {
      "text/plain": [
       "-1"
      ]
     },
     "execution_count": 18,
     "metadata": {},
     "output_type": "execute_result"
    }
   ],
   "source": [
    "#pattern 1: function+class\n",
    "def decorator(cls):\n",
    "    class wrapper:\n",
    "        def __init__(self, *args):\n",
    "            self.wrapped = cls(*args)\n",
    "        def __getattr__(self, name):\n",
    "            print(\"begin to calculate \", name)\n",
    "            return getattr(self.wrapped, name)\n",
    "    return wrapper\n",
    "\n",
    "@decorator\n",
    "class calculate:\n",
    "    def add(self, a,b):\n",
    "        total=a+b\n",
    "        print(\"addition=\", total)\n",
    "        return total\n",
    "\n",
    "    def sub(self, a,b):\n",
    "        total=a-b\n",
    "        print(\"substraction=\", total)\n",
    "        return total\n",
    "calculate().add(3,4)\n",
    "calculate().sub(3,4)"
   ]
  },
  {
   "cell_type": "code",
   "execution_count": 27,
   "metadata": {},
   "outputs": [
    {
     "name": "stdout",
     "output_type": "stream",
     "text": [
      "begin to calculate  add\n",
      "addition= 7\n",
      "begin to calculate  sub\n",
      "substraction= -1\n"
     ]
    },
    {
     "data": {
      "text/plain": [
       "-1"
      ]
     },
     "execution_count": 27,
     "metadata": {},
     "output_type": "execute_result"
    }
   ],
   "source": [
    "#pattern 2: class + class\n",
    "class decorator:\n",
    "    def __init__(self, C):\n",
    "        self.cls=C\n",
    "    def __call__(self, *args):\n",
    "        self.wrapped = self.cls(*args)\n",
    "        return self\n",
    "    def __getattr__(self, name):\n",
    "        print(\"begin to calculate \", name)\n",
    "        return getattr(self.wrapped, name)\n",
    "\n",
    "@decorator\n",
    "class calculate:\n",
    "    def add(self, a,b):\n",
    "        total=a+b\n",
    "        print(\"addition=\", total)\n",
    "        return total\n",
    "\n",
    "    def sub(self, a,b):\n",
    "        total=a-b\n",
    "        print(\"substraction=\", total)\n",
    "        return total\n",
    "y=calculate()\n",
    "y.add(3,4)\n",
    "y.sub(3,4)"
   ]
  },
  {
   "cell_type": "markdown",
   "metadata": {},
   "source": [
    "### nested decorator"
   ]
  },
  {
   "cell_type": "code",
   "execution_count": null,
   "metadata": {},
   "outputs": [],
   "source": []
  },
  {
   "cell_type": "markdown",
   "metadata": {},
   "source": [
    "### add arguments into decorator"
   ]
  },
  {
   "cell_type": "code",
   "execution_count": null,
   "metadata": {},
   "outputs": [],
   "source": []
  },
  {
   "cell_type": "markdown",
   "metadata": {},
   "source": [
    "## validation of arguments"
   ]
  },
  {
   "cell_type": "markdown",
   "metadata": {},
   "source": [
    "### decorator is function, which decorate function"
   ]
  },
  {
   "cell_type": "code",
   "execution_count": null,
   "metadata": {},
   "outputs": [],
   "source": [
    "\n",
    "def is_natural(func):\n",
    "    def wrapper_func(x):\n",
    "        if isinstance(x, int) and x>0:\n",
    "            return func(x)\n",
    "        else:\n",
    "            raise Exception(\"error\")\n",
    "    return wrapper_func\n",
    "\n",
    "@is_natural\n",
    "def factorial(n):\n",
    "    if n==1:\n",
    "        return 1\n",
    "    else:\n",
    "        return n*factorial(n-1)\n",
    "\n",
    "print(factorial(10))\n",
    "#print(factorial(-10))"
   ]
  },
  {
   "cell_type": "code",
   "execution_count": null,
   "metadata": {},
   "outputs": [],
   "source": [
    "import logging\n",
    "def check_evs(func):\n",
    "    def wrapper_func(*args):\n",
    "        if len(args)==0:\n",
    "            raise Exception(\"No evs_item\")\n",
    "\n",
    "        evs_item = args[0]\n",
    "        #print(evs_item)\n",
    "        if isinstance(evs_item, dict):\n",
    "            if evs_item == {}:\n",
    "                logging.info(\"empty data\")\n",
    "            return func(evs_item)\n",
    "        else:\n",
    "            logging.info(\"wrong type of evs_item\")\n",
    "            return \"Unknown\"\n",
    "    return wrapper_func\n",
    "\n",
    "@check_evs\n",
    "def get_id(evs_item):\n",
    "    return evs_item.get('id')\n",
    "\n",
    "print(get_id({'id':45}))\n",
    "print(get_id({'name':45}))\n",
    "print(get_id({}))\n",
    "print(get_id(34))\n",
    "#print(get_id())\n"
   ]
  },
  {
   "cell_type": "markdown",
   "metadata": {},
   "source": [
    "### decorator is function, decorating class"
   ]
  },
  {
   "cell_type": "code",
   "execution_count": 74,
   "metadata": {},
   "outputs": [
    {
     "name": "stdout",
     "output_type": "stream",
     "text": [
      "{}\n",
      "wrong data type of orgs: wrong_orgs\n",
      "wrong data type of orgs: wrong_orgs\n",
      "{'orgs': 'wrong_orgs'}\n"
     ]
    }
   ],
   "source": [
    "import logging\n",
    "def check_orgs(cls):\n",
    "    class wrapper:\n",
    "        def __init__(self, *args):\n",
    "            self.data = args[0]\n",
    "            self.wrapped = cls(self.data)\n",
    "            \n",
    "        def __getattr__(self,name):\n",
    "            if 'orgs' in self.data:\n",
    "                if isinstance(self.data['orgs'], dict):\n",
    "                    return getattr(self.wrapped, name)\n",
    "                else:\n",
    "                    print(f\"wrong data type of orgs: {self.data['orgs']}\")\n",
    "                    return self._bypass\n",
    "            else:\n",
    "                logging.info(f\"orgs doesn't exist\")\n",
    "                return self._bypass\n",
    "\n",
    "        @staticmethod\n",
    "        def _bypass(*args):\n",
    "            pass\n",
    "    \n",
    "    return wrapper\n",
    "\n",
    "@check_orgs\n",
    "class TrialEnrich:\n",
    "    def __init__(self, data):\n",
    "        self.data = data\n",
    "        \n",
    "    def raise_sponsor(self):\n",
    "        if 'sponsor' in self.data['orgs']:\n",
    "            self.data['sponsor'] = 'sponsor'\n",
    "            del self.data['orgs']['sponsor']\n",
    "\n",
    "    def current_status(self):\n",
    "        if 'status' in self.data['orgs']:\n",
    "            self.data['current']= self.data['orgs']['status'][0]\n",
    "\n",
    "def enrich(data):\n",
    "    r= TrialEnrich(data)\n",
    "    r.raise_sponsor()\n",
    "    r.current_status()\n",
    "    return r.data\n",
    "\n",
    "data={'orgs':{\n",
    "        'sponsor':'NIH',\n",
    "        'status':['active', 'closed']\n",
    "}}\n",
    "#res=enrich(data);print(res)\n",
    "res=enrich({});print(res)\n",
    "res=enrich({'orgs':'wrong_orgs'});print(res)"
   ]
  },
  {
   "cell_type": "markdown",
   "metadata": {},
   "source": [
    "## modification of arguments"
   ]
  },
  {
   "cell_type": "code",
   "execution_count": null,
   "metadata": {},
   "outputs": [],
   "source": [
    "#format time string\n",
    "def format_time(func):\n",
    "    def wrapper_func(*args):\n",
    "        try:\n",
    "            time1=int(args[0])\n",
    "            time2=int(args[1])\n",
    "            print(\"Two times:\", time1, time2)\n",
    "            return func(time1, time2)\n",
    "        except:\n",
    "            print(\"wrong time input\")\n",
    "    return wrapper_func\n",
    "\n",
    "def get_sec(time_str):\n",
    "    times = \"\"\n",
    "\n",
    "@format_time\n",
    "def time_sub(time1, time2):\n",
    "    return time2-time1\n",
    "\n",
    "@format_time\n",
    "def time_add(time1, time2):\n",
    "    return time2+time1\n",
    "\n",
    "\n",
    "print('time interval:', time_sub(4,3))\n",
    "print('accurated time:', time_add(4,10))\n",
    "print('wrong time:', time_add(4,'a'))\n",
    "\n"
   ]
  },
  {
   "cell_type": "markdown",
   "metadata": {},
   "source": [
    "## modification of returned objects"
   ]
  },
  {
   "cell_type": "code",
   "execution_count": null,
   "metadata": {},
   "outputs": [],
   "source": [
    "def simple_hello():\n",
    "    print(\"hello\")\n",
    "\n",
    "#decorator\n",
    "def hello(func):\n",
    "    print(f\" good {func.__name__}\")\n",
    "    return func\n",
    "\n",
    "dec = hello(simple_hello)\n",
    "dec()\n",
    "\n",
    "@hello\n",
    "def simple_hello():\n",
    "    print(\"hello\")\n",
    "\n",
    "def hello(func):\n",
    "    print(f\" good {func.__name__}\")\n",
    "    return func\n",
    "\n",
    "simple_hello()"
   ]
  },
  {
   "cell_type": "markdown",
   "metadata": {},
   "source": [
    "\n",
    "\n",
    "\n",
    "\n",
    "measurement of execution time\n",
    "\n",
    "message logging\n",
    "\n",
    "thread synochronization\n",
    "\n",
    "code refactorization\n",
    "\n",
    "caching\n",
    "\n"
   ]
  },
  {
   "cell_type": "code",
   "execution_count": null,
   "metadata": {},
   "outputs": [],
   "source": []
  }
 ],
 "metadata": {
  "kernelspec": {
   "display_name": "Python 3",
   "language": "python",
   "name": "python3"
  },
  "language_info": {
   "codemirror_mode": {
    "name": "ipython",
    "version": 3
   },
   "file_extension": ".py",
   "mimetype": "text/x-python",
   "name": "python",
   "nbconvert_exporter": "python",
   "pygments_lexer": "ipython3",
   "version": "3.8.5"
  }
 },
 "nbformat": 4,
 "nbformat_minor": 4
}

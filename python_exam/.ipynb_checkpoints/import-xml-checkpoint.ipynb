{
 "cells": [
  {
   "cell_type": "markdown",
   "metadata": {},
   "source": [
    "# import XML\n",
    "XML is a language.\n",
    "XML comment is <!--  -->\n",
    "in XML file, simple elements could be"
   ]
  },
  {
   "cell_type": "markdown",
   "metadata": {},
   "source": [
    "DTD is document type definition, defines the structure and legal elements and attributes of an XML \n",
    "\n",
    "<?xml version=\"1.0\"?>   \n",
    "<!DOCTYPE note SYSTEM \"note.dtd\"> \n",
    "<note>   \n",
    "  <to>Tove</to> \n",
    "  <from>Jani</from>\n",
    "  <heading>Reminder</heading>\n",
    "  <body id=\"mytext\">Don't forget me this weekend!</body>\n",
    "</note>\n",
    "\n",
    "\n",
    "---prolog: <?xml version=\"1.0\"?> \n",
    " -- root element with close tag: <note></note>\n",
    " -- elements : like <to></to>\n",
    " --attributes: id=\"mytext\"\n",
    " \n",
    " A XML document could include prolog, root element, elements, attributes, text etc. Only single root element should exists, and others are optional.\n",
    " "
   ]
  },
  {
   "cell_type": "markdown",
   "metadata": {},
   "source": [
    "## xml.etree.ElementTree\n",
    "API for analyzing and creating XML data.\n",
    "\n",
    "parse XML document\n",
    "1. parse()\n",
    "tree = et.parse(<file>) \n",
    "root = tree.getRoot()\n",
    "2. fromstring()\n",
    "\n",
    "root.fetchall() -> entire data\n",
    "root.iter() -> iterator\n",
    "root.findall() : \n",
    "root.find()"
   ]
  },
  {
   "cell_type": "code",
   "execution_count": 3,
   "metadata": {},
   "outputs": [
    {
     "name": "stdout",
     "output_type": "stream",
     "text": [
      "root tag is  data\n",
      "get all children elements:\n",
      "children: tag=book,attribute={'title': 'The Little Prince'},autho=Antoine de Saint-Exupéry\n",
      "children: tag=book,attribute={'title': 'Hamlet'},autho=William Shakespeare\n"
     ]
    }
   ],
   "source": [
    "import xml.etree.ElementTree as et\n",
    "\n",
    "#create elementTree object\n",
    "tree = et.parse('books.xml')\n",
    "#get root element\n",
    "books = tree.getroot()\n",
    "print(\"root tag is \", books.tag)\n",
    "print(\"get all children elements:\")\n",
    "for i in books:\n",
    "    print(f\"children: tag={i.tag},attribute={i.attrib},autho={i[0].text}\")\n",
    "\n",
    "\n"
   ]
  },
  {
   "cell_type": "code",
   "execution_count": 8,
   "metadata": {},
   "outputs": [
    {
     "name": "stdout",
     "output_type": "stream",
     "text": [
      "data\n",
      "{}\n"
     ]
    }
   ],
   "source": [
    "import xml.etree.ElementTree as et\n",
    "root = et.fromstring(\"<data/>\")\n",
    "print(root.tag)\n",
    "print(root.attrib)"
   ]
  },
  {
   "cell_type": "code",
   "execution_count": null,
   "metadata": {},
   "outputs": [],
   "source": [
    "\n",
    "#iter() return one level children elements by tag name\n",
    "for au in books.iter('author'):\n",
    "    print(f\"author={au.text}\")\n",
    "\n",
    "#get closet children of the root element\n",
    "for book in books.findall('book'):\n",
    "    print(f\"book: attr={book.get('title')}\")\n",
    "\n",
    "#first children element containg book tag\n",
    "print(books.find('book').get('title'))\n",
    "    \n",
    "\n",
    "    \n",
    "#if car.find('brand').text == 'Ford' and car.find('model').text == 'Mustang':\n",
    "    #    cars_for_sale.remove(car)\n",
    "    #    break\n"
   ]
  },
  {
   "cell_type": "code",
   "execution_count": null,
   "metadata": {},
   "outputs": [],
   "source": [
    "#write to xml\n",
    "new_car = et.Element('car')\n",
    "et.SubElement(new_car, 'id').text = '4'\n",
    "et.SubElement(new_car, 'brand').text = 'Maserati'\n",
    "et.SubElement(new_car, 'model').text = 'Mexico'\n",
    "et.SubElement(new_car, 'production_year').text = '1970'\n",
    "et.SubElement(new_car, 'price', {'currency': 'EUR'}).text = '61800'\n",
    "cars_for_sale.append(new_car)\n",
    "tree.write('newcars.xml', method='')"
   ]
  },
  {
   "cell_type": "code",
   "execution_count": null,
   "metadata": {},
   "outputs": [],
   "source": []
  },
  {
   "cell_type": "markdown",
   "metadata": {},
   "source": [
    "## modify xml\n"
   ]
  },
  {
   "cell_type": "code",
   "execution_count": 27,
   "metadata": {},
   "outputs": [
    {
     "name": "stdout",
     "output_type": "stream",
     "text": [
      "done\n"
     ]
    }
   ],
   "source": [
    "import xml.etree.ElementTree as et\n",
    "\n",
    "\n",
    "tree = et.parse('books.xml')\n",
    "root = tree.getroot()\n",
    "\n",
    "for book in root.iter():\n",
    "    #print('tag:', book.tag)\n",
    "    #print('attribute:', book.attrib)\n",
    "    #print('txt:', book.text)\n",
    "    #update attribute\n",
    "    if book.tag == 'data':\n",
    "        book.set('id', 'books')\n",
    "    elif book.tag == 'book':\n",
    "        book.set('id', book.get('title'))\n",
    "    elif book.tag == 'author':\n",
    "        book.set('background', 'red')\n",
    "\n",
    "    #create element\n",
    "    if book.tag == 'book':\n",
    "        publisher = et.Element('publisher')\n",
    "        book.append(publisher)\n",
    "        #\n",
    "        name = et.Element('name')\n",
    "        name.set('name', 'Elasa')\n",
    "        name.text = 'Elasa'\n",
    "        publisher.append(name)\n",
    "        #\n",
    "        address = et.Element('address')\n",
    "        address.set('id', 'address')\n",
    "        address.text ='345 Dr'\n",
    "        publisher.insert(0, address)\n",
    "\n",
    "tree.write(\"books2.xml\", \"UTF-8\", True)\n",
    "print(\"done\")"
   ]
  },
  {
   "cell_type": "markdown",
   "metadata": {},
   "source": [
    "## create a xml\n",
    "et.Element\n",
    "et.SubElement\n",
    "\n",
    "Note: all value should string type"
   ]
  },
  {
   "cell_type": "code",
   "execution_count": 62,
   "metadata": {},
   "outputs": [
    {
     "name": "stdout",
     "output_type": "stream",
     "text": [
      "<shop><category name=\"VeganProducts\"><product name=\"Good Morning Sunshine\"><type>cereals</type><producer>OpenEDG Testing Service</producer><price>9.90</price><currency>USD</currency></product><product name=\"Spaghetti Veganietto\"><type>pasta</type><producer>Programmers Eat Pasta</producer><price>15.49</price><currency>EUR</currency></product><product name=\"Fantastic Almond Milk\"><type>beverages</type><producer>Drinks4Coders Inc.</producer><price>19.75</price><currency>USD</currency></product></category></shop>\n"
     ]
    }
   ],
   "source": [
    "\n",
    "import xml.etree.ElementTree as et\n",
    "\n",
    "\n",
    "root = et.Element('shop')\n",
    "category = et.SubElement(root, 'category', {'name': 'VeganProducts'})\n",
    "\n",
    "data = {\n",
    "        \"Good Morning Sunshine\": (\"cereals\", \n",
    "         \"OpenEDG Testing Service\", '9.90', 'USD'),\n",
    "        \"Spaghetti Veganietto\": ('pasta', \n",
    "         'Programmers Eat Pasta', '15.49', 'EUR'),\n",
    "        \"Fantastic Almond Milk\": ('beverages',\n",
    "        'Drinks4Coders Inc.', '19.75', 'USD')\n",
    "}\n",
    "for name in data:\n",
    "    product = et.SubElement(category, 'product', {'name': name})\n",
    "    sub = zip(['type', 'producer', 'price', 'currency'], data[name])\n",
    "    for a, b in sub:\n",
    "        c = et.SubElement(product, a)\n",
    "        c.text = b\n",
    "\n",
    "#print\n",
    "et.dump(root)\n",
    "\n",
    "tree = et.ElementTree(root)\n",
    "tree.write('shops.xml', 'UTF-8', True)\n",
    "\n"
   ]
  },
  {
   "cell_type": "code",
   "execution_count": null,
   "metadata": {},
   "outputs": [],
   "source": [
    "\n"
   ]
  },
  {
   "cell_type": "markdown",
   "metadata": {},
   "source": [
    "## xml.dom.minidom\n",
    "Document Object Model\n"
   ]
  },
  {
   "cell_type": "code",
   "execution_count": null,
   "metadata": {},
   "outputs": [],
   "source": [
    "import xml.etree.ElementTree as et\n",
    "from xml.dom import minidom\n",
    "\n",
    "root = et.Element('shop')\n",
    "category = et.SubElement(root, 'category', {'name': 'VeganProducts'})\n",
    "\n",
    "data = [\n",
    "        (\"Good Morning Sunshine\", \"cereals\", \n",
    "         \"OpenEDG Testing Service\", '9.90', 'USD'),\n",
    "        (\"Spaghetti Veganietto\", 'pasta', \n",
    "         'Programmers Eat Pasta', '15.49', 'EUR'),\n",
    "        (\"Fantastic Almond Milk\", 'beverages',\n",
    "        'Drinks4Coders Inc.', '19.75', 'USD')\n",
    "    ]\n",
    "for name, type, producer, price, currency in data:\n",
    "    product = et.SubElement(category, 'product', {'name': name})\n",
    "    type = et.SubElement(product, 'type')\n",
    "    type.text = type\n",
    "#print\n",
    "et.dump(root)\n",
    "\n",
    "doc = minidom.Document()\n",
    "root = doc.createElement('data')\n",
    "root.append(root)\n",
    "print(et.tostring(root))\n",
    "#with open('shops.xml', 'w') as outfile:\n",
    "#    outfile.write(et.tostring(root))\n",
    "#et.tostring(root)\n",
    "#root.write(\"shop.xml\", \"UTF-8\", True)"
   ]
  },
  {
   "cell_type": "markdown",
   "metadata": {},
   "source": [
    "## xml.sax\n",
    "simple API for XML interfce for event-driven XML document analysis."
   ]
  },
  {
   "cell_type": "code",
   "execution_count": null,
   "metadata": {},
   "outputs": [],
   "source": []
  },
  {
   "cell_type": "markdown",
   "metadata": {},
   "source": [
    "# Errors"
   ]
  },
  {
   "cell_type": "code",
   "execution_count": null,
   "metadata": {},
   "outputs": [],
   "source": [
    "#rate value should be string type\n",
    "import xml.etree.ElementTree as et\n",
    "\n",
    "root = et.Element('data')\n",
    "movie_1 = et.SubElement(root, 'movie', {'title': 'The Little Prince', 'rate': 5})\n",
    "movie_2 = et.SubElement(root, 'movie', {'title': 'Hamlet'})\n",
    "ET.dump(root)"
   ]
  }
 ],
 "metadata": {
  "kernelspec": {
   "display_name": "Python 3",
   "language": "python",
   "name": "python3"
  },
  "language_info": {
   "codemirror_mode": {
    "name": "ipython",
    "version": 3
   },
   "file_extension": ".py",
   "mimetype": "text/x-python",
   "name": "python",
   "nbconvert_exporter": "python",
   "pygments_lexer": "ipython3",
   "version": "3.8.5"
  }
 },
 "nbformat": 4,
 "nbformat_minor": 4
}

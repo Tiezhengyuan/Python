{
 "cells": [
  {
   "cell_type": "markdown",
   "metadata": {},
   "source": [
    "# SQLite\n",
    "build-in library (python>2.5) is sqlite3 (DB-API 2.0 specification described by PEP249)"
   ]
  },
  {
   "cell_type": "markdown",
   "metadata": {},
   "source": [
    "## database\n",
    "create/connect, delete a database"
   ]
  },
  {
   "cell_type": "code",
   "execution_count": 22,
   "metadata": {},
   "outputs": [],
   "source": [
    "import sqlite3 as db\n",
    "\n",
    "#create a database\n",
    "#create a database file known as \"hello.db\"\n",
    "#connect this database if the file exists\n",
    "conn = db.connect('hello.db')\n",
    "conn.commit()\n",
    "conn.close()\n",
    "\n",
    "#create a database in memory\n",
    "conn = db.connect(\":memory:\")"
   ]
  },
  {
   "cell_type": "markdown",
   "metadata": {},
   "source": [
    "## table\n",
    "create, delete a table\n",
    "add one/multiple items, list items"
   ]
  },
  {
   "cell_type": "code",
   "execution_count": 1,
   "metadata": {},
   "outputs": [],
   "source": [
    "import sqlite3\n",
    "\n",
    "conn = sqlite3.connect('todo.db')\n",
    "#the cursor object execute any SQL statement\n",
    "c = conn.cursor()"
   ]
  },
  {
   "cell_type": "code",
   "execution_count": 43,
   "metadata": {},
   "outputs": [],
   "source": [
    "conn.commit()\n",
    "conn.close()"
   ]
  },
  {
   "cell_type": "code",
   "execution_count": 23,
   "metadata": {},
   "outputs": [
    {
     "name": "stdout",
     "output_type": "stream",
     "text": [
      "table tasks already exists\n"
     ]
    }
   ],
   "source": [
    "#create a table\n",
    "#excecute() execute SQL statement \"CREATE TABLE\"\n",
    "try:\n",
    "    c.execute('''\n",
    "        CREATE TABLE tasks (\n",
    "            id INTEGER PRIMARY KEY,\n",
    "            name TEXT NOT NULL,\n",
    "            priority INTEGER NOT NULL\n",
    "        );\n",
    "    ''')\n",
    "except sqlite3.OperationalError as e:\n",
    "    print(str(e))"
   ]
  },
  {
   "cell_type": "code",
   "execution_count": 8,
   "metadata": {},
   "outputs": [
    {
     "data": {
      "text/plain": [
       "<sqlite3.Cursor at 0x5eae9e0>"
      ]
     },
     "execution_count": 8,
     "metadata": {},
     "output_type": "execute_result"
    }
   ],
   "source": [
    "#insert one item\n",
    "c.execute('INSERT INTO tasks (name, priority) VALUES (?,?);', \n",
    "    ('Cary', 1))\n"
   ]
  },
  {
   "cell_type": "code",
   "execution_count": 23,
   "metadata": {},
   "outputs": [
    {
     "ename": "OperationalError",
     "evalue": "database is locked",
     "output_type": "error",
     "traceback": [
      "\u001b[1;31m---------------------------------------------------------------------------\u001b[0m",
      "\u001b[1;31mOperationalError\u001b[0m                          Traceback (most recent call last)",
      "\u001b[1;32m<ipython-input-23-41247e018d6f>\u001b[0m in \u001b[0;36m<module>\u001b[1;34m\u001b[0m\n\u001b[0;32m      5\u001b[0m     \u001b[1;33m(\u001b[0m\u001b[1;34m'My third task'\u001b[0m\u001b[1;33m,\u001b[0m \u001b[1;36m10\u001b[0m\u001b[1;33m)\u001b[0m\u001b[1;33m,\u001b[0m\u001b[1;33m\u001b[0m\u001b[1;33m\u001b[0m\u001b[0m\n\u001b[0;32m      6\u001b[0m ]\n\u001b[1;32m----> 7\u001b[1;33m \u001b[0mc\u001b[0m\u001b[1;33m.\u001b[0m\u001b[0mexecutemany\u001b[0m\u001b[1;33m(\u001b[0m\u001b[1;34m'INSERT INTO tasks (name, priority) VALUES (?,?)'\u001b[0m\u001b[1;33m,\u001b[0m \u001b[0mtasks\u001b[0m\u001b[1;33m)\u001b[0m\u001b[1;33m\u001b[0m\u001b[1;33m\u001b[0m\u001b[0m\n\u001b[0m",
      "\u001b[1;31mOperationalError\u001b[0m: database is locked"
     ]
    }
   ],
   "source": [
    "#insert many items \n",
    "tasks = [\n",
    "    ('My first task', 1),\n",
    "    ('My second task', 5),\n",
    "    ('My third task', 10),\n",
    "]\n",
    "c.executemany('INSERT INTO tasks (name, priority) VALUES (?,?)', tasks)"
   ]
  },
  {
   "cell_type": "code",
   "execution_count": 6,
   "metadata": {},
   "outputs": [],
   "source": []
  },
  {
   "cell_type": "code",
   "execution_count": 7,
   "metadata": {},
   "outputs": [
    {
     "name": "stdout",
     "output_type": "stream",
     "text": [
      "(1, 'cary', 3)\n",
      "(2, 'north', 4)\n",
      "(3, 'south', 1)\n",
      "(4, 'east', 3)\n",
      "(1, 'cary')\n",
      "(2, 'north')\n",
      "(3, 'south')\n",
      "(4, 'east')\n",
      "(1, 'cary')\n"
     ]
    }
   ],
   "source": [
    "# list items\n",
    "items = c.execute('SELECT * FROM tasks;')\n",
    "for row in items:\n",
    "    print(row)\n",
    "    \n",
    "items = c.execute('SELECT id,name FROM tasks;')\n",
    "for row in items:\n",
    "    print(row)\n",
    "\n",
    "\n"
   ]
  },
  {
   "cell_type": "code",
   "execution_count": 31,
   "metadata": {},
   "outputs": [
    {
     "name": "stdout",
     "output_type": "stream",
     "text": [
      "(1, 'cary')\n",
      "(1, 'cary')\n",
      "(1, 'cary')\n",
      "(1, 'cary')\n",
      "(1, 'cary')\n",
      "(1, 'cary')\n",
      "(1, 'cary')\n"
     ]
    }
   ],
   "source": [
    "#Note the patterns below are equal\n",
    "items = c.execute(\"SELECT id,name FROM tasks WHERE name='%s'\" % 'cary')\n",
    "for row in items:\n",
    "    print(row)\n",
    "\n",
    "items = c.execute(\"SELECT id,name FROM tasks WHERE name=?\", ('cary',) )\n",
    "for row in items:\n",
    "    print(row)\n",
    "\n",
    "items = c.execute('SELECT id,name FROM tasks WHERE name=?', ('cary',) )\n",
    "for row in items:\n",
    "    print(row)\n",
    "\n",
    "items = c.execute('''\n",
    "    SELECT id,name FROM tasks WHERE name=?\n",
    "''', ('cary',) )\n",
    "for row in items:\n",
    "    print(row)\n",
    "\n",
    "myname = 'cary'\n",
    "items = c.execute(\"SELECT id,name FROM tasks WHERE name=?\", (myname,) )\n",
    "for row in items:\n",
    "    print(row)\n",
    "\n",
    "myname = 'cary'\n",
    "items = c.execute(\"SELECT id,name FROM tasks WHERE name=:myname\", \n",
    "        {\"myname\":myname} )\n",
    "for row in items:\n",
    "    print(row)\n",
    "    \n",
    "mytable = 'tasks'\n",
    "myname='cary'\n",
    "query = f\"SELECT id, name FROM {mytable} WHERE name=?\"\n",
    "items = c.execute(query, (myname,))\n",
    "for row in items.fetchall():\n",
    "    print(row)\n"
   ]
  },
  {
   "cell_type": "markdown",
   "metadata": {},
   "source": [
    "### where conditions"
   ]
  },
  {
   "cell_type": "code",
   "execution_count": 22,
   "metadata": {},
   "outputs": [
    {
     "name": "stdout",
     "output_type": "stream",
     "text": [
      "(1, 'cary')\n"
     ]
    }
   ],
   "source": [
    "#exact match\n",
    "query = f\"SELECT id, name FROM tasks WHERE name=?\"\n",
    "items = c.execute(query, ('cary',))\n",
    "for row in items.fetchall():\n",
    "    print(row)"
   ]
  },
  {
   "cell_type": "code",
   "execution_count": 24,
   "metadata": {},
   "outputs": [
    {
     "name": "stdout",
     "output_type": "stream",
     "text": [
      "(1,)\n"
     ]
    }
   ],
   "source": [
    "query = f\"SELECT ?\"\n",
    "items = c.execute(query, (1,))\n",
    "for row in items.fetchall():\n",
    "    print(row)"
   ]
  },
  {
   "cell_type": "code",
   "execution_count": 34,
   "metadata": {},
   "outputs": [
    {
     "name": "stdout",
     "output_type": "stream",
     "text": [
      "(2, 'north')\n",
      "(3, 'south')\n"
     ]
    }
   ],
   "source": [
    "#partial match\n",
    "query = f\"SELECT id, name FROM tasks WHERE name LIKE ? \"\n",
    "items = c.execute(query, (\"%o%\",))\n",
    "for row in items.fetchall():\n",
    "    print(row)"
   ]
  },
  {
   "cell_type": "code",
   "execution_count": 35,
   "metadata": {},
   "outputs": [
    {
     "name": "stdout",
     "output_type": "stream",
     "text": [
      "(2, 'north')\n"
     ]
    }
   ],
   "source": [
    "#AND boolean\n",
    "query = f\"SELECT id, name FROM tasks WHERE name LIKE ? AND priority > ?\"\n",
    "items = c.execute(query, ('%o%',2))\n",
    "for row in items.fetchall():\n",
    "    print(row)"
   ]
  },
  {
   "cell_type": "code",
   "execution_count": null,
   "metadata": {},
   "outputs": [],
   "source": []
  },
  {
   "cell_type": "code",
   "execution_count": null,
   "metadata": {},
   "outputs": [],
   "source": []
  },
  {
   "cell_type": "markdown",
   "metadata": {},
   "source": [
    "### order"
   ]
  },
  {
   "cell_type": "code",
   "execution_count": 28,
   "metadata": {},
   "outputs": [
    {
     "name": "stdout",
     "output_type": "stream",
     "text": [
      "(1, 'cary', 3)\n",
      "(4, 'east', 3)\n",
      "(2, 'north', 4)\n",
      "(3, 'south', 1)\n",
      "(1, 'cary', 3)\n",
      "(4, 'east', 3)\n",
      "(2, 'north', 4)\n",
      "(3, 'south', 1)\n"
     ]
    }
   ],
   "source": [
    "query = f\"SELECT * FROM tasks order by name\"\n",
    "items = c.execute(query)\n",
    "for row in items.fetchall():\n",
    "    print(row)\n",
    "\n",
    "query = f\"SELECT * FROM tasks order by name ASC\"\n",
    "items = c.execute(query)\n",
    "for row in items.fetchall():\n",
    "    print(row)"
   ]
  },
  {
   "cell_type": "code",
   "execution_count": 30,
   "metadata": {},
   "outputs": [
    {
     "name": "stdout",
     "output_type": "stream",
     "text": [
      "(3, 'south', 1)\n",
      "(4, 'east', 3)\n",
      "(1, 'cary', 3)\n",
      "(2, 'north', 4)\n"
     ]
    }
   ],
   "source": [
    "query = f\"SELECT * FROM tasks order by priority ASC, name DESC\"\n",
    "items = c.execute(query)\n",
    "for row in items.fetchall():\n",
    "    print(row)"
   ]
  },
  {
   "cell_type": "code",
   "execution_count": null,
   "metadata": {},
   "outputs": [],
   "source": []
  },
  {
   "cell_type": "code",
   "execution_count": null,
   "metadata": {},
   "outputs": [],
   "source": []
  },
  {
   "cell_type": "code",
   "execution_count": null,
   "metadata": {},
   "outputs": [],
   "source": []
  },
  {
   "cell_type": "code",
   "execution_count": null,
   "metadata": {},
   "outputs": [],
   "source": []
  },
  {
   "cell_type": "code",
   "execution_count": null,
   "metadata": {},
   "outputs": [],
   "source": []
  },
  {
   "cell_type": "markdown",
   "metadata": {},
   "source": [
    "# wrong syntax"
   ]
  },
  {
   "cell_type": "code",
   "execution_count": 14,
   "metadata": {},
   "outputs": [
    {
     "ename": "SyntaxError",
     "evalue": "EOL while scanning string literal (<ipython-input-14-f13c0f14e4f6>, line 2)",
     "output_type": "error",
     "traceback": [
      "\u001b[1;36m  File \u001b[1;32m\"<ipython-input-14-f13c0f14e4f6>\"\u001b[1;36m, line \u001b[1;32m2\u001b[0m\n\u001b[1;33m    c.execute('\u001b[0m\n\u001b[1;37m               ^\u001b[0m\n\u001b[1;31mSyntaxError\u001b[0m\u001b[1;31m:\u001b[0m EOL while scanning string literal\n"
     ]
    }
   ],
   "source": [
    "# keep one line\n",
    "c.execute('\n",
    "    SELECT * FROM tasks;\n",
    "')"
   ]
  },
  {
   "cell_type": "code",
   "execution_count": 15,
   "metadata": {},
   "outputs": [
    {
     "ename": "SyntaxError",
     "evalue": "EOL while scanning string literal (<ipython-input-15-024f6e79927c>, line 1)",
     "output_type": "error",
     "traceback": [
      "\u001b[1;36m  File \u001b[1;32m\"<ipython-input-15-024f6e79927c>\"\u001b[1;36m, line \u001b[1;32m1\u001b[0m\n\u001b[1;33m    c.execute('\u001b[0m\n\u001b[1;37m               ^\u001b[0m\n\u001b[1;31mSyntaxError\u001b[0m\u001b[1;31m:\u001b[0m EOL while scanning string literal\n"
     ]
    }
   ],
   "source": [
    "#should use '''\n",
    "c.execute('\n",
    "        CREATE TABLE tasks (\n",
    "            id INTEGER PRIMARY KEY,\n",
    "            name TEXT NOT NULL,\n",
    "            priority INTEGER NOT NULL\n",
    "        );\n",
    "')"
   ]
  },
  {
   "cell_type": "code",
   "execution_count": null,
   "metadata": {},
   "outputs": [],
   "source": []
  }
 ],
 "metadata": {
  "kernelspec": {
   "display_name": "Python 3",
   "language": "python",
   "name": "python3"
  },
  "language_info": {
   "codemirror_mode": {
    "name": "ipython",
    "version": 3
   },
   "file_extension": ".py",
   "mimetype": "text/x-python",
   "name": "python",
   "nbconvert_exporter": "python",
   "pygments_lexer": "ipython3",
   "version": "3.8.5"
  }
 },
 "nbformat": 4,
 "nbformat_minor": 4
}

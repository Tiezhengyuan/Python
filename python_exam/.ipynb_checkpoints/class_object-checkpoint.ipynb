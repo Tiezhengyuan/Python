{
 "cells": [
  {
   "cell_type": "markdown",
   "metadata": {},
   "source": [
    "# class\n",
    "\n",
    "### class: an idea blueprint or recipe for an instance. \n",
    "\n",
    "A class usually consiste of attributes, and methods. Methods in class except static methods should be instantiated when it is used. \n",
    "'self' refers to class itself when the class is instantiated.\n",
    "\n",
    "### instance: instantiation of a class.\n",
    "It is common to claim multiple instances given a class. \n",
    "The behviours (methods) are the same but attributes are different, and methods are executed on object data.\n",
    "\n",
    "\n",
    "### object: representation of data, methods, or instances.\n",
    "\n",
    "Note: class is not object.\n",
    "\n",
    "### attribute: traits of a class or an object. \n",
    "That could be variables or methods.\n",
    "variables could be used at class level and instance level.\n",
    "class variables could store metadata before instantiation. Metadata is stored outside any class instance.\n",
    "\n",
    "### method: a function built in a class.\n",
    "\n",
    "\n",
    "### type: refers to the class that is used to instantiate an object.\n",
    "type is class defined by python. type is built-in class\n",
    "built-in types: number, string, list, dictionary, set, tuple,etc.\n",
    "It is ok to create customary type\n",
    "\n",
    "### variable\n",
    "class variable is defined in a class\n",
    "\n",
    "instance variable is owned by instance of a class. The value could differ from instance."
   ]
  },
  {
   "cell_type": "code",
   "execution_count": 3,
   "metadata": {},
   "outputs": [
    {
     "name": "stdout",
     "output_type": "stream",
     "text": [
      "<class 'type'>\n",
      "<class '__main__.Duck'>\n",
      "<class 'str'>\n",
      "<class 'NoneType'>\n",
      "<class 'method'>\n",
      "<class 'function'>\n"
     ]
    }
   ],
   "source": [
    "class Duck:\n",
    "    gender = None\n",
    "    \n",
    "    #constructor\n",
    "    def __init__(self, height, weight, sex):\n",
    "        self.height = height\n",
    "        self.weight = weight\n",
    "        self.sex = sex\n",
    "    \n",
    "    #methods\n",
    "    def walk(self):\n",
    "        pass\n",
    "\n",
    "    def quack(self):\n",
    "        return print('Quack')\n",
    "    \n",
    "    #function\n",
    "    @staticmethod\n",
    "    def listen(x):\n",
    "        return x\n",
    "  \n",
    "duckling = Duck(height=10, weight=3.4, sex=\"male\")\n",
    "drake = Duck(height=25, weight=3.7, sex=\"male\")\n",
    "hen = Duck(height=20, weight=3.4, sex=\"female\")\n",
    "\n",
    "print(Duck.__class__)\n",
    "#instance type residing in the __main__ scope\n",
    "print(duckling.__class__)\n",
    "print(duckling.sex.__class__)\n",
    "print(duckling.gender.__class__)\n",
    "print(duckling.quack.__class__)\n",
    "print(duckling.listen.__class__)"
   ]
  },
  {
   "cell_type": "code",
   "execution_count": 20,
   "metadata": {},
   "outputs": [
    {
     "name": "stdout",
     "output_type": "stream",
     "text": [
      "['__abs__', '__add__', '__and__', '__bool__', '__ceil__', '__class__', '__delattr__', '__dir__', '__divmod__', '__doc__', '__eq__', '__float__', '__floor__', '__floordiv__', '__format__', '__ge__', '__getattribute__', '__getnewargs__', '__gt__', '__hash__', '__index__', '__init__', '__init_subclass__', '__int__', '__invert__', '__le__', '__lshift__', '__lt__', '__mod__', '__mul__', '__ne__', '__neg__', '__new__', '__or__', '__pos__', '__pow__', '__radd__', '__rand__', '__rdivmod__', '__reduce__', '__reduce_ex__', '__repr__', '__rfloordiv__', '__rlshift__', '__rmod__', '__rmul__', '__ror__', '__round__', '__rpow__', '__rrshift__', '__rshift__', '__rsub__', '__rtruediv__', '__rxor__', '__setattr__', '__sizeof__', '__str__', '__sub__', '__subclasshook__', '__truediv__', '__trunc__', '__xor__', 'as_integer_ratio', 'bit_length', 'conjugate', 'denominator', 'from_bytes', 'imag', 'numerator', 'real', 'to_bytes']\n"
     ]
    }
   ],
   "source": [
    "#dir(object) returns list of object attributes\n",
    "a=10\n",
    "print(dir(a))"
   ]
  },
  {
   "cell_type": "code",
   "execution_count": 23,
   "metadata": {},
   "outputs": [
    {
     "name": "stdout",
     "output_type": "stream",
     "text": [
      "['__class__', '__delattr__', '__dict__', '__dir__', '__doc__', '__eq__', '__format__', '__ge__', '__getattribute__', '__gt__', '__hash__', '__init__', '__init_subclass__', '__le__', '__lt__', '__module__', '__ne__', '__new__', '__reduce__', '__reduce_ex__', '__repr__', '__setattr__', '__sizeof__', '__str__', '__subclasshook__', '__weakref__']\n",
      "['__class__', '__delattr__', '__dict__', '__dir__', '__doc__', '__eq__', '__format__', '__ge__', '__getattribute__', '__gt__', '__hash__', '__init__', '__init_subclass__', '__le__', '__lt__', '__module__', '__ne__', '__new__', '__reduce__', '__reduce_ex__', '__repr__', '__setattr__', '__sizeof__', '__str__', '__subclasshook__', '__weakref__']\n"
     ]
    }
   ],
   "source": [
    "class A:\n",
    "    pass\n",
    "a=A()\n",
    "print(dir(A))\n",
    "print(dir(a))"
   ]
  },
  {
   "cell_type": "markdown",
   "metadata": {},
   "source": [
    "## 1. built-in attributes\n",
    "Access attributes from outside: getattr(),setattr()\n",
    "Access attributes from inside: self...."
   ]
  },
  {
   "cell_type": "markdown",
   "metadata": {},
   "source": [
    "## \\_\\_init\\_\\_\n",
    "1. \\_\\_init\\_\\_ is like constructor in C++ or Java. It could initialize a class when a class is created\n",
    "2. double leading underscores means this is a special method in python,\n",
    "which is automaticall called when an object of the class is created. \n",
    "3. \\_\\_init\\_\\_ is optional. It should be created if it is n't clearly defined.\n",
    "4. \\_\\_init\\_\\_ has not return value"
   ]
  },
  {
   "cell_type": "code",
   "execution_count": 44,
   "metadata": {},
   "outputs": [
    {
     "name": "stdout",
     "output_type": "stream",
     "text": [
      "10\n",
      "20\n"
     ]
    }
   ],
   "source": [
    "class A:\n",
    "    def __init__(self,start):\n",
    "        self.start = start\n",
    "        print(self.start)\n",
    "        \n",
    "    def get_total(self):\n",
    "        return self.start*10\n",
    "\n",
    "#instance a class\n",
    "s1=A(10)\n",
    "s2=A(20)"
   ]
  },
  {
   "cell_type": "code",
   "execution_count": 54,
   "metadata": {},
   "outputs": [
    {
     "name": "stdout",
     "output_type": "stream",
     "text": [
      "True\n",
      "True\n",
      "True\n"
     ]
    }
   ],
   "source": [
    "class A:\n",
    "    pass\n",
    "class B(A):\n",
    "    pass\n",
    "\n",
    "# instance\n",
    "a1=A()\n",
    "a2=B()\n",
    "print(isinstance(a1,A))\n",
    "print(isinstance(a2,A))\n",
    "print(isinstance(a2,B))"
   ]
  },
  {
   "cell_type": "markdown",
   "metadata": {},
   "source": [
    "### \\_\\_name\\_\\_\n",
    "built-in variable defines the name of current script/module\n",
    "When a python script is executed,\n",
    "all codes will be executed from the top to end if there is not main(). __name__ define the entrance of a python script. As showed the code below,\n",
    "the main() will be executed. If the script is imported as a module,\n",
    "the main() will not be executed,\n",
    "but be imported as the module'name."
   ]
  },
  {
   "cell_type": "markdown",
   "metadata": {},
   "source": [
    "'''\n",
    "The script define entrance of a script\n",
    "'''\n",
    "#define a constant\n",
    "ABC = 32\n",
    "\n",
    "#define a function\n",
    "def main():\n",
    "    print(__name__)\n",
    "    return ABC\n",
    "\n",
    "if __name__ == \"__main__\":\n",
    "    main()"
   ]
  },
  {
   "cell_type": "markdown",
   "metadata": {},
   "source": [
    "### \\_\\_str\\_\\_\n",
    "convert python object to string type. \n",
    "compare the two approach showed the below:"
   ]
  },
  {
   "cell_type": "code",
   "execution_count": 12,
   "metadata": {},
   "outputs": [
    {
     "name": "stdout",
     "output_type": "stream",
     "text": [
      "<__main__.MyTest object at 0x05D19F88>\n",
      "__main__\n",
      "None\n"
     ]
    }
   ],
   "source": [
    "class MyTest():\n",
    "    def __init__(self,a,b):\n",
    "        self.a=a\n",
    "        self.b=b\n",
    "if __name__ == \"__main__\":\n",
    "    s=MyTest(3,4)\n",
    "    print(s)\n",
    "    print(s.__module__)\n",
    "    print(s.__doc__)\n"
   ]
  },
  {
   "cell_type": "code",
   "execution_count": 5,
   "metadata": {},
   "outputs": [
    {
     "name": "stdout",
     "output_type": "stream",
     "text": [
      "Input is 3 and 4.\n"
     ]
    }
   ],
   "source": [
    "#if the method __str__() is defined, print() could be used for displaying object.\n",
    "class MyTest():\n",
    "    def __init__(self,a,b):\n",
    "        self.a=a\n",
    "        self.b=b\n",
    "    \n",
    "    def __str__(self):\n",
    "        return f\"Input is {self.a} and {self.b}.\"\n",
    "\n",
    "if __name__ == \"__main__\":\n",
    "    s=MyTest(3,4)\n",
    "    print(s)\n"
   ]
  },
  {
   "cell_type": "markdown",
   "metadata": {},
   "source": [
    "### \\_\\_bases\\_\\_\n",
    "\\_\\_bases\\_\\_ is a tuple filled with the names of all the direct superclasses"
   ]
  },
  {
   "cell_type": "code",
   "execution_count": 27,
   "metadata": {},
   "outputs": [
    {
     "name": "stdout",
     "output_type": "stream",
     "text": [
      "(<class '__main__.A'>,\n",
      "<class '__main__.B'>)\n"
     ]
    }
   ],
   "source": [
    "class A:\n",
    "    pass\n",
    "\n",
    "class B:\n",
    "    pass\n",
    "\n",
    "class C(A,B):\n",
    "    pass\n",
    "\n",
    "print(C.__bases__)"
   ]
  },
  {
   "cell_type": "markdown",
   "metadata": {},
   "source": [
    "###  \\_\\_dict\\_\\_\n",
    "__dict__ acts like adictionary and combines all attributes and values defined in a class or instance of a class.\n",
    "Note: distinguish class variables and instance variables. They may be used at the same time but for different purposes.\n",
    "class variable could be updated by instance"
   ]
  },
  {
   "cell_type": "code",
   "execution_count": 9,
   "metadata": {},
   "outputs": [
    {
     "name": "stdout",
     "output_type": "stream",
     "text": [
      "{'a': 3}\n",
      "{'a': 3, 'var': {'b': 3}}\n"
     ]
    }
   ],
   "source": [
    "class A:\n",
    "    cache = {}\n",
    "    var = {'b':1}\n",
    "    \n",
    "    def __init__(self, a):\n",
    "        self.a=a\n",
    "        \n",
    "if __name__ ==\"__main__\":\n",
    "    s=A(3)\n",
    "    #store self.xxx\n",
    "    print(s.__dict__)\n",
    "    \n",
    "    s.var={'b':3}\n",
    "    print(s.__dict__)"
   ]
  },
  {
   "cell_type": "code",
   "execution_count": 16,
   "metadata": {},
   "outputs": [
    {
     "name": "stdout",
     "output_type": "stream",
     "text": [
      "No evs\n",
      "{'b': 1}\n",
      "{'__module__': '__main__', 'cache': {'c': 4}, 'var': {'b': 1}, '__init__': <function A.__init__ at 0x00CA69B8>, '__dict__': <attribute '__dict__' of 'A' objects>, '__weakref__': <attribute '__weakref__' of 'A' objects>, '__doc__': None}\n"
     ]
    }
   ],
   "source": [
    "class A:\n",
    "    cache = {}\n",
    "    var = {'b':1}\n",
    "    \n",
    "    def __init__(self, a):\n",
    "        self.a=a\n",
    "\n",
    "#check if attribute exists\n",
    "if not hasattr(A, \"evs\"):\n",
    "    print('No evs')\n",
    "#get a certain attribute\n",
    "print(getattr(A, 'var'))\n",
    "#create/update attributes\n",
    "setattr(A, 'cache', {'c':4})\n",
    "#get all attributes\n",
    "print(A.__dict__)"
   ]
  },
  {
   "cell_type": "code",
   "execution_count": 10,
   "metadata": {},
   "outputs": [
    {
     "name": "stdout",
     "output_type": "stream",
     "text": [
      "{}\n",
      "{'__module__': '__main__', 'myvar': 'good', '__dict__': <attribute '__dict__' of 'A' objects>, '__weakref__': <attribute '__weakref__' of 'A' objects>, '__doc__': None}\n",
      "{'myvar': 'not good', 'myvar2': 'bad'}\n",
      "{}\n"
     ]
    }
   ],
   "source": [
    "class A:\n",
    "    myvar = 'good'\n",
    "\n",
    "a = A()\n",
    "b = A()\n",
    "#don't display class level variables\n",
    "print(a.__dict__)\n",
    "#display class level variables\n",
    "print(A.__dict__)\n",
    "#update and create attribtutes of instance\n",
    "a.myvar=\"not good\"\n",
    "a.myvar2='bad'\n",
    "print(a.__dict__)\n",
    "\n",
    "#updates of class level variables and variables of other instance\n",
    "# will not impact on this instance\n",
    "A.myvar = \"very good\"\n",
    "print(b.__dict__)"
   ]
  },
  {
   "cell_type": "code",
   "execution_count": 17,
   "metadata": {},
   "outputs": [
    {
     "name": "stdout",
     "output_type": "stream",
     "text": [
      "class variable count= 1\n",
      "class variable count= 3\n",
      "instance variable count= 2\n",
      "instance variable count= 2\n"
     ]
    }
   ],
   "source": [
    "class duck:\n",
    "    count = 1\n",
    "    counter = 0\n",
    "    \n",
    "    def __init__(self, height, weight, sex):\n",
    "        self.height = height\n",
    "        self.weight = weight\n",
    "        self.sex = sex\n",
    "        self.count += 1 #this is instance variables\n",
    "        duck.counter += 1 # update class variables\n",
    "        \n",
    "d1= duck(3,4,5)\n",
    "d2=duck(6,7,8)\n",
    "d3=duck(3,4,4)\n",
    "print(\"class variable count=\", duck.count)\n",
    "print(\"class variable count=\", duck.counter)\n",
    "#two attributes have the same name 'count'\n",
    "print(\"instance variable count=\", d1.count)\n",
    "print(\"instance variable count=\", d2.count)"
   ]
  },
  {
   "cell_type": "markdown",
   "metadata": {},
   "source": [
    "## built-in class methods\n",
    "__instancecheck__(self, object)\n",
    "__subclasscheck__(self, object)\n",
    "__subclasshook__(self, objec)"
   ]
  },
  {
   "cell_type": "code",
   "execution_count": 215,
   "metadata": {},
   "outputs": [
    {
     "name": "stdout",
     "output_type": "stream",
     "text": [
      "False\n",
      "object is instance\n",
      "True\n",
      "object is instance\n",
      "True\n",
      "True\n",
      "True\n",
      "False\n",
      "True\n"
     ]
    }
   ],
   "source": [
    "#call isinstance()\n",
    "class A:\n",
    "    def __instancecheck__(self, object):\n",
    "        print(\"object is instance\")\n",
    "        return True\n",
    "\n",
    "print(isinstance(123, A))\n",
    "print(isinstance(123, A()))\n",
    "a1=A()\n",
    "print(isinstance(a1, A()))\n",
    "\n",
    "print(isinstance(A, object))\n",
    "print(isinstance(A(), object))\n",
    "print(isinstance(A, A))\n",
    "print(isinstance(A(), A))"
   ]
  },
  {
   "cell_type": "code",
   "execution_count": null,
   "metadata": {},
   "outputs": [],
   "source": [
    "class MyData(type):\n",
    "    def __instancecheck__(self, instance):\n",
    "        if hasattr(instance, 'nci_id'):\n",
    "            return True\n",
    "        return False\n",
    "\n",
    "class A(metaclass=MyData):\n",
    "    pass\n",
    "\n",
    "print"
   ]
  },
  {
   "cell_type": "code",
   "execution_count": null,
   "metadata": {},
   "outputs": [],
   "source": []
  },
  {
   "cell_type": "code",
   "execution_count": null,
   "metadata": {},
   "outputs": [],
   "source": []
  },
  {
   "cell_type": "markdown",
   "metadata": {},
   "source": [
    "## others"
   ]
  },
  {
   "cell_type": "markdown",
   "metadata": {},
   "source": [
    "### pyc file\n",
    ".py file represent a python script. .pyc file is created by python intepreter when that .py file is imported or executed. .pyc file consist of 'complied bytecode',\n",
    "which is translated from the source code."
   ]
  },
  {
   "cell_type": "markdown",
   "metadata": {},
   "source": [
    "### __init__.py\n",
    "__init__.py execute an initialization code for a package. It is required to make Python treat a give n directory as a Python package directory\n",
    "__init__.py is define in any directory where stores python scripts. \n",
    "The file simplify the process of importing python modules. \n",
    "Mostly, there is empty of __init__.py. Sometimes, \n",
    "the file consist of initial codes namely namespace of python modules in this directory.\n",
    "\n",
    "src/\n",
    "    __init__.py\n",
    "    primary/\n",
    "        __init__.py\n",
    "        file1.py\n",
    "        file2.py\n",
    "    second/\n",
    "        __init__.py\n",
    "        file3.py\n",
    "        file4"
   ]
  },
  {
   "cell_type": "code",
   "execution_count": null,
   "metadata": {},
   "outputs": [],
   "source": [
    "#common pattern\n",
    "import src.primary.file1\n",
    "from src.second.file3 import get_data\n",
    "import src.primary.file2 as file2\n"
   ]
  },
  {
   "cell_type": "code",
   "execution_count": null,
   "metadata": {},
   "outputs": [],
   "source": [
    "#add the two statements in the file src.primary.__init__.py\n",
    "from . import file1.py\n",
    "from . import file.py\n",
    "\n",
    "#simplify the import process\n",
    "import src.primary"
   ]
  },
  {
   "cell_type": "markdown",
   "metadata": {},
   "source": [
    "### hashbang\n",
    " in Unix-like system,\n",
    "the '#!' showes that the file is a script. The path after #! specifies the path of the interpreter. when executing a script with #!,\n",
    "the intepreter could be optional:\n",
    " $ pythn test_python.py\n",
    " $ test_python.py"
   ]
  },
  {
   "cell_type": "code",
   "execution_count": null,
   "metadata": {},
   "outputs": [],
   "source": [
    "#!/usr/bin/python\n",
    "...."
   ]
  },
  {
   "cell_type": "markdown",
   "metadata": {},
   "source": [
    "## 2. define a class\n",
    "\n",
    "self denote the instance of this class. self can access the attributes and methods of the class.\n",
    "The methods __init__ bind variables with attributes of self.\n",
    "Self must be provided as a First parameter to the Instance method and constructor. If you don’t provide it, it will cause an error."
   ]
  },
  {
   "cell_type": "code",
   "execution_count": 5,
   "metadata": {},
   "outputs": [
    {
     "name": "stdout",
     "output_type": "stream",
     "text": [
      "129.1500\n",
      "126.0750\n"
     ]
    }
   ],
   "source": [
    "#Here is an example class on definition and calling\n",
    "class MyTest():\n",
    "    '''\n",
    "    define test class\n",
    "    '''\n",
    "    def __init__(self,start):\n",
    "        self.start=start\n",
    "        \n",
    "    def get_total(self,interest):\n",
    "        '''\n",
    "        calculate total\n",
    "        '''\n",
    "        total = self.start*(1+interest)\n",
    "        return \"{:.4f}\".format(total)\n",
    "    \n",
    "if __name__ == \"__main__\":\n",
    "    my=MyTest(123)\n",
    "    print(my.get_total(0.05))\n",
    "    print(my.get_total(0.025))"
   ]
  },
  {
   "cell_type": "code",
   "execution_count": 40,
   "metadata": {},
   "outputs": [],
   "source": [
    "# the simplest definition\n",
    "class MyTest:\n",
    "    pass\n",
    "\n",
    "class MyTest2:\n",
    "    TAG=True"
   ]
  },
  {
   "cell_type": "code",
   "execution_count": 2,
   "metadata": {},
   "outputs": [
    {
     "name": "stdout",
     "output_type": "stream",
     "text": [
      "{'start': 4, 'add': 'add', 'minus': 'minus'}\n"
     ]
    }
   ],
   "source": [
    "#return class attribute\n",
    "class A:\n",
    "    def __init__(self, data):\n",
    "        self.data=data\n",
    "        \n",
    "    def add(self):\n",
    "        self.data['add'] = 'add'\n",
    "        return self.data\n",
    "    \n",
    "    def minus(self):\n",
    "        self.data['minus'] = 'minus'\n",
    "        return self.data\n",
    "\n",
    "s = A({'start':4})\n",
    "s.add()\n",
    "s.minus()\n",
    "print(s.data)"
   ]
  },
  {
   "cell_type": "code",
   "execution_count": 244,
   "metadata": {},
   "outputs": [
    {
     "name": "stdout",
     "output_type": "stream",
     "text": [
      "d\n"
     ]
    }
   ],
   "source": [
    "#Note: self is usual term. It is ok to replace self with other terms.\n",
    "#but that is not suggested\n",
    "class A:\n",
    "    def __init__(good,a):\n",
    "        good.a=a\n",
    "    \n",
    "    def get(good):\n",
    "        print(good.a)\n",
    "a=A('d')\n",
    "a.get()"
   ]
  },
  {
   "cell_type": "markdown",
   "metadata": {},
   "source": [
    "# 3. important concepts"
   ]
  },
  {
   "cell_type": "markdown",
   "metadata": {},
   "source": [
    "## inheritance\n",
    "1. inheritance means passing attributes and methods from a superclass to a subclass. attr and methods in subclass are more specific than those in superclass\n",
    "2. mutiple inheritance means that a class has more than one superclass"
   ]
  },
  {
   "cell_type": "code",
   "execution_count": 205,
   "metadata": {},
   "outputs": [
    {
     "name": "stdout",
     "output_type": "stream",
     "text": [
      "BHelp on NoneType object:\n",
      "\n",
      "class NoneType(object)\n",
      " |  Methods defined here:\n",
      " |  \n",
      " |  __bool__(self, /)\n",
      " |      self != 0\n",
      " |  \n",
      " |  __repr__(self, /)\n",
      " |      Return repr(self).\n",
      " |  \n",
      " |  ----------------------------------------------------------------------\n",
      " |  Static methods defined here:\n",
      " |  \n",
      " |  __new__(*args, **kwargs) from builtins.type\n",
      " |      Create and return a new object.  See help(type) for accurate signature.\n",
      "\n",
      "get list of methods inherent to the object: None\n"
     ]
    }
   ],
   "source": [
    "class A: \n",
    "    def a(self):\n",
    "        print(\"A\",end='')\n",
    "    def b(self):\n",
    "        self.a()\n",
    "        \n",
    "class B(A): \n",
    "    def a(self):\n",
    "        print(\"B\",end='')\n",
    "    def do(self):\n",
    "        self.b()\n",
    "\n",
    "b=B().do()\n",
    "print(\"get list of methods inherent to the object:\", help(b))"
   ]
  },
  {
   "cell_type": "code",
   "execution_count": 6,
   "metadata": {},
   "outputs": [
    {
     "name": "stdout",
     "output_type": "stream",
     "text": [
      "129.1500\n",
      "126.0750\n"
     ]
    }
   ],
   "source": [
    "class PrepareData:\n",
    "    '''\n",
    "    check data format\n",
    "    '''\n",
    "    def check_interest(self,interest):\n",
    "        interest = abs(interest)\n",
    "        if interest >=10:\n",
    "            interest /= 100\n",
    "        return interest\n",
    "\n",
    "class MyTest(PrepareData):\n",
    "    '''\n",
    "    define test class\n",
    "    '''\n",
    "    def __init__(self,start):\n",
    "        self.start=start\n",
    "        \n",
    "    def get_total(self,interest):\n",
    "        '''\n",
    "        calculate total\n",
    "        '''\n",
    "        interest = self.check_interest(interest)\n",
    "        total = self.start*(1+interest)\n",
    "        return \"{:.4f}\".format(total)\n",
    "    \n",
    "if __name__ == \"__main__\":\n",
    "    my=MyTest(123)\n",
    "    print(my.get_total(0.05))\n",
    "    print(my.get_total(0.025))"
   ]
  },
  {
   "cell_type": "code",
   "execution_count": 17,
   "metadata": {},
   "outputs": [
    {
     "name": "stdout",
     "output_type": "stream",
     "text": [
      "True\n",
      "400\n",
      "800\n",
      "400.0\n",
      "polymorphism: 80\n"
     ]
    }
   ],
   "source": [
    "#superclass and subclass: call superclass in subclass for reuse code\n",
    "class export:\n",
    "    def __init__(self,shape):\n",
    "        self.shape=shape\n",
    "        \n",
    "    def print_area(self,area):\n",
    "        print(f\"Area of {self.shape} is {self.data}\")\n",
    "        \n",
    "class rectangle:\n",
    "    def __init__(self,length,width):\n",
    "        self.length=length\n",
    "        self.width=width\n",
    "        \n",
    "    def area(self):\n",
    "        return self.length*self.width\n",
    "    \n",
    "    def volume(self,height):\n",
    "        area = self.area()\n",
    "        return area*height\n",
    "    \n",
    "    def perimeter(self):\n",
    "        return 2*(self.length,self.width)\n",
    "    \n",
    "class square(rectangle, export):\n",
    "    def __init__(self,length):\n",
    "        self.length=length\n",
    "        super().__init__(length,length)\n",
    "        \n",
    "    def half_volume(self, height):\n",
    "        return self.volume(height)/2\n",
    "    \n",
    "    def parimeter(self):\n",
    "        print(\"polymorphism:\",end=' ')\n",
    "        return 4*self.length\n",
    "    \n",
    "if __name__ == \"__main__\":\n",
    "    #super class is rectangle, and sub class is square\n",
    "    print(issubclass(square,rectangle))\n",
    "\n",
    "    #inheritance\n",
    "    print(square(20).area()) #area() inheritate from super class \n",
    "    print(square(20).volume(2)) #volume() inheritate from super class \n",
    "    print(square(20).half_volume(2)) # volume() in the method half_volume inheritate from super class\n",
    "    \n",
    "    #polymophism\n",
    "    print(square(20).parimeter()) #polymorphism: parimeter() in subclass override the method in super class\n",
    "    \n",
    "    #\n",
    "    #s = square(20)\n",
    "    #area1 = s.area()\n",
    "    #s('square').print_area(area1)"
   ]
  },
  {
   "cell_type": "markdown",
   "metadata": {},
   "source": [
    "### multiple inheritance\n",
    "method resolution order (MRO)\n",
    "the order of superclass does matters"
   ]
  },
  {
   "cell_type": "code",
   "execution_count": 19,
   "metadata": {},
   "outputs": [
    {
     "name": "stdout",
     "output_type": "stream",
     "text": [
      "Class B\n",
      "Class C\n"
     ]
    }
   ],
   "source": [
    "#ambiguity in multiple inheritance\n",
    "class A:\n",
    "    def info(self):\n",
    "        print('Class A')\n",
    "\n",
    "class B(A):\n",
    "    def info(self):\n",
    "        print('Class B')\n",
    "\n",
    "class C(A):\n",
    "    def info(self):\n",
    "        print('Class C')\n",
    "\n",
    "class D(B, C):\n",
    "    pass\n",
    "\n",
    "class E(C,B):\n",
    "    pass\n",
    "\n",
    "#any specific attr is searched for first in the current class.\n",
    "#only B is superclass for D\n",
    "D().info()\n",
    "E().info()"
   ]
  },
  {
   "cell_type": "code",
   "execution_count": 182,
   "metadata": {},
   "outputs": [
    {
     "name": "stdout",
     "output_type": "stream",
     "text": [
      "{'data': {'nci_id': 'NCI-8884', 'diseases': []}, 'wrapped': <__main__.TrialData object at 0x00B3F2B0>}\n",
      "{'data': {'nci_id': 'NCI-8884', 'diseases': [{'id': '123'}, {'id': '345'}], 'ids': ['123', '345']}, 'wrapped': <__main__.TrialData object at 0x00B3FE80>}\n"
     ]
    }
   ],
   "source": [
    "#embeddict: {'':'', '':[], '':3, '':true}\n",
    "class DataError(Exception):\n",
    "    def __init__(self, data_type, data_id=None):\n",
    "        self.msg_prefix = f\"ERROR: {data_type} data identified by {data_id}\" \\\n",
    "            if data_id else f\"ERROR: {data_type} data\"\n",
    "        \n",
    "    def EmptyError(self):\n",
    "        msg = f\"{self.msg_prefix} is None or empty.\"\n",
    "        raise Exception(msg)\n",
    "\n",
    "    def DictError(self):\n",
    "        msg = f\"{self.msg_prefix} is not dictionary type.\"\n",
    "        raise Exception(msg)\n",
    "\n",
    "    def ListError(self):\n",
    "        msg = f\"{self.msg_prefix} is not list type.\"\n",
    "        raise Exception(msg)\n",
    "    \n",
    "    def NciIdError(self):\n",
    "        msg = f\"{self.msg_prefix} doesn't include nci_id or nci_id is wrong.\"\n",
    "        raise Exception(msg)\n",
    "\n",
    "        \n",
    "def check_trial(cls):\n",
    "    class wrapper:\n",
    "        def __init__(self, *args):\n",
    "            self.data = args[0]\n",
    "            self.wrapped = cls(self.data)\n",
    "\n",
    "        def __getattr__(self,name):\n",
    "            #print(\"begin to validate \", self.data)\n",
    "            if self.data is None:\n",
    "                DataError(\"trial\").EmptyError()\n",
    "            elif self.data == {}:\n",
    "                DataError(\"trial\").DictError()\n",
    "            elif 'nci_id' not in self.data or not self.data['nci_id'].startswith(\"NCI\"):\n",
    "                DataError(\"trial\").NciIdError()\n",
    "            return getattr(self.wrapped, name)\n",
    "    return wrapper\n",
    "\n",
    "def bypass():\n",
    "    pass\n",
    "\n",
    "import logging\n",
    "def check_trial_diseases(func):\n",
    "    def wrapper(*args):\n",
    "        msg_prefix = f\"Warning: skip method {func.__name__}.\"\n",
    "        trial_data = args[0]._data\n",
    "        if 'diseases' not in trial_data:\n",
    "            logging.info(f\"{msg_prefix } No field diseases in trial data\")\n",
    "        elif not isinstance(trial_data['diseases'],list):\n",
    "            logging.info(f\"{msg_prefix } Data type of data.diseases is wrong\")\n",
    "        elif trial_data['diseases'] == []:\n",
    "            logging.info(f\"{msg_prefix } Data.diseases is empty\")\n",
    "        else:\n",
    "            func(*args)\n",
    "    return wrapper\n",
    "\n",
    "@check_trial\n",
    "class TrialData:\n",
    "    def __init__(self, data):\n",
    "        self._data = data\n",
    "    \n",
    "    def test_(self):\n",
    "        pass\n",
    "    \n",
    "    @check_trial_diseases\n",
    "    def get_disease_ids(self):\n",
    "        ids=[]\n",
    "        for disease in self._data['diseases']:\n",
    "            if 'id' in disease:\n",
    "                ids.append(disease['id'])\n",
    "        self._data['ids'] = ids\n",
    "#\n",
    "#e=TrialData({});e.test_()\n",
    "#e=TrialData({'name':'abc'});e.test_()\n",
    "data={'nci_id':\"NCI-8884\", \"diseases\":[]}\n",
    "e=TrialData(data);e.test_()\n",
    "e.get_disease_ids()\n",
    "print(e.__dict__)\n",
    "\n",
    "data={'nci_id':\"NCI-8884\", \"diseases\":[{'id':\"123\"}   ,{'id':\"345\"}]}\n",
    "e=TrialData(data);e.test_()\n",
    "e.get_disease_ids()\n",
    "print(e.__dict__)"
   ]
  },
  {
   "cell_type": "markdown",
   "metadata": {},
   "source": [
    "## subclass of built-in data class\n",
    "list, dict, \n",
    "string is metaclass\n",
    "\n",
    "super() method take two parameters: subclass and instance of that subclass\n",
    "__new__() is class method"
   ]
  },
  {
   "cell_type": "code",
   "execution_count": 359,
   "metadata": {},
   "outputs": [
    {
     "name": "stdout",
     "output_type": "stream",
     "text": [
      "4\n"
     ]
    }
   ],
   "source": [
    "def bypass():\n",
    "    pass\n",
    "def check_dna2(cls):\n",
    "    class wrapper:\n",
    "        def __init__(self, *args):\n",
    "            self.seq = args[0]\n",
    "            self.wrapped = cls(self.seq)\n",
    "        def __getattr__(self, name):\n",
    "            if self.seq == \"\":\n",
    "                return bypass()\n",
    "            else:\n",
    "                print(\"begin to \")\n",
    "                return getattr(self.wrapped,name)\n",
    "    return wrapper\n",
    "\n",
    "def check_dna(func):\n",
    "    def wrapper(*args):\n",
    "        seq=args[0]\n",
    "        if seq == '':\n",
    "            bypass()\n",
    "        else:\n",
    "            func(*args)\n",
    "    return wrapper\n",
    "\n",
    "class dna(str):\n",
    "    def __new__(cls, seq):\n",
    "        return super().__new__(cls, seq)\n",
    "    \n",
    "    def test(self):\n",
    "        print(4)\n",
    "\n",
    "    \n",
    "    def __len__(self):\n",
    "        #print(\"calculate length\")\n",
    "        return super().__len__()\n",
    "    \n",
    "    def __add__(self, new):\n",
    "        #print(\"add new dna:\", new)\n",
    "        return super().__add__(new)\n",
    "    \n",
    "    def __getitem__(self, index):\n",
    "        #index -= 1\n",
    "        print('dd')\n",
    "        return super().__getitem__(0)\n",
    "\n",
    "s=dna('ATGCG') \n",
    "s.test()\n",
    "#print('nt=', len(s))\n",
    "#s += \"CCC\"; print('combined dna:', s)\n",
    "#print('the 3rd nt is', s[3])\n",
    "#for i in str.__dict__:\n",
    "#    print(i)"
   ]
  },
  {
   "cell_type": "code",
   "execution_count": 337,
   "metadata": {},
   "outputs": [
    {
     "name": "stdout",
     "output_type": "stream",
     "text": [
      "c\n",
      "c\n"
     ]
    }
   ],
   "source": [
    "s='abcdef'\n",
    "print(s.__getitem__(2))\n",
    "print(s[2])"
   ]
  },
  {
   "cell_type": "code",
   "execution_count": 310,
   "metadata": {},
   "outputs": [
    {
     "name": "stdout",
     "output_type": "stream",
     "text": [
      "1\n",
      "2\n",
      "None\n",
      "None\n",
      "self [1, 2]\n",
      "[3, 2]\n",
      "self [3, 2]\n",
      "[3, 2, None, None, 4]\n",
      "[2, None, None, 4]\n",
      "[2, None, None, 4]\n",
      "[2, None, None, 4, 5]\n",
      "5\n",
      "[2, None, None, 4, 5, 6, 7]\n",
      "__repr__\n",
      "__hash__\n",
      "__getattribute__\n",
      "__lt__\n",
      "__le__\n",
      "__eq__\n",
      "__ne__\n",
      "__gt__\n",
      "__ge__\n",
      "__iter__\n",
      "__init__\n",
      "__len__\n",
      "__getitem__\n",
      "__setitem__\n",
      "__delitem__\n",
      "__add__\n",
      "__mul__\n",
      "__rmul__\n",
      "__contains__\n",
      "__iadd__\n",
      "__imul__\n",
      "__new__\n",
      "__reversed__\n",
      "__sizeof__\n",
      "clear\n",
      "copy\n",
      "append\n",
      "insert\n",
      "extend\n",
      "pop\n",
      "remove\n",
      "index\n",
      "count\n",
      "reverse\n",
      "sort\n",
      "__doc__\n"
     ]
    }
   ],
   "source": [
    "class mylist(list):\n",
    "    def __init__(self, inlist):\n",
    "        super().__init__(inlist)\n",
    "        self.len = len(inlist)\n",
    "        \n",
    "    def __setitem__(self, index, value):\n",
    "        print('self', self)\n",
    "        while index >= self.len:\n",
    "            super().append(None)\n",
    "            self.len +=1\n",
    "        super().__setitem__(index, value)\n",
    "    \n",
    "    def __getitem__(self, k):\n",
    "        if k>=self.len or k<-self.len:\n",
    "            return None\n",
    "        return super().__getitem__(k)\n",
    "    \n",
    "    def __delitem__(self, k):\n",
    "        if k>=self.len or k<-self.len:\n",
    "            return None\n",
    "        self.len -= 1\n",
    "        return super().__delitem__(k)\n",
    "    \n",
    "    def __len__(self):\n",
    "        return super().__len__()\n",
    "    \n",
    "    def __add__(self, newlist):\n",
    "        return super().__add__(newlist)\n",
    "    \n",
    "    def append(self, value):\n",
    "        super().append(value)\n",
    "        self.len += 1\n",
    "        \n",
    "r= mylist([1,2])\n",
    "#get value\n",
    "print(r[0])\n",
    "print(r[-1])\n",
    "print(r[10])\n",
    "print(r[-10])\n",
    "#set value\n",
    "r[0]=3;print(r)\n",
    "r[4]=4;print(r)\n",
    "#delete\n",
    "del r[0];print(r)\n",
    "del r[10];print(r)\n",
    "#append\n",
    "r.append(5);print(r)\n",
    "#length\n",
    "print(len(r))\n",
    "#add\n",
    "r+= [6,7]; print(r)\n",
    "\n",
    "\n",
    "for a in list.__dict__:\n",
    "    print(a)"
   ]
  },
  {
   "cell_type": "code",
   "execution_count": 275,
   "metadata": {},
   "outputs": [
    {
     "name": "stdout",
     "output_type": "stream",
     "text": [
      "4\n",
      "{'a': 4, 4: 1, 2: 0.5}\n",
      "{'a': 4, 4: 1}\n",
      "{'a': 5, 4: 1, 'b': 6}\n"
     ]
    }
   ],
   "source": [
    "class myDict(dict):\n",
    "    def __init__(self, indict=None):\n",
    "        if indict is None:\n",
    "            indict = {}\n",
    "        super().__init__(indict)\n",
    "    \n",
    "    def __getitem__(self, key):\n",
    "        return super().__getitem__(key)\n",
    "    \n",
    "    def __setitem__(self, key, val):\n",
    "        super().__setitem__(key, val)\n",
    "        return True\n",
    "    \n",
    "    def __delitem__(self, key):\n",
    "        super().__delitem__(key)\n",
    "        return True\n",
    "    \n",
    "    def update(self, dict1):\n",
    "        for _key, _val in dict1.items():\n",
    "            super().__setitem__(_key,_val)\n",
    "a=myDict({\"a\":4})\n",
    "#get value by key\n",
    "print(a['a'])\n",
    "#set value\n",
    "a[4]=1;a[2]=.5;print(a)\n",
    "#delete a key\n",
    "del a[2];print(a)\n",
    "#update\n",
    "a.update({'a':5, 'b':6});print(a)"
   ]
  },
  {
   "cell_type": "markdown",
   "metadata": {},
   "source": [
    "## composition\n",
    "composition means two classes or objects have a relationship. \n",
    "1. inheritance models an 'is a' relationship whereas composition models a \"has a\" relation. composition results in relationships between two class through using instance"
   ]
  },
  {
   "cell_type": "code",
   "execution_count": 194,
   "metadata": {},
   "outputs": [
    {
     "name": "stdout",
     "output_type": "stream",
     "text": [
      "Total: 7700\n"
     ]
    }
   ],
   "source": [
    "#composition between Salary and Employee\n",
    "#class Employee use instance of class Salary\n",
    "class Salary:\n",
    "    def __init__(self, pay):\n",
    "        self.pay = pay\n",
    " \n",
    "    def get_total(self):\n",
    "        return (self.pay*12)\n",
    " \n",
    " \n",
    "class Employee:\n",
    "    def __init__(self, pay, bonus):\n",
    "        self.pay = pay\n",
    "        self.bonus = bonus\n",
    "        self.obj_salary = Salary(self.pay)\n",
    " \n",
    "    def annual_salary(self):\n",
    "        return \"Total: \" + str(self.obj_salary.get_total() + self.bonus)\n",
    " \n",
    " \n",
    "obj_emp = Employee(600, 500)\n",
    "print(obj_emp.annual_salary())\n",
    " "
   ]
  },
  {
   "cell_type": "code",
   "execution_count": 193,
   "metadata": {},
   "outputs": [
    {
     "name": "stdout",
     "output_type": "stream",
     "text": [
      "Total: 7700\n"
     ]
    }
   ],
   "source": [
    "#inheritance between Salary and Employee\n",
    "#class Employee include class Salary\n",
    "class Salary:\n",
    "    def __init__(self, pay):\n",
    "        self.pay = pay\n",
    " \n",
    "    def get_total(self):\n",
    "        return (self.pay*12)\n",
    " \n",
    " \n",
    "class Employee(Salary):\n",
    "    def __init__(self, pay, bonus):\n",
    "        super().__init__(pay)\n",
    "        self.bonus = bonus\n",
    " \n",
    "    def annual_salary(self):\n",
    "        return \"Total: \" + str(self.get_total() + self.bonus)\n",
    " \n",
    " \n",
    "obj_emp = Employee(600, 500)\n",
    "print(obj_emp.annual_salary())\n",
    " "
   ]
  },
  {
   "cell_type": "code",
   "execution_count": 197,
   "metadata": {},
   "outputs": [
    {
     "name": "stdout",
     "output_type": "stream",
     "text": [
      "Total: 7700\n"
     ]
    }
   ],
   "source": [
    "#aggregation is a weak composition. \n",
    "#Employee is container,and Salary is content\n",
    "#instance of Employee use instance of Salary\n",
    "class Salary:\n",
    "    def __init__(self,pay):\n",
    "        self.pay=pay\n",
    "\n",
    "    def get_total(self):\n",
    "       return (self.pay*12)\n",
    "\n",
    "class Employee:\n",
    "    def __init__(self,pay,bonus):\n",
    "        self.pay=pay\n",
    "        self.bonus=bonus\n",
    "\n",
    "    def annual_salary(self):\n",
    "        return \"Total: \"  +  str(self.pay.get_total()+self.bonus)\n",
    "\n",
    "\n",
    "obj_sal=Salary(600)\n",
    "obj_emp=Employee(obj_sal,500)\n",
    "print (obj_emp.annual_salary())"
   ]
  },
  {
   "cell_type": "markdown",
   "metadata": {},
   "source": [
    "## polymorphism\n",
    "1. polymorphism is the situation in which as subclass is able to modify its superclass behavior. (overridding)\n",
    "2. polymorphism is the provision of a single interface to objects of different types. or use a single symbol to represent different type.\n",
    "3. polymorphism make code reusable, testable"
   ]
  },
  {
   "cell_type": "markdown",
   "metadata": {},
   "source": [
    "### polymorphism with function and objects"
   ]
  },
  {
   "cell_type": "code",
   "execution_count": null,
   "metadata": {},
   "outputs": [],
   "source": [
    "#polymorphism: len()\n",
    "print(len(\"Programiz\"))\n",
    "print(len([\"Python\", \"Java\", \"C\"]))\n",
    "print(len({\"Name\": \"John\", \"Address\": \"Nepal\"}))"
   ]
  },
  {
   "cell_type": "code",
   "execution_count": 216,
   "metadata": {},
   "outputs": [
    {
     "name": "stdout",
     "output_type": "stream",
     "text": [
      "Vegetable\n",
      "Red\n",
      "Fruit\n",
      "Red\n"
     ]
    }
   ],
   "source": [
    "class Tomato(): \n",
    "     def type(self): \n",
    "       print(\"Vegetable\") \n",
    "     def color(self):\n",
    "       print(\"Red\") \n",
    "class Apple(): \n",
    "     def type(self): \n",
    "       print(\"Fruit\") \n",
    "     def color(self): \n",
    "       print(\"Red\") \n",
    "      \n",
    "def func(obj): \n",
    "       obj.type() \n",
    "       obj.color()\n",
    "        \n",
    "obj_tomato = Tomato() \n",
    "obj_apple = Apple() \n",
    "func(obj_tomato) \n",
    "func(obj_apple)"
   ]
  },
  {
   "cell_type": "markdown",
   "metadata": {},
   "source": [
    "### polymorphism with class"
   ]
  },
  {
   "cell_type": "code",
   "execution_count": 217,
   "metadata": {},
   "outputs": [],
   "source": [
    "class car():     \n",
    "     def get_vehicle_size(self):         \n",
    "         return \"Medium\"   \n",
    "\n",
    "class bus():     \n",
    "     def get_vehicle_size(self):         \n",
    "         return \"Very Large\"\n",
    "car1 = car() \n",
    "bus1 = bus() \n",
    "vehicle_list = [car1, bus1]   \n",
    "\n",
    "for vehicle in vehicle_list:     \n",
    "   vehicle.get_vehicle_size()"
   ]
  },
  {
   "cell_type": "markdown",
   "metadata": {},
   "source": [
    "### method overloading\n",
    "One method override another method with the same name. \n",
    "could be subclass-superclass, or same class"
   ]
  },
  {
   "cell_type": "code",
   "execution_count": 18,
   "metadata": {},
   "outputs": [
    {
     "name": "stdout",
     "output_type": "stream",
     "text": [
      "7\n"
     ]
    }
   ],
   "source": [
    "#override\n",
    "def add(a):\n",
    "    return a\n",
    "def add(a,b):\n",
    "    return a+b\n",
    "print(add(3,4))"
   ]
  },
  {
   "cell_type": "code",
   "execution_count": 22,
   "metadata": {},
   "outputs": [
    {
     "name": "stdout",
     "output_type": "stream",
     "text": [
      "9\n"
     ]
    }
   ],
   "source": [
    "class A:\n",
    "    def add(self, a):\n",
    "        return a\n",
    "\n",
    "class B(A):\n",
    "    def add(self, a, b):\n",
    "        return a+b\n",
    "\n",
    "r = B().add(3,6)\n",
    "print(r)\n"
   ]
  },
  {
   "cell_type": "code",
   "execution_count": 53,
   "metadata": {},
   "outputs": [
    {
     "name": "stdout",
     "output_type": "stream",
     "text": [
      "[3, 6, 23, 0, 100]\n",
      "[0, 3, 6, 23, 100]\n",
      "[0, 3, 6, 23, 100, 4, 5]\n"
     ]
    }
   ],
   "source": [
    "#here are built-in class in Python, namely list\n",
    "a=[3,6,23,0]\n",
    "a.append(100);print(a)\n",
    "a.sort();print(a)\n",
    "a.extend([4,5]);print(a)"
   ]
  },
  {
   "cell_type": "code",
   "execution_count": 93,
   "metadata": {},
   "outputs": [
    {
     "name": "stdout",
     "output_type": "stream",
     "text": [
      "initize dict_list [{'name': 'c', 'value': 34}, {'name': 'a', 'value': 100}]: method sort() override: [{'name': 'a', 'value': 100}, {'name': 'c', 'value': 34}]\n",
      "inherite method append(): [{'name': 'c', 'value': 34}, {'name': 'a', 'value': 100}, {'name': 'e', 'value': 100}]\n",
      "__add__() is overrided: [{'name': 'c', 'value': 34}, {'name': 'a', 'value': 300}, {'name': 'e', 'value': 100}, {'name': 'd', 'value': 4}]\n",
      "get value by name: 300\n",
      "set value by name: [{'name': 'c', 'value': 34}, {'name': 'a', 'value': 300}, {'name': 'e', 'value': 100}, {'name': 'd', 'value': 4}, {'name': 'f', 'value': 123}]\n",
      "[{'name': 'c', 'value': 34}, {'name': 'a', 'value': 300}, {'name': 'e', 'value': 100}, {'name': 'd', 'value': 4}, {'name': 'f', 'value': 456}]\n"
     ]
    }
   ],
   "source": [
    "#inherit from list class\n",
    "class dict_list(list):\n",
    "    def __init__(self, mylist):\n",
    "        super().__init__(mylist)\n",
    "        \n",
    "    def sort(self, key):\n",
    "        self = sorted(self, key=lambda x: x.get(key))\n",
    "        return self\n",
    "    \n",
    "    def __add__(self, new_list):\n",
    "        for new_dict in new_list:\n",
    "            tag=0\n",
    "            for my_dict in self:\n",
    "                if new_dict.get('name')==my_dict.get('name'):\n",
    "                    my_dict['value'] +=new_dict['value']\n",
    "                    break\n",
    "            else:\n",
    "                self.append(new_dict)\n",
    "\n",
    "    def __getitem__(self, key):\n",
    "        for my_dict in self:\n",
    "            if my_dict['name'] == key:\n",
    "                return my_dict['value']\n",
    "                break\n",
    "        else:\n",
    "            return None\n",
    "\n",
    "    def __setitem__(self, key, value):\n",
    "        for my_dict in self:\n",
    "            if my_dict['name'] == key:\n",
    "                my_dict['value'] = value\n",
    "                break\n",
    "        else:\n",
    "            self.append({'name':key, 'value':value})\n",
    "        return self\n",
    "#\n",
    "a=[{\"name\":'c', 'value':34}, {\"name\":'a', 'value':100}]\n",
    "x=dict_list(a)\n",
    "print('initize dict_list', x, end=\": \")\n",
    "\n",
    "print(\"method sort() override\" ,end=\": \")\n",
    "print(x.sort('name'))\n",
    "\n",
    "print(\"inherite method append()\", end=\": \")\n",
    "x.append({\"name\":'e', 'value':100});print(x)\n",
    "\n",
    "print(\"__add__() is overrided\", end=\": \")\n",
    "x+[{\"name\":'d', 'value':4}, {\"name\":'a', 'value':200}];print(x)\n",
    "\n",
    "print(\"get value by name\", end=\": \")\n",
    "print(x['a'])\n",
    "\n",
    "print(\"set value by name\", end=\": \")\n",
    "x['f'] = 123; print(x)\n",
    "x['f'] = 456; print(x)"
   ]
  },
  {
   "cell_type": "code",
   "execution_count": 222,
   "metadata": {},
   "outputs": [
    {
     "data": {
      "text/plain": [
       "3"
      ]
     },
     "execution_count": 222,
     "metadata": {},
     "output_type": "execute_result"
    }
   ],
   "source": [
    "class A:\n",
    "    def add(self, a):\n",
    "        return a\n",
    "\n",
    "class B:\n",
    "    def add(self, a,b):\n",
    "        return a+b\n",
    "class C(A,B):\n",
    "    pass\n",
    "\n",
    "# only import A.add() rather than B.add()\n",
    "C().add(3)"
   ]
  },
  {
   "cell_type": "markdown",
   "metadata": {},
   "source": [
    "### access superclass when there is overriding"
   ]
  },
  {
   "cell_type": "code",
   "execution_count": 369,
   "metadata": {},
   "outputs": [
    {
     "name": "stdout",
     "output_type": "stream",
     "text": [
      "7\n",
      "3\n"
     ]
    }
   ],
   "source": [
    "class A:\n",
    "    def add(self, a):\n",
    "        return a\n",
    "class B(A):\n",
    "    def add(self, a,b):\n",
    "        return a+b\n",
    "    #B.add() override A.add()    \n",
    "    def subclass_method(self):\n",
    "        return self.add(3,4)\n",
    "    #access to method of superclass\n",
    "    def superclass_method(self):\n",
    "        return super().add(3)\n",
    "\n",
    "a=B()\n",
    "print(a.subclass_method())\n",
    "print(a.superclass_method())"
   ]
  },
  {
   "cell_type": "markdown",
   "metadata": {},
   "source": [
    "## encapsulation\n",
    "a class defines multiple attribtues and methods, which are encapsulated in this class. by default, other class could use those attributes and methods.\n",
    "\n",
    "1. all attributes and methosa in class are pbulic by default, can be accessed from outside the class environment.\n",
    "2. protected members: start with _. they can't be accessed by other classes, but can be access by its subclasses or themethods within this class. And instance variable can access the instance.\n",
    "3. private members:  start with __. they can't be accessed by either other classes or subclasses. they could be accessed by the methods within this class.\n",
    "\n",
    "Note: python doesn't restrict access to any instance variable or method"
   ]
  },
  {
   "cell_type": "code",
   "execution_count": 388,
   "metadata": {},
   "outputs": [
    {
     "name": "stdout",
     "output_type": "stream",
     "text": [
      "superclass\n",
      "110\n",
      "5\n",
      "40\n",
      "3\n",
      "\n",
      "subclass\n",
      "35\n",
      "{}\n"
     ]
    }
   ],
   "source": [
    "class A:\n",
    "    def __init__(self):\n",
    "        #public attribute\n",
    "        self.a=3\n",
    "        #protect attribute\n",
    "        self._protect=4\n",
    "        #private attribute\n",
    "        self.__private=5\n",
    "    \n",
    "    #public method\n",
    "    def add(self, a):\n",
    "        return a*10\n",
    "    \n",
    "    #protect method\n",
    "    #accessed by this class and subclass\n",
    "    def _add(self, a, b):\n",
    "        print(self.add(a)+b)\n",
    "    \n",
    "    #private method\n",
    "    #only access by methods defined in this class\n",
    "    def __add(self):\n",
    "        print(40)\n",
    "    def get_(self):\n",
    "        b=self.__private\n",
    "        print(b)\n",
    "        self.__add()\n",
    "\n",
    "class B(A):\n",
    "    def __init__(self):\n",
    "        super().__init__()\n",
    "\n",
    "class C:\n",
    "    def add(self):\n",
    "        a=A()\n",
    "        print(\"C:\")\n",
    "        a._add(1,2)\n",
    "        \n",
    "print(\"superclass\")\n",
    "a=A()\n",
    "a.add(10)\n",
    "a._add(10,10)\n",
    "#a.__add(10,10) #AttributeError\n",
    "a.get_()\n",
    "print(a.a)\n",
    "#print(a._a) #AttributeError\n",
    "\n",
    "print(\"\\nsubclass\")\n",
    "b=B()\n",
    "b._add(3,5)\n",
    "\n",
    "c=C();print(c.__dict__)"
   ]
  },
  {
   "cell_type": "code",
   "execution_count": 393,
   "metadata": {},
   "outputs": [
    {
     "name": "stdout",
     "output_type": "stream",
     "text": [
      "4\n",
      "5\n",
      "_add\n",
      "None\n",
      "d\n"
     ]
    }
   ],
   "source": [
    "class A:\n",
    "    def __init__(self):\n",
    "        self._a=4\n",
    "    def _add(self):\n",
    "        print('_add')\n",
    "a=A()\n",
    "#instance variable could access/update protected attribute and method\n",
    "#the patterns below remind developer this is not suggestd\n",
    "#though it will not raise errors.\n",
    "print(a._a)\n",
    "a._a=5\n",
    "print(a._a)\n",
    "print(a._add())\n",
    "\n",
    "\n",
    "#use @property to protect it\n",
    "class A:\n",
    "    def __init__(self, name):\n",
    "        self._name=name\n",
    "    @property\n",
    "    def name(self):\n",
    "        return self._name\n",
    "    @name.setter\n",
    "    def name(self, new):\n",
    "        self._name = new\n",
    "        \n",
    "    def _add(self):\n",
    "        print('_add')\n",
    "a=A('cary')\n",
    "a._name='d'\n",
    "print(a._name)"
   ]
  },
  {
   "cell_type": "markdown",
   "metadata": {},
   "source": [
    "## @property\n",
    "@property could convert a method to attribute in a class, or decorate attribute with a method. For example, validate attribute\n",
    "\n",
    "\n",
    "@property returns a 'property' object property(), which has extra methods: property().getter, property().setter, property().deleter"
   ]
  },
  {
   "cell_type": "markdown",
   "metadata": {},
   "source": [
    "### class without getters and setters"
   ]
  },
  {
   "cell_type": "code",
   "execution_count": 15,
   "metadata": {},
   "outputs": [
    {
     "data": {
      "text/plain": [
       "0.4"
      ]
     },
     "execution_count": 15,
     "metadata": {},
     "output_type": "execute_result"
    }
   ],
   "source": [
    "#\n",
    "class Tank:\n",
    "    def __init__(self, capacity):\n",
    "        self.capacity = capacity\n",
    "        self._level = 0\n",
    "    def set_level(self, amount):\n",
    "        self._level = amount/self.capacity\n",
    "    def get_level(self):\n",
    "        return self._level\n",
    "\n",
    "t=Tank(10)\n",
    "t.set_level(4)\n",
    "t.get_level()"
   ]
  },
  {
   "cell_type": "code",
   "execution_count": 17,
   "metadata": {},
   "outputs": [
    {
     "ename": "ValueError",
     "evalue": "Too much amount",
     "output_type": "error",
     "traceback": [
      "\u001b[1;31m---------------------------------------------------------------------------\u001b[0m",
      "\u001b[1;31mValueError\u001b[0m                                Traceback (most recent call last)",
      "\u001b[1;32m<ipython-input-17-4928156f2f35>\u001b[0m in \u001b[0;36m<module>\u001b[1;34m\u001b[0m\n\u001b[0;32m     16\u001b[0m \u001b[0mt\u001b[0m\u001b[1;33m.\u001b[0m\u001b[0mset_level\u001b[0m\u001b[1;33m(\u001b[0m\u001b[1;36m4\u001b[0m\u001b[1;33m)\u001b[0m\u001b[1;33m\u001b[0m\u001b[1;33m\u001b[0m\u001b[0m\n\u001b[0;32m     17\u001b[0m \u001b[0mt\u001b[0m\u001b[1;33m.\u001b[0m\u001b[0mget_level\u001b[0m\u001b[1;33m(\u001b[0m\u001b[1;33m)\u001b[0m\u001b[1;33m\u001b[0m\u001b[1;33m\u001b[0m\u001b[0m\n\u001b[1;32m---> 18\u001b[1;33m \u001b[0mt\u001b[0m\u001b[1;33m.\u001b[0m\u001b[0mset_level\u001b[0m\u001b[1;33m(\u001b[0m\u001b[1;36m14\u001b[0m\u001b[1;33m)\u001b[0m\u001b[1;33m\u001b[0m\u001b[1;33m\u001b[0m\u001b[0m\n\u001b[0m\u001b[0;32m     19\u001b[0m \u001b[0mt\u001b[0m\u001b[1;33m.\u001b[0m\u001b[0mget_level\u001b[0m\u001b[1;33m(\u001b[0m\u001b[1;33m)\u001b[0m\u001b[1;33m\u001b[0m\u001b[1;33m\u001b[0m\u001b[0m\n",
      "\u001b[1;32m<ipython-input-17-4928156f2f35>\u001b[0m in \u001b[0;36mset_level\u001b[1;34m(self, amount)\u001b[0m\n\u001b[0;32m      6\u001b[0m     \u001b[1;32mdef\u001b[0m \u001b[0mset_level\u001b[0m\u001b[1;33m(\u001b[0m\u001b[0mself\u001b[0m\u001b[1;33m,\u001b[0m \u001b[0mamount\u001b[0m\u001b[1;33m)\u001b[0m\u001b[1;33m:\u001b[0m\u001b[1;33m\u001b[0m\u001b[1;33m\u001b[0m\u001b[0m\n\u001b[0;32m      7\u001b[0m         \u001b[1;32mif\u001b[0m \u001b[0mamount\u001b[0m \u001b[1;33m>\u001b[0m \u001b[0mself\u001b[0m\u001b[1;33m.\u001b[0m\u001b[0mcapacity\u001b[0m\u001b[1;33m:\u001b[0m\u001b[1;33m\u001b[0m\u001b[1;33m\u001b[0m\u001b[0m\n\u001b[1;32m----> 8\u001b[1;33m             \u001b[1;32mraise\u001b[0m \u001b[0mValueError\u001b[0m\u001b[1;33m(\u001b[0m\u001b[1;34m\"Too much amount\"\u001b[0m\u001b[1;33m)\u001b[0m\u001b[1;33m\u001b[0m\u001b[1;33m\u001b[0m\u001b[0m\n\u001b[0m\u001b[0;32m      9\u001b[0m         \u001b[1;32mif\u001b[0m \u001b[0mamount\u001b[0m \u001b[1;33m<\u001b[0m\u001b[1;36m0\u001b[0m\u001b[1;33m:\u001b[0m\u001b[1;33m\u001b[0m\u001b[1;33m\u001b[0m\u001b[0m\n\u001b[0;32m     10\u001b[0m             \u001b[1;32mraise\u001b[0m \u001b[0mValueError\u001b[0m\u001b[1;33m(\u001b[0m\u001b[1;34m\"should be >0\"\u001b[0m\u001b[1;33m)\u001b[0m\u001b[1;33m\u001b[0m\u001b[1;33m\u001b[0m\u001b[0m\n",
      "\u001b[1;31mValueError\u001b[0m: Too much amount"
     ]
    }
   ],
   "source": [
    "#add validation\n",
    "class Tank:\n",
    "    def __init__(self, capacity):\n",
    "        self.capacity = capacity\n",
    "        self._level = 0\n",
    "    def set_level(self, amount):\n",
    "        if amount > self.capacity:\n",
    "            raise ValueError(\"Too much amount\")\n",
    "        if amount <0:\n",
    "            raise ValueError(\"should be >0\")\n",
    "        self._level = amount/self.capacity\n",
    "    def get_level(self):\n",
    "        return self._level\n",
    "\n",
    "t=Tank(10)\n",
    "t.set_level(4)\n",
    "t.get_level()\n",
    "t.set_level(14)\n",
    "t.get_level()"
   ]
  },
  {
   "cell_type": "code",
   "execution_count": 50,
   "metadata": {},
   "outputs": [
    {
     "name": "stdout",
     "output_type": "stream",
     "text": [
      "{'_level': 4}\n"
     ]
    }
   ],
   "source": [
    "class Tank:\n",
    "    def __init__(self):\n",
    "        self._level = 0\n",
    "    \n",
    "    #getattr: there is attribute known as level\n",
    "    @property\n",
    "    def level(self):\n",
    "        return self._level\n",
    "    \n",
    "    #setattr\n",
    "    @level.setter\n",
    "    def level(self, amount):\n",
    "        self._level = amount\n",
    "\n",
    "t=Tank()\n",
    "t.level=4 #change attribute\n",
    "print(t.__dict__)"
   ]
  },
  {
   "cell_type": "code",
   "execution_count": 48,
   "metadata": {},
   "outputs": [
    {
     "name": "stdout",
     "output_type": "stream",
     "text": [
      "level of  4\n",
      "{'capacity': 10, '_level': 4}\n",
      "4\n"
     ]
    }
   ],
   "source": [
    "#convert get_level() to getattr, set_level() to setattr\n",
    "class Tank:\n",
    "    def __init__(self, capacity):\n",
    "        self.capacity = capacity\n",
    "        self._level = 0\n",
    "    \n",
    "    #getattr: there is attribute known as level\n",
    "    @property\n",
    "    def level(self):\n",
    "        return self._level\n",
    "    \n",
    "    #setattr\n",
    "    @level.setter\n",
    "    def level(self, amount):\n",
    "        if amount > 0:\n",
    "            # fueling\n",
    "            if amount <= self.capacity:\n",
    "                self._level = amount\n",
    "            else:\n",
    "                raise TankError('Too much liquid in the tank')\n",
    "        elif amount < 0:\n",
    "            raise TankError('Not possible to set negative liquid level')\n",
    "\n",
    "    #delattr\n",
    "    @level.deleter\n",
    "    def level(self):\n",
    "        if self._level > 0:\n",
    "            print('It is good to remember to sanitize the remains from the tank!')\n",
    "        self._level = None\n",
    "\n",
    "#directly operate attribute of a class\n",
    "t=Tank(10)\n",
    "t.level=4 #change attribute\n",
    "#t.level=40 # raise error\n",
    "print('level of ', t.level)\n",
    "print(t.__dict__)\n",
    "print(t._level)"
   ]
  },
  {
   "cell_type": "code",
   "execution_count": 47,
   "metadata": {},
   "outputs": [
    {
     "name": "stdout",
     "output_type": "stream",
     "text": [
      "level of  4\n",
      "{'_capacity': 10, '_level': 4}\n",
      "4\n",
      "left level is 3.6\n",
      "left level is 2.6\n",
      "left level is 0\n"
     ]
    }
   ],
   "source": [
    "#convert get_level() to getattr, set_level() to setattr\n",
    "class TankError(Exception):\n",
    "    pass\n",
    "\n",
    "\n",
    "class Tank:\n",
    "    def __init__(self):\n",
    "        self._capacity = 0\n",
    "        self._level = 0\n",
    "    \n",
    "    @property\n",
    "    def capacity(self):\n",
    "        return self._capacity\n",
    "    \n",
    "    @capacity.setter\n",
    "    def capacity(self, capacity):\n",
    "        if capacity<0:\n",
    "            raise TankError('Not possible to set negative capacity')\n",
    "        self._capacity = capacity\n",
    "\n",
    "    #getattr: there is attribute known as level\n",
    "    @property\n",
    "    def level(self):\n",
    "        return self._level\n",
    "    \n",
    "    #setattr\n",
    "    @level.setter\n",
    "    def level(self, amount):\n",
    "        if amount > 0:\n",
    "            # fueling\n",
    "            if amount <= self._capacity:\n",
    "                self._level = amount\n",
    "            else:\n",
    "                raise TankError('Too much liquid in the tank')\n",
    "        elif amount < 0:\n",
    "            raise TankError('Not possible to set negative liquid level')\n",
    "\n",
    "    #delattr\n",
    "    @level.deleter\n",
    "    def level(self):\n",
    "        if self._level > 0:\n",
    "            print('It is good to remember to sanitize the remains from the tank!')\n",
    "        self._level = None\n",
    "    \n",
    "    def use_day(self, days):\n",
    "        self._level -= 0.2*days\n",
    "        if self._level < 0:\n",
    "            self._level = 0\n",
    "\n",
    "#directly operate attribute of a class\n",
    "t=Tank()\n",
    "t.capacity=10\n",
    "t.level=4\n",
    "print('level of ', t.level)\n",
    "print(t.__dict__)\n",
    "print(t._level)\n",
    "\n",
    "t.use_day(2)\n",
    "print('left level is', t.level)\n",
    "t.use_day(5)\n",
    "print('left level is', t.level)\n",
    "t.use_day(100)\n",
    "print('left level is', t.level)"
   ]
  },
  {
   "cell_type": "markdown",
   "metadata": {},
   "source": [
    "###\n",
    "@property can decorate any proxying method. @property lets a method to be accessed as an attribute "
   ]
  },
  {
   "cell_type": "code",
   "execution_count": 188,
   "metadata": {},
   "outputs": [
    {
     "name": "stdout",
     "output_type": "stream",
     "text": [
      "20\n",
      "30\n"
     ]
    }
   ],
   "source": [
    "class Cal:\n",
    "    def __init__(self, a):\n",
    "        self.a=a\n",
    "    def add(self):\n",
    "        return self.a+10\n",
    "\n",
    "x=Cal(10)\n",
    "print(x.add())\n",
    "#directly access/change attributes of instances\n",
    "x.a=20 \n",
    "print(x.add())"
   ]
  },
  {
   "cell_type": "code",
   "execution_count": 192,
   "metadata": {},
   "outputs": [
    {
     "name": "stdout",
     "output_type": "stream",
     "text": [
      "20\n"
     ]
    },
    {
     "ename": "AttributeError",
     "evalue": "can't set attribute",
     "output_type": "error",
     "traceback": [
      "\u001b[1;31m---------------------------------------------------------------------------\u001b[0m",
      "\u001b[1;31mAttributeError\u001b[0m                            Traceback (most recent call last)",
      "\u001b[1;32m<ipython-input-192-b62d0cf43878>\u001b[0m in \u001b[0;36m<module>\u001b[1;34m\u001b[0m\n\u001b[0;32m     10\u001b[0m \u001b[0mx\u001b[0m\u001b[1;33m=\u001b[0m\u001b[0mCal\u001b[0m\u001b[1;33m(\u001b[0m\u001b[1;36m10\u001b[0m\u001b[1;33m)\u001b[0m\u001b[1;33m\u001b[0m\u001b[1;33m\u001b[0m\u001b[0m\n\u001b[0;32m     11\u001b[0m \u001b[0mprint\u001b[0m\u001b[1;33m(\u001b[0m\u001b[0mx\u001b[0m\u001b[1;33m.\u001b[0m\u001b[0madd\u001b[0m\u001b[1;33m)\u001b[0m\u001b[1;33m\u001b[0m\u001b[1;33m\u001b[0m\u001b[0m\n\u001b[1;32m---> 12\u001b[1;33m \u001b[0mx\u001b[0m\u001b[1;33m.\u001b[0m\u001b[0madd\u001b[0m\u001b[1;33m=\u001b[0m\u001b[1;36m30\u001b[0m\u001b[1;33m\u001b[0m\u001b[1;33m\u001b[0m\u001b[0m\n\u001b[0m",
      "\u001b[1;31mAttributeError\u001b[0m: can't set attribute"
     ]
    }
   ],
   "source": [
    "#can't change attribute of instance\n",
    "class Cal:\n",
    "    def __init__(self, a):\n",
    "        self._a=a\n",
    "        \n",
    "    @property\n",
    "    def add(self):\n",
    "        return self._a+10\n",
    "\n",
    "x=Cal(10)\n",
    "print(x.add)\n",
    "x.add=30"
   ]
  },
  {
   "cell_type": "markdown",
   "metadata": {},
   "source": [
    "# abstract class\n",
    "\n",
    "abstract class is blueprint of other class. Or abstract class provide a means for API. It set requirements methods that must be implemented by declaring them, but not defining details. \n",
    "\n",
    "abstract class msut consists of at least one abstract method. Abstract method is a method that has declaration but not have any implementation.\n",
    "\n",
    "1. So abstract class should work with subclass for class instantiation. an effective subclass should override all abstract methods inherited from its super classes.\n",
    "2. Abstract Base Class (ABC) is a class that cannot be instantiated. Such a class is a base class for concrete classes;\n",
    "3. ABC can only be inherited from;\n",
    "4. we are forced to override all abstract methods by delivering concrete method implementations."
   ]
  },
  {
   "cell_type": "code",
   "execution_count": 247,
   "metadata": {},
   "outputs": [],
   "source": [
    "import abc\n",
    "class blueprint(abc.ABC):\n",
    "    pass\n",
    "\n",
    "class A(blueprint):\n",
    "    def add(self):\n",
    "        return 3\n",
    "    "
   ]
  },
  {
   "cell_type": "markdown",
   "metadata": {},
   "source": [
    "## declare ABC"
   ]
  },
  {
   "cell_type": "code",
   "execution_count": 185,
   "metadata": {},
   "outputs": [
    {
     "name": "stdout",
     "output_type": "stream",
     "text": [
      "I can walk and run\n",
      "I can crawl\n"
     ]
    }
   ],
   "source": [
    "from abc import ABC, ABCMeta,abstractmethod \n",
    "\n",
    "#abc.ABC implicitly defines metaclass. \n",
    "#abc.ABC is extra layyer over metaclass=ABCmeta. Just simple inheritance\n",
    "class Animal(ABC): \n",
    "    def __init__(self):\n",
    "        super().__init__()\n",
    "        \n",
    "    @abstractmethod\n",
    "    def move(self): \n",
    "        print(\"I can \")\n",
    "        pass\n",
    "  \n",
    "class Snake(Animal): \n",
    "  \n",
    "    def move(self): \n",
    "        print(\"I can crawl\") \n",
    "\n",
    "#same as the previous definition\n",
    "class Mammal(metaclass=ABCMeta): \n",
    "    def __init__(self):\n",
    "        super().__init__()\n",
    "        \n",
    "    @abstractmethod\n",
    "    def move(self): \n",
    "        print(\"I can \")\n",
    "        pass\n",
    "  \n",
    "class Human(Mammal): \n",
    "  \n",
    "    def move(self): \n",
    "        print(\"I can walk and run\") \n",
    "\n",
    "\n",
    "# Driver code \n",
    "R = Human() \n",
    "R.move() \n",
    "  \n",
    "K = Snake() \n",
    "K.move() "
   ]
  },
  {
   "cell_type": "code",
   "execution_count": null,
   "metadata": {},
   "outputs": [],
   "source": [
    "#BluePrint is abstract class\n",
    "# hello() is designed in Blueprint and implemented in GreenField\n",
    "import abc\n",
    "\n",
    "class BluePrint(abc.ABC):\n",
    "    @abc.abstractmethod\n",
    "    def hello(self):\n",
    "        pass\n",
    "\n",
    "class GreenField(BluePrint):\n",
    "    def hello(self):\n",
    "        print('Welcome to Green Field!')\n",
    "\n",
    "\n",
    "gf = GreenField()\n",
    "gf.hello()\n"
   ]
  },
  {
   "cell_type": "code",
   "execution_count": 186,
   "metadata": {},
   "outputs": [
    {
     "name": "stdout",
     "output_type": "stream",
     "text": [
      "Welcome to Green Field!\n"
     ]
    },
    {
     "ename": "TypeError",
     "evalue": "Can't instantiate abstract class RedField with abstract methods hello",
     "output_type": "error",
     "traceback": [
      "\u001b[1;31m---------------------------------------------------------------------------\u001b[0m",
      "\u001b[1;31mTypeError\u001b[0m                                 Traceback (most recent call last)",
      "\u001b[1;32m<ipython-input-186-1bdab5ba6b33>\u001b[0m in \u001b[0;36m<module>\u001b[1;34m\u001b[0m\n\u001b[0;32m     24\u001b[0m \u001b[0mgf\u001b[0m\u001b[1;33m.\u001b[0m\u001b[0mhello\u001b[0m\u001b[1;33m(\u001b[0m\u001b[1;33m)\u001b[0m\u001b[1;33m\u001b[0m\u001b[1;33m\u001b[0m\u001b[0m\n\u001b[0;32m     25\u001b[0m \u001b[1;33m\u001b[0m\u001b[0m\n\u001b[1;32m---> 26\u001b[1;33m \u001b[0mrf\u001b[0m \u001b[1;33m=\u001b[0m \u001b[0mRedField\u001b[0m\u001b[1;33m(\u001b[0m\u001b[1;33m)\u001b[0m\u001b[1;33m\u001b[0m\u001b[1;33m\u001b[0m\u001b[0m\n\u001b[0m",
      "\u001b[1;31mTypeError\u001b[0m: Can't instantiate abstract class RedField with abstract methods hello"
     ]
    }
   ],
   "source": [
    "#TypeError raised: RedField is taken as abstract method.\n",
    "#but abstract class can't be instantiated.\n",
    "\n",
    "import abc\n",
    "\n",
    "\n",
    "class BluePrint(abc.ABC):\n",
    "    @abc.abstractmethod\n",
    "    def hello(self):\n",
    "        pass\n",
    "\n",
    "\n",
    "class GreenField(BluePrint):\n",
    "    def hello(self):\n",
    "        print('Welcome to Green Field!')\n",
    "\n",
    "#all methods defined in ABC must be implementated in subclass\n",
    "class RedField(BluePrint):\n",
    "    def yellow(self):\n",
    "        pass\n",
    "\n",
    "\n",
    "gf = GreenField()\n",
    "gf.hello()\n",
    "\n",
    "rf = RedField()"
   ]
  },
  {
   "cell_type": "markdown",
   "metadata": {},
   "source": [
    "## data abstraction\n",
    "abstract class provide a means for API. It speprate implementation from usecases, and encapsulate some generalized implementation within a onsistent interface."
   ]
  },
  {
   "cell_type": "code",
   "execution_count": null,
   "metadata": {},
   "outputs": [],
   "source": []
  },
  {
   "cell_type": "code",
   "execution_count": null,
   "metadata": {},
   "outputs": [],
   "source": []
  },
  {
   "cell_type": "markdown",
   "metadata": {},
   "source": [
    "# classmethod and staticmethod"
   ]
  },
  {
   "cell_type": "markdown",
   "metadata": {},
   "source": [
    "1. @classmethod and @staticmethod are kind of decorator. No needs to instantiate it when use them.\n",
    "2. @classmethod work on class itself like class variables rather than class objects. \n",
    "2. @staticmethod just like a function. so the function with @staticmethod is independent from other methods.\n",
    "    you can't modify the class or class instance in the function, which may avoid some accidental changes in the class.\n",
    "    Thus, use @staticmethod if a function is independent int the class.\n",
    "3. The first argugment in @classmethod should be cls, indicating class itself. \n",
    "   cls allows you to access the attributes or other functions within a class\n",
    "4. no constructor __init__() is required.\n"
   ]
  },
  {
   "cell_type": "markdown",
   "metadata": {},
   "source": [
    "a class method requires 'cls' as the first parameter and a static method does not;\n",
    "a class method has the ability to access the state or methods of the class, and a static method does not;\n",
    "a class method is decorated by '@classmethod' and a static method by '@staticmethod';\n",
    "a class method can be used as an alternative way to create objects, and a static method is only a utility method."
   ]
  },
  {
   "cell_type": "code",
   "execution_count": 5,
   "metadata": {},
   "outputs": [
    {
     "name": "stdout",
     "output_type": "stream",
     "text": [
      "static method: 2\n",
      "class method: abc\n",
      "class attribute: None\n",
      "foo\n",
      "class function: None\n"
     ]
    }
   ],
   "source": [
    "class Test:\n",
    "    input = None\n",
    "    \n",
    "    def foo():\n",
    "        print('foo')\n",
    "    @staticmethod\n",
    "    def A(a):\n",
    "        print('static method:', a)\n",
    "        \n",
    "    @classmethod\n",
    "    def B(cls, b):\n",
    "        print('class method:', b)        \n",
    "        print('class attribute:', cls.input)\n",
    "        print('class function:', cls.foo())\n",
    "\n",
    "#\n",
    "Test.A(2)\n",
    "Test.B('abc')"
   ]
  },
  {
   "cell_type": "markdown",
   "metadata": {},
   "source": [
    "### compare classmethod and method of OOP"
   ]
  },
  {
   "cell_type": "code",
   "execution_count": 3,
   "metadata": {},
   "outputs": [
    {
     "name": "stdout",
     "output_type": "stream",
     "text": [
      "# of objects created: 0\n",
      "# of objects created: 1\n",
      "# of objects created: 2\n"
     ]
    }
   ],
   "source": [
    "class Example:\n",
    "    __internal_counter = 0\n",
    "\n",
    "    def __init__(self, value):\n",
    "        Example.__internal_counter +=1\n",
    "\n",
    "    @classmethod\n",
    "    def get_internal(cls):\n",
    "        return '# of objects created: {}'.format(cls.__internal_counter)\n",
    "\n",
    "print(Example.get_internal())\n",
    "\n",
    "example1 = Example(10)\n",
    "print(Example.get_internal())\n",
    "\n",
    "example2 = Example(99)\n",
    "print(Example.get_internal())"
   ]
  },
  {
   "cell_type": "code",
   "execution_count": 4,
   "metadata": {},
   "outputs": [
    {
     "name": "stdout",
     "output_type": "stream",
     "text": [
      "# of objects created: 1\n",
      "# of objects created: 2\n",
      "# of objects created: 3\n"
     ]
    }
   ],
   "source": [
    "class Example:\n",
    "    __internal_counter = 0\n",
    "\n",
    "    def __init__(self, value=None):\n",
    "        Example.__internal_counter +=1\n",
    "\n",
    "    def get_internal(cls):\n",
    "        return '# of objects created: {}'.format(cls.__internal_counter)\n",
    "\n",
    "print(Example().get_internal())\n",
    "\n",
    "example1 = Example(10)\n",
    "print(example1.get_internal())\n",
    "\n",
    "example2 = Example(99)\n",
    "print(example2.get_internal())"
   ]
  },
  {
   "cell_type": "markdown",
   "metadata": {},
   "source": [
    "## inheritance of static class"
   ]
  },
  {
   "cell_type": "code",
   "execution_count": 4,
   "metadata": {},
   "outputs": [
    {
     "name": "stdout",
     "output_type": "stream",
     "text": [
      "30\n"
     ]
    }
   ],
   "source": [
    "class A:\n",
    "    @staticmethod\n",
    "    def add(a, b):\n",
    "        return a+b\n",
    "\n",
    "class B(A):\n",
    "    @staticmethod\n",
    "    def add2(a,b):\n",
    "        init = add(a,b)\n",
    "        return init+100\n",
    "\n",
    "class C:\n",
    "    @staticmethod\n",
    "    def cal_total(a,b):\n",
    "        init = B.add(a,b)\n",
    "        return init*10\n",
    "\n",
    "print(C.cal_total(1,2))"
   ]
  },
  {
   "cell_type": "markdown",
   "metadata": {},
   "source": [
    "### objects in static class"
   ]
  },
  {
   "cell_type": "code",
   "execution_count": 10,
   "metadata": {},
   "outputs": [
    {
     "name": "stdout",
     "output_type": "stream",
     "text": [
      "{4: 3, 'c': 5}\n"
     ]
    }
   ],
   "source": [
    "class A:\n",
    "    @staticmethod\n",
    "    def add(a,b):\n",
    "        return {a:b, b:[a]}\n",
    "\n",
    "class B:\n",
    "    @staticmethod\n",
    "    def _get(a):\n",
    "        res = A.add(a, 3)\n",
    "        B._update(res)\n",
    "        return res\n",
    "    \n",
    "    def _update(res):\n",
    "        res['c'] = 5\n",
    "        if 3 in res:\n",
    "            del res[3]\n",
    "#\n",
    "print(B._get(4))"
   ]
  },
  {
   "cell_type": "markdown",
   "metadata": {},
   "source": [
    "# metaclass\n",
    "metaclass is class whose instances are classes. So metaclass allows for customize itself instances\n",
    "\n",
    "class object (instance of class) -> \n",
    "class (instance of metaclass) -> \n",
    "metaclass (subclass of type class)\n",
    "\n",
    "\n",
    "The typical use cases for metaclasses:\n",
    "logging;\n",
    "registering classes at creation time;\n",
    "interface checking;\n",
    "automatically adding new methods;\n",
    "automatically adding new variables.\n",
    "\n",
    "metaprogramming allow programers to modify their own code"
   ]
  },
  {
   "cell_type": "code",
   "execution_count": 105,
   "metadata": {},
   "outputs": [
    {
     "name": "stdout",
     "output_type": "stream",
     "text": [
      "<class 'type'>\n",
      "Dog\n",
      "<class 'type'>\n",
      "<class 'object'>\n",
      "{'__module__': '__main__', '__dict__': <attribute '__dict__' of 'Dog' objects>, '__weakref__': <attribute '__weakref__' of 'Dog' objects>, '__doc__': None}\n",
      "<class '__main__.Dog'>\n",
      "<class '__main__.Dog'>\n",
      "{}\n"
     ]
    }
   ],
   "source": [
    "class Dog:\n",
    "    pass\n",
    "\n",
    "#type is type\n",
    "print(type(Dog))\n",
    "print(Dog.__name__)#inherent from class\n",
    "print(Dog.__base__)#inherent from class\n",
    "print(Dog.__class__)#inherent from both class and instance\n",
    "print(Dog.__dict__)#inherent from both class and instance\n",
    "\n",
    "dog = Dog()\n",
    "#type is __main__.Dog\n",
    "print(type(dog))\n",
    "print(dog.__class__) #inherent from both class and instance\n",
    "print(dog.__dict__)\n"
   ]
  },
  {
   "cell_type": "code",
   "execution_count": 106,
   "metadata": {},
   "outputs": [
    {
     "name": "stdout",
     "output_type": "stream",
     "text": [
      "The class name is: Dog\n",
      "The class is an instance of: <class 'type'>\n",
      "The class is based on: (<class 'object'>,)\n",
      "The class attributes are: {'__module__': '__main__', '__dict__': <attribute '__dict__' of 'Dog' objects>, '__weakref__': <attribute '__weakref__' of 'Dog' objects>, '__doc__': None}\n"
     ]
    }
   ],
   "source": [
    "#When the type() function is called with three arguments, then it dynamically creates a new class.\n",
    "Dog = type('Dog', (), {})\n",
    "\n",
    "print('The class name is:', Dog.__name__)\n",
    "print('The class is an instance of:', Dog.__class__)\n",
    "print('The class is based on:', Dog.__bases__)\n",
    "print('The class attributes are:', Dog.__dict__)\n"
   ]
  },
  {
   "cell_type": "code",
   "execution_count": null,
   "metadata": {},
   "outputs": [],
   "source": [
    "class My_Meta(type):\n",
    "    def __new__(mcs, name, bases, dictionary):\n",
    "        obj = super().__new__(mcs, name, bases, dictionary)\n",
    "        obj.custom_attribute = 'Added by My_Meta'\n",
    "        return obj\n",
    "\n",
    "class My_Object(metaclass=My_Meta):\n",
    "    pass\n",
    "\n",
    "print(My_Object.__dict__)\n"
   ]
  },
  {
   "cell_type": "code",
   "execution_count": 183,
   "metadata": {},
   "outputs": [
    {
     "name": "stdout",
     "output_type": "stream",
     "text": [
      "Just a greeting function, but it could be something more serious like a check sum\n",
      "We are ready to greet you!\n"
     ]
    }
   ],
   "source": [
    "def greetings(self):\n",
    "    print('Just a greeting function, but it could be something more serious like a check sum')\n",
    "\n",
    "class My_Meta(type):\n",
    "    def __new__(mcs, name, bases, dictionary):\n",
    "        if 'greetings' not in dictionary:\n",
    "            dictionary['greetings'] = greetings\n",
    "        obj = super().__new__(mcs, name, bases, dictionary)\n",
    "        return obj\n",
    "\n",
    "class My_Class1(metaclass=My_Meta):\n",
    "    pass\n",
    "\n",
    "class My_Class2(metaclass=My_Meta):\n",
    "    def greetings(self):\n",
    "        print('We are ready to greet you!')\n",
    "\n",
    "myobj1 = My_Class1()\n",
    "myobj1.greetings()\n",
    "myobj2 = My_Class2()\n",
    "myobj2.greetings()"
   ]
  }
 ],
 "metadata": {
  "kernelspec": {
   "display_name": "Python 3",
   "language": "python",
   "name": "python3"
  },
  "language_info": {
   "codemirror_mode": {
    "name": "ipython",
    "version": 3
   },
   "file_extension": ".py",
   "mimetype": "text/x-python",
   "name": "python",
   "nbconvert_exporter": "python",
   "pygments_lexer": "ipython3",
   "version": "3.8.5"
  }
 },
 "nbformat": 4,
 "nbformat_minor": 4
}

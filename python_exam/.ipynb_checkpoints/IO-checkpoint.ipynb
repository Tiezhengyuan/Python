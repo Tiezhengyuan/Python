{
 "cells": [
  {
   "cell_type": "markdown",
   "metadata": {},
   "source": [
    "# 1. Basic"
   ]
  },
  {
   "cell_type": "markdown",
   "metadata": {},
   "source": [
    "## 1.1 print() function\n",
    "formatting print() output with end= and sep= arguments"
   ]
  },
  {
   "cell_type": "code",
   "execution_count": 46,
   "metadata": {},
   "outputs": [
    {
     "name": "stdout",
     "output_type": "stream",
     "text": [
      "\n",
      "0\n",
      "8\n",
      "[1,\n",
      "'abc']\n",
      "{'a': 4,\n",
      "'b': 'abc'}\n"
     ]
    }
   ],
   "source": [
    "print() # no arguememts,\n",
    "but \n",
    "print(0)\n",
    "a=8\n",
    "print(a)\n",
    "#print list\n",
    "a=[1,'abc']\n",
    "print(a)\n",
    "#print dictionary\n",
    "d={'a':4,'b':'abc'}\n",
    "print(d)"
   ]
  },
  {
   "cell_type": "code",
   "execution_count": null,
   "metadata": {},
   "outputs": [],
   "source": [
    "#default is end='\\n'\n",
    "print('good')\n",
    "print('morning',\n",
    "end=\"\\n\")\n",
    "print('I am',\n",
    "end=\" \")\n",
    "print('good',\n",
    "end=\"\\n\")\n",
    "print('Hi ',\n",
    "end='Johnson:')"
   ]
  },
  {
   "cell_type": "code",
   "execution_count": null,
   "metadata": {},
   "outputs": [],
   "source": [
    "print('I','am','free',sep=' ')\n",
    "print(123,456,789,sep='-')"
   ]
  },
  {
   "cell_type": "code",
   "execution_count": 19,
   "metadata": {},
   "outputs": [
    {
     "ename": "SyntaxError",
     "evalue": "positional argument follows keyword argument (<ipython-input-19-9697ed2af640>,\nline 2)",
     "output_type": "error",
     "traceback": [
      "\u001b[1;36m  File \u001b[1;32m\"<ipython-input-19-9697ed2af640>\"\u001b[1;36m,\nline \u001b[1;32m2\u001b[0m\n\u001b[1;33m    print(sep='--',\n'Ben',\n25,\n'California')\u001b[0m\n\u001b[1;37m                    ^\u001b[0m\n\u001b[1;31mSyntaxError\u001b[0m\u001b[1;31m:\u001b[0m positional argument follows keyword argument\n"
     ]
    }
   ],
   "source": [
    "print('Ben', 25, 'California',sep='--')\n",
    "#error\n",
    "print(sep='--', 'Ben', 25, 'California')"
   ]
  },
  {
   "cell_type": "code",
   "execution_count": 4,
   "metadata": {},
   "outputs": [
    {
     "name": "stdout",
     "output_type": "stream",
     "text": [
      "1\n",
      "2\n",
      "3\n",
      "4\n",
      "5\n",
      "1,2,3,4,5,1\n",
      "2\n",
      "3\n",
      "4\n",
      "5\n"
     ]
    }
   ],
   "source": [
    "a=0\n",
    "#1\n",
    "while a < 5:\n",
    "    a += 1\n",
    "    print(a)\n",
    "\n",
    "#2\n",
    "a=0\n",
    "while a < 5:\n",
    "    a += 1\n",
    "    print(a,end=',')\n",
    "\n",
    "#3\n",
    "#Note: \"sep\" is overrided when there is only one input\n",
    "a=0\n",
    "while a < 5:\n",
    "    a += 1\n",
    "    print(a,sep=',')"
   ]
  },
  {
   "cell_type": "markdown",
   "metadata": {},
   "source": [
    "## 1.2 input() function"
   ]
  },
  {
   "cell_type": "code",
   "execution_count": 25,
   "metadata": {},
   "outputs": [
    {
     "name": "stdout",
     "output_type": "stream",
     "text": [
      "Enter your name: 4\n",
      "Your name is 4\n"
     ]
    }
   ],
   "source": [
    "inp = input('Enter your name: ')\n",
    "print(f\"Your name is {inp}\")"
   ]
  },
  {
   "cell_type": "code",
   "execution_count": 29,
   "metadata": {},
   "outputs": [
    {
     "name": "stdout",
     "output_type": "stream",
     "text": [
      "4\n",
      "5\n",
      "<class 'str'>\n",
      "45\n"
     ]
    }
   ],
   "source": [
    "#Note: default the type is string if input is numeric\n",
    "x = input()\n",
    "y = input()\n",
    "print(type(x))\n",
    "print(x+y)\n"
   ]
  },
  {
   "cell_type": "code",
   "execution_count": 30,
   "metadata": {},
   "outputs": [
    {
     "name": "stdout",
     "output_type": "stream",
     "text": [
      "3\n",
      "4\n",
      "3333\n"
     ]
    }
   ],
   "source": [
    "#Note: x is string and y is integer. so the string x will be repeated by y times\n",
    "x= input()\n",
    "y= int(input())\n",
    "print(x*y)"
   ]
  },
  {
   "cell_type": "markdown",
   "metadata": {},
   "source": [
    "## 1.3 output formation: %"
   ]
  },
  {
   "cell_type": "code",
   "execution_count": 5,
   "metadata": {},
   "outputs": [
    {
     "name": "stdout",
     "output_type": "stream",
     "text": [
      "nan,\n",
      "nan,\n",
      "NAN,\n",
      "nan,\n",
      "NAN\n"
     ]
    }
   ],
   "source": [
    "a = float(\"NaN\")\n",
    "#\n",
    "print(\"%s, %f,%F,%e,%E\" % (a,a,a,a,a))"
   ]
  },
  {
   "cell_type": "code",
   "execution_count": 16,
   "metadata": {},
   "outputs": [
    {
     "name": "stdout",
     "output_type": "stream",
     "text": [
      "f,\n",
      "F\n",
      "123\n",
      "123\n",
      "123.121\n"
     ]
    }
   ],
   "source": [
    "#%x: hexadecimal\n",
    "print('%x,\n",
    "%X' % (15,15))\n",
    "#%d: decimal\n",
    "print('%d'%(123.05))\n",
    "#%f: float\n",
    "print('%.f'%(123.1205))\n",
    "print('%.3f'%(123.1205))"
   ]
  },
  {
   "cell_type": "code",
   "execution_count": 17,
   "metadata": {},
   "outputs": [
    {
     "name": "stdout",
     "output_type": "stream",
     "text": [
      "[A]\n"
     ]
    }
   ],
   "source": [
    "#%c convert to character\n",
    "print('[%c]'% 65)"
   ]
  },
  {
   "cell_type": "code",
   "execution_count": null,
   "metadata": {},
   "outputs": [],
   "source": [
    "#type error\n",
    "print('%d'%('123.9'))"
   ]
  },
  {
   "cell_type": "markdown",
   "metadata": {},
   "source": [
    "# 2. file handler\n",
    "r: reading (default handler). create a file if it doesn't exists\n",
    "w,\n",
    "writing\n",
    "a,\n",
    "appending\n",
    "x,\n",
    "open a file for exlusive creation. failed if it exists\n",
    "r+,\n",
    "reading and writing\n",
    "t,\n",
    "open in text mode (default)\n",
    "b,\n",
    "open in binary mode "
   ]
  },
  {
   "cell_type": "markdown",
   "metadata": {},
   "source": [
    "## 2.1 read handler\n",
    "#read only: Memorize the three patterns below\n",
    "file.read() and file.readlines() are not suggested if a file is big."
   ]
  },
  {
   "cell_type": "code",
   "execution_count": 6,
   "metadata": {},
   "outputs": [
    {
     "name": "stdout",
     "output_type": "stream",
     "text": [
      "<_io.TextIOWrapper name='F:\\\\python_practise\\\\infile.txt' mode='r' encoding='cp1252'>\n",
      "read entire contents as a string\n",
      "1\n",
      "11\n",
      "222\n",
      "333\n",
      "444\n"
     ]
    }
   ],
   "source": [
    "#1: file.read() get content as string\n",
    "f = open('F:\\python_practise\\infile.txt','r')\n",
    "print(f)\n",
    "print(\"read entire contents as a string\")\n",
    "print(f.read(1)) # read the first character and the file handle move to the 2nd character. \n",
    "print(f.read()) # read the left contents as one string.\n",
    "f.close()"
   ]
  },
  {
   "cell_type": "code",
   "execution_count": 5,
   "metadata": {},
   "outputs": [
    {
     "name": "stdout",
     "output_type": "stream",
     "text": [
      "readlines(): read entire contents as a list\n",
      "['111\\n', '222\\n', '333\\n', '444']\n",
      "readline(): read the first 3 bytes\n",
      "111\n"
     ]
    }
   ],
   "source": [
    "#2: file.readlines(): get content as list\n",
    "f = open('F:\\python_practise\\infile.txt','r')\n",
    "print(\"readlines(): read entire contents as a list\")\n",
    "print(f.readlines())\n",
    "f.close()\n",
    "\n",
    "f = open('F:\\python_practise\\infile.txt','r')\n",
    "print(\"readline(): read the first 3 bytes\")\n",
    "print(f.readline(3))\n",
    "f.close()\n",
    "\n"
   ]
  },
  {
   "cell_type": "code",
   "execution_count": null,
   "metadata": {},
   "outputs": [],
   "source": [
    "#3:read line by line\n",
    "f = open('F:\\python_practise\\infile.txt',\n",
    "'r')\n",
    "print(\"read the file line by line:\")\n",
    "for l in f:\n",
    "    print(l)\n",
    "f.close"
   ]
  },
  {
   "cell_type": "code",
   "execution_count": 24,
   "metadata": {},
   "outputs": [
    {
     "name": "stdout",
     "output_type": "stream",
     "text": [
      "read entire contents as a string\n",
      "111\n",
      "222\n",
      "333\n",
      "444\n",
      "readlines(): read entire contents as a list\n",
      "[]\n"
     ]
    }
   ],
   "source": [
    "#Note: use the same file handler\n",
    "#Therefore,\n",
    "the second read statement return empty because the pointer is at the end of file.\n",
    "#1:\n",
    "f = open('F:\\python_practise\\infile.txt',\n",
    "'r')\n",
    "print(\"read entire contents as a string\")\n",
    "print(f.read())\n",
    "\n",
    "#2:\n",
    "print(\"readlines(): read entire contents as a list\")\n",
    "print(f.readlines())\n",
    "f.close()"
   ]
  },
  {
   "cell_type": "code",
   "execution_count": 34,
   "metadata": {},
   "outputs": [
    {
     "name": "stdout",
     "output_type": "stream",
     "text": [
      "F:\\python_practise\n"
     ]
    }
   ],
   "source": [
    "import os\n",
    "print(os.path.abspath('.'))"
   ]
  },
  {
   "cell_type": "markdown",
   "metadata": {},
   "source": [
    "## 2.2 write\n",
    "write a string using file.write()\n",
    "write a sequence of strings like list or tupe using file.writelines()"
   ]
  },
  {
   "cell_type": "code",
   "execution_count": 35,
   "metadata": {},
   "outputs": [],
   "source": [
    "#file.write()\n",
    "f = open(\"outfile.txt\",'w')\n",
    "f.write(\"file.write(): this is a line.\")\n",
    "f.close()"
   ]
  },
  {
   "cell_type": "code",
   "execution_count": 36,
   "metadata": {},
   "outputs": [],
   "source": [
    "#file.writelines()\n",
    "f = open(\"outfile.txt\",\n",
    "'w')\n",
    "f.writelines(\"file.writelines(): this is a line.\")\n",
    "f.close()"
   ]
  },
  {
   "cell_type": "code",
   "execution_count": 42,
   "metadata": {},
   "outputs": [
    {
     "name": "stdout",
     "output_type": "stream",
     "text": [
      "['a',\n",
      "'b',\n",
      "'c']\n"
     ]
    }
   ],
   "source": [
    "#file.writelines()\n",
    "f = open(\"outfile.txt\",'w')\n",
    "a=list('abc')\n",
    "print(a)\n",
    "f.writelines(a)\n",
    "f.close()"
   ]
  },
  {
   "cell_type": "markdown",
   "metadata": {},
   "source": [
    "# 3. system interaction"
   ]
  },
  {
   "cell_type": "code",
   "execution_count": 15,
   "metadata": {},
   "outputs": [
    {
     "name": "stdout",
     "output_type": "stream",
     "text": [
      "current directory: F:\\python_practise\n",
      "directory of a file: F:\\python_practise\n",
      "file name of a file: infile.txt\n",
      "file name and file extension of a file: ('infile',\n",
      "'.txt')\n",
      "file name and file extension of a file: ('c:\\\\.file',\n",
      "'')\n",
      "absolute path of a file: F:\\python_practise\\infile.txt\n"
     ]
    }
   ],
   "source": [
    "import os\n",
    "\n",
    "#\n",
    "print(\"current directory:\",\n",
    "os.getcwd())\n",
    "\n",
    "#\n",
    "s='F:\\python_practise\\infile.txt'\n",
    "print('directory of a file:',\n",
    "os.path.dirname(s))\n",
    "print('file name of a file:',\n",
    "os.path.basename(s))\n",
    "print('file name and file extension of a file:',\n",
    "os.path.splitext(os.path.basename(s)))\n",
    "print('file name and file extension of a file:',\n",
    "os.path.splitext('c:\\\\.file'))\n",
    "print('absolute path of a file:',\n",
    "os.path.abspath(s))"
   ]
  },
  {
   "cell_type": "code",
   "execution_count": 10,
   "metadata": {},
   "outputs": [
    {
     "name": "stdout",
     "output_type": "stream",
     "text": [
      "None\n",
      "LOCAL\n"
     ]
    }
   ],
   "source": [
    "import os\n",
    "\n",
    "#\n",
    "print(os.getenv('LOCAL'))\n",
    "#set env\n",
    "os.environ['LOCAL']='LOCAL'\n",
    "#show env variable\n",
    "print(os.environ.get('LOCAL'))\n",
    "#delete\n",
    "del os.environ['LOCAL']"
   ]
  },
  {
   "cell_type": "markdown",
   "metadata": {},
   "source": [
    "## import pickle\n",
    "implements binary protocols for serializing and de-serializing a python object structure. Pickling is known as serialization or marshalling or flattening.\n",
    "\n",
    "Note: \n",
    "1. add 'b' when dump 'wb' or load 'rb' from binary file.\n",
    "1. unsafe to unpicke data which may execute  arbitrary code\n",
    "3. pickle file is cross-platform. It is constant among different python releases, or OS. but pickle file format (pickle protocol) may not be constant among different python releases"
   ]
  },
  {
   "cell_type": "markdown",
   "metadata": {},
   "source": [
    "pickle/unpickle serialized data into file: pickle.dump() and pickle.load()\n",
    "pickle/unpickle python objects to serilized data: pickle.dumps() and pickle.loads()"
   ]
  },
  {
   "cell_type": "code",
   "execution_count": 36,
   "metadata": {},
   "outputs": [
    {
     "name": "stdout",
     "output_type": "stream",
     "text": [
      "<class '__main__.A'>\n",
      "b'\\x80\\x04\\x95\\x12\\x00\\x00\\x00\\x00\\x00\\x00\\x00\\x8c\\x08__main__\\x94\\x8c\\x01A\\x94\\x93\\x94.'\n",
      "good\n"
     ]
    }
   ],
   "source": [
    "import pickle\n",
    "\n",
    "class A:\n",
    "    attr= 'good'\n",
    "\n",
    "#write class into object\n",
    "ps=pickle.dumps(A)\n",
    "print(A)\n",
    "print(ps)\n",
    "\n",
    "#write data into a file using pickle.dump()\n",
    "with open('pickle_A', 'wb') as f:\n",
    "    pickle.dump(A, f)\n",
    "\n",
    "\n",
    "#read from file using pickle.load()\n",
    "with open('pickle_A', 'rb') as f:\n",
    "    bb=pickle.load(f)\n",
    "print(bb.attr)\n"
   ]
  },
  {
   "cell_type": "code",
   "execution_count": 38,
   "metadata": {},
   "outputs": [
    {
     "name": "stdout",
     "output_type": "stream",
     "text": [
      "JGood_2\n",
      "JGood_2\n"
     ]
    }
   ],
   "source": [
    "import pickle  \n",
    "class Person:  \n",
    "    def __init__(self,n,a):  \n",
    "        self.name=n  \n",
    "        self.age=a  \n",
    "    def show(self):  \n",
    "        print(f\"{self.name}_{self.age}\")\n",
    "aa = Person(\"JGood\", 2)  \n",
    "aa.show()\n",
    "\n",
    "#pickle instance\n",
    "f=open('f:\\\\p.txt','wb')  \n",
    "pickle.dump(aa,f)  \n",
    "f.close()  \n",
    "\n",
    "#del Person  \n",
    "f=open('f:\\\\p.txt','rb')  \n",
    "bb=pickle.load(f)  \n",
    "f.close()  \n",
    "bb.show()  "
   ]
  },
  {
   "cell_type": "code",
   "execution_count": 39,
   "metadata": {},
   "outputs": [
    {
     "name": "stdout",
     "output_type": "stream",
     "text": [
      "JGood_2\n",
      "bad_4\n"
     ]
    }
   ],
   "source": [
    "import pickle  \n",
    "class Person:  \n",
    "    def __init__(self,n,a):  \n",
    "        self.name=n  \n",
    "        self.age=a  \n",
    "    def add(self):  \n",
    "        self.age+=10\n",
    "a = Person(\"JGood\", 2)  \n",
    "a.add()\n",
    "\n",
    "p1=pickle.dumps(a)\n",
    "aa = pickle.loads(p1)\n",
    "\n",
    "b = Person(\"bad\", 4)  \n",
    "b.show()\n",
    "\n",
    "\n"
   ]
  },
  {
   "cell_type": "markdown",
   "metadata": {},
   "source": [
    "## import shelve\n",
    "Shelve make objects in memory for long-time storage. Default is in binary format. shelve is backed by pickle\n",
    "\n",
    "\n",
    "1. shelve object act as python dictionary. The key must be strings. Orders are not needed when putting data\n",
    " len(), in, keys(), items(), update(), del are working too.\n",
    "2. python put changes in a buffer and refresh periodically to disk. It refreshed when sync() or close() is called\n",
    "\n",
    "\n",
    "The meaning of the optional flag parameter:\n",
    "Value\tMeaning\n",
    "'r'\tOpen existing database for reading only\n",
    "'w'\tOpen existing database for reading and writing\n",
    "'c'\tOpen database for reading and writing, creating it if it doesn’t exist (this is a default value)\n",
    "'n'\tAlways create a new, empty database, open for reading and writing"
   ]
  },
  {
   "cell_type": "code",
   "execution_count": null,
   "metadata": {},
   "outputs": [],
   "source": [
    "#example code\n",
    "import shelve\n",
    "s=shelve.open(\"example.db\", flag=\"c\")\n",
    "try:\n",
    "    s['a']=123 #create \n",
    "    del ['a'] # delete\n",
    "    print(s['b']) # show\n",
    "    s['b']=345 # update\n",
    "\n",
    "finally:\n",
    "    s.close()"
   ]
  },
  {
   "cell_type": "code",
   "execution_count": 1,
   "metadata": {},
   "outputs": [
    {
     "name": "stdout",
     "output_type": "stream",
     "text": [
      "{'code': 'US dollar', 'symbol': '$'}\n"
     ]
    }
   ],
   "source": [
    "import shelve\n",
    "\n",
    "shelve_name = 'first_shelve.shlv'\n",
    "\n",
    "#create file\n",
    "my_shelve = shelve.open(shelve_name, flag='c')\n",
    "my_shelve['EUR'] = {'code':'Euro', 'symbol': '€'}\n",
    "my_shelve['GBP'] = {'code':'Pounds sterling', 'symbol': '£'}\n",
    "my_shelve['USD'] = {'code':'US dollar', 'symbol': '$'}\n",
    "my_shelve['JPY'] = {'code':'Japanese yen', 'symbol': '¥'}\n",
    "my_shelve.close()\n",
    "\n",
    "new_shelve = shelve.open(shelve_name)\n",
    "print(new_shelve['USD'])\n",
    "new_shelve.close()\n"
   ]
  },
  {
   "cell_type": "markdown",
   "metadata": {},
   "source": [
    "## import csv\n",
    "1. read csv\n",
    "csv.reader(): as list\n",
    "csv.DictReader: as dictionary\n",
    "\n",
    "2.write to csv\n",
    "csv.writer()-> writerow()\n",
    "csv.DictWriter()-> writheader()-> writerow()\n",
    "csv.DictWriter(, fieldnames=fieldnames -> writerow()"
   ]
  },
  {
   "cell_type": "code",
   "execution_count": 3,
   "metadata": {},
   "outputs": [
    {
     "name": "stdout",
     "output_type": "stream",
     "text": [
      "['Name', 'Phone']\n",
      "['mother', '222-555-101']\n",
      "['father', '222-555-102']\n",
      "['wife', '222-555-103']\n",
      "['mother-in-law', '222-555-104']\n"
     ]
    }
   ],
   "source": [
    "import csv\n",
    "with open('contacts.csv', newline='') as f:\n",
    "    reader = csv.reader(f, delimiter=',')\n",
    "    for r in reader:\n",
    "        print(r)"
   ]
  },
  {
   "cell_type": "code",
   "execution_count": 6,
   "metadata": {},
   "outputs": [
    {
     "name": "stdout",
     "output_type": "stream",
     "text": [
      "Name Phone\n",
      "mother 222-555-101\n",
      "father 222-555-102\n",
      "wife 222-555-103\n",
      "mother-in-law 222-555-104\n"
     ]
    }
   ],
   "source": [
    "import csv\n",
    "with open('contacts.csv', newline='') as f:\n",
    "    colnames= ['name', 'phone']\n",
    "    reader = csv.DictReader(f, delimiter=',', fieldnames=colnames)\n",
    "    for r in reader:\n",
    "        print(r['name'],r['phone'])"
   ]
  },
  {
   "cell_type": "markdown",
   "metadata": {},
   "source": [
    "### write to CSV\n",
    "\n",
    "writer()-> writerow()\n",
    "DictWriter()->writeheader() ->writerow()\n",
    "\n",
    "the below three patterns are equal\n",
    "fieldnames must be there when using DictWriter(). writerheader() should be used otherwise no headers will be exported."
   ]
  },
  {
   "cell_type": "code",
   "execution_count": 2,
   "metadata": {},
   "outputs": [],
   "source": [
    "import csv\n",
    "\n",
    "with open(\"contacts2.csv\", 'w', newline='') as f:\n",
    "    writer=csv.writer(f, delimiter=',')\n",
    "    writer.writerow(['name', 'row'])\n",
    "    writer.writerow(['a', 3])"
   ]
  },
  {
   "cell_type": "code",
   "execution_count": 5,
   "metadata": {},
   "outputs": [],
   "source": [
    "import csv\n",
    "with open('contacts2.csv', 'w', newline='') as f:\n",
    "    col=['name', 'phone']\n",
    "    writer = csv.DictWriter(f, delimiter=',', fieldnames=col)\n",
    "    writer.writeheader()\n",
    "    writer.writerow({'name':'a', 'phone':'34'})"
   ]
  },
  {
   "cell_type": "code",
   "execution_count": 7,
   "metadata": {},
   "outputs": [],
   "source": [
    "import csv\n",
    "with open('contacts2.csv', 'w', newline='') as f:\n",
    "    col=['name', 'phone']\n",
    "    writer = csv.DictWriter(f, delimiter=',', fieldnames=col)\n",
    "    writer.writerow({'name':'a', 'phone':'34'})"
   ]
  },
  {
   "cell_type": "markdown",
   "metadata": {},
   "source": [
    "### Scenario\n",
    "When we buy a new phone, it's necessary to import old contacts. Why not import them from a CSV file? Look again at the familiar contacts.csv file, and then design your new phone as follows:\n",
    "\n",
    "create a class called PhoneContact representing a single contact. The PhoneContact class should contain the name and phone properties;\n",
    "create a class called Phone that will store your contacts. First, implement the method called load_contacts_from_csv, responsible for reading data from the CSV file into the class property called contacts. The contacts property should contain a list of PhoneContact objects;\n",
    "add to the Phone class a method called search_contacts, which accepts any phrase entered by the user from the keyboard, and then based on it perform a search for all matching contacts (case insensitive). If there are no results, print the message: \"No contacts found\"."
   ]
  },
  {
   "cell_type": "code",
   "execution_count": 20,
   "metadata": {},
   "outputs": [
    {
     "name": "stdout",
     "output_type": "stream",
     "text": [
      "mother 222-555-101\n",
      "mother-in-law 222-555-104\n",
      "wife 222-555-103\n",
      "No contacts found\n"
     ]
    }
   ],
   "source": [
    "import csv\n",
    "\n",
    "class PhoneContact:\n",
    "    def __init__(self, name, phone):\n",
    "        self.name = name\n",
    "        self.phone = phone\n",
    "\n",
    "class Phone:\n",
    "    contacts = []\n",
    "    def load_contacts_from_csv(self, infile):\n",
    "        with open(infile, newline=\"\") as f:\n",
    "            reader = csv.reader(f, delimiter=',')\n",
    "            for r in reader:\n",
    "                contact = PhoneContact(r[0],r[1])\n",
    "                self.contacts.append(contact)\n",
    "\n",
    "    \n",
    "    def search_contacts(self, contact_str):\n",
    "        found = []\n",
    "        for r in self.contacts:\n",
    "            if contact_str.lower() in r.name.lower():\n",
    "                found.append(r)\n",
    "            elif contact_str.lower() in r.phone.lower():\n",
    "                found.append(r)\n",
    "            \n",
    "        \n",
    "        if len(found)>0:\n",
    "            for a in found:\n",
    "                print(a.name, a.phone)\n",
    "        else:\n",
    "            print(\"No contacts found\")\n",
    "                \n",
    "            \n",
    "\n",
    "p= Phone()\n",
    "#print\n",
    "p.load_contacts_from_csv('contacts.csv')\n",
    "#\n",
    "p.search_contacts('mother')\n",
    "p.search_contacts('103')\n",
    "p.search_contacts('ad')"
   ]
  },
  {
   "cell_type": "markdown",
   "metadata": {},
   "source": [
    "### Scenario\n",
    "Have you ever prepared a report? Your task will be to prepare a report summarizing the results of exams in maths, physics and biology. The report should include the name of the exam, the number of candidates, the number of passed exams, the number of failed exams, and the best and the worst scores. All the data necessary to create the report is in the exam_results.csv file."
   ]
  },
  {
   "cell_type": "code",
   "execution_count": 59,
   "metadata": {},
   "outputs": [
    {
     "name": "stdout",
     "output_type": "stream",
     "text": [
      "done\n"
     ]
    }
   ],
   "source": [
    "import csv\n",
    "\n",
    "class Exam:\n",
    "    def __init__(self, name, scores):\n",
    "        self.name = name\n",
    "        self.scores = scores\n",
    "        \n",
    "    def build_exam(self)->list:\n",
    "        passed = len([ a for a in self.scores if a>=60])\n",
    "        myexam = [self.name, str(len(self.scores)),\n",
    "            str(passed), str(len(self.scores)-passed),\n",
    "            str(max(self.scores)), str(min(self.scores))]\n",
    "        return myexam\n",
    "\n",
    "class Report:\n",
    "    def __init__(self, csv_path):\n",
    "        self.file_path = csv_path\n",
    "        \n",
    "    def add_exam(self, exam):\n",
    "        with open(self.file_path, 'a', newline='') as f:\n",
    "            writer = csv.writer(f, delimiter=',')\n",
    "            writer.writerow(exam)\n",
    "            \n",
    "    def create_report(self):\n",
    "        header = ['Exam Name','Number of Candidates',\n",
    "              'Number of Passed Exams',\n",
    "              'Number of Failed Exams',\n",
    "              'Best Score','Worst Score']\n",
    "        with open(self.file_path, 'w', newline='') as f:\n",
    "            writer = csv.writer(f, delimiter=',')\n",
    "            writer.writerow(header)\n",
    "\n",
    "er = Report('exam_results.csv')\n",
    "er.create_report()\n",
    "\n",
    "exam1 = Exam('math', [34,78,100,60]).build_exam()\n",
    "er.add_exam(exam1)\n",
    "exam2 = Exam('english', [134,8,90,61]).build_exam()\n",
    "er.add_exam(exam2)\n",
    "\n",
    "print('done')"
   ]
  },
  {
   "cell_type": "code",
   "execution_count": null,
   "metadata": {},
   "outputs": [],
   "source": []
  },
  {
   "cell_type": "code",
   "execution_count": null,
   "metadata": {},
   "outputs": [],
   "source": []
  },
  {
   "cell_type": "code",
   "execution_count": null,
   "metadata": {},
   "outputs": [],
   "source": []
  },
  {
   "cell_type": "code",
   "execution_count": null,
   "metadata": {},
   "outputs": [],
   "source": []
  },
  {
   "cell_type": "code",
   "execution_count": null,
   "metadata": {},
   "outputs": [],
   "source": []
  }
 ],
 "metadata": {
  "kernelspec": {
   "display_name": "Python 3",
   "language": "python",
   "name": "python3"
  },
  "language_info": {
   "codemirror_mode": {
    "name": "ipython",
    "version": 3
   },
   "file_extension": ".py",
   "mimetype": "text/x-python",
   "name": "python",
   "nbconvert_exporter": "python",
   "pygments_lexer": "ipython3",
   "version": "3.8.5"
  }
 },
 "nbformat": 4,
 "nbformat_minor": 4
}

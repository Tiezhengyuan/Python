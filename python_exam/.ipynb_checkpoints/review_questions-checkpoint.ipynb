{
 "cells": [
  {
   "cell_type": "markdown",
   "metadata": {},
   "source": [
    "## difference between is and ==\n",
    "== operator compars the values of bothere operands and checks for value quality\n",
    "is operator check where both operands refere ot the same object or not. the same object will share the same address in memory."
   ]
  },
  {
   "cell_type": "code",
   "execution_count": null,
   "metadata": {},
   "outputs": [],
   "source": [
    "a_string = ['10', 'days', 'to', 'departure']\n",
    "b_string = a_string\n",
    "\n",
    "print('a_string identity:', id(a_string))\n",
    "print('b_string identity:', id(b_string))\n",
    "print('The result of the value comparison:', a_string == b_string)\n",
    "print('The result of the identity comparison:', a_string is b_string)\n",
    "\n",
    "print()\n",
    "\n",
    "a_string = ['10', 'days', 'to', 'departure']\n",
    "b_string = ['10', 'days', 'to', 'departure']\n",
    "\n",
    "print('a_string identity:', id(a_string))\n",
    "print('b_string identity:', id(b_string))\n",
    "print('The result of the value comparison:', a_string == b_string)\n",
    "print('The result of the identity comparison:', a_string is b_string)"
   ]
  },
  {
   "cell_type": "markdown",
   "metadata": {},
   "source": [
    "## shallow copy and deep copy\n",
    "For compound objects namely list, dictionary, set, there is difference between shallow and deep copy. \n",
    "\n",
    "shallowcopy constructs a new compound object and insert references of the objects (list, dict, set) of the original.\n",
    "deepcopy constructs a new compound object and insert the objects of the original\n",
    "\n",
    "\n",
    "Two problems often exist with deep copy operations that don’t exist with shallow copy operations:\n",
    "1. Recursive objects (compound objects that, directly or indirectly, contain a reference to themselves) may cause a recursive loop.\n",
    "2. Because deep copy copies everything it may copy too much, such as data which is intended to be shared between copies."
   ]
  },
  {
   "cell_type": "code",
   "execution_count": 26,
   "metadata": {},
   "outputs": [
    {
     "name": "stdout",
     "output_type": "stream",
     "text": [
      "Is it the same object? True\n",
      "Is it the same object? False\n"
     ]
    }
   ],
   "source": [
    "a_list = [10, \"banana\", [997, 123]]\n",
    "b_list = [10, \"banana\", [997, 123]]\n",
    "print(\"Is it the same object? compare objects \", a_list == b_list)\n",
    "#the two lists are independent objects\n",
    "print(\"Is it the same object? compare id\", a_list is b_list)\n"
   ]
  },
  {
   "cell_type": "code",
   "execution_count": 53,
   "metadata": {},
   "outputs": [
    {
     "name": "stdout",
     "output_type": "stream",
     "text": [
      "a_list contents: [20, 'banana', [997, 123]]\n",
      "b_list contents: [20, 'banana', [997, 123]]\n",
      "are they equal? True\n",
      "Is it the same object? True\n",
      "8013704 8013704\n"
     ]
    }
   ],
   "source": [
    "#use assign = operator\n",
    "#b_list is alias of a_list\n",
    "b_list = a_list\n",
    "b_list[0] = 20\n",
    "print(\"a_list contents:\", a_list)\n",
    "print(\"b_list contents:\", b_list)\n",
    "print(\"are they equal?\", a_list == b_list)\n",
    "print(\"Is it the same object?\", a_list is b_list)\n",
    "print(id(a_list), id(b_list))"
   ]
  },
  {
   "cell_type": "markdown",
   "metadata": {},
   "source": [
    "### shallow copy\n",
    "both objects are depedent object. They have different id() but shar reference of same nested objects"
   ]
  },
  {
   "cell_type": "code",
   "execution_count": 88,
   "metadata": {},
   "outputs": [
    {
     "name": "stdout",
     "output_type": "stream",
     "text": [
      "are they equal? True\n",
      "Is it the same object? False\n",
      "14324904 14324424\n",
      "\n",
      "change new list\n",
      "a_list contents: [10, 'banana', [11, 200]]\n",
      "b_list contents: [[1, 2], 'apple', [11, 200], 1]\n",
      "\n",
      "change old list\n",
      "a_list contents: [0, 'banana', [20, 200]]\n",
      "b_list contents: [[1, 2], 'apple', [20, 200], 1]\n"
     ]
    }
   ],
   "source": [
    "import copy\n",
    "a_list = [10, \"banana\", [100, 200]]\n",
    "b_list= copy.copy(a_list)\n",
    "print(\"are they equal?\", a_list == b_list)\n",
    "print(\"Is it the same object?\", a_list is b_list)\n",
    "print(id(a_list), id(b_list))\n",
    "\n",
    "#In new list, change will not affect on old list\n",
    "b_list.append(1)\n",
    "b_list[0]=[1,2]\n",
    "b_list[1]='apple'\n",
    "#any changes on nested object will change old and new list\n",
    "b_list[2][0]=11\n",
    "print(\"\\nchange new list\")\n",
    "print(\"a_list contents:\", a_list)\n",
    "print(\"b_list contents:\", b_list)\n",
    "\n",
    "\n",
    "print(\"\\nchange old list\")\n",
    "a_list[0]=0\n",
    "#any changes on nested object will change old new list\n",
    "a_list[2][0]=20\n",
    "print(\"a_list contents:\", a_list)\n",
    "print(\"b_list contents:\", b_list)\n"
   ]
  },
  {
   "cell_type": "code",
   "execution_count": 94,
   "metadata": {},
   "outputs": [
    {
     "name": "stdout",
     "output_type": "stream",
     "text": [
      "a_list contents: [10, 'banana', [100, 200]]\n",
      "b_list contents: [10, 'banana', [100, 200]]\n",
      "Is it the same object? True\n",
      "Is it the same object? False\n",
      "14330728 8015176\n",
      "a_list contents: [100, 'aa', [700, 200], 100]\n",
      "b_list contents: [111, 'bb', [700, 200], 111]\n"
     ]
    }
   ],
   "source": [
    "#shallow copy\n",
    "#slice\n",
    "a_list = [10, \"banana\", [100, 200]]\n",
    "b_list = a_list[:]\n",
    "print(\"a_list contents:\", a_list)\n",
    "print(\"b_list contents:\", b_list)\n",
    "print(\"Is it the same object?\", a_list == b_list)\n",
    "print(\"Is it the same object?\", a_list is b_list)\n",
    "print(id(a_list), id(b_list))\n",
    "\n",
    "a_list.append(100)\n",
    "b_list.append(111)\n",
    "a_list[0]=100\n",
    "b_list[0]=111\n",
    "a_list[1]='aa'\n",
    "b_list[1]='bb'\n",
    "a_list[2][0]=700\n",
    "print(\"a_list contents:\", a_list)\n",
    "print(\"b_list contents:\", b_list)\n",
    "\n"
   ]
  },
  {
   "cell_type": "markdown",
   "metadata": {},
   "source": [
    "### deepcopy\n",
    "\n",
    "\n",
    "\n"
   ]
  },
  {
   "cell_type": "code",
   "execution_count": 47,
   "metadata": {},
   "outputs": [
    {
     "name": "stdout",
     "output_type": "stream",
     "text": [
      "a_list contents: [10, 'banana', [997, 123]]\n",
      "b_list contents: [10, 'banana', [997, 123]]\n",
      "Is it the same object? True\n",
      "Is it the same object? False\n",
      "Is it the same object? True\n",
      "Is it the same object? False\n",
      "Is it the same object? True\n",
      "Is it the same object? False\n",
      "14302888 96613992\n"
     ]
    }
   ],
   "source": [
    "#deepcopy\n",
    "a_list = [10, \"banana\", [997, 123]]\n",
    "\n",
    "#deepcopy\n",
    "b_list = list(a_list)\n",
    "print(\"Is it the same object?\", a_list == b_list)\n",
    "print(\"Is it the same object?\", a_list is b_list)\n",
    "\n",
    "\n",
    "#deepcopy\n",
    "from copy import deepcopy\n",
    "b_list = deepcopy(a_list)\n",
    "print(\"Is it the same object?\", a_list == b_list)\n",
    "print(\"Is it the same object?\", a_list is b_list)\n",
    "\n"
   ]
  },
  {
   "cell_type": "code",
   "execution_count": null,
   "metadata": {},
   "outputs": [],
   "source": []
  },
  {
   "cell_type": "code",
   "execution_count": 46,
   "metadata": {},
   "outputs": [
    {
     "name": "stdout",
     "output_type": "stream",
     "text": [
      "[{'sd': 'af'}, 3] [{'sd': 'af'}, 3, None, 4]\n"
     ]
    }
   ],
   "source": []
  },
  {
   "cell_type": "code",
   "execution_count": null,
   "metadata": {},
   "outputs": [],
   "source": []
  },
  {
   "cell_type": "markdown",
   "metadata": {},
   "source": [
    "## circular reference or cyclic reference\n",
    "the situation of a variable in one object is referencing another variable in another object, which is also referenced by this variable. Another words, two variables in two objects are referenced to each other.\n",
    "\n",
    "memory leak is caused when both class include __del__"
   ]
  },
  {
   "cell_type": "code",
   "execution_count": 18,
   "metadata": {},
   "outputs": [
    {
     "name": "stdout",
     "output_type": "stream",
     "text": [
      "B: 14268064, var_b: 14267920\n",
      "A: 14267920, var_a: 14268064\n",
      "B: 14267632, var_b: 14290192\n",
      "delete B\n",
      "delete B\n"
     ]
    }
   ],
   "source": [
    "class A:\n",
    "    def __init__(self):\n",
    "        self.var_a = B(self)\n",
    "        print(\"A: {0}, var_a: {1}\".format(id(self), id(self.var_a)))\n",
    "    def __del__(self):\n",
    "        print(\"delete A\")\n",
    "    \n",
    "\n",
    "class B:\n",
    "    def __init__(self, obj):\n",
    "        self.var_b = obj\n",
    "        print(\"B: {0}, var_b: {1}\".format(id(self), id(self.var_b)))\n",
    "    def __del__(self):\n",
    "        print(\"delete B\")\n",
    "\n",
    "a=A()\n",
    "b=B(A)\n",
    "\n",
    "#cause memory leak\n",
    "del a\n",
    "del b"
   ]
  },
  {
   "cell_type": "markdown",
   "metadata": {},
   "source": [
    "## magic methods\n",
    "magic methods or dunder methods are spcecial methods, which are surrounded by double underscore. The most basic magic methods is __init__\n",
    "\n",
    "__new__() get called in an object's instantiation. That is implicitly called before __init__(). __new__() returns a new object which is then initialized by __init__()\n",
    "\n",
    "__init__() get called by __new__ method. it is constructor which initialize the object.\n",
    "\n",
    "__del__() is destructor method\n",
    "\n",
    "magic methods are used for operator overloading: __add__, __sub__ "
   ]
  },
  {
   "cell_type": "code",
   "execution_count": 36,
   "metadata": {},
   "outputs": [
    {
     "name": "stdout",
     "output_type": "stream",
     "text": [
      "instantiate class\n",
      "initialize object\n"
     ]
    }
   ],
   "source": [
    "from os.path import join\n",
    "\n",
    "class FileObject:\n",
    "    def __new__(cls, *args, **kwargs):\n",
    "        print(\"instantiate class\")\n",
    "        return object.__new__(cls, *args, **kwargs)\n",
    "\n",
    "\n",
    "    def __init__(self, filepath='f:\\\\', filename='p.txt'):\n",
    "        print(\"initialize object\")\n",
    "        # open a file filename in filepath in read and write mode\n",
    "        self.file = open(join(filepath, filename), 'r+')\n",
    "\n",
    "    def __del__(self):\n",
    "        print(\"destructor\")\n",
    "        self.file.close()\n",
    "        del self.file\n",
    "\n",
    "f=FileObject()"
   ]
  },
  {
   "cell_type": "markdown",
   "metadata": {},
   "source": [
    "## duck typing\n",
    "duck typingis type sytem used in dynamic languages such Perl ,python ruby, php, javascript etc. duck typing is dynamic type. which no check type at all. It assumes that class objects own methods that are called.\n"
   ]
  },
  {
   "cell_type": "code",
   "execution_count": 95,
   "metadata": {},
   "outputs": [
    {
     "name": "stdout",
     "output_type": "stream",
     "text": [
      "<class 'int'>\n",
      "<class 'str'>\n"
     ]
    }
   ],
   "source": [
    "a=200\n",
    "print(type(a))\n",
    "a='200'\n",
    "print(type(a))\n"
   ]
  },
  {
   "cell_type": "code",
   "execution_count": 108,
   "metadata": {},
   "outputs": [
    {
     "name": "stdout",
     "output_type": "stream",
     "text": [
      "<class '__main__.A'>\n",
      "10\n",
      "<class '__main__.B'>\n",
      "20\n"
     ]
    }
   ],
   "source": [
    "class A:\n",
    "    def test_(self):\n",
    "        print(10)\n",
    "\n",
    "class B:\n",
    "    def test_(self):\n",
    "        print(20)\n",
    "\n",
    "#the type of obj is dynamic\n",
    "def test(obj):\n",
    "    print(type(obj))\n",
    "    return obj.test_()\n",
    "\n",
    "for I in (A,B):\n",
    "    test(I())"
   ]
  },
  {
   "cell_type": "code",
   "execution_count": null,
   "metadata": {},
   "outputs": [],
   "source": []
  },
  {
   "cell_type": "code",
   "execution_count": null,
   "metadata": {},
   "outputs": [],
   "source": []
  }
 ],
 "metadata": {
  "kernelspec": {
   "display_name": "Python 3",
   "language": "python",
   "name": "python3"
  },
  "language_info": {
   "codemirror_mode": {
    "name": "ipython",
    "version": 3
   },
   "file_extension": ".py",
   "mimetype": "text/x-python",
   "name": "python",
   "nbconvert_exporter": "python",
   "pygments_lexer": "ipython3",
   "version": "3.8.5"
  }
 },
 "nbformat": 4,
 "nbformat_minor": 4
}

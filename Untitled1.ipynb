{
 "cells": [
  {
   "cell_type": "code",
   "execution_count": 12,
   "metadata": {},
   "outputs": [
    {
     "name": "stdout",
     "output_type": "stream",
     "text": [
      "2009 1\n",
      "19-09-18\n"
     ]
    }
   ],
   "source": [
    "\n",
    "\n",
    "\n",
    "from datetime import datetime\n",
    "\n",
    "date_time_str = '18/09/19 01:55:19'\n",
    "\n",
    "date_time_obj = datetime.strptime(date_time_str, '%d/%m/%y %H:%M:%S')\n",
    "\n",
    "#d=datetime.strptime(\"2019-01\", \"%y-%m\")\n",
    "#print(d)\n",
    "\n",
    "current_year, current_month = [ int(i) for i in \"2009-1\".split(\"-\")]\n",
    "print(current_year, current_month)\n",
    "\n",
    "print(date_time_obj.strftime(\"%y-%m-%d\"))"
   ]
  },
  {
   "cell_type": "code",
   "execution_count": null,
   "metadata": {},
   "outputs": [],
   "source": []
  },
  {
   "cell_type": "code",
   "execution_count": 20,
   "metadata": {},
   "outputs": [
    {
     "name": "stdout",
     "output_type": "stream",
     "text": [
      "1\n",
      "1\n",
      "2\n",
      "344.67\n"
     ]
    }
   ],
   "source": [
    "user=set()\n",
    "user.add('a')\n",
    "print(len(user))\n",
    "user.add('a')\n",
    "print(len(user))\n",
    "user.add('b')\n",
    "print(len(user))\n",
    "\n",
    "x=344.66777\n",
    "print(f\"{round(x,2)}\")"
   ]
  },
  {
   "cell_type": "code",
   "execution_count": null,
   "metadata": {},
   "outputs": [],
   "source": [
    "import datetime\n",
    "import calendar\n",
    "\n",
    "def bill_for(month, active_subscription, users):\n",
    "    # your code here!\n",
    "    days = 31\n",
    "    daily_rate = active_subscription['monthly_price_in_dollars']/days\n",
    "    print(f\"Daily rate is {daily_rate}   (this is the monthly rate of ${active_subscription['monthly_price_in_dollars']} / {days} days in {month})\")\n",
    "    #query_year, query_month =datetime.strptime(month, \"%y-%m\")\n",
    "    current_year, current_month = [ int(i) for i in month.split(\"-\")]\n",
    "    current_datetime = datetime.date(current_year, current_month, 1)\n",
    "    \n",
    "    cal_users=set()\n",
    "    total=0\n",
    "    for day in range(days):\n",
    "      for user in users:\n",
    "        user_year = user['activated_on'].year\n",
    "        user_month = user['activated_on'].month\n",
    "        if user_year<=current_year and user_month<=current_month:\n",
    "          total+=daily_rate\n",
    "          cal_users.add(user['name'])\n",
    "      num_users= len(cal_users)\n",
    "      daily_total = num_users*daily_rate\n",
    "      current= current_datetime.strftime(\"%y-%m-%d\")\n",
    "      print(f\"{current} {num_users} active users * {daily_rate} = {daily_total} (subtotal: {total})\")\n",
    "      current_datetime = next_day(current_datetime)\n",
    "    printf(f\"Total = {round(total,2)}\")\n",
    "    return total\n",
    "     \n",
    "      \n",
    "      \n",
    "\n",
    "####################\n",
    "# Helper functions #\n",
    "####################\n",
    "\n",
    "def first_day_of_month(date):\n",
    "    \"\"\"\n",
    "    Takes a datetime.date object and returns a datetime.date object\n",
    "    which is the first day of that month. For example:\n",
    "    \n",
    "    >>> first_day_of_month(datetime.date(2019, 2, 7))  # Feb 7\n",
    "    datetime.date(2019, 2, 1)                          # Feb 1\n",
    "    \n",
    "    Input type: datetime.date\n",
    "    Output type: datetime.date\n",
    "    \"\"\"\n",
    "    return date.replace(day=1)\n",
    "\n",
    "def last_day_of_month(date):\n",
    "    \"\"\"\n",
    "    Takes a datetime.date object and returns a datetime.date object\n",
    "    which is the last day of that month. For example:\n",
    "    \n",
    "    >>> last_day_of_month(datetime.date(2019, 2, 7))  # Feb  7\n",
    "    datetime.date(2019, 2, 28)                        # Feb 28\n",
    "    \n",
    "    Input type: datetime.date\n",
    "    Output type: datetime.date\n",
    "    \"\"\"\n",
    "    last_day = calendar.monthrange(date.year, date.month)[1]\n",
    "    return date.replace(day=last_day)\n",
    "\n",
    "def next_day(date):\n",
    "    \"\"\"\n",
    "    Takes a datetime.date object and returns a datetime.date object\n",
    "    which is the next day. For example:\n",
    "    \n",
    "    >>> next_day(datetime.date(2019, 2, 7))   # Feb 7\n",
    "    datetime.date(2019, 2, 8)                 # Feb 8\n",
    "\n",
    "    >>> next_day(datetime.date(2019, 2, 28))  # Feb 28\n",
    "    datetime.date(2019, 3, 1)                 # Mar  1\n",
    "    \n",
    "    Input type: datetime.date\n",
    "    Output type: datetime.date\n",
    "    \"\"\"\n",
    "    return date + datetime.timedelta(days=1)"
   ]
  },
  {
   "cell_type": "code",
   "execution_count": 7,
   "metadata": {},
   "outputs": [
    {
     "name": "stdout",
     "output_type": "stream",
     "text": [
      "is  True\n"
     ]
    },
    {
     "data": {
      "text/plain": [
       "{'c'}"
      ]
     },
     "execution_count": 7,
     "metadata": {},
     "output_type": "execute_result"
    }
   ],
   "source": [
    "class A:\n",
    "    roles=[]\n",
    "    \n",
    "    def check(self):\n",
    "        return hasattr(self, \"roles\")\n",
    "\n",
    "i = A().check()\n",
    "print(\"is \", i )\n",
    "\n",
    "a={'ab', 'c'}\n",
    "b={'a','c'}\n",
    "a.intersection(b)\n"
   ]
  }
 ],
 "metadata": {
  "kernelspec": {
   "display_name": "Python 3",
   "language": "python",
   "name": "python3"
  },
  "language_info": {
   "codemirror_mode": {
    "name": "ipython",
    "version": 3
   },
   "file_extension": ".py",
   "mimetype": "text/x-python",
   "name": "python",
   "nbconvert_exporter": "python",
   "pygments_lexer": "ipython3",
   "version": "3.8.5"
  }
 },
 "nbformat": 4,
 "nbformat_minor": 4
}
